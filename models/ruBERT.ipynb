{
  "cells": [
    {
      "cell_type": "code",
      "execution_count": 1,
      "metadata": {
        "colab": {
          "base_uri": "https://localhost:8080/"
        },
        "id": "YJIxGlVYGOBQ",
        "outputId": "6786591f-bab3-485d-9769-d2c982772560"
      },
      "outputs": [
        {
          "output_type": "stream",
          "name": "stdout",
          "text": [
            "Looking in indexes: https://pypi.org/simple, https://us-python.pkg.dev/colab-wheels/public/simple/\n",
            "Requirement already satisfied: jsonlines in /usr/local/lib/python3.7/dist-packages (3.0.0)\n",
            "Requirement already satisfied: typing-extensions in /usr/local/lib/python3.7/dist-packages (from jsonlines) (4.1.1)\n",
            "Requirement already satisfied: attrs>=19.2.0 in /usr/local/lib/python3.7/dist-packages (from jsonlines) (21.4.0)\n",
            "Looking in indexes: https://pypi.org/simple, https://us-python.pkg.dev/colab-wheels/public/simple/\n",
            "Requirement already satisfied: transformers in /usr/local/lib/python3.7/dist-packages (4.20.0)\n",
            "Requirement already satisfied: pyyaml>=5.1 in /usr/local/lib/python3.7/dist-packages (from transformers) (6.0)\n",
            "Requirement already satisfied: tqdm>=4.27 in /usr/local/lib/python3.7/dist-packages (from transformers) (4.64.0)\n",
            "Requirement already satisfied: filelock in /usr/local/lib/python3.7/dist-packages (from transformers) (3.7.1)\n",
            "Requirement already satisfied: packaging>=20.0 in /usr/local/lib/python3.7/dist-packages (from transformers) (21.3)\n",
            "Requirement already satisfied: regex!=2019.12.17 in /usr/local/lib/python3.7/dist-packages (from transformers) (2022.6.2)\n",
            "Requirement already satisfied: numpy>=1.17 in /usr/local/lib/python3.7/dist-packages (from transformers) (1.21.6)\n",
            "Requirement already satisfied: importlib-metadata in /usr/local/lib/python3.7/dist-packages (from transformers) (4.11.4)\n",
            "Requirement already satisfied: huggingface-hub<1.0,>=0.1.0 in /usr/local/lib/python3.7/dist-packages (from transformers) (0.7.0)\n",
            "Requirement already satisfied: requests in /usr/local/lib/python3.7/dist-packages (from transformers) (2.23.0)\n",
            "Requirement already satisfied: tokenizers!=0.11.3,<0.13,>=0.11.1 in /usr/local/lib/python3.7/dist-packages (from transformers) (0.12.1)\n",
            "Requirement already satisfied: typing-extensions>=3.7.4.3 in /usr/local/lib/python3.7/dist-packages (from huggingface-hub<1.0,>=0.1.0->transformers) (4.1.1)\n",
            "Requirement already satisfied: pyparsing!=3.0.5,>=2.0.2 in /usr/local/lib/python3.7/dist-packages (from packaging>=20.0->transformers) (3.0.9)\n",
            "Requirement already satisfied: zipp>=0.5 in /usr/local/lib/python3.7/dist-packages (from importlib-metadata->transformers) (3.8.0)\n",
            "Requirement already satisfied: chardet<4,>=3.0.2 in /usr/local/lib/python3.7/dist-packages (from requests->transformers) (3.0.4)\n",
            "Requirement already satisfied: certifi>=2017.4.17 in /usr/local/lib/python3.7/dist-packages (from requests->transformers) (2022.6.15)\n",
            "Requirement already satisfied: idna<3,>=2.5 in /usr/local/lib/python3.7/dist-packages (from requests->transformers) (2.10)\n",
            "Requirement already satisfied: urllib3!=1.25.0,!=1.25.1,<1.26,>=1.21.1 in /usr/local/lib/python3.7/dist-packages (from requests->transformers) (1.24.3)\n"
          ]
        }
      ],
      "source": [
        "!pip install jsonlines\n",
        "!pip install transformers"
      ]
    },
    {
      "cell_type": "markdown",
      "metadata": {
        "id": "0FuT0tixE65e"
      },
      "source": [
        "## Загрузка данных"
      ]
    },
    {
      "cell_type": "code",
      "execution_count": 2,
      "metadata": {
        "colab": {
          "base_uri": "https://localhost:8080/"
        },
        "id": "ZHjVO1EQidGN",
        "outputId": "a9fa3c13-c13b-4ed2-af54-d5f00e2ffcd1"
      },
      "outputs": [
        {
          "output_type": "stream",
          "name": "stdout",
          "text": [
            "--2022-06-18 16:08:57--  https://raw.githubusercontent.com/Xeanst/grammaticality_judgments/main/train_data.jsonl\n",
            "Resolving raw.githubusercontent.com (raw.githubusercontent.com)... 185.199.108.133, 185.199.111.133, 185.199.110.133, ...\n",
            "Connecting to raw.githubusercontent.com (raw.githubusercontent.com)|185.199.108.133|:443... connected.\n",
            "HTTP request sent, awaiting response... 200 OK\n",
            "Length: 13342932 (13M) [text/plain]\n",
            "Saving to: ‘train_data.jsonl.3’\n",
            "\n",
            "\rtrain_data.jsonl.3    0%[                    ]       0  --.-KB/s               \rtrain_data.jsonl.3  100%[===================>]  12.72M  --.-KB/s    in 0.1s    \n",
            "\n",
            "2022-06-18 16:08:57 (127 MB/s) - ‘train_data.jsonl.3’ saved [13342932/13342932]\n",
            "\n",
            "--2022-06-18 16:08:57--  https://raw.githubusercontent.com/Xeanst/grammaticality_judgments/main/val_data.jsonl\n",
            "Resolving raw.githubusercontent.com (raw.githubusercontent.com)... 185.199.108.133, 185.199.109.133, 185.199.110.133, ...\n",
            "Connecting to raw.githubusercontent.com (raw.githubusercontent.com)|185.199.108.133|:443... connected.\n",
            "HTTP request sent, awaiting response... 200 OK\n",
            "Length: 2859307 (2.7M) [text/plain]\n",
            "Saving to: ‘val_data.jsonl.2’\n",
            "\n",
            "val_data.jsonl.2    100%[===================>]   2.73M  --.-KB/s    in 0.06s   \n",
            "\n",
            "2022-06-18 16:08:58 (42.4 MB/s) - ‘val_data.jsonl.2’ saved [2859307/2859307]\n",
            "\n",
            "--2022-06-18 16:08:58--  https://raw.githubusercontent.com/Xeanst/grammaticality_judgments/main/test_data.jsonl\n",
            "Resolving raw.githubusercontent.com (raw.githubusercontent.com)... 185.199.108.133, 185.199.109.133, 185.199.110.133, ...\n",
            "Connecting to raw.githubusercontent.com (raw.githubusercontent.com)|185.199.108.133|:443... connected.\n",
            "HTTP request sent, awaiting response... 200 OK\n",
            "Length: 2861425 (2.7M) [text/plain]\n",
            "Saving to: ‘test_data.jsonl.2’\n",
            "\n",
            "test_data.jsonl.2   100%[===================>]   2.73M  --.-KB/s    in 0.07s   \n",
            "\n",
            "2022-06-18 16:08:58 (41.8 MB/s) - ‘test_data.jsonl.2’ saved [2861425/2861425]\n",
            "\n"
          ]
        }
      ],
      "source": [
        "!wget https://raw.githubusercontent.com/Xeanst/grammaticality_judgments/main/train_data.jsonl\n",
        "!wget https://raw.githubusercontent.com/Xeanst/grammaticality_judgments/main/val_data.jsonl\n",
        "!wget https://raw.githubusercontent.com/Xeanst/grammaticality_judgments/main/test_data.jsonl"
      ]
    },
    {
      "cell_type": "code",
      "execution_count": 3,
      "metadata": {
        "id": "ywz0QGUIjIBG"
      },
      "outputs": [],
      "source": [
        "import jsonlines\n",
        "\n",
        "with jsonlines.open(\"train_data.jsonl\", \"r\") as fin:\n",
        "    train_data = list(fin)\n",
        "with jsonlines.open(\"val_data.jsonl\", \"r\") as fin:\n",
        "    dev_data = list(fin)\n",
        "with jsonlines.open(\"test_data.jsonl\", \"r\") as fin:\n",
        "    test_data = list(fin)"
      ]
    },
    {
      "cell_type": "code",
      "execution_count": 4,
      "metadata": {
        "colab": {
          "base_uri": "https://localhost:8080/"
        },
        "id": "ygT4A3RSjEdT",
        "outputId": "7faa0399-7fef-49e0-cbfb-2e08cdd15409"
      },
      "outputs": [
        {
          "output_type": "execute_result",
          "data": {
            "text/plain": [
              "dict_items([('sentence', 'чертежи которые презирал родитель был плохим'), ('idx', 0), ('label', 'obj_rel_inan')])"
            ]
          },
          "metadata": {},
          "execution_count": 4
        }
      ],
      "source": [
        "train_data[10].items()"
      ]
    },
    {
      "cell_type": "code",
      "execution_count": 5,
      "metadata": {
        "colab": {
          "base_uri": "https://localhost:8080/"
        },
        "id": "ixxwbFTFtMaQ",
        "outputId": "020a6300-23fb-47f6-85e9-8cb2bc96ac4c"
      },
      "outputs": [
        {
          "output_type": "execute_result",
          "data": {
            "text/plain": [
              "dict_items([('sentence', 'руководители которых знал ассистент рассуждал'), ('idx', 0), ('label', 'obj_rel_anim')])"
            ]
          },
          "metadata": {},
          "execution_count": 5
        }
      ],
      "source": [
        "train_data[11].items()"
      ]
    },
    {
      "cell_type": "code",
      "execution_count": 6,
      "metadata": {
        "colab": {
          "base_uri": "https://localhost:8080/"
        },
        "id": "Ne8vIT3AF74p",
        "outputId": "291caa16-b907-477d-e6a3-a67d0a31ec2b"
      },
      "outputs": [
        {
          "output_type": "stream",
          "name": "stdout",
          "text": [
            "sentence чертежи которые презирал родитель был плохим\n",
            "idx 0\n",
            "label obj_rel_inan\n",
            "\n",
            "101:[CLS] 71559:чертежи 4427:которые 12624:през 35016:##ирал 40111:родитель 2067:был 71182:плохим 102:[SEP] "
          ]
        }
      ],
      "source": [
        "from transformers import AutoTokenizer, AutoModel\n",
        "\n",
        "tokenizer = AutoTokenizer.from_pretrained(\"DeepPavlov/rubert-base-cased\")\n",
        "for key, value in train_data[10].items():\n",
        "    print(key, value)\n",
        "tokenized_data = tokenizer(train_data[10][\"sentence\"])\n",
        "token_indexes = tokenized_data[\"input_ids\"]\n",
        "tokens = tokenizer.convert_ids_to_tokens(token_indexes)\n",
        "print(\"\")\n",
        "for index, token in zip(token_indexes, tokens):\n",
        "    print(f\"{index}:{token}\", end=\" \")"
      ]
    },
    {
      "cell_type": "markdown",
      "metadata": {
        "id": "EgFoPvllH_2I"
      },
      "source": [
        " Напишем соответствующий `Dataset`"
      ]
    },
    {
      "cell_type": "code",
      "execution_count": 7,
      "metadata": {
        "id": "9lJzVSD4ID7R"
      },
      "outputs": [],
      "source": [
        "from torch.utils.data.dataset import Dataset\n",
        "\n",
        "class GramDataset(Dataset):\n",
        "\n",
        "    def __init__(self, data, tokenizer, pos_label=1):\n",
        "        self.data = data\n",
        "        self.tokenizer = tokenizer\n",
        "        self.pos_label = pos_label\n",
        "\n",
        "    def __len__(self):\n",
        "        return len(self.data)\n",
        "\n",
        "    def __getitem__(self, index):\n",
        "        item = self.data[index]\n",
        "        answer = {\"input_ids\": self.tokenizer(item[\"sentence\"])[\"input_ids\"]}\n",
        "        if \"idx\" in item:\n",
        "            answer[\"y\"] = float(item[\"idx\"] == self.pos_label)\n",
        "        return answer "
      ]
    },
    {
      "cell_type": "code",
      "execution_count": 8,
      "metadata": {
        "colab": {
          "base_uri": "https://localhost:8080/"
        },
        "id": "Sb0PZcM6JTCN",
        "outputId": "9611f09f-b373-41fa-dbdb-af183e8c9a03"
      },
      "outputs": [
        {
          "output_type": "stream",
          "name": "stdout",
          "text": [
            "input_ids\n",
            "[101, 43295, 24193, 85704, 102]\n",
            "y\n",
            "0.0\n"
          ]
        }
      ],
      "source": [
        "train_dataset = GramDataset(train_data, tokenizer)\n",
        "for key, value in train_dataset[2].items():\n",
        "    print(key, value, sep=\"\\n\")"
      ]
    },
    {
      "cell_type": "code",
      "execution_count": 9,
      "metadata": {
        "id": "QA-B-v5yKRRX"
      },
      "outputs": [],
      "source": [
        "import torch\n",
        "import numpy as np\n",
        "import itertools\n",
        "\n",
        "def pad_tensor(vec, length, dim, pad_symbol):\n",
        "    # vec.shape = [3, 4, 5]\n",
        "    # length=7, dim=1 -> pad_size = (3, 7-4, 5)\n",
        "    pad_size = list(vec.shape)\n",
        "    pad_size[dim] = length - vec.shape[dim]\n",
        "    answer = torch.cat([vec, torch.ones(*pad_size, dtype=torch.long) * pad_symbol], axis=dim)\n",
        "    return answer\n",
        "\n",
        "def pad_tensors(tensors, pad=0):\n",
        "    # дополняет тензоры из tensors до общей максимальной длины символом pad\n",
        "    if isinstance(tensors[0], (int, np.integer)):\n",
        "        return torch.LongTensor(tensors)\n",
        "    elif isinstance(tensors[0], (float, np.float)):\n",
        "        return torch.Tensor(tensors)\n",
        "    tensors = [torch.LongTensor(tensor) for tensor in tensors]\n",
        "    L = max(tensor.shape[0] for tensor in tensors)\n",
        "    tensors = [pad_tensor(tensor, L, dim=0, pad_symbol=pad) for tensor in tensors]\n",
        "    return torch.stack(tensors, axis=0)\n",
        "\n",
        "class FieldBatchDataLoader:\n",
        "\n",
        "    def __init__(self, X, batch_size=32, sort_by_length=True, \n",
        "                 length_field=None, state=115, device=\"cpu\"):\n",
        "        self.X = X\n",
        "        self.batch_size = batch_size\n",
        "        self.sort_by_length = sort_by_length\n",
        "        self.length_field = length_field  ## добавилось\n",
        "        self.device = device\n",
        "        np.random.seed(state)\n",
        "\n",
        "    def __len__(self):\n",
        "        return (len(self.X)-1) // self.batch_size + 1 \n",
        "\n",
        "    def __iter__(self):\n",
        "        if self.sort_by_length:\n",
        "            # отсортировать индексы по длине объектов [1, ..., 32] -> [7, 4, 15, ...]\n",
        "            # изменилось взятие длины из поля\n",
        "            if self.length_field is not None:\n",
        "                lengths = [len(x[self.length_field]) for x in self.X]\n",
        "            else:\n",
        "                lengths = [len(list(x.values())[0]) for x in self.X]\n",
        "            order = np.argsort(lengths)\n",
        "            # сгруппировать в батчи [7, 4, 15, 31, 3, ...] -> [[7, 4, 15, 31], [3, ...], ...]\n",
        "            batched_order = np.array([order[start:start+self.batch_size] \n",
        "                                      for start in range(0, len(self.X), self.batch_size)])\n",
        "            # переупорядочить батчи случайно: [[3, 11, 21, 19], [27, ...], ..., [7, ...], ...]\n",
        "            np.random.shuffle(batched_order[:-1])\n",
        "            # собрать посл-ть индексов: -> [3, 11, 21, 19, 27, ...]\n",
        "            self.order = np.fromiter(itertools.chain.from_iterable(batched_order), dtype=int)\n",
        "        else:\n",
        "            self.order = np.arange(len(self.X))\n",
        "            np.random.shuffle(self.order)\n",
        "        self.idx = 0\n",
        "        return self\n",
        "\n",
        "    def __next__(self):\n",
        "        if self.idx >= len(self.X):\n",
        "            raise StopIteration()\n",
        "        end = min(self.idx + self.batch_size, len(self.X))\n",
        "        indexes = [self.order[i] for i in range(self.idx, end)]\n",
        "        batch = dict()\n",
        "        # перебираем все поля\n",
        "        for field in self.X[indexes[0]]:\n",
        "            batch[field] = pad_tensors([self.X[i][field] for i in indexes]).to(self.device)\n",
        "        batch[\"indexes\"] = indexes\n",
        "        self.idx = end\n",
        "        return batch"
      ]
    },
    {
      "cell_type": "code",
      "execution_count": 10,
      "metadata": {
        "colab": {
          "base_uri": "https://localhost:8080/"
        },
        "id": "_X0xjvfqKUru",
        "outputId": "e1b1cf20-5003-497b-b540-36570f18a259"
      },
      "outputs": [
        {
          "output_type": "stream",
          "name": "stderr",
          "text": [
            "/usr/local/lib/python3.7/dist-packages/ipykernel_launcher.py:49: VisibleDeprecationWarning: Creating an ndarray from ragged nested sequences (which is a list-or-tuple of lists-or-tuples-or ndarrays with different lengths or shapes) is deprecated. If you meant to do this, you must specify 'dtype=object' when creating the ndarray.\n",
            "/usr/local/lib/python3.7/dist-packages/ipykernel_launcher.py:17: DeprecationWarning: `np.float` is a deprecated alias for the builtin `float`. To silence this warning, use `float` by itself. Doing this will not modify any behavior and is safe. If you specifically wanted the numpy scalar type, use `np.float64` here.\n",
            "Deprecated in NumPy 1.20; for more details and guidance: https://numpy.org/devdocs/release/1.20.0-notes.html#deprecations\n"
          ]
        },
        {
          "output_type": "stream",
          "name": "stdout",
          "text": [
            "input_ids:torch.Size([8, 6])\ty:torch.Size([8])\tindexes:(8,)\t\n",
            "input_ids:torch.Size([8, 8])\ty:torch.Size([8])\tindexes:(8,)\t\n",
            "input_ids:torch.Size([8, 9])\ty:torch.Size([8])\tindexes:(8,)\t\n",
            "input_ids:torch.Size([8, 9])\ty:torch.Size([8])\tindexes:(8,)\t\n",
            "input_ids:torch.Size([8, 9])\ty:torch.Size([8])\tindexes:(8,)\t\n",
            "input_ids:torch.Size([8, 11])\ty:torch.Size([8])\tindexes:(8,)\t\n",
            "input_ids:torch.Size([8, 9])\ty:torch.Size([8])\tindexes:(8,)\t\n",
            "input_ids:torch.Size([8, 8])\ty:torch.Size([8])\tindexes:(8,)\t\n",
            "input_ids:torch.Size([8, 10])\ty:torch.Size([8])\tindexes:(8,)\t\n",
            "input_ids:torch.Size([8, 8])\ty:torch.Size([8])\tindexes:(8,)\t\n"
          ]
        }
      ],
      "source": [
        "train_dataloader = iter(FieldBatchDataLoader(train_dataset, batch_size=8, device=\"cuda\"))\n",
        "for i in range(10):\n",
        "    batch = next(train_dataloader)\n",
        "    for field, data in batch.items():\n",
        "        print(f\"{field}:{np.shape(data)}\", end=\"\\t\")\n",
        "    print(\"\")"
      ]
    },
    {
      "cell_type": "markdown",
      "metadata": {
        "id": "IcH5OVR-KZm3"
      },
      "source": [
        "## Создание и обучение модели"
      ]
    },
    {
      "cell_type": "code",
      "execution_count": 11,
      "metadata": {
        "colab": {
          "base_uri": "https://localhost:8080/"
        },
        "id": "hi8LVWPUKgZl",
        "outputId": "797adbf3-c38c-4e86-b698-67c75cc9a429"
      },
      "outputs": [
        {
          "output_type": "stream",
          "name": "stderr",
          "text": [
            "Some weights of the model checkpoint at DeepPavlov/rubert-base-cased were not used when initializing BertModel: ['cls.predictions.decoder.bias', 'cls.predictions.decoder.weight', 'cls.seq_relationship.weight', 'cls.predictions.transform.dense.weight', 'cls.predictions.transform.LayerNorm.bias', 'cls.predictions.bias', 'cls.predictions.transform.LayerNorm.weight', 'cls.predictions.transform.dense.bias', 'cls.seq_relationship.bias']\n",
            "- This IS expected if you are initializing BertModel from the checkpoint of a model trained on another task or with another architecture (e.g. initializing a BertForSequenceClassification model from a BertForPreTraining model).\n",
            "- This IS NOT expected if you are initializing BertModel from the checkpoint of a model that you expect to be exactly identical (initializing a BertForSequenceClassification model from a BertForSequenceClassification model).\n"
          ]
        }
      ],
      "source": [
        "from transformers import AutoModel\n",
        "\n",
        "bert_model = AutoModel.from_pretrained(\"DeepPavlov/rubert-base-cased\").to(\"cuda\")"
      ]
    },
    {
      "cell_type": "code",
      "execution_count": 12,
      "metadata": {
        "colab": {
          "base_uri": "https://localhost:8080/"
        },
        "id": "2h8-NSPYMcnh",
        "outputId": "fc744acb-0f07-447e-ada1-a35b0e0b8337"
      },
      "outputs": [
        {
          "output_type": "stream",
          "name": "stdout",
          "text": [
            "torch.Size([8, 8, 768])\n",
            "torch.Size([8, 768])\n"
          ]
        }
      ],
      "source": [
        "answer = bert_model(batch['input_ids'])\n",
        "print(answer[\"last_hidden_state\"].shape)\n",
        "print(answer[\"pooler_output\"].shape)"
      ]
    },
    {
      "cell_type": "markdown",
      "metadata": {
        "id": "5Ctt1K4oNffu"
      },
      "source": [
        "Напишем класс-обёртку для классификации"
      ]
    },
    {
      "cell_type": "code",
      "execution_count": 13,
      "metadata": {
        "id": "U3NY-NrLNeBO"
      },
      "outputs": [],
      "source": [
        "import torch.nn as nn\n",
        "from transformers.optimization import AdamW\n",
        "\n",
        "class BasicTransformersClassificationModel(nn.Module):\n",
        "\n",
        "    def __init__(self, model, labels_number, lr=1e-5, device=\"cpu\", **kwargs):\n",
        "        super(BasicTransformersClassificationModel, self).__init__()\n",
        "        self.model = model\n",
        "        self.labels_number = labels_number\n",
        "        self.build_network(labels_number)\n",
        "        # определяем функцию потерь\n",
        "        if self.labels_number > 1:\n",
        "            self.log_softmax = nn.LogSoftmax(dim=-1)\n",
        "            self.criterion = nn.NLLLoss(reduction=\"mean\")\n",
        "        else:\n",
        "            self.log_softmax = nn.Sigmoid()\n",
        "            self.criterion = nn.BCELoss(reduction=\"mean\")\n",
        "        self.device = device\n",
        "        if self.device is not None:\n",
        "            self.to(self.device)\n",
        "        self.optimizer = AdamW(self.parameters(), lr=lr, weight_decay=0.01)\n",
        "\n",
        "    @property\n",
        "    def hidden_size(self):\n",
        "        return self.model.config.hidden_size\n",
        "\n",
        "    def forward(self, input_ids, **kwargs):\n",
        "        raise NotImplementedError(\"You should implement forward pass in your derived class.\") \n",
        "\n",
        "    def train_on_batch(self, x, y):\n",
        "        self.train()\n",
        "        self.optimizer.zero_grad()\n",
        "        loss = self._validate(x, y)\n",
        "        loss[\"loss\"].backward()\n",
        "        self.optimizer.step()\n",
        "        return loss\n",
        "\n",
        "    def validate_on_batch(self, x, y):\n",
        "        self.eval()\n",
        "        with torch.no_grad():\n",
        "            return self._validate(x, y)\n",
        "\n",
        "    def _validate(self, x, y):\n",
        "        if self.device is not None:\n",
        "            y = y.to(self.device)\n",
        "        log_probs = self(**x) #   self.forward(x) = self.__call__(x)\n",
        "        loss = self.criterion(log_probs, y)\n",
        "        if self.labels_number > 1:\n",
        "            _, labels = torch.max(log_probs, dim=-1)\n",
        "        else:\n",
        "            labels = (log_probs >= 0.5).int()\n",
        "        return {\"loss\": loss, \"labels\": labels}\n",
        "\n",
        "class TransformersClassificationModel(BasicTransformersClassificationModel):\n",
        "\n",
        "    def build_network(self, labels_number):\n",
        "        self.proj_layer = torch.nn.Linear(self.hidden_size, self.labels_number)\n",
        "        return self\n",
        "\n",
        "    def forward(self, input_ids, **kwargs):\n",
        "        input_ids = input_ids.to(self.device)\n",
        "        cls_output = self.model(input_ids)[\"pooler_output\"]\n",
        "        logits = self.proj_layer(cls_output)\n",
        "        log_probs = self.log_softmax(logits)\n",
        "        if self.labels_number == 1:\n",
        "            log_probs = log_probs[...,0]\n",
        "        return log_probs\n"
      ]
    },
    {
      "cell_type": "code",
      "execution_count": 14,
      "metadata": {
        "colab": {
          "base_uri": "https://localhost:8080/"
        },
        "id": "86bol6geQqbO",
        "outputId": "dda88fcf-b1cc-4d6e-e3f3-889812302e18"
      },
      "outputs": [
        {
          "output_type": "stream",
          "name": "stdout",
          "text": [
            "model.embeddings.word_embeddings.weight cuda:0 torch.Size([119547, 768])\n",
            "model.embeddings.position_embeddings.weight cuda:0 torch.Size([512, 768])\n",
            "model.embeddings.token_type_embeddings.weight cuda:0 torch.Size([2, 768])\n",
            "model.embeddings.LayerNorm.weight cuda:0 torch.Size([768])\n",
            "model.embeddings.LayerNorm.bias cuda:0 torch.Size([768])\n",
            "model.encoder.layer.0.attention.self.query.weight cuda:0 torch.Size([768, 768])\n",
            "model.encoder.layer.0.attention.self.query.bias cuda:0 torch.Size([768])\n",
            "model.encoder.layer.0.attention.self.key.weight cuda:0 torch.Size([768, 768])\n",
            "model.encoder.layer.0.attention.self.key.bias cuda:0 torch.Size([768])\n",
            "model.encoder.layer.0.attention.self.value.weight cuda:0 torch.Size([768, 768])\n",
            "model.encoder.layer.0.attention.self.value.bias cuda:0 torch.Size([768])\n",
            "model.encoder.layer.0.attention.output.dense.weight cuda:0 torch.Size([768, 768])\n",
            "model.encoder.layer.0.attention.output.dense.bias cuda:0 torch.Size([768])\n",
            "model.encoder.layer.0.attention.output.LayerNorm.weight cuda:0 torch.Size([768])\n",
            "model.encoder.layer.0.attention.output.LayerNorm.bias cuda:0 torch.Size([768])\n",
            "model.encoder.layer.0.intermediate.dense.weight cuda:0 torch.Size([3072, 768])\n",
            "model.encoder.layer.0.intermediate.dense.bias cuda:0 torch.Size([3072])\n",
            "model.encoder.layer.0.output.dense.weight cuda:0 torch.Size([768, 3072])\n",
            "model.encoder.layer.0.output.dense.bias cuda:0 torch.Size([768])\n",
            "model.encoder.layer.0.output.LayerNorm.weight cuda:0 torch.Size([768])\n",
            "model.encoder.layer.0.output.LayerNorm.bias cuda:0 torch.Size([768])\n",
            "model.encoder.layer.1.attention.self.query.weight cuda:0 torch.Size([768, 768])\n",
            "model.encoder.layer.1.attention.self.query.bias cuda:0 torch.Size([768])\n",
            "model.encoder.layer.1.attention.self.key.weight cuda:0 torch.Size([768, 768])\n",
            "model.encoder.layer.1.attention.self.key.bias cuda:0 torch.Size([768])\n",
            "model.encoder.layer.1.attention.self.value.weight cuda:0 torch.Size([768, 768])\n",
            "model.encoder.layer.1.attention.self.value.bias cuda:0 torch.Size([768])\n",
            "model.encoder.layer.1.attention.output.dense.weight cuda:0 torch.Size([768, 768])\n",
            "model.encoder.layer.1.attention.output.dense.bias cuda:0 torch.Size([768])\n",
            "model.encoder.layer.1.attention.output.LayerNorm.weight cuda:0 torch.Size([768])\n",
            "model.encoder.layer.1.attention.output.LayerNorm.bias cuda:0 torch.Size([768])\n",
            "model.encoder.layer.1.intermediate.dense.weight cuda:0 torch.Size([3072, 768])\n",
            "model.encoder.layer.1.intermediate.dense.bias cuda:0 torch.Size([3072])\n",
            "model.encoder.layer.1.output.dense.weight cuda:0 torch.Size([768, 3072])\n",
            "model.encoder.layer.1.output.dense.bias cuda:0 torch.Size([768])\n",
            "model.encoder.layer.1.output.LayerNorm.weight cuda:0 torch.Size([768])\n",
            "model.encoder.layer.1.output.LayerNorm.bias cuda:0 torch.Size([768])\n",
            "model.encoder.layer.2.attention.self.query.weight cuda:0 torch.Size([768, 768])\n",
            "model.encoder.layer.2.attention.self.query.bias cuda:0 torch.Size([768])\n",
            "model.encoder.layer.2.attention.self.key.weight cuda:0 torch.Size([768, 768])\n",
            "model.encoder.layer.2.attention.self.key.bias cuda:0 torch.Size([768])\n",
            "model.encoder.layer.2.attention.self.value.weight cuda:0 torch.Size([768, 768])\n",
            "model.encoder.layer.2.attention.self.value.bias cuda:0 torch.Size([768])\n",
            "model.encoder.layer.2.attention.output.dense.weight cuda:0 torch.Size([768, 768])\n",
            "model.encoder.layer.2.attention.output.dense.bias cuda:0 torch.Size([768])\n",
            "model.encoder.layer.2.attention.output.LayerNorm.weight cuda:0 torch.Size([768])\n",
            "model.encoder.layer.2.attention.output.LayerNorm.bias cuda:0 torch.Size([768])\n",
            "model.encoder.layer.2.intermediate.dense.weight cuda:0 torch.Size([3072, 768])\n",
            "model.encoder.layer.2.intermediate.dense.bias cuda:0 torch.Size([3072])\n",
            "model.encoder.layer.2.output.dense.weight cuda:0 torch.Size([768, 3072])\n",
            "model.encoder.layer.2.output.dense.bias cuda:0 torch.Size([768])\n",
            "model.encoder.layer.2.output.LayerNorm.weight cuda:0 torch.Size([768])\n",
            "model.encoder.layer.2.output.LayerNorm.bias cuda:0 torch.Size([768])\n",
            "model.encoder.layer.3.attention.self.query.weight cuda:0 torch.Size([768, 768])\n",
            "model.encoder.layer.3.attention.self.query.bias cuda:0 torch.Size([768])\n",
            "model.encoder.layer.3.attention.self.key.weight cuda:0 torch.Size([768, 768])\n",
            "model.encoder.layer.3.attention.self.key.bias cuda:0 torch.Size([768])\n",
            "model.encoder.layer.3.attention.self.value.weight cuda:0 torch.Size([768, 768])\n",
            "model.encoder.layer.3.attention.self.value.bias cuda:0 torch.Size([768])\n",
            "model.encoder.layer.3.attention.output.dense.weight cuda:0 torch.Size([768, 768])\n",
            "model.encoder.layer.3.attention.output.dense.bias cuda:0 torch.Size([768])\n",
            "model.encoder.layer.3.attention.output.LayerNorm.weight cuda:0 torch.Size([768])\n",
            "model.encoder.layer.3.attention.output.LayerNorm.bias cuda:0 torch.Size([768])\n",
            "model.encoder.layer.3.intermediate.dense.weight cuda:0 torch.Size([3072, 768])\n",
            "model.encoder.layer.3.intermediate.dense.bias cuda:0 torch.Size([3072])\n",
            "model.encoder.layer.3.output.dense.weight cuda:0 torch.Size([768, 3072])\n",
            "model.encoder.layer.3.output.dense.bias cuda:0 torch.Size([768])\n",
            "model.encoder.layer.3.output.LayerNorm.weight cuda:0 torch.Size([768])\n",
            "model.encoder.layer.3.output.LayerNorm.bias cuda:0 torch.Size([768])\n",
            "model.encoder.layer.4.attention.self.query.weight cuda:0 torch.Size([768, 768])\n",
            "model.encoder.layer.4.attention.self.query.bias cuda:0 torch.Size([768])\n",
            "model.encoder.layer.4.attention.self.key.weight cuda:0 torch.Size([768, 768])\n",
            "model.encoder.layer.4.attention.self.key.bias cuda:0 torch.Size([768])\n",
            "model.encoder.layer.4.attention.self.value.weight cuda:0 torch.Size([768, 768])\n",
            "model.encoder.layer.4.attention.self.value.bias cuda:0 torch.Size([768])\n",
            "model.encoder.layer.4.attention.output.dense.weight cuda:0 torch.Size([768, 768])\n",
            "model.encoder.layer.4.attention.output.dense.bias cuda:0 torch.Size([768])\n",
            "model.encoder.layer.4.attention.output.LayerNorm.weight cuda:0 torch.Size([768])\n",
            "model.encoder.layer.4.attention.output.LayerNorm.bias cuda:0 torch.Size([768])\n",
            "model.encoder.layer.4.intermediate.dense.weight cuda:0 torch.Size([3072, 768])\n",
            "model.encoder.layer.4.intermediate.dense.bias cuda:0 torch.Size([3072])\n",
            "model.encoder.layer.4.output.dense.weight cuda:0 torch.Size([768, 3072])\n",
            "model.encoder.layer.4.output.dense.bias cuda:0 torch.Size([768])\n",
            "model.encoder.layer.4.output.LayerNorm.weight cuda:0 torch.Size([768])\n",
            "model.encoder.layer.4.output.LayerNorm.bias cuda:0 torch.Size([768])\n",
            "model.encoder.layer.5.attention.self.query.weight cuda:0 torch.Size([768, 768])\n",
            "model.encoder.layer.5.attention.self.query.bias cuda:0 torch.Size([768])\n",
            "model.encoder.layer.5.attention.self.key.weight cuda:0 torch.Size([768, 768])\n",
            "model.encoder.layer.5.attention.self.key.bias cuda:0 torch.Size([768])\n",
            "model.encoder.layer.5.attention.self.value.weight cuda:0 torch.Size([768, 768])\n",
            "model.encoder.layer.5.attention.self.value.bias cuda:0 torch.Size([768])\n",
            "model.encoder.layer.5.attention.output.dense.weight cuda:0 torch.Size([768, 768])\n",
            "model.encoder.layer.5.attention.output.dense.bias cuda:0 torch.Size([768])\n",
            "model.encoder.layer.5.attention.output.LayerNorm.weight cuda:0 torch.Size([768])\n",
            "model.encoder.layer.5.attention.output.LayerNorm.bias cuda:0 torch.Size([768])\n",
            "model.encoder.layer.5.intermediate.dense.weight cuda:0 torch.Size([3072, 768])\n",
            "model.encoder.layer.5.intermediate.dense.bias cuda:0 torch.Size([3072])\n",
            "model.encoder.layer.5.output.dense.weight cuda:0 torch.Size([768, 3072])\n",
            "model.encoder.layer.5.output.dense.bias cuda:0 torch.Size([768])\n",
            "model.encoder.layer.5.output.LayerNorm.weight cuda:0 torch.Size([768])\n",
            "model.encoder.layer.5.output.LayerNorm.bias cuda:0 torch.Size([768])\n",
            "model.encoder.layer.6.attention.self.query.weight cuda:0 torch.Size([768, 768])\n",
            "model.encoder.layer.6.attention.self.query.bias cuda:0 torch.Size([768])\n",
            "model.encoder.layer.6.attention.self.key.weight cuda:0 torch.Size([768, 768])\n",
            "model.encoder.layer.6.attention.self.key.bias cuda:0 torch.Size([768])\n",
            "model.encoder.layer.6.attention.self.value.weight cuda:0 torch.Size([768, 768])\n",
            "model.encoder.layer.6.attention.self.value.bias cuda:0 torch.Size([768])\n",
            "model.encoder.layer.6.attention.output.dense.weight cuda:0 torch.Size([768, 768])\n",
            "model.encoder.layer.6.attention.output.dense.bias cuda:0 torch.Size([768])\n",
            "model.encoder.layer.6.attention.output.LayerNorm.weight cuda:0 torch.Size([768])\n",
            "model.encoder.layer.6.attention.output.LayerNorm.bias cuda:0 torch.Size([768])\n",
            "model.encoder.layer.6.intermediate.dense.weight cuda:0 torch.Size([3072, 768])\n",
            "model.encoder.layer.6.intermediate.dense.bias cuda:0 torch.Size([3072])\n",
            "model.encoder.layer.6.output.dense.weight cuda:0 torch.Size([768, 3072])\n",
            "model.encoder.layer.6.output.dense.bias cuda:0 torch.Size([768])\n",
            "model.encoder.layer.6.output.LayerNorm.weight cuda:0 torch.Size([768])\n",
            "model.encoder.layer.6.output.LayerNorm.bias cuda:0 torch.Size([768])\n",
            "model.encoder.layer.7.attention.self.query.weight cuda:0 torch.Size([768, 768])\n",
            "model.encoder.layer.7.attention.self.query.bias cuda:0 torch.Size([768])\n",
            "model.encoder.layer.7.attention.self.key.weight cuda:0 torch.Size([768, 768])\n",
            "model.encoder.layer.7.attention.self.key.bias cuda:0 torch.Size([768])\n",
            "model.encoder.layer.7.attention.self.value.weight cuda:0 torch.Size([768, 768])\n",
            "model.encoder.layer.7.attention.self.value.bias cuda:0 torch.Size([768])\n",
            "model.encoder.layer.7.attention.output.dense.weight cuda:0 torch.Size([768, 768])\n",
            "model.encoder.layer.7.attention.output.dense.bias cuda:0 torch.Size([768])\n",
            "model.encoder.layer.7.attention.output.LayerNorm.weight cuda:0 torch.Size([768])\n",
            "model.encoder.layer.7.attention.output.LayerNorm.bias cuda:0 torch.Size([768])\n",
            "model.encoder.layer.7.intermediate.dense.weight cuda:0 torch.Size([3072, 768])\n",
            "model.encoder.layer.7.intermediate.dense.bias cuda:0 torch.Size([3072])\n",
            "model.encoder.layer.7.output.dense.weight cuda:0 torch.Size([768, 3072])\n",
            "model.encoder.layer.7.output.dense.bias cuda:0 torch.Size([768])\n",
            "model.encoder.layer.7.output.LayerNorm.weight cuda:0 torch.Size([768])\n",
            "model.encoder.layer.7.output.LayerNorm.bias cuda:0 torch.Size([768])\n",
            "model.encoder.layer.8.attention.self.query.weight cuda:0 torch.Size([768, 768])\n",
            "model.encoder.layer.8.attention.self.query.bias cuda:0 torch.Size([768])\n",
            "model.encoder.layer.8.attention.self.key.weight cuda:0 torch.Size([768, 768])\n",
            "model.encoder.layer.8.attention.self.key.bias cuda:0 torch.Size([768])\n",
            "model.encoder.layer.8.attention.self.value.weight cuda:0 torch.Size([768, 768])\n",
            "model.encoder.layer.8.attention.self.value.bias cuda:0 torch.Size([768])\n",
            "model.encoder.layer.8.attention.output.dense.weight cuda:0 torch.Size([768, 768])\n",
            "model.encoder.layer.8.attention.output.dense.bias cuda:0 torch.Size([768])\n",
            "model.encoder.layer.8.attention.output.LayerNorm.weight cuda:0 torch.Size([768])\n",
            "model.encoder.layer.8.attention.output.LayerNorm.bias cuda:0 torch.Size([768])\n",
            "model.encoder.layer.8.intermediate.dense.weight cuda:0 torch.Size([3072, 768])\n",
            "model.encoder.layer.8.intermediate.dense.bias cuda:0 torch.Size([3072])\n",
            "model.encoder.layer.8.output.dense.weight cuda:0 torch.Size([768, 3072])\n",
            "model.encoder.layer.8.output.dense.bias cuda:0 torch.Size([768])\n",
            "model.encoder.layer.8.output.LayerNorm.weight cuda:0 torch.Size([768])\n",
            "model.encoder.layer.8.output.LayerNorm.bias cuda:0 torch.Size([768])\n",
            "model.encoder.layer.9.attention.self.query.weight cuda:0 torch.Size([768, 768])\n",
            "model.encoder.layer.9.attention.self.query.bias cuda:0 torch.Size([768])\n",
            "model.encoder.layer.9.attention.self.key.weight cuda:0 torch.Size([768, 768])\n",
            "model.encoder.layer.9.attention.self.key.bias cuda:0 torch.Size([768])\n",
            "model.encoder.layer.9.attention.self.value.weight cuda:0 torch.Size([768, 768])\n",
            "model.encoder.layer.9.attention.self.value.bias cuda:0 torch.Size([768])\n",
            "model.encoder.layer.9.attention.output.dense.weight cuda:0 torch.Size([768, 768])\n",
            "model.encoder.layer.9.attention.output.dense.bias cuda:0 torch.Size([768])\n",
            "model.encoder.layer.9.attention.output.LayerNorm.weight cuda:0 torch.Size([768])\n",
            "model.encoder.layer.9.attention.output.LayerNorm.bias cuda:0 torch.Size([768])\n",
            "model.encoder.layer.9.intermediate.dense.weight cuda:0 torch.Size([3072, 768])\n",
            "model.encoder.layer.9.intermediate.dense.bias cuda:0 torch.Size([3072])\n",
            "model.encoder.layer.9.output.dense.weight cuda:0 torch.Size([768, 3072])\n",
            "model.encoder.layer.9.output.dense.bias cuda:0 torch.Size([768])\n",
            "model.encoder.layer.9.output.LayerNorm.weight cuda:0 torch.Size([768])\n",
            "model.encoder.layer.9.output.LayerNorm.bias cuda:0 torch.Size([768])\n",
            "model.encoder.layer.10.attention.self.query.weight cuda:0 torch.Size([768, 768])\n",
            "model.encoder.layer.10.attention.self.query.bias cuda:0 torch.Size([768])\n",
            "model.encoder.layer.10.attention.self.key.weight cuda:0 torch.Size([768, 768])\n",
            "model.encoder.layer.10.attention.self.key.bias cuda:0 torch.Size([768])\n",
            "model.encoder.layer.10.attention.self.value.weight cuda:0 torch.Size([768, 768])\n",
            "model.encoder.layer.10.attention.self.value.bias cuda:0 torch.Size([768])\n",
            "model.encoder.layer.10.attention.output.dense.weight cuda:0 torch.Size([768, 768])\n",
            "model.encoder.layer.10.attention.output.dense.bias cuda:0 torch.Size([768])\n",
            "model.encoder.layer.10.attention.output.LayerNorm.weight cuda:0 torch.Size([768])\n",
            "model.encoder.layer.10.attention.output.LayerNorm.bias cuda:0 torch.Size([768])\n",
            "model.encoder.layer.10.intermediate.dense.weight cuda:0 torch.Size([3072, 768])\n",
            "model.encoder.layer.10.intermediate.dense.bias cuda:0 torch.Size([3072])\n",
            "model.encoder.layer.10.output.dense.weight cuda:0 torch.Size([768, 3072])\n",
            "model.encoder.layer.10.output.dense.bias cuda:0 torch.Size([768])\n",
            "model.encoder.layer.10.output.LayerNorm.weight cuda:0 torch.Size([768])\n",
            "model.encoder.layer.10.output.LayerNorm.bias cuda:0 torch.Size([768])\n",
            "model.encoder.layer.11.attention.self.query.weight cuda:0 torch.Size([768, 768])\n",
            "model.encoder.layer.11.attention.self.query.bias cuda:0 torch.Size([768])\n",
            "model.encoder.layer.11.attention.self.key.weight cuda:0 torch.Size([768, 768])\n",
            "model.encoder.layer.11.attention.self.key.bias cuda:0 torch.Size([768])\n",
            "model.encoder.layer.11.attention.self.value.weight cuda:0 torch.Size([768, 768])\n",
            "model.encoder.layer.11.attention.self.value.bias cuda:0 torch.Size([768])\n",
            "model.encoder.layer.11.attention.output.dense.weight cuda:0 torch.Size([768, 768])\n",
            "model.encoder.layer.11.attention.output.dense.bias cuda:0 torch.Size([768])\n",
            "model.encoder.layer.11.attention.output.LayerNorm.weight cuda:0 torch.Size([768])\n",
            "model.encoder.layer.11.attention.output.LayerNorm.bias cuda:0 torch.Size([768])\n",
            "model.encoder.layer.11.intermediate.dense.weight cuda:0 torch.Size([3072, 768])\n",
            "model.encoder.layer.11.intermediate.dense.bias cuda:0 torch.Size([3072])\n",
            "model.encoder.layer.11.output.dense.weight cuda:0 torch.Size([768, 3072])\n",
            "model.encoder.layer.11.output.dense.bias cuda:0 torch.Size([768])\n",
            "model.encoder.layer.11.output.LayerNorm.weight cuda:0 torch.Size([768])\n",
            "model.encoder.layer.11.output.LayerNorm.bias cuda:0 torch.Size([768])\n",
            "model.pooler.dense.weight cuda:0 torch.Size([768, 768])\n",
            "model.pooler.dense.bias cuda:0 torch.Size([768])\n",
            "proj_layer.weight cuda:0 torch.Size([1, 768])\n",
            "proj_layer.bias cuda:0 torch.Size([1])\n"
          ]
        },
        {
          "output_type": "stream",
          "name": "stderr",
          "text": [
            "/usr/local/lib/python3.7/dist-packages/transformers/optimization.py:310: FutureWarning: This implementation of AdamW is deprecated and will be removed in a future version. Use the PyTorch implementation torch.optim.AdamW instead, or set `no_deprecation_warning=True` to disable this warning\n",
            "  FutureWarning,\n"
          ]
        }
      ],
      "source": [
        "model = TransformersClassificationModel(\n",
        "    bert_model, labels_number=1, device=\"cuda\"\n",
        ")\n",
        "for name, elem in model.named_parameters():\n",
        "    print(name, elem.device, elem.shape)"
      ]
    },
    {
      "cell_type": "code",
      "execution_count": 15,
      "metadata": {
        "colab": {
          "base_uri": "https://localhost:8080/"
        },
        "id": "OFTCr3H6RKjG",
        "outputId": "0689c6d5-a34a-4d20-9a39-7442bebc8722"
      },
      "outputs": [
        {
          "output_type": "stream",
          "name": "stderr",
          "text": [
            "/usr/local/lib/python3.7/dist-packages/ipykernel_launcher.py:49: VisibleDeprecationWarning: Creating an ndarray from ragged nested sequences (which is a list-or-tuple of lists-or-tuples-or ndarrays with different lengths or shapes) is deprecated. If you meant to do this, you must specify 'dtype=object' when creating the ndarray.\n",
            "/usr/local/lib/python3.7/dist-packages/ipykernel_launcher.py:17: DeprecationWarning: `np.float` is a deprecated alias for the builtin `float`. To silence this warning, use `float` by itself. Doing this will not modify any behavior and is safe. If you specifically wanted the numpy scalar type, use `np.float64` here.\n",
            "Deprecated in NumPy 1.20; for more details and guidance: https://numpy.org/devdocs/release/1.20.0-notes.html#deprecations\n"
          ]
        },
        {
          "output_type": "stream",
          "name": "stdout",
          "text": [
            "tensor([1., 1., 1., 0., 1., 0., 0., 0.], device='cuda:0')\n",
            "0 0.7110307216644287\n",
            "1 0.7013351917266846\n",
            "2 0.7029143571853638\n",
            "3 0.687232255935669\n",
            "4 0.6989176869392395\n",
            "9 0.6289116144180298\n",
            "19 0.512543797492981\n",
            "29 0.3596709370613098\n",
            "39 0.20449689030647278\n",
            "49 0.08745142817497253\n",
            "59 0.049901362508535385\n",
            "69 0.031415581703186035\n",
            "79 0.022036757320165634\n",
            "89 0.01829947903752327\n",
            "99 0.015802772715687752\n",
            "0.010803486220538616\n"
          ]
        }
      ],
      "source": [
        "train_dataloader = iter(FieldBatchDataLoader(train_dataset, batch_size=8, device=\"cuda\"))\n",
        "batch = next(train_dataloader)\n",
        "labels = batch[\"y\"]\n",
        "print(labels)\n",
        "for i in range(100):\n",
        "    loss = model.train_on_batch(batch, labels)[\"loss\"].item()\n",
        "    if i < 5 or (i+1) % 10 == 0:\n",
        "        print(i, loss)\n",
        "print(model.validate_on_batch(batch, labels)[\"loss\"].item())"
      ]
    },
    {
      "cell_type": "markdown",
      "metadata": {
        "id": "yG1Pyf907g8w"
      },
      "source": [
        "## Обучение классификационной модели"
      ]
    },
    {
      "cell_type": "code",
      "execution_count": 16,
      "metadata": {
        "id": "ce5t8lckSPo9"
      },
      "outputs": [],
      "source": [
        "def get_batch_metrics(pred_labels, labels):\n",
        "    correct, total = 0, 0\n",
        "    for curr_pred_labels, curr_labels in zip(pred_labels, labels):\n",
        "        curr_labels = [label for label in curr_labels]\n",
        "        assert len(curr_pred_labels) == len(curr_labels), f\"{len(curr_pred_labels)}-{len(curr_labels)}\"\n",
        "        are_equal = [int(x==y) for x, y in zip(curr_pred_labels, curr_labels)]\n",
        "        correct += sum(are_equal)\n",
        "        total += len(are_equal)\n",
        "    return correct, total\n",
        "\n",
        "def update_metrics(metrics, batch_output, batch_labels):\n",
        "    n_batches = metrics[\"n_batches\"]\n",
        "    metrics[\"loss\"] = (metrics[\"loss\"] * n_batches + batch_output[\"loss\"].item()) / (n_batches + 1)\n",
        "    metrics[\"n_batches\"] += 1\n",
        "    are_equal = (batch_output[\"labels\"] == batch_labels).float()\n",
        "    are_TP = are_equal * batch_labels\n",
        "    are_FP = (1.0 - are_equal) * (1-batch_labels)\n",
        "    are_FN = (1.0 - are_equal) * batch_labels\n",
        "    metrics[\"correct\"] += are_equal.sum().item()\n",
        "    metrics[\"total\"] += are_equal.shape[0]\n",
        "    metrics[\"TP\"] += are_TP.sum().item()\n",
        "    metrics[\"FP\"] += are_FP.sum().item()\n",
        "    metrics[\"FN\"] += are_FN.sum().item()\n",
        "    metrics[\"accuracy\"] = metrics[\"correct\"] / max(metrics[\"total\"], 1)\n",
        "    metrics[\"P\"] = metrics[\"TP\"] / max(metrics[\"TP\"]+metrics[\"FP\"], 1)\n",
        "    metrics[\"R\"] = metrics[\"TP\"] / max(metrics[\"TP\"]+metrics[\"FN\"], 1)\n",
        "    metrics[\"F1\"] = metrics[\"TP\"] / max(metrics[\"TP\"]+0.5*metrics[\"FN\"]+0.5*metrics[\"FP\"], 1)"
      ]
    },
    {
      "cell_type": "code",
      "execution_count": 17,
      "metadata": {
        "id": "2AHpkvUISWo4"
      },
      "outputs": [],
      "source": [
        "import tqdm\n",
        "\n",
        "def do_epoch(model, dataloader, mode=\"validate\", epoch=1):\n",
        "    metrics = {\"correct\": 0, \"total\": 0, \"loss\": 0.0, \"n_batches\": 0,\n",
        "               \"TP\": 0, \"FP\": 0, \"FN\": 0}\n",
        "    func = model.train_on_batch if mode == \"train\" else model.validate_on_batch\n",
        "    progress_bar = tqdm.notebook.tqdm(dataloader, leave=True)\n",
        "    progress_bar.set_description(f\"{mode}, epoch={epoch}\")\n",
        "    for batch in progress_bar:\n",
        "        batch_answers = batch[\"y\"]\n",
        "        batch_output = func(batch, batch_answers)\n",
        "        update_metrics(metrics, batch_output, batch_answers)\n",
        "        postfix = {\"loss\": round(metrics[\"loss\"], 4), \"acc\": round(100 * metrics[\"accuracy\"], 2)}\n",
        "        for key in [\"P\", \"R\", \"F1\"]:\n",
        "            postfix[key] =  round(100 * metrics[key], 2)\n",
        "        progress_bar.set_postfix(postfix)\n",
        "    return metrics"
      ]
    },
    {
      "cell_type": "code",
      "execution_count": 18,
      "metadata": {
        "id": "XuR0gxgOSboP",
        "colab": {
          "base_uri": "https://localhost:8080/",
          "height": 728,
          "referenced_widgets": [
            "0b0e620f3de84f978e4ead16b286e8b1",
            "2ad146cfae54494c95a7465a667725f1",
            "a9d2e2259e03416c8b313d80e2d1e60a",
            "755cb785350744dc8099a43bdc89cf03",
            "892cf98097d648f9a471160ee0b78ba0",
            "e44b6062f84040839353c9875b6e42be",
            "79d3ba2a852f4a98a5078602a6846707",
            "e2eb5d4b8a234d8fb96959fcd32706e8",
            "39b223592693406ba656a449c23cdb55",
            "ccd4067e6be044debba9f15628b0b599",
            "ba2ef3406fd04fdea6e0d6ee0171e3cb",
            "71529ee89c434fca8a4d19baa37f1897",
            "510aab6b767f4aa5ad59e4fc69f8bc90",
            "2bfc2718522d46dbb2d25fc88a7f3345",
            "20df0e72064a495ea58a2705b9ab7061",
            "4ab0461d5dd74c02bab853dfd8bfe4f5",
            "288d064cb7474ace872a92914e8feabe",
            "a09401e245114e11ad36092220332c2b",
            "f949ae2d94bf402d9326093a66409ba6",
            "b17058e5f01b491b992722e11683d8cc",
            "7fe2be1c562b47d1b2bedb673cd24a5b",
            "a836d5669bd144bda5fa9e63650b916b",
            "d35b337317b44831b1e85e9a30a83f16",
            "b8639b54dffe4a85915da6c4f539d4fd",
            "ad52dc96e60a494c896e5eaa68b9a6af",
            "979e9adff2ea43d3a12dfbf9fc774f18",
            "fa8edd935a614f74a4d4b4c7990171a5",
            "ed8a7a990fb44e32a55dd79268d25eeb",
            "f9044989c764484abac439c1d7778d25",
            "b292e3974c7e4924b2b8c37decc8ccd9",
            "9ef7d552db7543068d417211914f7bad",
            "5a7a04a831634661925c42d6d69a2ab8",
            "0736092e98204206a98b498edd655849",
            "deb97e49b4e94f8d8891f607e921f351",
            "35df478e09d8437b90239363b2e615aa",
            "1bd6fe6ca261469da23631fd0b70c378",
            "1879939778654a51ab8b8b1a71fdc6f2",
            "389a9a33349546d5a713dd8da9e5bfb2",
            "498850fdf1da48fb9d49cb7d99549473",
            "7b59e958e6af441fa83c193865909b5f",
            "1cf09cb98be74dd3aa2d11b04ce46ee0",
            "2b35de32e1ee4391b8a43010befe826a",
            "68ffc3164c3c45318ace6fabe541a8c9",
            "1e87d1d57e9d4a56bc68822179afb58f",
            "03ef2e989b0d4827b0593d2d4d4d0e9d",
            "f492df262ea34e85865114dd377b6fca",
            "6b0ff694c44844c3b874621efabb1b1e",
            "4237bf0ddb9840229f52b23af4d2fab6",
            "8cc820c5102f49cea11ec3e419a517e4",
            "76677f3219854a0094c2b5683966a0bf",
            "fc3d68d3649b4c6eb593463241411d66",
            "6fe59d9f56fc46bcac0de1ef412ef2ae",
            "0307e31374c94804b68c7a4922f08a29",
            "be533bef31dc490894f0eaf58ff8543f",
            "f6e5a5c896ba4497a011d398c5c71659",
            "0007a69715cc410ab545f5f89e3e3c30",
            "5b081aee2a904e8c962ff58dd27630b0",
            "d45252e3142b4a0ca11e24dad6ad67a4",
            "7390240c47a44b2fa8b641d789e4c2ab",
            "7bcebccff38c4f7eb9b6e207eb76a8cf",
            "116bfda92edd4291984fcd80b677a60e",
            "75b6bd939e1147539bdbfdfcf79f54fb",
            "83a014610b134a5db6c0331c82fc8247",
            "7cf3abe4e88b4547b41dfc19b5f7567a",
            "959bddd2494b47d3a220b6561d5c55ae",
            "ed538e4793724af094beb1d87cfbf917",
            "951b50063bcc4850968214fb90a97880",
            "96abf0cc48bd42aaab44a687e0e25bc8",
            "702f044cd0e24adb8e3de90c469030d8",
            "b5e50131f8d4448db379bd04d279b13a",
            "14a58d98e09a40e08fe28c4053688912",
            "407b64e222e54227b4c5dee9eaaa923b",
            "b13ffacc706f42b8825f358a1bb49663",
            "73bae55b5f9e4150bac22a3776d69de3",
            "45edbe88fc004c3fa61ef534957ecff0",
            "5d770c785639499b87f2ebffd07420b4",
            "cdd59c2f0ad842aaa8c13b39ec081f97",
            "2d79103bba75466d96bfccfd6528998e",
            "4cc21aa2264e480f9d254e05e56060b6",
            "6a2167126f3143829d4cd7c27473cba5",
            "9af4e25adaa34231adacfc1dfef3f8a9",
            "77fbaec11dd541a9bd36e951a3a19494",
            "34747a64ccec4b76950e64ed0fbb253d",
            "475c71bdfe3b4427b1ff197f9bc59726",
            "a38cfa6055b547cf9bcdeb430dd04816",
            "b06e008df2094cf1ac80e033cb18b5d0",
            "fa80820d9e884efbb5815b049def4742",
            "29129372e0914969a3fdb10e69182a3b",
            "bf843b0c64ff4b4aaa2b935e6d933d83",
            "b60120a0541846c8a8374b0fdaa2ca4f",
            "a63d35e9a3e8423a957b8344ee57287b",
            "9b8509a30a6847a9a7e38080aa6bfe5e",
            "9f8c70b859e448b5abfb181f42cc30df",
            "2f5926d2b01d4c5e8abade738d5db1b9",
            "0b8d7b67715e4b4d826eab5218de5a3c",
            "13f521b0f961447a8b28911d3287949c",
            "c4b1c19f829349e88438573917d97eb2",
            "0a4e960200714eedbbe1461ffe9e9115",
            "28e12f4bcdc34c20972df02c7d79c15c",
            "b181ac4e7ccb40a2b2530b6376d0272d",
            "ded8f49a242241d590eb17b31b9c9918",
            "8b0d44a17c6e4f679bbc0b38187057e9",
            "a4b24bbf9979437895cea1570495a349",
            "b0194a161b5649dd8f6acb872774a68f",
            "e8566ed34fe242ffbf30835efb1dcfb6",
            "3b7e11c8f1be4db1b3f20b3eb4d0d637",
            "72f4bc1f7ab540418a6246a495d6f6a5",
            "668a295c18174b5192f62988d276c9e9",
            "54481d71c47949aaa74a00b46564ea91",
            "aeb40014934a4c9a84148bfb677e3bd6",
            "fc6587d508c840a38ff773bddf03c6d6",
            "2dcf85fcae974f94a683f9309f460d91",
            "2a020898c9be48e094c95f61685f1913",
            "6d8511a4600b48c7b0b38967a32c2841",
            "992400a9712b428a91f83a702b0056c1",
            "78e3488856634e11848e5df091f862af",
            "6f866b2ba90149428e0771a082dfc8f5",
            "1db6fe91a3894c1a8f0f7072263af0ed",
            "507dc6b441c84bb8bb5b3b2078489279",
            "77aacba1aac641c485dc385b0490812d",
            "618faee9419d4764a30a61b7a26da9a9"
          ]
        },
        "outputId": "aa5d9ccc-f5ad-4cce-dc76-4cbcf989a7ba"
      },
      "outputs": [
        {
          "metadata": {
            "tags": null
          },
          "name": "stderr",
          "output_type": "stream",
          "text": [
            "/usr/local/lib/python3.7/dist-packages/ipykernel_launcher.py:49: VisibleDeprecationWarning: Creating an ndarray from ragged nested sequences (which is a list-or-tuple of lists-or-tuples-or ndarrays with different lengths or shapes) is deprecated. If you meant to do this, you must specify 'dtype=object' when creating the ndarray.\n",
            "Some weights of the model checkpoint at DeepPavlov/rubert-base-cased were not used when initializing BertModel: ['cls.predictions.decoder.bias', 'cls.predictions.decoder.weight', 'cls.seq_relationship.weight', 'cls.predictions.transform.dense.weight', 'cls.predictions.transform.LayerNorm.bias', 'cls.predictions.bias', 'cls.predictions.transform.LayerNorm.weight', 'cls.predictions.transform.dense.bias', 'cls.seq_relationship.bias']\n",
            "- This IS expected if you are initializing BertModel from the checkpoint of a model trained on another task or with another architecture (e.g. initializing a BertForSequenceClassification model from a BertForPreTraining model).\n",
            "- This IS NOT expected if you are initializing BertModel from the checkpoint of a model that you expect to be exactly identical (initializing a BertForSequenceClassification model from a BertForSequenceClassification model).\n",
            "/usr/local/lib/python3.7/dist-packages/transformers/optimization.py:310: FutureWarning: This implementation of AdamW is deprecated and will be removed in a future version. Use the PyTorch implementation torch.optim.AdamW instead, or set `no_deprecation_warning=True` to disable this warning\n",
            "  FutureWarning,\n"
          ]
        },
        {
          "data": {
            "application/vnd.jupyter.widget-view+json": {
              "model_id": "0b0e620f3de84f978e4ead16b286e8b1",
              "version_major": 2,
              "version_minor": 0
            },
            "text/plain": [
              "  0%|          | 0/12666 [00:00<?, ?it/s]"
            ]
          },
          "metadata": {},
          "output_type": "display_data"
        },
        {
          "metadata": {
            "tags": null
          },
          "name": "stderr",
          "output_type": "stream",
          "text": [
            "/usr/local/lib/python3.7/dist-packages/ipykernel_launcher.py:17: DeprecationWarning: `np.float` is a deprecated alias for the builtin `float`. To silence this warning, use `float` by itself. Doing this will not modify any behavior and is safe. If you specifically wanted the numpy scalar type, use `np.float64` here.\n",
            "Deprecated in NumPy 1.20; for more details and guidance: https://numpy.org/devdocs/release/1.20.0-notes.html#deprecations\n"
          ]
        },
        {
          "data": {
            "application/vnd.jupyter.widget-view+json": {
              "model_id": "71529ee89c434fca8a4d19baa37f1897",
              "version_major": 2,
              "version_minor": 0
            },
            "text/plain": [
              "  0%|          | 0/2713 [00:00<?, ?it/s]"
            ]
          },
          "metadata": {},
          "output_type": "display_data"
        },
        {
          "data": {
            "application/vnd.jupyter.widget-view+json": {
              "model_id": "d35b337317b44831b1e85e9a30a83f16",
              "version_major": 2,
              "version_minor": 0
            },
            "text/plain": [
              "  0%|          | 0/12666 [00:00<?, ?it/s]"
            ]
          },
          "metadata": {},
          "output_type": "display_data"
        },
        {
          "data": {
            "application/vnd.jupyter.widget-view+json": {
              "model_id": "deb97e49b4e94f8d8891f607e921f351",
              "version_major": 2,
              "version_minor": 0
            },
            "text/plain": [
              "  0%|          | 0/2713 [00:00<?, ?it/s]"
            ]
          },
          "metadata": {},
          "output_type": "display_data"
        },
        {
          "data": {
            "application/vnd.jupyter.widget-view+json": {
              "model_id": "03ef2e989b0d4827b0593d2d4d4d0e9d",
              "version_major": 2,
              "version_minor": 0
            },
            "text/plain": [
              "  0%|          | 0/12666 [00:00<?, ?it/s]"
            ]
          },
          "metadata": {},
          "output_type": "display_data"
        },
        {
          "data": {
            "application/vnd.jupyter.widget-view+json": {
              "model_id": "0007a69715cc410ab545f5f89e3e3c30",
              "version_major": 2,
              "version_minor": 0
            },
            "text/plain": [
              "  0%|          | 0/2713 [00:00<?, ?it/s]"
            ]
          },
          "metadata": {},
          "output_type": "display_data"
        },
        {
          "data": {
            "application/vnd.jupyter.widget-view+json": {
              "model_id": "951b50063bcc4850968214fb90a97880",
              "version_major": 2,
              "version_minor": 0
            },
            "text/plain": [
              "  0%|          | 0/12666 [00:00<?, ?it/s]"
            ]
          },
          "metadata": {},
          "output_type": "display_data"
        },
        {
          "data": {
            "application/vnd.jupyter.widget-view+json": {
              "model_id": "2d79103bba75466d96bfccfd6528998e",
              "version_major": 2,
              "version_minor": 0
            },
            "text/plain": [
              "  0%|          | 0/2713 [00:00<?, ?it/s]"
            ]
          },
          "metadata": {},
          "output_type": "display_data"
        },
        {
          "data": {
            "application/vnd.jupyter.widget-view+json": {
              "model_id": "bf843b0c64ff4b4aaa2b935e6d933d83",
              "version_major": 2,
              "version_minor": 0
            },
            "text/plain": [
              "  0%|          | 0/12666 [00:00<?, ?it/s]"
            ]
          },
          "metadata": {},
          "output_type": "display_data"
        },
        {
          "output_type": "display_data",
          "data": {
            "text/plain": [
              "  0%|          | 0/2713 [00:00<?, ?it/s]"
            ],
            "application/vnd.jupyter.widget-view+json": {
              "version_major": 2,
              "version_minor": 0,
              "model_id": "b181ac4e7ccb40a2b2530b6376d0272d"
            }
          },
          "metadata": {}
        },
        {
          "output_type": "display_data",
          "data": {
            "text/plain": [
              "  0%|          | 0/2713 [00:00<?, ?it/s]"
            ],
            "application/vnd.jupyter.widget-view+json": {
              "version_major": 2,
              "version_minor": 0,
              "model_id": "fc6587d508c840a38ff773bddf03c6d6"
            }
          },
          "metadata": {}
        },
        {
          "output_type": "execute_result",
          "data": {
            "text/plain": [
              "{'F1': 1.0,\n",
              " 'FN': 0.0,\n",
              " 'FP': 0.0,\n",
              " 'P': 1.0,\n",
              " 'R': 1.0,\n",
              " 'TP': 10811.0,\n",
              " 'accuracy': 1.0,\n",
              " 'correct': 21701.0,\n",
              " 'loss': 5.949685111737318e-05,\n",
              " 'n_batches': 2713,\n",
              " 'total': 21701}"
            ]
          },
          "metadata": {},
          "execution_count": 18
        }
      ],
      "source": [
        "train_dataset = GramDataset(train_data, tokenizer)\n",
        "dev_dataset = GramDataset(dev_data, tokenizer)\n",
        "train_dataloader = iter(FieldBatchDataLoader(train_dataset, batch_size=8, device=\"cuda\"))\n",
        "dev_dataloader = iter(FieldBatchDataLoader(dev_dataset, batch_size=8, device=\"cuda\"))\n",
        "\n",
        "bert_model = AutoModel.from_pretrained(\"DeepPavlov/rubert-base-cased\").to(\"cuda\")\n",
        "model = TransformersClassificationModel(bert_model, labels_number=1, device=\"cuda\")\n",
        "best_val_acc = 0.0\n",
        "checkpoint = \"checkpoint_best.pt\"\n",
        "for epoch in range(5):\n",
        "    do_epoch(model, train_dataloader, mode=\"train\", epoch=epoch+1)\n",
        "    epoch_metrics = do_epoch(model, dev_dataloader, mode=\"validate\", epoch=epoch+1)\n",
        "    if epoch_metrics[\"accuracy\"] > best_val_acc:\n",
        "        best_val_acc = epoch_metrics[\"accuracy\"]\n",
        "        torch.save(model.state_dict(), checkpoint)\n",
        "        # print(\"Saving \")\n",
        "model.load_state_dict(torch.load(checkpoint))\n",
        "do_epoch(model, dev_dataloader, mode=\"validate\", epoch=\"evaluate\")"
      ]
    },
    {
      "cell_type": "code",
      "execution_count": 19,
      "metadata": {
        "id": "L41M6K0neF_W"
      },
      "outputs": [],
      "source": [
        "def predict_with_model(model, X, classes):\n",
        "    model.eval()\n",
        "    dataloader = FieldBatchDataLoader(X, device=model.device)\n",
        "    answer = [None] * len(X)\n",
        "    for batch in dataloader:\n",
        "        with torch.no_grad():\n",
        "            batch_answer = model(**batch)\n",
        "        labels = (batch_answer >= 0.5).int().cpu().numpy()\n",
        "        for i, label in zip(batch[\"indexes\"], labels):\n",
        "            answer[i] = classes[label]\n",
        "    return answer"
      ]
    },
    {
      "cell_type": "code",
      "execution_count": 107,
      "metadata": {
        "id": "OzbYapemetZP",
        "colab": {
          "base_uri": "https://localhost:8080/"
        },
        "outputId": "4d89e13d-db34-4e2c-fa9c-6055a5304956"
      },
      "outputs": [
        {
          "output_type": "stream",
          "name": "stderr",
          "text": [
            "/usr/local/lib/python3.7/dist-packages/ipykernel_launcher.py:17: DeprecationWarning: `np.float` is a deprecated alias for the builtin `float`. To silence this warning, use `float` by itself. Doing this will not modify any behavior and is safe. If you specifically wanted the numpy scalar type, use `np.float64` here.\n",
            "Deprecated in NumPy 1.20; for more details and guidance: https://numpy.org/devdocs/release/1.20.0-notes.html#deprecations\n"
          ]
        }
      ],
      "source": [
        "test_dataset = GramDataset(test_data, tokenizer)\n",
        "predicted = predict_with_model(model, test_dataset, classes=[0, 1])"
      ]
    },
    {
      "cell_type": "code",
      "source": [
        "for i in range(10,20):\n",
        "    print(test_data[i][\"idx\"], predicted[i])"
      ],
      "metadata": {
        "colab": {
          "base_uri": "https://localhost:8080/"
        },
        "id": "5wb3iamv-v_j",
        "outputId": "a4ef5344-9f5a-4aec-bb52-f1c2a3ea1336"
      },
      "execution_count": 108,
      "outputs": [
        {
          "output_type": "stream",
          "name": "stdout",
          "text": [
            "1 1\n",
            "0 0\n",
            "1 1\n",
            "1 1\n",
            "0 0\n",
            "1 1\n",
            "1 1\n",
            "0 0\n",
            "1 1\n",
            "1 1\n"
          ]
        }
      ]
    },
    {
      "cell_type": "code",
      "source": [
        "correct = []\n",
        "for i in range(len(test_data)):\n",
        "  correct.append(test_data[i][\"idx\"])"
      ],
      "metadata": {
        "id": "8FpRRWg9-uU1"
      },
      "execution_count": 109,
      "outputs": []
    },
    {
      "cell_type": "code",
      "execution_count": 110,
      "metadata": {
        "id": "Wv3CtdSe1s8n",
        "colab": {
          "base_uri": "https://localhost:8080/"
        },
        "outputId": "860db15a-376a-480b-b1f3-fcdcca07293a"
      },
      "outputs": [
        {
          "output_type": "execute_result",
          "data": {
            "text/plain": [
              "1.0"
            ]
          },
          "metadata": {},
          "execution_count": 110
        }
      ],
      "source": [
        "from sklearn.metrics import accuracy_score\n",
        "accuracy_score(predicted, correct)"
      ]
    },
    {
      "cell_type": "code",
      "source": [
        "from sklearn.metrics import matthews_corrcoef\n",
        "matthews_corrcoef(correct, predicted, sample_weight=None)"
      ],
      "metadata": {
        "colab": {
          "base_uri": "https://localhost:8080/"
        },
        "id": "uSAFO9fX_9a6",
        "outputId": "6d0fabb5-0139-44b6-87fe-e6acbd246b47"
      },
      "execution_count": 111,
      "outputs": [
        {
          "output_type": "execute_result",
          "data": {
            "text/plain": [
              "1.0"
            ]
          },
          "metadata": {},
          "execution_count": 111
        }
      ]
    },
    {
      "cell_type": "markdown",
      "metadata": {
        "id": "8l6SfQAbOpCz"
      },
      "source": [
        "## Результаты"
      ]
    },
    {
      "cell_type": "code",
      "execution_count": 56,
      "metadata": {
        "id": "iz8knEWmlQs0"
      },
      "outputs": [],
      "source": [
        "def accuracy_for_group(test_data, label):\n",
        "\n",
        "  subset = []\n",
        "  for i in range(len(test_data)):\n",
        "    if test_data[i][\"label\"] in label:\n",
        "      subset.append(test_data[i])\n",
        "\n",
        "  dataset = GramDataset(subset, tokenizer)\n",
        "  subset_predicted = predict_with_model(model, dataset, classes=[0, 1]) \n",
        "\n",
        "  subset_correct = []\n",
        "\n",
        "  for i in range(len(subset)):\n",
        "    subset_correct.append(subset[i][\"idx\"])\n",
        "\n",
        "  accuracy = accuracy_score(subset_predicted, subset_correct)\n",
        "\n",
        "  return accuracy"
      ]
    },
    {
      "cell_type": "markdown",
      "metadata": {
        "id": "gs-4QLq2OxwY"
      },
      "source": [
        "### Непереходные предложения"
      ]
    },
    {
      "cell_type": "code",
      "execution_count": 57,
      "metadata": {
        "id": "Ee6CQz_4l-a9",
        "colab": {
          "base_uri": "https://localhost:8080/"
        },
        "outputId": "2779245c-3d4c-45d4-9e18-4a38384ce704"
      },
      "outputs": [
        {
          "output_type": "stream",
          "name": "stderr",
          "text": [
            "/usr/local/lib/python3.7/dist-packages/ipykernel_launcher.py:49: VisibleDeprecationWarning: Creating an ndarray from ragged nested sequences (which is a list-or-tuple of lists-or-tuples-or ndarrays with different lengths or shapes) is deprecated. If you meant to do this, you must specify 'dtype=object' when creating the ndarray.\n",
            "/usr/local/lib/python3.7/dist-packages/ipykernel_launcher.py:17: DeprecationWarning: `np.float` is a deprecated alias for the builtin `float`. To silence this warning, use `float` by itself. Doing this will not modify any behavior and is safe. If you specifically wanted the numpy scalar type, use `np.float64` here.\n",
            "Deprecated in NumPy 1.20; for more details and guidance: https://numpy.org/devdocs/release/1.20.0-notes.html#deprecations\n"
          ]
        },
        {
          "output_type": "execute_result",
          "data": {
            "text/plain": [
              "1.0"
            ]
          },
          "metadata": {},
          "execution_count": 57
        }
      ],
      "source": [
        "intr_inan_acc = accuracy_for_group(test_data, ['intr_inan'])\n",
        "intr_inan_acc"
      ]
    },
    {
      "cell_type": "code",
      "execution_count": 59,
      "metadata": {
        "id": "9PhwBVz3mKmv",
        "colab": {
          "base_uri": "https://localhost:8080/"
        },
        "outputId": "18f6303b-9833-45a3-ca4c-c3e42cf2f2f7"
      },
      "outputs": [
        {
          "output_type": "stream",
          "name": "stderr",
          "text": [
            "/usr/local/lib/python3.7/dist-packages/ipykernel_launcher.py:49: VisibleDeprecationWarning: Creating an ndarray from ragged nested sequences (which is a list-or-tuple of lists-or-tuples-or ndarrays with different lengths or shapes) is deprecated. If you meant to do this, you must specify 'dtype=object' when creating the ndarray.\n",
            "/usr/local/lib/python3.7/dist-packages/ipykernel_launcher.py:17: DeprecationWarning: `np.float` is a deprecated alias for the builtin `float`. To silence this warning, use `float` by itself. Doing this will not modify any behavior and is safe. If you specifically wanted the numpy scalar type, use `np.float64` here.\n",
            "Deprecated in NumPy 1.20; for more details and guidance: https://numpy.org/devdocs/release/1.20.0-notes.html#deprecations\n"
          ]
        },
        {
          "output_type": "execute_result",
          "data": {
            "text/plain": [
              "1.0"
            ]
          },
          "metadata": {},
          "execution_count": 59
        }
      ],
      "source": [
        "intr_anim_acc = accuracy_for_group(test_data, ['intr_anim'])\n",
        "intr_anim_acc"
      ]
    },
    {
      "cell_type": "code",
      "execution_count": 60,
      "metadata": {
        "id": "xO0lW7RfmkAJ",
        "colab": {
          "base_uri": "https://localhost:8080/"
        },
        "outputId": "46f4bcd6-e77f-4cca-c3b2-589644e0ca27"
      },
      "outputs": [
        {
          "output_type": "stream",
          "name": "stderr",
          "text": [
            "/usr/local/lib/python3.7/dist-packages/ipykernel_launcher.py:49: VisibleDeprecationWarning: Creating an ndarray from ragged nested sequences (which is a list-or-tuple of lists-or-tuples-or ndarrays with different lengths or shapes) is deprecated. If you meant to do this, you must specify 'dtype=object' when creating the ndarray.\n",
            "/usr/local/lib/python3.7/dist-packages/ipykernel_launcher.py:17: DeprecationWarning: `np.float` is a deprecated alias for the builtin `float`. To silence this warning, use `float` by itself. Doing this will not modify any behavior and is safe. If you specifically wanted the numpy scalar type, use `np.float64` here.\n",
            "Deprecated in NumPy 1.20; for more details and guidance: https://numpy.org/devdocs/release/1.20.0-notes.html#deprecations\n"
          ]
        },
        {
          "output_type": "execute_result",
          "data": {
            "text/plain": [
              "1.0"
            ]
          },
          "metadata": {},
          "execution_count": 60
        }
      ],
      "source": [
        "intr_acc = accuracy_for_group(test_data, ['intr_inan','intr_anim'])\n",
        "intr_acc"
      ]
    },
    {
      "cell_type": "markdown",
      "metadata": {
        "id": "z-gy_sZvnDQ2"
      },
      "source": [
        "### Переходные предложения"
      ]
    },
    {
      "cell_type": "code",
      "execution_count": 61,
      "metadata": {
        "id": "Ys6hgTC7nSGj",
        "colab": {
          "base_uri": "https://localhost:8080/"
        },
        "outputId": "4e0fb2ec-52e7-4d4f-8b24-d01636d83a3e"
      },
      "outputs": [
        {
          "output_type": "stream",
          "name": "stderr",
          "text": [
            "/usr/local/lib/python3.7/dist-packages/ipykernel_launcher.py:49: VisibleDeprecationWarning: Creating an ndarray from ragged nested sequences (which is a list-or-tuple of lists-or-tuples-or ndarrays with different lengths or shapes) is deprecated. If you meant to do this, you must specify 'dtype=object' when creating the ndarray.\n",
            "/usr/local/lib/python3.7/dist-packages/ipykernel_launcher.py:17: DeprecationWarning: `np.float` is a deprecated alias for the builtin `float`. To silence this warning, use `float` by itself. Doing this will not modify any behavior and is safe. If you specifically wanted the numpy scalar type, use `np.float64` here.\n",
            "Deprecated in NumPy 1.20; for more details and guidance: https://numpy.org/devdocs/release/1.20.0-notes.html#deprecations\n"
          ]
        },
        {
          "output_type": "execute_result",
          "data": {
            "text/plain": [
              "1.0"
            ]
          },
          "metadata": {},
          "execution_count": 61
        }
      ],
      "source": [
        "tr_direct_inan_acc = accuracy_for_group(test_data, ['tr_direct_inan'])\n",
        "tr_direct_inan_acc"
      ]
    },
    {
      "cell_type": "code",
      "execution_count": 62,
      "metadata": {
        "id": "LO2VTAgmnHat",
        "colab": {
          "base_uri": "https://localhost:8080/"
        },
        "outputId": "ded92338-6a8a-4fef-da11-6a33534acb32"
      },
      "outputs": [
        {
          "output_type": "stream",
          "name": "stderr",
          "text": [
            "/usr/local/lib/python3.7/dist-packages/ipykernel_launcher.py:49: VisibleDeprecationWarning: Creating an ndarray from ragged nested sequences (which is a list-or-tuple of lists-or-tuples-or ndarrays with different lengths or shapes) is deprecated. If you meant to do this, you must specify 'dtype=object' when creating the ndarray.\n",
            "/usr/local/lib/python3.7/dist-packages/ipykernel_launcher.py:17: DeprecationWarning: `np.float` is a deprecated alias for the builtin `float`. To silence this warning, use `float` by itself. Doing this will not modify any behavior and is safe. If you specifically wanted the numpy scalar type, use `np.float64` here.\n",
            "Deprecated in NumPy 1.20; for more details and guidance: https://numpy.org/devdocs/release/1.20.0-notes.html#deprecations\n"
          ]
        },
        {
          "output_type": "execute_result",
          "data": {
            "text/plain": [
              "1.0"
            ]
          },
          "metadata": {},
          "execution_count": 62
        }
      ],
      "source": [
        "tr_direct_anim_acc = accuracy_for_group(test_data, ['tr_direct_anim'])\n",
        "tr_direct_anim_acc"
      ]
    },
    {
      "cell_type": "code",
      "execution_count": 63,
      "metadata": {
        "id": "Wuw0qpronYZU",
        "colab": {
          "base_uri": "https://localhost:8080/"
        },
        "outputId": "7d79cc74-111f-476c-c158-6975a805d6ea"
      },
      "outputs": [
        {
          "output_type": "stream",
          "name": "stderr",
          "text": [
            "/usr/local/lib/python3.7/dist-packages/ipykernel_launcher.py:49: VisibleDeprecationWarning: Creating an ndarray from ragged nested sequences (which is a list-or-tuple of lists-or-tuples-or ndarrays with different lengths or shapes) is deprecated. If you meant to do this, you must specify 'dtype=object' when creating the ndarray.\n",
            "/usr/local/lib/python3.7/dist-packages/ipykernel_launcher.py:17: DeprecationWarning: `np.float` is a deprecated alias for the builtin `float`. To silence this warning, use `float` by itself. Doing this will not modify any behavior and is safe. If you specifically wanted the numpy scalar type, use `np.float64` here.\n",
            "Deprecated in NumPy 1.20; for more details and guidance: https://numpy.org/devdocs/release/1.20.0-notes.html#deprecations\n"
          ]
        },
        {
          "output_type": "execute_result",
          "data": {
            "text/plain": [
              "1.0"
            ]
          },
          "metadata": {},
          "execution_count": 63
        }
      ],
      "source": [
        "tr_direct_acc = accuracy_for_group(test_data, ['tr_direct_inan','tr_direct_anim'])\n",
        "tr_direct_acc"
      ]
    },
    {
      "cell_type": "code",
      "execution_count": 64,
      "metadata": {
        "id": "Mnbil6gsneep",
        "colab": {
          "base_uri": "https://localhost:8080/"
        },
        "outputId": "e7e66f81-3a89-492f-baf8-c7b4a031e5bd"
      },
      "outputs": [
        {
          "output_type": "stream",
          "name": "stderr",
          "text": [
            "/usr/local/lib/python3.7/dist-packages/ipykernel_launcher.py:49: VisibleDeprecationWarning: Creating an ndarray from ragged nested sequences (which is a list-or-tuple of lists-or-tuples-or ndarrays with different lengths or shapes) is deprecated. If you meant to do this, you must specify 'dtype=object' when creating the ndarray.\n",
            "/usr/local/lib/python3.7/dist-packages/ipykernel_launcher.py:17: DeprecationWarning: `np.float` is a deprecated alias for the builtin `float`. To silence this warning, use `float` by itself. Doing this will not modify any behavior and is safe. If you specifically wanted the numpy scalar type, use `np.float64` here.\n",
            "Deprecated in NumPy 1.20; for more details and guidance: https://numpy.org/devdocs/release/1.20.0-notes.html#deprecations\n"
          ]
        },
        {
          "output_type": "execute_result",
          "data": {
            "text/plain": [
              "1.0"
            ]
          },
          "metadata": {},
          "execution_count": 64
        }
      ],
      "source": [
        "tr_reverse_inan_acc = accuracy_for_group(test_data, ['tr_reverse_inan'])\n",
        "tr_reverse_inan_acc"
      ]
    },
    {
      "cell_type": "code",
      "execution_count": 65,
      "metadata": {
        "id": "QvBO8G43nkiO",
        "colab": {
          "base_uri": "https://localhost:8080/"
        },
        "outputId": "6012d906-25d9-4bed-a81b-5760ebec5678"
      },
      "outputs": [
        {
          "output_type": "stream",
          "name": "stderr",
          "text": [
            "/usr/local/lib/python3.7/dist-packages/ipykernel_launcher.py:49: VisibleDeprecationWarning: Creating an ndarray from ragged nested sequences (which is a list-or-tuple of lists-or-tuples-or ndarrays with different lengths or shapes) is deprecated. If you meant to do this, you must specify 'dtype=object' when creating the ndarray.\n",
            "/usr/local/lib/python3.7/dist-packages/ipykernel_launcher.py:17: DeprecationWarning: `np.float` is a deprecated alias for the builtin `float`. To silence this warning, use `float` by itself. Doing this will not modify any behavior and is safe. If you specifically wanted the numpy scalar type, use `np.float64` here.\n",
            "Deprecated in NumPy 1.20; for more details and guidance: https://numpy.org/devdocs/release/1.20.0-notes.html#deprecations\n"
          ]
        },
        {
          "output_type": "execute_result",
          "data": {
            "text/plain": [
              "1.0"
            ]
          },
          "metadata": {},
          "execution_count": 65
        }
      ],
      "source": [
        "tr_reverse_anim_acc = accuracy_for_group(test_data, ['tr_reverse_anim'])\n",
        "tr_reverse_anim_acc"
      ]
    },
    {
      "cell_type": "code",
      "execution_count": 66,
      "metadata": {
        "id": "yXxK_KSonowf",
        "colab": {
          "base_uri": "https://localhost:8080/"
        },
        "outputId": "34ea93f6-e99e-4644-bf5d-d7a90c587914"
      },
      "outputs": [
        {
          "output_type": "stream",
          "name": "stderr",
          "text": [
            "/usr/local/lib/python3.7/dist-packages/ipykernel_launcher.py:49: VisibleDeprecationWarning: Creating an ndarray from ragged nested sequences (which is a list-or-tuple of lists-or-tuples-or ndarrays with different lengths or shapes) is deprecated. If you meant to do this, you must specify 'dtype=object' when creating the ndarray.\n",
            "/usr/local/lib/python3.7/dist-packages/ipykernel_launcher.py:17: DeprecationWarning: `np.float` is a deprecated alias for the builtin `float`. To silence this warning, use `float` by itself. Doing this will not modify any behavior and is safe. If you specifically wanted the numpy scalar type, use `np.float64` here.\n",
            "Deprecated in NumPy 1.20; for more details and guidance: https://numpy.org/devdocs/release/1.20.0-notes.html#deprecations\n"
          ]
        },
        {
          "output_type": "execute_result",
          "data": {
            "text/plain": [
              "1.0"
            ]
          },
          "metadata": {},
          "execution_count": 66
        }
      ],
      "source": [
        "tr_reverse_acc = accuracy_for_group(test_data, ['tr_reverse_inan','tr_reverse_anim'])\n",
        "tr_reverse_acc"
      ]
    },
    {
      "cell_type": "code",
      "execution_count": 67,
      "metadata": {
        "id": "TRRwd0vwnzbi",
        "colab": {
          "base_uri": "https://localhost:8080/"
        },
        "outputId": "fe1e1418-5c5d-4b83-bc5a-2cfb54f103e1"
      },
      "outputs": [
        {
          "output_type": "stream",
          "name": "stderr",
          "text": [
            "/usr/local/lib/python3.7/dist-packages/ipykernel_launcher.py:49: VisibleDeprecationWarning: Creating an ndarray from ragged nested sequences (which is a list-or-tuple of lists-or-tuples-or ndarrays with different lengths or shapes) is deprecated. If you meant to do this, you must specify 'dtype=object' when creating the ndarray.\n",
            "/usr/local/lib/python3.7/dist-packages/ipykernel_launcher.py:17: DeprecationWarning: `np.float` is a deprecated alias for the builtin `float`. To silence this warning, use `float` by itself. Doing this will not modify any behavior and is safe. If you specifically wanted the numpy scalar type, use `np.float64` here.\n",
            "Deprecated in NumPy 1.20; for more details and guidance: https://numpy.org/devdocs/release/1.20.0-notes.html#deprecations\n"
          ]
        },
        {
          "output_type": "execute_result",
          "data": {
            "text/plain": [
              "1.0"
            ]
          },
          "metadata": {},
          "execution_count": 67
        }
      ],
      "source": [
        "tr_acc = accuracy_for_group(test_data, ['tr_direct_inan','tr_direct_anim','tr_reverse_inan','tr_reverse_anim'])\n",
        "tr_acc"
      ]
    },
    {
      "cell_type": "markdown",
      "metadata": {
        "id": "slasOj3FonZR"
      },
      "source": [
        "### Предложения с распространенным подлежащим"
      ]
    },
    {
      "cell_type": "code",
      "execution_count": 68,
      "metadata": {
        "id": "0WR-rW1aor4S",
        "colab": {
          "base_uri": "https://localhost:8080/"
        },
        "outputId": "6093ba30-d3d6-4026-99c5-4d3870994b4c"
      },
      "outputs": [
        {
          "output_type": "stream",
          "name": "stderr",
          "text": [
            "/usr/local/lib/python3.7/dist-packages/ipykernel_launcher.py:49: VisibleDeprecationWarning: Creating an ndarray from ragged nested sequences (which is a list-or-tuple of lists-or-tuples-or ndarrays with different lengths or shapes) is deprecated. If you meant to do this, you must specify 'dtype=object' when creating the ndarray.\n",
            "/usr/local/lib/python3.7/dist-packages/ipykernel_launcher.py:17: DeprecationWarning: `np.float` is a deprecated alias for the builtin `float`. To silence this warning, use `float` by itself. Doing this will not modify any behavior and is safe. If you specifically wanted the numpy scalar type, use `np.float64` here.\n",
            "Deprecated in NumPy 1.20; for more details and guidance: https://numpy.org/devdocs/release/1.20.0-notes.html#deprecations\n"
          ]
        },
        {
          "output_type": "execute_result",
          "data": {
            "text/plain": [
              "1.0"
            ]
          },
          "metadata": {},
          "execution_count": 68
        }
      ],
      "source": [
        "pp_inan_acc = accuracy_for_group(test_data, ['pp_inan'])\n",
        "pp_inan_acc"
      ]
    },
    {
      "cell_type": "code",
      "execution_count": 70,
      "metadata": {
        "id": "1foQQSkbov3i",
        "colab": {
          "base_uri": "https://localhost:8080/"
        },
        "outputId": "7828c11c-da37-4fe8-dd94-4896dc410787"
      },
      "outputs": [
        {
          "output_type": "stream",
          "name": "stderr",
          "text": [
            "/usr/local/lib/python3.7/dist-packages/ipykernel_launcher.py:49: VisibleDeprecationWarning: Creating an ndarray from ragged nested sequences (which is a list-or-tuple of lists-or-tuples-or ndarrays with different lengths or shapes) is deprecated. If you meant to do this, you must specify 'dtype=object' when creating the ndarray.\n",
            "/usr/local/lib/python3.7/dist-packages/ipykernel_launcher.py:17: DeprecationWarning: `np.float` is a deprecated alias for the builtin `float`. To silence this warning, use `float` by itself. Doing this will not modify any behavior and is safe. If you specifically wanted the numpy scalar type, use `np.float64` here.\n",
            "Deprecated in NumPy 1.20; for more details and guidance: https://numpy.org/devdocs/release/1.20.0-notes.html#deprecations\n"
          ]
        },
        {
          "output_type": "execute_result",
          "data": {
            "text/plain": [
              "1.0"
            ]
          },
          "metadata": {},
          "execution_count": 70
        }
      ],
      "source": [
        "pp_anim_acc = accuracy_for_group(test_data, ['pp_anim'])\n",
        "pp_anim_acc"
      ]
    },
    {
      "cell_type": "code",
      "execution_count": 71,
      "metadata": {
        "id": "HdGeQSp8o9ml",
        "colab": {
          "base_uri": "https://localhost:8080/"
        },
        "outputId": "056da357-2a62-43ff-ec33-6d8688adcf80"
      },
      "outputs": [
        {
          "output_type": "stream",
          "name": "stderr",
          "text": [
            "/usr/local/lib/python3.7/dist-packages/ipykernel_launcher.py:49: VisibleDeprecationWarning: Creating an ndarray from ragged nested sequences (which is a list-or-tuple of lists-or-tuples-or ndarrays with different lengths or shapes) is deprecated. If you meant to do this, you must specify 'dtype=object' when creating the ndarray.\n",
            "/usr/local/lib/python3.7/dist-packages/ipykernel_launcher.py:17: DeprecationWarning: `np.float` is a deprecated alias for the builtin `float`. To silence this warning, use `float` by itself. Doing this will not modify any behavior and is safe. If you specifically wanted the numpy scalar type, use `np.float64` here.\n",
            "Deprecated in NumPy 1.20; for more details and guidance: https://numpy.org/devdocs/release/1.20.0-notes.html#deprecations\n"
          ]
        },
        {
          "output_type": "execute_result",
          "data": {
            "text/plain": [
              "1.0"
            ]
          },
          "metadata": {},
          "execution_count": 71
        }
      ],
      "source": [
        "pp_acc = accuracy_for_group(test_data, ['pp_inan','pp_anim'])\n",
        "pp_acc"
      ]
    },
    {
      "cell_type": "markdown",
      "metadata": {
        "id": "Y4crH1-On7dS"
      },
      "source": [
        "### Сложноподчиненные предложения с союзом \"что\""
      ]
    },
    {
      "cell_type": "code",
      "execution_count": 72,
      "metadata": {
        "id": "9ZKQNil9oOyr",
        "colab": {
          "base_uri": "https://localhost:8080/"
        },
        "outputId": "542a34c8-1831-4ac4-c1fc-b756c6d2b2a4"
      },
      "outputs": [
        {
          "output_type": "stream",
          "name": "stderr",
          "text": [
            "/usr/local/lib/python3.7/dist-packages/ipykernel_launcher.py:49: VisibleDeprecationWarning: Creating an ndarray from ragged nested sequences (which is a list-or-tuple of lists-or-tuples-or ndarrays with different lengths or shapes) is deprecated. If you meant to do this, you must specify 'dtype=object' when creating the ndarray.\n",
            "/usr/local/lib/python3.7/dist-packages/ipykernel_launcher.py:17: DeprecationWarning: `np.float` is a deprecated alias for the builtin `float`. To silence this warning, use `float` by itself. Doing this will not modify any behavior and is safe. If you specifically wanted the numpy scalar type, use `np.float64` here.\n",
            "Deprecated in NumPy 1.20; for more details and guidance: https://numpy.org/devdocs/release/1.20.0-notes.html#deprecations\n"
          ]
        },
        {
          "output_type": "execute_result",
          "data": {
            "text/plain": [
              "1.0"
            ]
          },
          "metadata": {},
          "execution_count": 72
        }
      ],
      "source": [
        "chto_inan_acc = accuracy_for_group(test_data, ['chto_inan'])\n",
        "chto_inan_acc"
      ]
    },
    {
      "cell_type": "code",
      "execution_count": 74,
      "metadata": {
        "id": "RSOsfzLsn67u",
        "colab": {
          "base_uri": "https://localhost:8080/"
        },
        "outputId": "e1db9234-bc36-4ac4-a6c6-86bc0e72c498"
      },
      "outputs": [
        {
          "output_type": "stream",
          "name": "stderr",
          "text": [
            "/usr/local/lib/python3.7/dist-packages/ipykernel_launcher.py:49: VisibleDeprecationWarning: Creating an ndarray from ragged nested sequences (which is a list-or-tuple of lists-or-tuples-or ndarrays with different lengths or shapes) is deprecated. If you meant to do this, you must specify 'dtype=object' when creating the ndarray.\n",
            "/usr/local/lib/python3.7/dist-packages/ipykernel_launcher.py:17: DeprecationWarning: `np.float` is a deprecated alias for the builtin `float`. To silence this warning, use `float` by itself. Doing this will not modify any behavior and is safe. If you specifically wanted the numpy scalar type, use `np.float64` here.\n",
            "Deprecated in NumPy 1.20; for more details and guidance: https://numpy.org/devdocs/release/1.20.0-notes.html#deprecations\n"
          ]
        },
        {
          "output_type": "execute_result",
          "data": {
            "text/plain": [
              "1.0"
            ]
          },
          "metadata": {},
          "execution_count": 74
        }
      ],
      "source": [
        "chto_anim_acc = accuracy_for_group(test_data, ['chto_anim'])\n",
        "chto_anim_acc"
      ]
    },
    {
      "cell_type": "code",
      "execution_count": 75,
      "metadata": {
        "id": "C-qZ-L9eoVLf",
        "colab": {
          "base_uri": "https://localhost:8080/"
        },
        "outputId": "5646b583-7e01-420c-97be-700b16c179f0"
      },
      "outputs": [
        {
          "output_type": "stream",
          "name": "stderr",
          "text": [
            "/usr/local/lib/python3.7/dist-packages/ipykernel_launcher.py:17: DeprecationWarning: `np.float` is a deprecated alias for the builtin `float`. To silence this warning, use `float` by itself. Doing this will not modify any behavior and is safe. If you specifically wanted the numpy scalar type, use `np.float64` here.\n",
            "Deprecated in NumPy 1.20; for more details and guidance: https://numpy.org/devdocs/release/1.20.0-notes.html#deprecations\n"
          ]
        },
        {
          "output_type": "execute_result",
          "data": {
            "text/plain": [
              "1.0"
            ]
          },
          "metadata": {},
          "execution_count": 75
        }
      ],
      "source": [
        "chto_acc = accuracy_for_group(test_data, ['chto_inan', 'chto_anim'])\n",
        "chto_acc"
      ]
    },
    {
      "cell_type": "markdown",
      "metadata": {
        "id": "IEv01V6Vq-BP"
      },
      "source": [
        "### Относительные предложения"
      ]
    },
    {
      "cell_type": "code",
      "execution_count": 76,
      "metadata": {
        "id": "3xtd63oFrDcd",
        "colab": {
          "base_uri": "https://localhost:8080/"
        },
        "outputId": "2910111c-be84-41dd-e521-94f99b36f78c"
      },
      "outputs": [
        {
          "output_type": "stream",
          "name": "stderr",
          "text": [
            "/usr/local/lib/python3.7/dist-packages/ipykernel_launcher.py:49: VisibleDeprecationWarning: Creating an ndarray from ragged nested sequences (which is a list-or-tuple of lists-or-tuples-or ndarrays with different lengths or shapes) is deprecated. If you meant to do this, you must specify 'dtype=object' when creating the ndarray.\n",
            "/usr/local/lib/python3.7/dist-packages/ipykernel_launcher.py:17: DeprecationWarning: `np.float` is a deprecated alias for the builtin `float`. To silence this warning, use `float` by itself. Doing this will not modify any behavior and is safe. If you specifically wanted the numpy scalar type, use `np.float64` here.\n",
            "Deprecated in NumPy 1.20; for more details and guidance: https://numpy.org/devdocs/release/1.20.0-notes.html#deprecations\n"
          ]
        },
        {
          "output_type": "execute_result",
          "data": {
            "text/plain": [
              "1.0"
            ]
          },
          "metadata": {},
          "execution_count": 76
        }
      ],
      "source": [
        "subj_rel_inan_acc = accuracy_for_group(test_data, ['subj_rel_inan'])\n",
        "subj_rel_inan_acc"
      ]
    },
    {
      "cell_type": "code",
      "source": [
        "subj_rel_anim_acc = accuracy_for_group(test_data, ['subj_rel_anim'])\n",
        "subj_rel_anim_acc"
      ],
      "metadata": {
        "colab": {
          "base_uri": "https://localhost:8080/"
        },
        "id": "dxEsx0BO-0wx",
        "outputId": "16855cb3-d95e-4c74-efad-9ffd32a5b063"
      },
      "execution_count": 83,
      "outputs": [
        {
          "output_type": "stream",
          "name": "stderr",
          "text": [
            "/usr/local/lib/python3.7/dist-packages/ipykernel_launcher.py:49: VisibleDeprecationWarning: Creating an ndarray from ragged nested sequences (which is a list-or-tuple of lists-or-tuples-or ndarrays with different lengths or shapes) is deprecated. If you meant to do this, you must specify 'dtype=object' when creating the ndarray.\n",
            "/usr/local/lib/python3.7/dist-packages/ipykernel_launcher.py:17: DeprecationWarning: `np.float` is a deprecated alias for the builtin `float`. To silence this warning, use `float` by itself. Doing this will not modify any behavior and is safe. If you specifically wanted the numpy scalar type, use `np.float64` here.\n",
            "Deprecated in NumPy 1.20; for more details and guidance: https://numpy.org/devdocs/release/1.20.0-notes.html#deprecations\n"
          ]
        },
        {
          "output_type": "execute_result",
          "data": {
            "text/plain": [
              "1.0"
            ]
          },
          "metadata": {},
          "execution_count": 83
        }
      ]
    },
    {
      "cell_type": "code",
      "execution_count": 77,
      "metadata": {
        "id": "N8gx41BZrSAk",
        "colab": {
          "base_uri": "https://localhost:8080/"
        },
        "outputId": "97ba528c-b341-473f-faef-5a27bb5dd598"
      },
      "outputs": [
        {
          "output_type": "stream",
          "name": "stderr",
          "text": [
            "/usr/local/lib/python3.7/dist-packages/ipykernel_launcher.py:49: VisibleDeprecationWarning: Creating an ndarray from ragged nested sequences (which is a list-or-tuple of lists-or-tuples-or ndarrays with different lengths or shapes) is deprecated. If you meant to do this, you must specify 'dtype=object' when creating the ndarray.\n",
            "/usr/local/lib/python3.7/dist-packages/ipykernel_launcher.py:17: DeprecationWarning: `np.float` is a deprecated alias for the builtin `float`. To silence this warning, use `float` by itself. Doing this will not modify any behavior and is safe. If you specifically wanted the numpy scalar type, use `np.float64` here.\n",
            "Deprecated in NumPy 1.20; for more details and guidance: https://numpy.org/devdocs/release/1.20.0-notes.html#deprecations\n"
          ]
        },
        {
          "output_type": "execute_result",
          "data": {
            "text/plain": [
              "1.0"
            ]
          },
          "metadata": {},
          "execution_count": 77
        }
      ],
      "source": [
        "subj_rel_acc = accuracy_for_group(test_data, ['subj_rel_inan','subj_rel_anim'])\n",
        "subj_rel_acc"
      ]
    },
    {
      "cell_type": "code",
      "source": [
        "obj_rel_inan_acc = accuracy_for_group(test_data, ['obj_rel_inan'])\n",
        "obj_rel_inan_acc"
      ],
      "metadata": {
        "colab": {
          "base_uri": "https://localhost:8080/"
        },
        "id": "j-qgR48C-3zO",
        "outputId": "d20cc833-70f5-4524-e4fe-21358e5a1c45"
      },
      "execution_count": 84,
      "outputs": [
        {
          "output_type": "stream",
          "name": "stderr",
          "text": [
            "/usr/local/lib/python3.7/dist-packages/ipykernel_launcher.py:49: VisibleDeprecationWarning: Creating an ndarray from ragged nested sequences (which is a list-or-tuple of lists-or-tuples-or ndarrays with different lengths or shapes) is deprecated. If you meant to do this, you must specify 'dtype=object' when creating the ndarray.\n",
            "/usr/local/lib/python3.7/dist-packages/ipykernel_launcher.py:17: DeprecationWarning: `np.float` is a deprecated alias for the builtin `float`. To silence this warning, use `float` by itself. Doing this will not modify any behavior and is safe. If you specifically wanted the numpy scalar type, use `np.float64` here.\n",
            "Deprecated in NumPy 1.20; for more details and guidance: https://numpy.org/devdocs/release/1.20.0-notes.html#deprecations\n"
          ]
        },
        {
          "output_type": "execute_result",
          "data": {
            "text/plain": [
              "1.0"
            ]
          },
          "metadata": {},
          "execution_count": 84
        }
      ]
    },
    {
      "cell_type": "code",
      "source": [
        "obj_rel_anim_acc = accuracy_for_group(test_data, ['obj_rel_anim'])\n",
        "obj_rel_anim_acc"
      ],
      "metadata": {
        "colab": {
          "base_uri": "https://localhost:8080/"
        },
        "id": "-pu7zGNL-8W6",
        "outputId": "8947cf10-3a19-4abf-ac9d-893910d7fccd"
      },
      "execution_count": 86,
      "outputs": [
        {
          "output_type": "stream",
          "name": "stderr",
          "text": [
            "/usr/local/lib/python3.7/dist-packages/ipykernel_launcher.py:49: VisibleDeprecationWarning: Creating an ndarray from ragged nested sequences (which is a list-or-tuple of lists-or-tuples-or ndarrays with different lengths or shapes) is deprecated. If you meant to do this, you must specify 'dtype=object' when creating the ndarray.\n",
            "/usr/local/lib/python3.7/dist-packages/ipykernel_launcher.py:17: DeprecationWarning: `np.float` is a deprecated alias for the builtin `float`. To silence this warning, use `float` by itself. Doing this will not modify any behavior and is safe. If you specifically wanted the numpy scalar type, use `np.float64` here.\n",
            "Deprecated in NumPy 1.20; for more details and guidance: https://numpy.org/devdocs/release/1.20.0-notes.html#deprecations\n"
          ]
        },
        {
          "output_type": "execute_result",
          "data": {
            "text/plain": [
              "1.0"
            ]
          },
          "metadata": {},
          "execution_count": 86
        }
      ]
    },
    {
      "cell_type": "code",
      "source": [
        "obj_rel_acc = accuracy_for_group(test_data, ['obj_rel_inan','obj_rel_anim'])\n",
        "obj_rel_acc"
      ],
      "metadata": {
        "colab": {
          "base_uri": "https://localhost:8080/"
        },
        "id": "8hotW92V--bo",
        "outputId": "1c379cb0-43ae-4fbf-ba06-0027a56b87e0"
      },
      "execution_count": 87,
      "outputs": [
        {
          "output_type": "stream",
          "name": "stderr",
          "text": [
            "/usr/local/lib/python3.7/dist-packages/ipykernel_launcher.py:49: VisibleDeprecationWarning: Creating an ndarray from ragged nested sequences (which is a list-or-tuple of lists-or-tuples-or ndarrays with different lengths or shapes) is deprecated. If you meant to do this, you must specify 'dtype=object' when creating the ndarray.\n",
            "/usr/local/lib/python3.7/dist-packages/ipykernel_launcher.py:17: DeprecationWarning: `np.float` is a deprecated alias for the builtin `float`. To silence this warning, use `float` by itself. Doing this will not modify any behavior and is safe. If you specifically wanted the numpy scalar type, use `np.float64` here.\n",
            "Deprecated in NumPy 1.20; for more details and guidance: https://numpy.org/devdocs/release/1.20.0-notes.html#deprecations\n"
          ]
        },
        {
          "output_type": "execute_result",
          "data": {
            "text/plain": [
              "1.0"
            ]
          },
          "metadata": {},
          "execution_count": 87
        }
      ]
    },
    {
      "cell_type": "code",
      "source": [
        "rel_acc = accuracy_for_group(test_data, ['subj_rel_inan','subj_rel_anim','obj_rel_inan','obj_rel_anim'])\n",
        "rel_acc"
      ],
      "metadata": {
        "colab": {
          "base_uri": "https://localhost:8080/"
        },
        "id": "INCWfKetNrOg",
        "outputId": "2d08400d-71f6-4ab2-9a08-94a8638cd073"
      },
      "execution_count": 113,
      "outputs": [
        {
          "output_type": "stream",
          "name": "stderr",
          "text": [
            "/usr/local/lib/python3.7/dist-packages/ipykernel_launcher.py:49: VisibleDeprecationWarning: Creating an ndarray from ragged nested sequences (which is a list-or-tuple of lists-or-tuples-or ndarrays with different lengths or shapes) is deprecated. If you meant to do this, you must specify 'dtype=object' when creating the ndarray.\n",
            "/usr/local/lib/python3.7/dist-packages/ipykernel_launcher.py:17: DeprecationWarning: `np.float` is a deprecated alias for the builtin `float`. To silence this warning, use `float` by itself. Doing this will not modify any behavior and is safe. If you specifically wanted the numpy scalar type, use `np.float64` here.\n",
            "Deprecated in NumPy 1.20; for more details and guidance: https://numpy.org/devdocs/release/1.20.0-notes.html#deprecations\n"
          ]
        },
        {
          "output_type": "execute_result",
          "data": {
            "text/plain": [
              "1.0"
            ]
          },
          "metadata": {},
          "execution_count": 113
        }
      ]
    },
    {
      "cell_type": "markdown",
      "metadata": {
        "id": "KXC6C5TZO7p8"
      },
      "source": [
        "### Проверка"
      ]
    },
    {
      "cell_type": "code",
      "source": [
        "example = [{'idx': 1,\n",
        "  'label': 'ex',\n",
        "  'sentence': 'Профессиональные тренеры провели занятия по историческому и артистическому фехтованию'},\n",
        " {'idx': 0,\n",
        "  'label': 'ex',\n",
        "  'sentence': 'Профессиональные тренеры провел занятия по историческому и артистическому фехтованию'},\n",
        "  {'idx': 1,\n",
        "  'label': 'ex',\n",
        "  'sentence': 'Профессиональные тренеры проведут занятия по историческому и артистическому фехтованию'},\n",
        " {'idx': 0,\n",
        "  'label': 'ex',\n",
        "  'sentence': 'Профессиональные тренеры проведет занятия по историческому и артистическому фехтованию'}]"
      ],
      "metadata": {
        "id": "gf6uRUPn_B-7"
      },
      "execution_count": 97,
      "outputs": []
    },
    {
      "cell_type": "code",
      "source": [
        "example_dataset = GramDataset(example, tokenizer)\n",
        "example_predicted = predict_with_model(model, example_dataset, classes=[0, 1])\n",
        "example_predicted"
      ],
      "metadata": {
        "colab": {
          "base_uri": "https://localhost:8080/"
        },
        "id": "QW5gGE_e_DbC",
        "outputId": "a01410b3-09d5-4e89-ed1c-21766c7c8d7e"
      },
      "execution_count": 98,
      "outputs": [
        {
          "output_type": "stream",
          "name": "stderr",
          "text": [
            "/usr/local/lib/python3.7/dist-packages/ipykernel_launcher.py:17: DeprecationWarning: `np.float` is a deprecated alias for the builtin `float`. To silence this warning, use `float` by itself. Doing this will not modify any behavior and is safe. If you specifically wanted the numpy scalar type, use `np.float64` here.\n",
            "Deprecated in NumPy 1.20; for more details and guidance: https://numpy.org/devdocs/release/1.20.0-notes.html#deprecations\n"
          ]
        },
        {
          "output_type": "execute_result",
          "data": {
            "text/plain": [
              "[1, 0, 1, 0]"
            ]
          },
          "metadata": {},
          "execution_count": 98
        }
      ]
    }
  ],
  "metadata": {
    "accelerator": "GPU",
    "colab": {
      "collapsed_sections": [],
      "machine_shape": "hm",
      "name": "ruBERT.ipynb",
      "provenance": []
    },
    "gpuClass": "standard",
    "kernelspec": {
      "display_name": "Python 3",
      "name": "python3"
    },
    "language_info": {
      "name": "python"
    },
    "widgets": {
      "application/vnd.jupyter.widget-state+json": {
        "0b0e620f3de84f978e4ead16b286e8b1": {
          "model_module": "@jupyter-widgets/controls",
          "model_name": "HBoxModel",
          "model_module_version": "1.5.0",
          "state": {
            "_dom_classes": [],
            "_model_module": "@jupyter-widgets/controls",
            "_model_module_version": "1.5.0",
            "_model_name": "HBoxModel",
            "_view_count": null,
            "_view_module": "@jupyter-widgets/controls",
            "_view_module_version": "1.5.0",
            "_view_name": "HBoxView",
            "box_style": "",
            "children": [
              "IPY_MODEL_2ad146cfae54494c95a7465a667725f1",
              "IPY_MODEL_a9d2e2259e03416c8b313d80e2d1e60a",
              "IPY_MODEL_755cb785350744dc8099a43bdc89cf03"
            ],
            "layout": "IPY_MODEL_892cf98097d648f9a471160ee0b78ba0"
          }
        },
        "2ad146cfae54494c95a7465a667725f1": {
          "model_module": "@jupyter-widgets/controls",
          "model_name": "HTMLModel",
          "model_module_version": "1.5.0",
          "state": {
            "_dom_classes": [],
            "_model_module": "@jupyter-widgets/controls",
            "_model_module_version": "1.5.0",
            "_model_name": "HTMLModel",
            "_view_count": null,
            "_view_module": "@jupyter-widgets/controls",
            "_view_module_version": "1.5.0",
            "_view_name": "HTMLView",
            "description": "",
            "description_tooltip": null,
            "layout": "IPY_MODEL_e44b6062f84040839353c9875b6e42be",
            "placeholder": "​",
            "style": "IPY_MODEL_79d3ba2a852f4a98a5078602a6846707",
            "value": "train, epoch=1: 100%"
          }
        },
        "a9d2e2259e03416c8b313d80e2d1e60a": {
          "model_module": "@jupyter-widgets/controls",
          "model_name": "FloatProgressModel",
          "model_module_version": "1.5.0",
          "state": {
            "_dom_classes": [],
            "_model_module": "@jupyter-widgets/controls",
            "_model_module_version": "1.5.0",
            "_model_name": "FloatProgressModel",
            "_view_count": null,
            "_view_module": "@jupyter-widgets/controls",
            "_view_module_version": "1.5.0",
            "_view_name": "ProgressView",
            "bar_style": "success",
            "description": "",
            "description_tooltip": null,
            "layout": "IPY_MODEL_e2eb5d4b8a234d8fb96959fcd32706e8",
            "max": 12666,
            "min": 0,
            "orientation": "horizontal",
            "style": "IPY_MODEL_39b223592693406ba656a449c23cdb55",
            "value": 12666
          }
        },
        "755cb785350744dc8099a43bdc89cf03": {
          "model_module": "@jupyter-widgets/controls",
          "model_name": "HTMLModel",
          "model_module_version": "1.5.0",
          "state": {
            "_dom_classes": [],
            "_model_module": "@jupyter-widgets/controls",
            "_model_module_version": "1.5.0",
            "_model_name": "HTMLModel",
            "_view_count": null,
            "_view_module": "@jupyter-widgets/controls",
            "_view_module_version": "1.5.0",
            "_view_name": "HTMLView",
            "description": "",
            "description_tooltip": null,
            "layout": "IPY_MODEL_ccd4067e6be044debba9f15628b0b599",
            "placeholder": "​",
            "style": "IPY_MODEL_ba2ef3406fd04fdea6e0d6ee0171e3cb",
            "value": " 12666/12666 [20:51&lt;00:00, 10.38it/s, loss=0.0095, acc=99.6, P=99.5, R=99.8, F1=99.7]"
          }
        },
        "892cf98097d648f9a471160ee0b78ba0": {
          "model_module": "@jupyter-widgets/base",
          "model_name": "LayoutModel",
          "model_module_version": "1.2.0",
          "state": {
            "_model_module": "@jupyter-widgets/base",
            "_model_module_version": "1.2.0",
            "_model_name": "LayoutModel",
            "_view_count": null,
            "_view_module": "@jupyter-widgets/base",
            "_view_module_version": "1.2.0",
            "_view_name": "LayoutView",
            "align_content": null,
            "align_items": null,
            "align_self": null,
            "border": null,
            "bottom": null,
            "display": null,
            "flex": null,
            "flex_flow": null,
            "grid_area": null,
            "grid_auto_columns": null,
            "grid_auto_flow": null,
            "grid_auto_rows": null,
            "grid_column": null,
            "grid_gap": null,
            "grid_row": null,
            "grid_template_areas": null,
            "grid_template_columns": null,
            "grid_template_rows": null,
            "height": null,
            "justify_content": null,
            "justify_items": null,
            "left": null,
            "margin": null,
            "max_height": null,
            "max_width": null,
            "min_height": null,
            "min_width": null,
            "object_fit": null,
            "object_position": null,
            "order": null,
            "overflow": null,
            "overflow_x": null,
            "overflow_y": null,
            "padding": null,
            "right": null,
            "top": null,
            "visibility": null,
            "width": null
          }
        },
        "e44b6062f84040839353c9875b6e42be": {
          "model_module": "@jupyter-widgets/base",
          "model_name": "LayoutModel",
          "model_module_version": "1.2.0",
          "state": {
            "_model_module": "@jupyter-widgets/base",
            "_model_module_version": "1.2.0",
            "_model_name": "LayoutModel",
            "_view_count": null,
            "_view_module": "@jupyter-widgets/base",
            "_view_module_version": "1.2.0",
            "_view_name": "LayoutView",
            "align_content": null,
            "align_items": null,
            "align_self": null,
            "border": null,
            "bottom": null,
            "display": null,
            "flex": null,
            "flex_flow": null,
            "grid_area": null,
            "grid_auto_columns": null,
            "grid_auto_flow": null,
            "grid_auto_rows": null,
            "grid_column": null,
            "grid_gap": null,
            "grid_row": null,
            "grid_template_areas": null,
            "grid_template_columns": null,
            "grid_template_rows": null,
            "height": null,
            "justify_content": null,
            "justify_items": null,
            "left": null,
            "margin": null,
            "max_height": null,
            "max_width": null,
            "min_height": null,
            "min_width": null,
            "object_fit": null,
            "object_position": null,
            "order": null,
            "overflow": null,
            "overflow_x": null,
            "overflow_y": null,
            "padding": null,
            "right": null,
            "top": null,
            "visibility": null,
            "width": null
          }
        },
        "79d3ba2a852f4a98a5078602a6846707": {
          "model_module": "@jupyter-widgets/controls",
          "model_name": "DescriptionStyleModel",
          "model_module_version": "1.5.0",
          "state": {
            "_model_module": "@jupyter-widgets/controls",
            "_model_module_version": "1.5.0",
            "_model_name": "DescriptionStyleModel",
            "_view_count": null,
            "_view_module": "@jupyter-widgets/base",
            "_view_module_version": "1.2.0",
            "_view_name": "StyleView",
            "description_width": ""
          }
        },
        "e2eb5d4b8a234d8fb96959fcd32706e8": {
          "model_module": "@jupyter-widgets/base",
          "model_name": "LayoutModel",
          "model_module_version": "1.2.0",
          "state": {
            "_model_module": "@jupyter-widgets/base",
            "_model_module_version": "1.2.0",
            "_model_name": "LayoutModel",
            "_view_count": null,
            "_view_module": "@jupyter-widgets/base",
            "_view_module_version": "1.2.0",
            "_view_name": "LayoutView",
            "align_content": null,
            "align_items": null,
            "align_self": null,
            "border": null,
            "bottom": null,
            "display": null,
            "flex": null,
            "flex_flow": null,
            "grid_area": null,
            "grid_auto_columns": null,
            "grid_auto_flow": null,
            "grid_auto_rows": null,
            "grid_column": null,
            "grid_gap": null,
            "grid_row": null,
            "grid_template_areas": null,
            "grid_template_columns": null,
            "grid_template_rows": null,
            "height": null,
            "justify_content": null,
            "justify_items": null,
            "left": null,
            "margin": null,
            "max_height": null,
            "max_width": null,
            "min_height": null,
            "min_width": null,
            "object_fit": null,
            "object_position": null,
            "order": null,
            "overflow": null,
            "overflow_x": null,
            "overflow_y": null,
            "padding": null,
            "right": null,
            "top": null,
            "visibility": null,
            "width": null
          }
        },
        "39b223592693406ba656a449c23cdb55": {
          "model_module": "@jupyter-widgets/controls",
          "model_name": "ProgressStyleModel",
          "model_module_version": "1.5.0",
          "state": {
            "_model_module": "@jupyter-widgets/controls",
            "_model_module_version": "1.5.0",
            "_model_name": "ProgressStyleModel",
            "_view_count": null,
            "_view_module": "@jupyter-widgets/base",
            "_view_module_version": "1.2.0",
            "_view_name": "StyleView",
            "bar_color": null,
            "description_width": ""
          }
        },
        "ccd4067e6be044debba9f15628b0b599": {
          "model_module": "@jupyter-widgets/base",
          "model_name": "LayoutModel",
          "model_module_version": "1.2.0",
          "state": {
            "_model_module": "@jupyter-widgets/base",
            "_model_module_version": "1.2.0",
            "_model_name": "LayoutModel",
            "_view_count": null,
            "_view_module": "@jupyter-widgets/base",
            "_view_module_version": "1.2.0",
            "_view_name": "LayoutView",
            "align_content": null,
            "align_items": null,
            "align_self": null,
            "border": null,
            "bottom": null,
            "display": null,
            "flex": null,
            "flex_flow": null,
            "grid_area": null,
            "grid_auto_columns": null,
            "grid_auto_flow": null,
            "grid_auto_rows": null,
            "grid_column": null,
            "grid_gap": null,
            "grid_row": null,
            "grid_template_areas": null,
            "grid_template_columns": null,
            "grid_template_rows": null,
            "height": null,
            "justify_content": null,
            "justify_items": null,
            "left": null,
            "margin": null,
            "max_height": null,
            "max_width": null,
            "min_height": null,
            "min_width": null,
            "object_fit": null,
            "object_position": null,
            "order": null,
            "overflow": null,
            "overflow_x": null,
            "overflow_y": null,
            "padding": null,
            "right": null,
            "top": null,
            "visibility": null,
            "width": null
          }
        },
        "ba2ef3406fd04fdea6e0d6ee0171e3cb": {
          "model_module": "@jupyter-widgets/controls",
          "model_name": "DescriptionStyleModel",
          "model_module_version": "1.5.0",
          "state": {
            "_model_module": "@jupyter-widgets/controls",
            "_model_module_version": "1.5.0",
            "_model_name": "DescriptionStyleModel",
            "_view_count": null,
            "_view_module": "@jupyter-widgets/base",
            "_view_module_version": "1.2.0",
            "_view_name": "StyleView",
            "description_width": ""
          }
        },
        "71529ee89c434fca8a4d19baa37f1897": {
          "model_module": "@jupyter-widgets/controls",
          "model_name": "HBoxModel",
          "model_module_version": "1.5.0",
          "state": {
            "_dom_classes": [],
            "_model_module": "@jupyter-widgets/controls",
            "_model_module_version": "1.5.0",
            "_model_name": "HBoxModel",
            "_view_count": null,
            "_view_module": "@jupyter-widgets/controls",
            "_view_module_version": "1.5.0",
            "_view_name": "HBoxView",
            "box_style": "",
            "children": [
              "IPY_MODEL_510aab6b767f4aa5ad59e4fc69f8bc90",
              "IPY_MODEL_2bfc2718522d46dbb2d25fc88a7f3345",
              "IPY_MODEL_20df0e72064a495ea58a2705b9ab7061"
            ],
            "layout": "IPY_MODEL_4ab0461d5dd74c02bab853dfd8bfe4f5"
          }
        },
        "510aab6b767f4aa5ad59e4fc69f8bc90": {
          "model_module": "@jupyter-widgets/controls",
          "model_name": "HTMLModel",
          "model_module_version": "1.5.0",
          "state": {
            "_dom_classes": [],
            "_model_module": "@jupyter-widgets/controls",
            "_model_module_version": "1.5.0",
            "_model_name": "HTMLModel",
            "_view_count": null,
            "_view_module": "@jupyter-widgets/controls",
            "_view_module_version": "1.5.0",
            "_view_name": "HTMLView",
            "description": "",
            "description_tooltip": null,
            "layout": "IPY_MODEL_288d064cb7474ace872a92914e8feabe",
            "placeholder": "​",
            "style": "IPY_MODEL_a09401e245114e11ad36092220332c2b",
            "value": "validate, epoch=1: 100%"
          }
        },
        "2bfc2718522d46dbb2d25fc88a7f3345": {
          "model_module": "@jupyter-widgets/controls",
          "model_name": "FloatProgressModel",
          "model_module_version": "1.5.0",
          "state": {
            "_dom_classes": [],
            "_model_module": "@jupyter-widgets/controls",
            "_model_module_version": "1.5.0",
            "_model_name": "FloatProgressModel",
            "_view_count": null,
            "_view_module": "@jupyter-widgets/controls",
            "_view_module_version": "1.5.0",
            "_view_name": "ProgressView",
            "bar_style": "success",
            "description": "",
            "description_tooltip": null,
            "layout": "IPY_MODEL_f949ae2d94bf402d9326093a66409ba6",
            "max": 2713,
            "min": 0,
            "orientation": "horizontal",
            "style": "IPY_MODEL_b17058e5f01b491b992722e11683d8cc",
            "value": 2713
          }
        },
        "20df0e72064a495ea58a2705b9ab7061": {
          "model_module": "@jupyter-widgets/controls",
          "model_name": "HTMLModel",
          "model_module_version": "1.5.0",
          "state": {
            "_dom_classes": [],
            "_model_module": "@jupyter-widgets/controls",
            "_model_module_version": "1.5.0",
            "_model_name": "HTMLModel",
            "_view_count": null,
            "_view_module": "@jupyter-widgets/controls",
            "_view_module_version": "1.5.0",
            "_view_name": "HTMLView",
            "description": "",
            "description_tooltip": null,
            "layout": "IPY_MODEL_7fe2be1c562b47d1b2bedb673cd24a5b",
            "placeholder": "​",
            "style": "IPY_MODEL_a836d5669bd144bda5fa9e63650b916b",
            "value": " 2713/2713 [00:38&lt;00:00, 74.73it/s, loss=0.0001, acc=100, P=100, R=100, F1=100]"
          }
        },
        "4ab0461d5dd74c02bab853dfd8bfe4f5": {
          "model_module": "@jupyter-widgets/base",
          "model_name": "LayoutModel",
          "model_module_version": "1.2.0",
          "state": {
            "_model_module": "@jupyter-widgets/base",
            "_model_module_version": "1.2.0",
            "_model_name": "LayoutModel",
            "_view_count": null,
            "_view_module": "@jupyter-widgets/base",
            "_view_module_version": "1.2.0",
            "_view_name": "LayoutView",
            "align_content": null,
            "align_items": null,
            "align_self": null,
            "border": null,
            "bottom": null,
            "display": null,
            "flex": null,
            "flex_flow": null,
            "grid_area": null,
            "grid_auto_columns": null,
            "grid_auto_flow": null,
            "grid_auto_rows": null,
            "grid_column": null,
            "grid_gap": null,
            "grid_row": null,
            "grid_template_areas": null,
            "grid_template_columns": null,
            "grid_template_rows": null,
            "height": null,
            "justify_content": null,
            "justify_items": null,
            "left": null,
            "margin": null,
            "max_height": null,
            "max_width": null,
            "min_height": null,
            "min_width": null,
            "object_fit": null,
            "object_position": null,
            "order": null,
            "overflow": null,
            "overflow_x": null,
            "overflow_y": null,
            "padding": null,
            "right": null,
            "top": null,
            "visibility": null,
            "width": null
          }
        },
        "288d064cb7474ace872a92914e8feabe": {
          "model_module": "@jupyter-widgets/base",
          "model_name": "LayoutModel",
          "model_module_version": "1.2.0",
          "state": {
            "_model_module": "@jupyter-widgets/base",
            "_model_module_version": "1.2.0",
            "_model_name": "LayoutModel",
            "_view_count": null,
            "_view_module": "@jupyter-widgets/base",
            "_view_module_version": "1.2.0",
            "_view_name": "LayoutView",
            "align_content": null,
            "align_items": null,
            "align_self": null,
            "border": null,
            "bottom": null,
            "display": null,
            "flex": null,
            "flex_flow": null,
            "grid_area": null,
            "grid_auto_columns": null,
            "grid_auto_flow": null,
            "grid_auto_rows": null,
            "grid_column": null,
            "grid_gap": null,
            "grid_row": null,
            "grid_template_areas": null,
            "grid_template_columns": null,
            "grid_template_rows": null,
            "height": null,
            "justify_content": null,
            "justify_items": null,
            "left": null,
            "margin": null,
            "max_height": null,
            "max_width": null,
            "min_height": null,
            "min_width": null,
            "object_fit": null,
            "object_position": null,
            "order": null,
            "overflow": null,
            "overflow_x": null,
            "overflow_y": null,
            "padding": null,
            "right": null,
            "top": null,
            "visibility": null,
            "width": null
          }
        },
        "a09401e245114e11ad36092220332c2b": {
          "model_module": "@jupyter-widgets/controls",
          "model_name": "DescriptionStyleModel",
          "model_module_version": "1.5.0",
          "state": {
            "_model_module": "@jupyter-widgets/controls",
            "_model_module_version": "1.5.0",
            "_model_name": "DescriptionStyleModel",
            "_view_count": null,
            "_view_module": "@jupyter-widgets/base",
            "_view_module_version": "1.2.0",
            "_view_name": "StyleView",
            "description_width": ""
          }
        },
        "f949ae2d94bf402d9326093a66409ba6": {
          "model_module": "@jupyter-widgets/base",
          "model_name": "LayoutModel",
          "model_module_version": "1.2.0",
          "state": {
            "_model_module": "@jupyter-widgets/base",
            "_model_module_version": "1.2.0",
            "_model_name": "LayoutModel",
            "_view_count": null,
            "_view_module": "@jupyter-widgets/base",
            "_view_module_version": "1.2.0",
            "_view_name": "LayoutView",
            "align_content": null,
            "align_items": null,
            "align_self": null,
            "border": null,
            "bottom": null,
            "display": null,
            "flex": null,
            "flex_flow": null,
            "grid_area": null,
            "grid_auto_columns": null,
            "grid_auto_flow": null,
            "grid_auto_rows": null,
            "grid_column": null,
            "grid_gap": null,
            "grid_row": null,
            "grid_template_areas": null,
            "grid_template_columns": null,
            "grid_template_rows": null,
            "height": null,
            "justify_content": null,
            "justify_items": null,
            "left": null,
            "margin": null,
            "max_height": null,
            "max_width": null,
            "min_height": null,
            "min_width": null,
            "object_fit": null,
            "object_position": null,
            "order": null,
            "overflow": null,
            "overflow_x": null,
            "overflow_y": null,
            "padding": null,
            "right": null,
            "top": null,
            "visibility": null,
            "width": null
          }
        },
        "b17058e5f01b491b992722e11683d8cc": {
          "model_module": "@jupyter-widgets/controls",
          "model_name": "ProgressStyleModel",
          "model_module_version": "1.5.0",
          "state": {
            "_model_module": "@jupyter-widgets/controls",
            "_model_module_version": "1.5.0",
            "_model_name": "ProgressStyleModel",
            "_view_count": null,
            "_view_module": "@jupyter-widgets/base",
            "_view_module_version": "1.2.0",
            "_view_name": "StyleView",
            "bar_color": null,
            "description_width": ""
          }
        },
        "7fe2be1c562b47d1b2bedb673cd24a5b": {
          "model_module": "@jupyter-widgets/base",
          "model_name": "LayoutModel",
          "model_module_version": "1.2.0",
          "state": {
            "_model_module": "@jupyter-widgets/base",
            "_model_module_version": "1.2.0",
            "_model_name": "LayoutModel",
            "_view_count": null,
            "_view_module": "@jupyter-widgets/base",
            "_view_module_version": "1.2.0",
            "_view_name": "LayoutView",
            "align_content": null,
            "align_items": null,
            "align_self": null,
            "border": null,
            "bottom": null,
            "display": null,
            "flex": null,
            "flex_flow": null,
            "grid_area": null,
            "grid_auto_columns": null,
            "grid_auto_flow": null,
            "grid_auto_rows": null,
            "grid_column": null,
            "grid_gap": null,
            "grid_row": null,
            "grid_template_areas": null,
            "grid_template_columns": null,
            "grid_template_rows": null,
            "height": null,
            "justify_content": null,
            "justify_items": null,
            "left": null,
            "margin": null,
            "max_height": null,
            "max_width": null,
            "min_height": null,
            "min_width": null,
            "object_fit": null,
            "object_position": null,
            "order": null,
            "overflow": null,
            "overflow_x": null,
            "overflow_y": null,
            "padding": null,
            "right": null,
            "top": null,
            "visibility": null,
            "width": null
          }
        },
        "a836d5669bd144bda5fa9e63650b916b": {
          "model_module": "@jupyter-widgets/controls",
          "model_name": "DescriptionStyleModel",
          "model_module_version": "1.5.0",
          "state": {
            "_model_module": "@jupyter-widgets/controls",
            "_model_module_version": "1.5.0",
            "_model_name": "DescriptionStyleModel",
            "_view_count": null,
            "_view_module": "@jupyter-widgets/base",
            "_view_module_version": "1.2.0",
            "_view_name": "StyleView",
            "description_width": ""
          }
        },
        "d35b337317b44831b1e85e9a30a83f16": {
          "model_module": "@jupyter-widgets/controls",
          "model_name": "HBoxModel",
          "model_module_version": "1.5.0",
          "state": {
            "_dom_classes": [],
            "_model_module": "@jupyter-widgets/controls",
            "_model_module_version": "1.5.0",
            "_model_name": "HBoxModel",
            "_view_count": null,
            "_view_module": "@jupyter-widgets/controls",
            "_view_module_version": "1.5.0",
            "_view_name": "HBoxView",
            "box_style": "",
            "children": [
              "IPY_MODEL_b8639b54dffe4a85915da6c4f539d4fd",
              "IPY_MODEL_ad52dc96e60a494c896e5eaa68b9a6af",
              "IPY_MODEL_979e9adff2ea43d3a12dfbf9fc774f18"
            ],
            "layout": "IPY_MODEL_fa8edd935a614f74a4d4b4c7990171a5"
          }
        },
        "b8639b54dffe4a85915da6c4f539d4fd": {
          "model_module": "@jupyter-widgets/controls",
          "model_name": "HTMLModel",
          "model_module_version": "1.5.0",
          "state": {
            "_dom_classes": [],
            "_model_module": "@jupyter-widgets/controls",
            "_model_module_version": "1.5.0",
            "_model_name": "HTMLModel",
            "_view_count": null,
            "_view_module": "@jupyter-widgets/controls",
            "_view_module_version": "1.5.0",
            "_view_name": "HTMLView",
            "description": "",
            "description_tooltip": null,
            "layout": "IPY_MODEL_ed8a7a990fb44e32a55dd79268d25eeb",
            "placeholder": "​",
            "style": "IPY_MODEL_f9044989c764484abac439c1d7778d25",
            "value": "train, epoch=2: 100%"
          }
        },
        "ad52dc96e60a494c896e5eaa68b9a6af": {
          "model_module": "@jupyter-widgets/controls",
          "model_name": "FloatProgressModel",
          "model_module_version": "1.5.0",
          "state": {
            "_dom_classes": [],
            "_model_module": "@jupyter-widgets/controls",
            "_model_module_version": "1.5.0",
            "_model_name": "FloatProgressModel",
            "_view_count": null,
            "_view_module": "@jupyter-widgets/controls",
            "_view_module_version": "1.5.0",
            "_view_name": "ProgressView",
            "bar_style": "success",
            "description": "",
            "description_tooltip": null,
            "layout": "IPY_MODEL_b292e3974c7e4924b2b8c37decc8ccd9",
            "max": 12666,
            "min": 0,
            "orientation": "horizontal",
            "style": "IPY_MODEL_9ef7d552db7543068d417211914f7bad",
            "value": 12666
          }
        },
        "979e9adff2ea43d3a12dfbf9fc774f18": {
          "model_module": "@jupyter-widgets/controls",
          "model_name": "HTMLModel",
          "model_module_version": "1.5.0",
          "state": {
            "_dom_classes": [],
            "_model_module": "@jupyter-widgets/controls",
            "_model_module_version": "1.5.0",
            "_model_name": "HTMLModel",
            "_view_count": null,
            "_view_module": "@jupyter-widgets/controls",
            "_view_module_version": "1.5.0",
            "_view_name": "HTMLView",
            "description": "",
            "description_tooltip": null,
            "layout": "IPY_MODEL_5a7a04a831634661925c42d6d69a2ab8",
            "placeholder": "​",
            "style": "IPY_MODEL_0736092e98204206a98b498edd655849",
            "value": " 12666/12666 [20:31&lt;00:00, 10.38it/s, loss=0.0009, acc=100, P=100, R=100, F1=100]"
          }
        },
        "fa8edd935a614f74a4d4b4c7990171a5": {
          "model_module": "@jupyter-widgets/base",
          "model_name": "LayoutModel",
          "model_module_version": "1.2.0",
          "state": {
            "_model_module": "@jupyter-widgets/base",
            "_model_module_version": "1.2.0",
            "_model_name": "LayoutModel",
            "_view_count": null,
            "_view_module": "@jupyter-widgets/base",
            "_view_module_version": "1.2.0",
            "_view_name": "LayoutView",
            "align_content": null,
            "align_items": null,
            "align_self": null,
            "border": null,
            "bottom": null,
            "display": null,
            "flex": null,
            "flex_flow": null,
            "grid_area": null,
            "grid_auto_columns": null,
            "grid_auto_flow": null,
            "grid_auto_rows": null,
            "grid_column": null,
            "grid_gap": null,
            "grid_row": null,
            "grid_template_areas": null,
            "grid_template_columns": null,
            "grid_template_rows": null,
            "height": null,
            "justify_content": null,
            "justify_items": null,
            "left": null,
            "margin": null,
            "max_height": null,
            "max_width": null,
            "min_height": null,
            "min_width": null,
            "object_fit": null,
            "object_position": null,
            "order": null,
            "overflow": null,
            "overflow_x": null,
            "overflow_y": null,
            "padding": null,
            "right": null,
            "top": null,
            "visibility": null,
            "width": null
          }
        },
        "ed8a7a990fb44e32a55dd79268d25eeb": {
          "model_module": "@jupyter-widgets/base",
          "model_name": "LayoutModel",
          "model_module_version": "1.2.0",
          "state": {
            "_model_module": "@jupyter-widgets/base",
            "_model_module_version": "1.2.0",
            "_model_name": "LayoutModel",
            "_view_count": null,
            "_view_module": "@jupyter-widgets/base",
            "_view_module_version": "1.2.0",
            "_view_name": "LayoutView",
            "align_content": null,
            "align_items": null,
            "align_self": null,
            "border": null,
            "bottom": null,
            "display": null,
            "flex": null,
            "flex_flow": null,
            "grid_area": null,
            "grid_auto_columns": null,
            "grid_auto_flow": null,
            "grid_auto_rows": null,
            "grid_column": null,
            "grid_gap": null,
            "grid_row": null,
            "grid_template_areas": null,
            "grid_template_columns": null,
            "grid_template_rows": null,
            "height": null,
            "justify_content": null,
            "justify_items": null,
            "left": null,
            "margin": null,
            "max_height": null,
            "max_width": null,
            "min_height": null,
            "min_width": null,
            "object_fit": null,
            "object_position": null,
            "order": null,
            "overflow": null,
            "overflow_x": null,
            "overflow_y": null,
            "padding": null,
            "right": null,
            "top": null,
            "visibility": null,
            "width": null
          }
        },
        "f9044989c764484abac439c1d7778d25": {
          "model_module": "@jupyter-widgets/controls",
          "model_name": "DescriptionStyleModel",
          "model_module_version": "1.5.0",
          "state": {
            "_model_module": "@jupyter-widgets/controls",
            "_model_module_version": "1.5.0",
            "_model_name": "DescriptionStyleModel",
            "_view_count": null,
            "_view_module": "@jupyter-widgets/base",
            "_view_module_version": "1.2.0",
            "_view_name": "StyleView",
            "description_width": ""
          }
        },
        "b292e3974c7e4924b2b8c37decc8ccd9": {
          "model_module": "@jupyter-widgets/base",
          "model_name": "LayoutModel",
          "model_module_version": "1.2.0",
          "state": {
            "_model_module": "@jupyter-widgets/base",
            "_model_module_version": "1.2.0",
            "_model_name": "LayoutModel",
            "_view_count": null,
            "_view_module": "@jupyter-widgets/base",
            "_view_module_version": "1.2.0",
            "_view_name": "LayoutView",
            "align_content": null,
            "align_items": null,
            "align_self": null,
            "border": null,
            "bottom": null,
            "display": null,
            "flex": null,
            "flex_flow": null,
            "grid_area": null,
            "grid_auto_columns": null,
            "grid_auto_flow": null,
            "grid_auto_rows": null,
            "grid_column": null,
            "grid_gap": null,
            "grid_row": null,
            "grid_template_areas": null,
            "grid_template_columns": null,
            "grid_template_rows": null,
            "height": null,
            "justify_content": null,
            "justify_items": null,
            "left": null,
            "margin": null,
            "max_height": null,
            "max_width": null,
            "min_height": null,
            "min_width": null,
            "object_fit": null,
            "object_position": null,
            "order": null,
            "overflow": null,
            "overflow_x": null,
            "overflow_y": null,
            "padding": null,
            "right": null,
            "top": null,
            "visibility": null,
            "width": null
          }
        },
        "9ef7d552db7543068d417211914f7bad": {
          "model_module": "@jupyter-widgets/controls",
          "model_name": "ProgressStyleModel",
          "model_module_version": "1.5.0",
          "state": {
            "_model_module": "@jupyter-widgets/controls",
            "_model_module_version": "1.5.0",
            "_model_name": "ProgressStyleModel",
            "_view_count": null,
            "_view_module": "@jupyter-widgets/base",
            "_view_module_version": "1.2.0",
            "_view_name": "StyleView",
            "bar_color": null,
            "description_width": ""
          }
        },
        "5a7a04a831634661925c42d6d69a2ab8": {
          "model_module": "@jupyter-widgets/base",
          "model_name": "LayoutModel",
          "model_module_version": "1.2.0",
          "state": {
            "_model_module": "@jupyter-widgets/base",
            "_model_module_version": "1.2.0",
            "_model_name": "LayoutModel",
            "_view_count": null,
            "_view_module": "@jupyter-widgets/base",
            "_view_module_version": "1.2.0",
            "_view_name": "LayoutView",
            "align_content": null,
            "align_items": null,
            "align_self": null,
            "border": null,
            "bottom": null,
            "display": null,
            "flex": null,
            "flex_flow": null,
            "grid_area": null,
            "grid_auto_columns": null,
            "grid_auto_flow": null,
            "grid_auto_rows": null,
            "grid_column": null,
            "grid_gap": null,
            "grid_row": null,
            "grid_template_areas": null,
            "grid_template_columns": null,
            "grid_template_rows": null,
            "height": null,
            "justify_content": null,
            "justify_items": null,
            "left": null,
            "margin": null,
            "max_height": null,
            "max_width": null,
            "min_height": null,
            "min_width": null,
            "object_fit": null,
            "object_position": null,
            "order": null,
            "overflow": null,
            "overflow_x": null,
            "overflow_y": null,
            "padding": null,
            "right": null,
            "top": null,
            "visibility": null,
            "width": null
          }
        },
        "0736092e98204206a98b498edd655849": {
          "model_module": "@jupyter-widgets/controls",
          "model_name": "DescriptionStyleModel",
          "model_module_version": "1.5.0",
          "state": {
            "_model_module": "@jupyter-widgets/controls",
            "_model_module_version": "1.5.0",
            "_model_name": "DescriptionStyleModel",
            "_view_count": null,
            "_view_module": "@jupyter-widgets/base",
            "_view_module_version": "1.2.0",
            "_view_name": "StyleView",
            "description_width": ""
          }
        },
        "deb97e49b4e94f8d8891f607e921f351": {
          "model_module": "@jupyter-widgets/controls",
          "model_name": "HBoxModel",
          "model_module_version": "1.5.0",
          "state": {
            "_dom_classes": [],
            "_model_module": "@jupyter-widgets/controls",
            "_model_module_version": "1.5.0",
            "_model_name": "HBoxModel",
            "_view_count": null,
            "_view_module": "@jupyter-widgets/controls",
            "_view_module_version": "1.5.0",
            "_view_name": "HBoxView",
            "box_style": "",
            "children": [
              "IPY_MODEL_35df478e09d8437b90239363b2e615aa",
              "IPY_MODEL_1bd6fe6ca261469da23631fd0b70c378",
              "IPY_MODEL_1879939778654a51ab8b8b1a71fdc6f2"
            ],
            "layout": "IPY_MODEL_389a9a33349546d5a713dd8da9e5bfb2"
          }
        },
        "35df478e09d8437b90239363b2e615aa": {
          "model_module": "@jupyter-widgets/controls",
          "model_name": "HTMLModel",
          "model_module_version": "1.5.0",
          "state": {
            "_dom_classes": [],
            "_model_module": "@jupyter-widgets/controls",
            "_model_module_version": "1.5.0",
            "_model_name": "HTMLModel",
            "_view_count": null,
            "_view_module": "@jupyter-widgets/controls",
            "_view_module_version": "1.5.0",
            "_view_name": "HTMLView",
            "description": "",
            "description_tooltip": null,
            "layout": "IPY_MODEL_498850fdf1da48fb9d49cb7d99549473",
            "placeholder": "​",
            "style": "IPY_MODEL_7b59e958e6af441fa83c193865909b5f",
            "value": "validate, epoch=2: 100%"
          }
        },
        "1bd6fe6ca261469da23631fd0b70c378": {
          "model_module": "@jupyter-widgets/controls",
          "model_name": "FloatProgressModel",
          "model_module_version": "1.5.0",
          "state": {
            "_dom_classes": [],
            "_model_module": "@jupyter-widgets/controls",
            "_model_module_version": "1.5.0",
            "_model_name": "FloatProgressModel",
            "_view_count": null,
            "_view_module": "@jupyter-widgets/controls",
            "_view_module_version": "1.5.0",
            "_view_name": "ProgressView",
            "bar_style": "success",
            "description": "",
            "description_tooltip": null,
            "layout": "IPY_MODEL_1cf09cb98be74dd3aa2d11b04ce46ee0",
            "max": 2713,
            "min": 0,
            "orientation": "horizontal",
            "style": "IPY_MODEL_2b35de32e1ee4391b8a43010befe826a",
            "value": 2713
          }
        },
        "1879939778654a51ab8b8b1a71fdc6f2": {
          "model_module": "@jupyter-widgets/controls",
          "model_name": "HTMLModel",
          "model_module_version": "1.5.0",
          "state": {
            "_dom_classes": [],
            "_model_module": "@jupyter-widgets/controls",
            "_model_module_version": "1.5.0",
            "_model_name": "HTMLModel",
            "_view_count": null,
            "_view_module": "@jupyter-widgets/controls",
            "_view_module_version": "1.5.0",
            "_view_name": "HTMLView",
            "description": "",
            "description_tooltip": null,
            "layout": "IPY_MODEL_68ffc3164c3c45318ace6fabe541a8c9",
            "placeholder": "​",
            "style": "IPY_MODEL_1e87d1d57e9d4a56bc68822179afb58f",
            "value": " 2713/2713 [00:37&lt;00:00, 75.33it/s, loss=0, acc=100, P=100, R=100, F1=100]"
          }
        },
        "389a9a33349546d5a713dd8da9e5bfb2": {
          "model_module": "@jupyter-widgets/base",
          "model_name": "LayoutModel",
          "model_module_version": "1.2.0",
          "state": {
            "_model_module": "@jupyter-widgets/base",
            "_model_module_version": "1.2.0",
            "_model_name": "LayoutModel",
            "_view_count": null,
            "_view_module": "@jupyter-widgets/base",
            "_view_module_version": "1.2.0",
            "_view_name": "LayoutView",
            "align_content": null,
            "align_items": null,
            "align_self": null,
            "border": null,
            "bottom": null,
            "display": null,
            "flex": null,
            "flex_flow": null,
            "grid_area": null,
            "grid_auto_columns": null,
            "grid_auto_flow": null,
            "grid_auto_rows": null,
            "grid_column": null,
            "grid_gap": null,
            "grid_row": null,
            "grid_template_areas": null,
            "grid_template_columns": null,
            "grid_template_rows": null,
            "height": null,
            "justify_content": null,
            "justify_items": null,
            "left": null,
            "margin": null,
            "max_height": null,
            "max_width": null,
            "min_height": null,
            "min_width": null,
            "object_fit": null,
            "object_position": null,
            "order": null,
            "overflow": null,
            "overflow_x": null,
            "overflow_y": null,
            "padding": null,
            "right": null,
            "top": null,
            "visibility": null,
            "width": null
          }
        },
        "498850fdf1da48fb9d49cb7d99549473": {
          "model_module": "@jupyter-widgets/base",
          "model_name": "LayoutModel",
          "model_module_version": "1.2.0",
          "state": {
            "_model_module": "@jupyter-widgets/base",
            "_model_module_version": "1.2.0",
            "_model_name": "LayoutModel",
            "_view_count": null,
            "_view_module": "@jupyter-widgets/base",
            "_view_module_version": "1.2.0",
            "_view_name": "LayoutView",
            "align_content": null,
            "align_items": null,
            "align_self": null,
            "border": null,
            "bottom": null,
            "display": null,
            "flex": null,
            "flex_flow": null,
            "grid_area": null,
            "grid_auto_columns": null,
            "grid_auto_flow": null,
            "grid_auto_rows": null,
            "grid_column": null,
            "grid_gap": null,
            "grid_row": null,
            "grid_template_areas": null,
            "grid_template_columns": null,
            "grid_template_rows": null,
            "height": null,
            "justify_content": null,
            "justify_items": null,
            "left": null,
            "margin": null,
            "max_height": null,
            "max_width": null,
            "min_height": null,
            "min_width": null,
            "object_fit": null,
            "object_position": null,
            "order": null,
            "overflow": null,
            "overflow_x": null,
            "overflow_y": null,
            "padding": null,
            "right": null,
            "top": null,
            "visibility": null,
            "width": null
          }
        },
        "7b59e958e6af441fa83c193865909b5f": {
          "model_module": "@jupyter-widgets/controls",
          "model_name": "DescriptionStyleModel",
          "model_module_version": "1.5.0",
          "state": {
            "_model_module": "@jupyter-widgets/controls",
            "_model_module_version": "1.5.0",
            "_model_name": "DescriptionStyleModel",
            "_view_count": null,
            "_view_module": "@jupyter-widgets/base",
            "_view_module_version": "1.2.0",
            "_view_name": "StyleView",
            "description_width": ""
          }
        },
        "1cf09cb98be74dd3aa2d11b04ce46ee0": {
          "model_module": "@jupyter-widgets/base",
          "model_name": "LayoutModel",
          "model_module_version": "1.2.0",
          "state": {
            "_model_module": "@jupyter-widgets/base",
            "_model_module_version": "1.2.0",
            "_model_name": "LayoutModel",
            "_view_count": null,
            "_view_module": "@jupyter-widgets/base",
            "_view_module_version": "1.2.0",
            "_view_name": "LayoutView",
            "align_content": null,
            "align_items": null,
            "align_self": null,
            "border": null,
            "bottom": null,
            "display": null,
            "flex": null,
            "flex_flow": null,
            "grid_area": null,
            "grid_auto_columns": null,
            "grid_auto_flow": null,
            "grid_auto_rows": null,
            "grid_column": null,
            "grid_gap": null,
            "grid_row": null,
            "grid_template_areas": null,
            "grid_template_columns": null,
            "grid_template_rows": null,
            "height": null,
            "justify_content": null,
            "justify_items": null,
            "left": null,
            "margin": null,
            "max_height": null,
            "max_width": null,
            "min_height": null,
            "min_width": null,
            "object_fit": null,
            "object_position": null,
            "order": null,
            "overflow": null,
            "overflow_x": null,
            "overflow_y": null,
            "padding": null,
            "right": null,
            "top": null,
            "visibility": null,
            "width": null
          }
        },
        "2b35de32e1ee4391b8a43010befe826a": {
          "model_module": "@jupyter-widgets/controls",
          "model_name": "ProgressStyleModel",
          "model_module_version": "1.5.0",
          "state": {
            "_model_module": "@jupyter-widgets/controls",
            "_model_module_version": "1.5.0",
            "_model_name": "ProgressStyleModel",
            "_view_count": null,
            "_view_module": "@jupyter-widgets/base",
            "_view_module_version": "1.2.0",
            "_view_name": "StyleView",
            "bar_color": null,
            "description_width": ""
          }
        },
        "68ffc3164c3c45318ace6fabe541a8c9": {
          "model_module": "@jupyter-widgets/base",
          "model_name": "LayoutModel",
          "model_module_version": "1.2.0",
          "state": {
            "_model_module": "@jupyter-widgets/base",
            "_model_module_version": "1.2.0",
            "_model_name": "LayoutModel",
            "_view_count": null,
            "_view_module": "@jupyter-widgets/base",
            "_view_module_version": "1.2.0",
            "_view_name": "LayoutView",
            "align_content": null,
            "align_items": null,
            "align_self": null,
            "border": null,
            "bottom": null,
            "display": null,
            "flex": null,
            "flex_flow": null,
            "grid_area": null,
            "grid_auto_columns": null,
            "grid_auto_flow": null,
            "grid_auto_rows": null,
            "grid_column": null,
            "grid_gap": null,
            "grid_row": null,
            "grid_template_areas": null,
            "grid_template_columns": null,
            "grid_template_rows": null,
            "height": null,
            "justify_content": null,
            "justify_items": null,
            "left": null,
            "margin": null,
            "max_height": null,
            "max_width": null,
            "min_height": null,
            "min_width": null,
            "object_fit": null,
            "object_position": null,
            "order": null,
            "overflow": null,
            "overflow_x": null,
            "overflow_y": null,
            "padding": null,
            "right": null,
            "top": null,
            "visibility": null,
            "width": null
          }
        },
        "1e87d1d57e9d4a56bc68822179afb58f": {
          "model_module": "@jupyter-widgets/controls",
          "model_name": "DescriptionStyleModel",
          "model_module_version": "1.5.0",
          "state": {
            "_model_module": "@jupyter-widgets/controls",
            "_model_module_version": "1.5.0",
            "_model_name": "DescriptionStyleModel",
            "_view_count": null,
            "_view_module": "@jupyter-widgets/base",
            "_view_module_version": "1.2.0",
            "_view_name": "StyleView",
            "description_width": ""
          }
        },
        "03ef2e989b0d4827b0593d2d4d4d0e9d": {
          "model_module": "@jupyter-widgets/controls",
          "model_name": "HBoxModel",
          "model_module_version": "1.5.0",
          "state": {
            "_dom_classes": [],
            "_model_module": "@jupyter-widgets/controls",
            "_model_module_version": "1.5.0",
            "_model_name": "HBoxModel",
            "_view_count": null,
            "_view_module": "@jupyter-widgets/controls",
            "_view_module_version": "1.5.0",
            "_view_name": "HBoxView",
            "box_style": "",
            "children": [
              "IPY_MODEL_f492df262ea34e85865114dd377b6fca",
              "IPY_MODEL_6b0ff694c44844c3b874621efabb1b1e",
              "IPY_MODEL_4237bf0ddb9840229f52b23af4d2fab6"
            ],
            "layout": "IPY_MODEL_8cc820c5102f49cea11ec3e419a517e4"
          }
        },
        "f492df262ea34e85865114dd377b6fca": {
          "model_module": "@jupyter-widgets/controls",
          "model_name": "HTMLModel",
          "model_module_version": "1.5.0",
          "state": {
            "_dom_classes": [],
            "_model_module": "@jupyter-widgets/controls",
            "_model_module_version": "1.5.0",
            "_model_name": "HTMLModel",
            "_view_count": null,
            "_view_module": "@jupyter-widgets/controls",
            "_view_module_version": "1.5.0",
            "_view_name": "HTMLView",
            "description": "",
            "description_tooltip": null,
            "layout": "IPY_MODEL_76677f3219854a0094c2b5683966a0bf",
            "placeholder": "​",
            "style": "IPY_MODEL_fc3d68d3649b4c6eb593463241411d66",
            "value": "train, epoch=3: 100%"
          }
        },
        "6b0ff694c44844c3b874621efabb1b1e": {
          "model_module": "@jupyter-widgets/controls",
          "model_name": "FloatProgressModel",
          "model_module_version": "1.5.0",
          "state": {
            "_dom_classes": [],
            "_model_module": "@jupyter-widgets/controls",
            "_model_module_version": "1.5.0",
            "_model_name": "FloatProgressModel",
            "_view_count": null,
            "_view_module": "@jupyter-widgets/controls",
            "_view_module_version": "1.5.0",
            "_view_name": "ProgressView",
            "bar_style": "success",
            "description": "",
            "description_tooltip": null,
            "layout": "IPY_MODEL_6fe59d9f56fc46bcac0de1ef412ef2ae",
            "max": 12666,
            "min": 0,
            "orientation": "horizontal",
            "style": "IPY_MODEL_0307e31374c94804b68c7a4922f08a29",
            "value": 12666
          }
        },
        "4237bf0ddb9840229f52b23af4d2fab6": {
          "model_module": "@jupyter-widgets/controls",
          "model_name": "HTMLModel",
          "model_module_version": "1.5.0",
          "state": {
            "_dom_classes": [],
            "_model_module": "@jupyter-widgets/controls",
            "_model_module_version": "1.5.0",
            "_model_name": "HTMLModel",
            "_view_count": null,
            "_view_module": "@jupyter-widgets/controls",
            "_view_module_version": "1.5.0",
            "_view_name": "HTMLView",
            "description": "",
            "description_tooltip": null,
            "layout": "IPY_MODEL_be533bef31dc490894f0eaf58ff8543f",
            "placeholder": "​",
            "style": "IPY_MODEL_f6e5a5c896ba4497a011d398c5c71659",
            "value": " 12666/12666 [20:26&lt;00:00, 10.35it/s, loss=0.0002, acc=100, P=100, R=100, F1=100]"
          }
        },
        "8cc820c5102f49cea11ec3e419a517e4": {
          "model_module": "@jupyter-widgets/base",
          "model_name": "LayoutModel",
          "model_module_version": "1.2.0",
          "state": {
            "_model_module": "@jupyter-widgets/base",
            "_model_module_version": "1.2.0",
            "_model_name": "LayoutModel",
            "_view_count": null,
            "_view_module": "@jupyter-widgets/base",
            "_view_module_version": "1.2.0",
            "_view_name": "LayoutView",
            "align_content": null,
            "align_items": null,
            "align_self": null,
            "border": null,
            "bottom": null,
            "display": null,
            "flex": null,
            "flex_flow": null,
            "grid_area": null,
            "grid_auto_columns": null,
            "grid_auto_flow": null,
            "grid_auto_rows": null,
            "grid_column": null,
            "grid_gap": null,
            "grid_row": null,
            "grid_template_areas": null,
            "grid_template_columns": null,
            "grid_template_rows": null,
            "height": null,
            "justify_content": null,
            "justify_items": null,
            "left": null,
            "margin": null,
            "max_height": null,
            "max_width": null,
            "min_height": null,
            "min_width": null,
            "object_fit": null,
            "object_position": null,
            "order": null,
            "overflow": null,
            "overflow_x": null,
            "overflow_y": null,
            "padding": null,
            "right": null,
            "top": null,
            "visibility": null,
            "width": null
          }
        },
        "76677f3219854a0094c2b5683966a0bf": {
          "model_module": "@jupyter-widgets/base",
          "model_name": "LayoutModel",
          "model_module_version": "1.2.0",
          "state": {
            "_model_module": "@jupyter-widgets/base",
            "_model_module_version": "1.2.0",
            "_model_name": "LayoutModel",
            "_view_count": null,
            "_view_module": "@jupyter-widgets/base",
            "_view_module_version": "1.2.0",
            "_view_name": "LayoutView",
            "align_content": null,
            "align_items": null,
            "align_self": null,
            "border": null,
            "bottom": null,
            "display": null,
            "flex": null,
            "flex_flow": null,
            "grid_area": null,
            "grid_auto_columns": null,
            "grid_auto_flow": null,
            "grid_auto_rows": null,
            "grid_column": null,
            "grid_gap": null,
            "grid_row": null,
            "grid_template_areas": null,
            "grid_template_columns": null,
            "grid_template_rows": null,
            "height": null,
            "justify_content": null,
            "justify_items": null,
            "left": null,
            "margin": null,
            "max_height": null,
            "max_width": null,
            "min_height": null,
            "min_width": null,
            "object_fit": null,
            "object_position": null,
            "order": null,
            "overflow": null,
            "overflow_x": null,
            "overflow_y": null,
            "padding": null,
            "right": null,
            "top": null,
            "visibility": null,
            "width": null
          }
        },
        "fc3d68d3649b4c6eb593463241411d66": {
          "model_module": "@jupyter-widgets/controls",
          "model_name": "DescriptionStyleModel",
          "model_module_version": "1.5.0",
          "state": {
            "_model_module": "@jupyter-widgets/controls",
            "_model_module_version": "1.5.0",
            "_model_name": "DescriptionStyleModel",
            "_view_count": null,
            "_view_module": "@jupyter-widgets/base",
            "_view_module_version": "1.2.0",
            "_view_name": "StyleView",
            "description_width": ""
          }
        },
        "6fe59d9f56fc46bcac0de1ef412ef2ae": {
          "model_module": "@jupyter-widgets/base",
          "model_name": "LayoutModel",
          "model_module_version": "1.2.0",
          "state": {
            "_model_module": "@jupyter-widgets/base",
            "_model_module_version": "1.2.0",
            "_model_name": "LayoutModel",
            "_view_count": null,
            "_view_module": "@jupyter-widgets/base",
            "_view_module_version": "1.2.0",
            "_view_name": "LayoutView",
            "align_content": null,
            "align_items": null,
            "align_self": null,
            "border": null,
            "bottom": null,
            "display": null,
            "flex": null,
            "flex_flow": null,
            "grid_area": null,
            "grid_auto_columns": null,
            "grid_auto_flow": null,
            "grid_auto_rows": null,
            "grid_column": null,
            "grid_gap": null,
            "grid_row": null,
            "grid_template_areas": null,
            "grid_template_columns": null,
            "grid_template_rows": null,
            "height": null,
            "justify_content": null,
            "justify_items": null,
            "left": null,
            "margin": null,
            "max_height": null,
            "max_width": null,
            "min_height": null,
            "min_width": null,
            "object_fit": null,
            "object_position": null,
            "order": null,
            "overflow": null,
            "overflow_x": null,
            "overflow_y": null,
            "padding": null,
            "right": null,
            "top": null,
            "visibility": null,
            "width": null
          }
        },
        "0307e31374c94804b68c7a4922f08a29": {
          "model_module": "@jupyter-widgets/controls",
          "model_name": "ProgressStyleModel",
          "model_module_version": "1.5.0",
          "state": {
            "_model_module": "@jupyter-widgets/controls",
            "_model_module_version": "1.5.0",
            "_model_name": "ProgressStyleModel",
            "_view_count": null,
            "_view_module": "@jupyter-widgets/base",
            "_view_module_version": "1.2.0",
            "_view_name": "StyleView",
            "bar_color": null,
            "description_width": ""
          }
        },
        "be533bef31dc490894f0eaf58ff8543f": {
          "model_module": "@jupyter-widgets/base",
          "model_name": "LayoutModel",
          "model_module_version": "1.2.0",
          "state": {
            "_model_module": "@jupyter-widgets/base",
            "_model_module_version": "1.2.0",
            "_model_name": "LayoutModel",
            "_view_count": null,
            "_view_module": "@jupyter-widgets/base",
            "_view_module_version": "1.2.0",
            "_view_name": "LayoutView",
            "align_content": null,
            "align_items": null,
            "align_self": null,
            "border": null,
            "bottom": null,
            "display": null,
            "flex": null,
            "flex_flow": null,
            "grid_area": null,
            "grid_auto_columns": null,
            "grid_auto_flow": null,
            "grid_auto_rows": null,
            "grid_column": null,
            "grid_gap": null,
            "grid_row": null,
            "grid_template_areas": null,
            "grid_template_columns": null,
            "grid_template_rows": null,
            "height": null,
            "justify_content": null,
            "justify_items": null,
            "left": null,
            "margin": null,
            "max_height": null,
            "max_width": null,
            "min_height": null,
            "min_width": null,
            "object_fit": null,
            "object_position": null,
            "order": null,
            "overflow": null,
            "overflow_x": null,
            "overflow_y": null,
            "padding": null,
            "right": null,
            "top": null,
            "visibility": null,
            "width": null
          }
        },
        "f6e5a5c896ba4497a011d398c5c71659": {
          "model_module": "@jupyter-widgets/controls",
          "model_name": "DescriptionStyleModel",
          "model_module_version": "1.5.0",
          "state": {
            "_model_module": "@jupyter-widgets/controls",
            "_model_module_version": "1.5.0",
            "_model_name": "DescriptionStyleModel",
            "_view_count": null,
            "_view_module": "@jupyter-widgets/base",
            "_view_module_version": "1.2.0",
            "_view_name": "StyleView",
            "description_width": ""
          }
        },
        "0007a69715cc410ab545f5f89e3e3c30": {
          "model_module": "@jupyter-widgets/controls",
          "model_name": "HBoxModel",
          "model_module_version": "1.5.0",
          "state": {
            "_dom_classes": [],
            "_model_module": "@jupyter-widgets/controls",
            "_model_module_version": "1.5.0",
            "_model_name": "HBoxModel",
            "_view_count": null,
            "_view_module": "@jupyter-widgets/controls",
            "_view_module_version": "1.5.0",
            "_view_name": "HBoxView",
            "box_style": "",
            "children": [
              "IPY_MODEL_5b081aee2a904e8c962ff58dd27630b0",
              "IPY_MODEL_d45252e3142b4a0ca11e24dad6ad67a4",
              "IPY_MODEL_7390240c47a44b2fa8b641d789e4c2ab"
            ],
            "layout": "IPY_MODEL_7bcebccff38c4f7eb9b6e207eb76a8cf"
          }
        },
        "5b081aee2a904e8c962ff58dd27630b0": {
          "model_module": "@jupyter-widgets/controls",
          "model_name": "HTMLModel",
          "model_module_version": "1.5.0",
          "state": {
            "_dom_classes": [],
            "_model_module": "@jupyter-widgets/controls",
            "_model_module_version": "1.5.0",
            "_model_name": "HTMLModel",
            "_view_count": null,
            "_view_module": "@jupyter-widgets/controls",
            "_view_module_version": "1.5.0",
            "_view_name": "HTMLView",
            "description": "",
            "description_tooltip": null,
            "layout": "IPY_MODEL_116bfda92edd4291984fcd80b677a60e",
            "placeholder": "​",
            "style": "IPY_MODEL_75b6bd939e1147539bdbfdfcf79f54fb",
            "value": "validate, epoch=3: 100%"
          }
        },
        "d45252e3142b4a0ca11e24dad6ad67a4": {
          "model_module": "@jupyter-widgets/controls",
          "model_name": "FloatProgressModel",
          "model_module_version": "1.5.0",
          "state": {
            "_dom_classes": [],
            "_model_module": "@jupyter-widgets/controls",
            "_model_module_version": "1.5.0",
            "_model_name": "FloatProgressModel",
            "_view_count": null,
            "_view_module": "@jupyter-widgets/controls",
            "_view_module_version": "1.5.0",
            "_view_name": "ProgressView",
            "bar_style": "success",
            "description": "",
            "description_tooltip": null,
            "layout": "IPY_MODEL_83a014610b134a5db6c0331c82fc8247",
            "max": 2713,
            "min": 0,
            "orientation": "horizontal",
            "style": "IPY_MODEL_7cf3abe4e88b4547b41dfc19b5f7567a",
            "value": 2713
          }
        },
        "7390240c47a44b2fa8b641d789e4c2ab": {
          "model_module": "@jupyter-widgets/controls",
          "model_name": "HTMLModel",
          "model_module_version": "1.5.0",
          "state": {
            "_dom_classes": [],
            "_model_module": "@jupyter-widgets/controls",
            "_model_module_version": "1.5.0",
            "_model_name": "HTMLModel",
            "_view_count": null,
            "_view_module": "@jupyter-widgets/controls",
            "_view_module_version": "1.5.0",
            "_view_name": "HTMLView",
            "description": "",
            "description_tooltip": null,
            "layout": "IPY_MODEL_959bddd2494b47d3a220b6561d5c55ae",
            "placeholder": "​",
            "style": "IPY_MODEL_ed538e4793724af094beb1d87cfbf917",
            "value": " 2713/2713 [00:37&lt;00:00, 76.16it/s, loss=0, acc=100, P=100, R=100, F1=100]"
          }
        },
        "7bcebccff38c4f7eb9b6e207eb76a8cf": {
          "model_module": "@jupyter-widgets/base",
          "model_name": "LayoutModel",
          "model_module_version": "1.2.0",
          "state": {
            "_model_module": "@jupyter-widgets/base",
            "_model_module_version": "1.2.0",
            "_model_name": "LayoutModel",
            "_view_count": null,
            "_view_module": "@jupyter-widgets/base",
            "_view_module_version": "1.2.0",
            "_view_name": "LayoutView",
            "align_content": null,
            "align_items": null,
            "align_self": null,
            "border": null,
            "bottom": null,
            "display": null,
            "flex": null,
            "flex_flow": null,
            "grid_area": null,
            "grid_auto_columns": null,
            "grid_auto_flow": null,
            "grid_auto_rows": null,
            "grid_column": null,
            "grid_gap": null,
            "grid_row": null,
            "grid_template_areas": null,
            "grid_template_columns": null,
            "grid_template_rows": null,
            "height": null,
            "justify_content": null,
            "justify_items": null,
            "left": null,
            "margin": null,
            "max_height": null,
            "max_width": null,
            "min_height": null,
            "min_width": null,
            "object_fit": null,
            "object_position": null,
            "order": null,
            "overflow": null,
            "overflow_x": null,
            "overflow_y": null,
            "padding": null,
            "right": null,
            "top": null,
            "visibility": null,
            "width": null
          }
        },
        "116bfda92edd4291984fcd80b677a60e": {
          "model_module": "@jupyter-widgets/base",
          "model_name": "LayoutModel",
          "model_module_version": "1.2.0",
          "state": {
            "_model_module": "@jupyter-widgets/base",
            "_model_module_version": "1.2.0",
            "_model_name": "LayoutModel",
            "_view_count": null,
            "_view_module": "@jupyter-widgets/base",
            "_view_module_version": "1.2.0",
            "_view_name": "LayoutView",
            "align_content": null,
            "align_items": null,
            "align_self": null,
            "border": null,
            "bottom": null,
            "display": null,
            "flex": null,
            "flex_flow": null,
            "grid_area": null,
            "grid_auto_columns": null,
            "grid_auto_flow": null,
            "grid_auto_rows": null,
            "grid_column": null,
            "grid_gap": null,
            "grid_row": null,
            "grid_template_areas": null,
            "grid_template_columns": null,
            "grid_template_rows": null,
            "height": null,
            "justify_content": null,
            "justify_items": null,
            "left": null,
            "margin": null,
            "max_height": null,
            "max_width": null,
            "min_height": null,
            "min_width": null,
            "object_fit": null,
            "object_position": null,
            "order": null,
            "overflow": null,
            "overflow_x": null,
            "overflow_y": null,
            "padding": null,
            "right": null,
            "top": null,
            "visibility": null,
            "width": null
          }
        },
        "75b6bd939e1147539bdbfdfcf79f54fb": {
          "model_module": "@jupyter-widgets/controls",
          "model_name": "DescriptionStyleModel",
          "model_module_version": "1.5.0",
          "state": {
            "_model_module": "@jupyter-widgets/controls",
            "_model_module_version": "1.5.0",
            "_model_name": "DescriptionStyleModel",
            "_view_count": null,
            "_view_module": "@jupyter-widgets/base",
            "_view_module_version": "1.2.0",
            "_view_name": "StyleView",
            "description_width": ""
          }
        },
        "83a014610b134a5db6c0331c82fc8247": {
          "model_module": "@jupyter-widgets/base",
          "model_name": "LayoutModel",
          "model_module_version": "1.2.0",
          "state": {
            "_model_module": "@jupyter-widgets/base",
            "_model_module_version": "1.2.0",
            "_model_name": "LayoutModel",
            "_view_count": null,
            "_view_module": "@jupyter-widgets/base",
            "_view_module_version": "1.2.0",
            "_view_name": "LayoutView",
            "align_content": null,
            "align_items": null,
            "align_self": null,
            "border": null,
            "bottom": null,
            "display": null,
            "flex": null,
            "flex_flow": null,
            "grid_area": null,
            "grid_auto_columns": null,
            "grid_auto_flow": null,
            "grid_auto_rows": null,
            "grid_column": null,
            "grid_gap": null,
            "grid_row": null,
            "grid_template_areas": null,
            "grid_template_columns": null,
            "grid_template_rows": null,
            "height": null,
            "justify_content": null,
            "justify_items": null,
            "left": null,
            "margin": null,
            "max_height": null,
            "max_width": null,
            "min_height": null,
            "min_width": null,
            "object_fit": null,
            "object_position": null,
            "order": null,
            "overflow": null,
            "overflow_x": null,
            "overflow_y": null,
            "padding": null,
            "right": null,
            "top": null,
            "visibility": null,
            "width": null
          }
        },
        "7cf3abe4e88b4547b41dfc19b5f7567a": {
          "model_module": "@jupyter-widgets/controls",
          "model_name": "ProgressStyleModel",
          "model_module_version": "1.5.0",
          "state": {
            "_model_module": "@jupyter-widgets/controls",
            "_model_module_version": "1.5.0",
            "_model_name": "ProgressStyleModel",
            "_view_count": null,
            "_view_module": "@jupyter-widgets/base",
            "_view_module_version": "1.2.0",
            "_view_name": "StyleView",
            "bar_color": null,
            "description_width": ""
          }
        },
        "959bddd2494b47d3a220b6561d5c55ae": {
          "model_module": "@jupyter-widgets/base",
          "model_name": "LayoutModel",
          "model_module_version": "1.2.0",
          "state": {
            "_model_module": "@jupyter-widgets/base",
            "_model_module_version": "1.2.0",
            "_model_name": "LayoutModel",
            "_view_count": null,
            "_view_module": "@jupyter-widgets/base",
            "_view_module_version": "1.2.0",
            "_view_name": "LayoutView",
            "align_content": null,
            "align_items": null,
            "align_self": null,
            "border": null,
            "bottom": null,
            "display": null,
            "flex": null,
            "flex_flow": null,
            "grid_area": null,
            "grid_auto_columns": null,
            "grid_auto_flow": null,
            "grid_auto_rows": null,
            "grid_column": null,
            "grid_gap": null,
            "grid_row": null,
            "grid_template_areas": null,
            "grid_template_columns": null,
            "grid_template_rows": null,
            "height": null,
            "justify_content": null,
            "justify_items": null,
            "left": null,
            "margin": null,
            "max_height": null,
            "max_width": null,
            "min_height": null,
            "min_width": null,
            "object_fit": null,
            "object_position": null,
            "order": null,
            "overflow": null,
            "overflow_x": null,
            "overflow_y": null,
            "padding": null,
            "right": null,
            "top": null,
            "visibility": null,
            "width": null
          }
        },
        "ed538e4793724af094beb1d87cfbf917": {
          "model_module": "@jupyter-widgets/controls",
          "model_name": "DescriptionStyleModel",
          "model_module_version": "1.5.0",
          "state": {
            "_model_module": "@jupyter-widgets/controls",
            "_model_module_version": "1.5.0",
            "_model_name": "DescriptionStyleModel",
            "_view_count": null,
            "_view_module": "@jupyter-widgets/base",
            "_view_module_version": "1.2.0",
            "_view_name": "StyleView",
            "description_width": ""
          }
        },
        "951b50063bcc4850968214fb90a97880": {
          "model_module": "@jupyter-widgets/controls",
          "model_name": "HBoxModel",
          "model_module_version": "1.5.0",
          "state": {
            "_dom_classes": [],
            "_model_module": "@jupyter-widgets/controls",
            "_model_module_version": "1.5.0",
            "_model_name": "HBoxModel",
            "_view_count": null,
            "_view_module": "@jupyter-widgets/controls",
            "_view_module_version": "1.5.0",
            "_view_name": "HBoxView",
            "box_style": "",
            "children": [
              "IPY_MODEL_96abf0cc48bd42aaab44a687e0e25bc8",
              "IPY_MODEL_702f044cd0e24adb8e3de90c469030d8",
              "IPY_MODEL_b5e50131f8d4448db379bd04d279b13a"
            ],
            "layout": "IPY_MODEL_14a58d98e09a40e08fe28c4053688912"
          }
        },
        "96abf0cc48bd42aaab44a687e0e25bc8": {
          "model_module": "@jupyter-widgets/controls",
          "model_name": "HTMLModel",
          "model_module_version": "1.5.0",
          "state": {
            "_dom_classes": [],
            "_model_module": "@jupyter-widgets/controls",
            "_model_module_version": "1.5.0",
            "_model_name": "HTMLModel",
            "_view_count": null,
            "_view_module": "@jupyter-widgets/controls",
            "_view_module_version": "1.5.0",
            "_view_name": "HTMLView",
            "description": "",
            "description_tooltip": null,
            "layout": "IPY_MODEL_407b64e222e54227b4c5dee9eaaa923b",
            "placeholder": "​",
            "style": "IPY_MODEL_b13ffacc706f42b8825f358a1bb49663",
            "value": "train, epoch=4: 100%"
          }
        },
        "702f044cd0e24adb8e3de90c469030d8": {
          "model_module": "@jupyter-widgets/controls",
          "model_name": "FloatProgressModel",
          "model_module_version": "1.5.0",
          "state": {
            "_dom_classes": [],
            "_model_module": "@jupyter-widgets/controls",
            "_model_module_version": "1.5.0",
            "_model_name": "FloatProgressModel",
            "_view_count": null,
            "_view_module": "@jupyter-widgets/controls",
            "_view_module_version": "1.5.0",
            "_view_name": "ProgressView",
            "bar_style": "success",
            "description": "",
            "description_tooltip": null,
            "layout": "IPY_MODEL_73bae55b5f9e4150bac22a3776d69de3",
            "max": 12666,
            "min": 0,
            "orientation": "horizontal",
            "style": "IPY_MODEL_45edbe88fc004c3fa61ef534957ecff0",
            "value": 12666
          }
        },
        "b5e50131f8d4448db379bd04d279b13a": {
          "model_module": "@jupyter-widgets/controls",
          "model_name": "HTMLModel",
          "model_module_version": "1.5.0",
          "state": {
            "_dom_classes": [],
            "_model_module": "@jupyter-widgets/controls",
            "_model_module_version": "1.5.0",
            "_model_name": "HTMLModel",
            "_view_count": null,
            "_view_module": "@jupyter-widgets/controls",
            "_view_module_version": "1.5.0",
            "_view_name": "HTMLView",
            "description": "",
            "description_tooltip": null,
            "layout": "IPY_MODEL_5d770c785639499b87f2ebffd07420b4",
            "placeholder": "​",
            "style": "IPY_MODEL_cdd59c2f0ad842aaa8c13b39ec081f97",
            "value": " 12666/12666 [20:31&lt;00:00, 10.33it/s, loss=0, acc=100, P=100, R=100, F1=100]"
          }
        },
        "14a58d98e09a40e08fe28c4053688912": {
          "model_module": "@jupyter-widgets/base",
          "model_name": "LayoutModel",
          "model_module_version": "1.2.0",
          "state": {
            "_model_module": "@jupyter-widgets/base",
            "_model_module_version": "1.2.0",
            "_model_name": "LayoutModel",
            "_view_count": null,
            "_view_module": "@jupyter-widgets/base",
            "_view_module_version": "1.2.0",
            "_view_name": "LayoutView",
            "align_content": null,
            "align_items": null,
            "align_self": null,
            "border": null,
            "bottom": null,
            "display": null,
            "flex": null,
            "flex_flow": null,
            "grid_area": null,
            "grid_auto_columns": null,
            "grid_auto_flow": null,
            "grid_auto_rows": null,
            "grid_column": null,
            "grid_gap": null,
            "grid_row": null,
            "grid_template_areas": null,
            "grid_template_columns": null,
            "grid_template_rows": null,
            "height": null,
            "justify_content": null,
            "justify_items": null,
            "left": null,
            "margin": null,
            "max_height": null,
            "max_width": null,
            "min_height": null,
            "min_width": null,
            "object_fit": null,
            "object_position": null,
            "order": null,
            "overflow": null,
            "overflow_x": null,
            "overflow_y": null,
            "padding": null,
            "right": null,
            "top": null,
            "visibility": null,
            "width": null
          }
        },
        "407b64e222e54227b4c5dee9eaaa923b": {
          "model_module": "@jupyter-widgets/base",
          "model_name": "LayoutModel",
          "model_module_version": "1.2.0",
          "state": {
            "_model_module": "@jupyter-widgets/base",
            "_model_module_version": "1.2.0",
            "_model_name": "LayoutModel",
            "_view_count": null,
            "_view_module": "@jupyter-widgets/base",
            "_view_module_version": "1.2.0",
            "_view_name": "LayoutView",
            "align_content": null,
            "align_items": null,
            "align_self": null,
            "border": null,
            "bottom": null,
            "display": null,
            "flex": null,
            "flex_flow": null,
            "grid_area": null,
            "grid_auto_columns": null,
            "grid_auto_flow": null,
            "grid_auto_rows": null,
            "grid_column": null,
            "grid_gap": null,
            "grid_row": null,
            "grid_template_areas": null,
            "grid_template_columns": null,
            "grid_template_rows": null,
            "height": null,
            "justify_content": null,
            "justify_items": null,
            "left": null,
            "margin": null,
            "max_height": null,
            "max_width": null,
            "min_height": null,
            "min_width": null,
            "object_fit": null,
            "object_position": null,
            "order": null,
            "overflow": null,
            "overflow_x": null,
            "overflow_y": null,
            "padding": null,
            "right": null,
            "top": null,
            "visibility": null,
            "width": null
          }
        },
        "b13ffacc706f42b8825f358a1bb49663": {
          "model_module": "@jupyter-widgets/controls",
          "model_name": "DescriptionStyleModel",
          "model_module_version": "1.5.0",
          "state": {
            "_model_module": "@jupyter-widgets/controls",
            "_model_module_version": "1.5.0",
            "_model_name": "DescriptionStyleModel",
            "_view_count": null,
            "_view_module": "@jupyter-widgets/base",
            "_view_module_version": "1.2.0",
            "_view_name": "StyleView",
            "description_width": ""
          }
        },
        "73bae55b5f9e4150bac22a3776d69de3": {
          "model_module": "@jupyter-widgets/base",
          "model_name": "LayoutModel",
          "model_module_version": "1.2.0",
          "state": {
            "_model_module": "@jupyter-widgets/base",
            "_model_module_version": "1.2.0",
            "_model_name": "LayoutModel",
            "_view_count": null,
            "_view_module": "@jupyter-widgets/base",
            "_view_module_version": "1.2.0",
            "_view_name": "LayoutView",
            "align_content": null,
            "align_items": null,
            "align_self": null,
            "border": null,
            "bottom": null,
            "display": null,
            "flex": null,
            "flex_flow": null,
            "grid_area": null,
            "grid_auto_columns": null,
            "grid_auto_flow": null,
            "grid_auto_rows": null,
            "grid_column": null,
            "grid_gap": null,
            "grid_row": null,
            "grid_template_areas": null,
            "grid_template_columns": null,
            "grid_template_rows": null,
            "height": null,
            "justify_content": null,
            "justify_items": null,
            "left": null,
            "margin": null,
            "max_height": null,
            "max_width": null,
            "min_height": null,
            "min_width": null,
            "object_fit": null,
            "object_position": null,
            "order": null,
            "overflow": null,
            "overflow_x": null,
            "overflow_y": null,
            "padding": null,
            "right": null,
            "top": null,
            "visibility": null,
            "width": null
          }
        },
        "45edbe88fc004c3fa61ef534957ecff0": {
          "model_module": "@jupyter-widgets/controls",
          "model_name": "ProgressStyleModel",
          "model_module_version": "1.5.0",
          "state": {
            "_model_module": "@jupyter-widgets/controls",
            "_model_module_version": "1.5.0",
            "_model_name": "ProgressStyleModel",
            "_view_count": null,
            "_view_module": "@jupyter-widgets/base",
            "_view_module_version": "1.2.0",
            "_view_name": "StyleView",
            "bar_color": null,
            "description_width": ""
          }
        },
        "5d770c785639499b87f2ebffd07420b4": {
          "model_module": "@jupyter-widgets/base",
          "model_name": "LayoutModel",
          "model_module_version": "1.2.0",
          "state": {
            "_model_module": "@jupyter-widgets/base",
            "_model_module_version": "1.2.0",
            "_model_name": "LayoutModel",
            "_view_count": null,
            "_view_module": "@jupyter-widgets/base",
            "_view_module_version": "1.2.0",
            "_view_name": "LayoutView",
            "align_content": null,
            "align_items": null,
            "align_self": null,
            "border": null,
            "bottom": null,
            "display": null,
            "flex": null,
            "flex_flow": null,
            "grid_area": null,
            "grid_auto_columns": null,
            "grid_auto_flow": null,
            "grid_auto_rows": null,
            "grid_column": null,
            "grid_gap": null,
            "grid_row": null,
            "grid_template_areas": null,
            "grid_template_columns": null,
            "grid_template_rows": null,
            "height": null,
            "justify_content": null,
            "justify_items": null,
            "left": null,
            "margin": null,
            "max_height": null,
            "max_width": null,
            "min_height": null,
            "min_width": null,
            "object_fit": null,
            "object_position": null,
            "order": null,
            "overflow": null,
            "overflow_x": null,
            "overflow_y": null,
            "padding": null,
            "right": null,
            "top": null,
            "visibility": null,
            "width": null
          }
        },
        "cdd59c2f0ad842aaa8c13b39ec081f97": {
          "model_module": "@jupyter-widgets/controls",
          "model_name": "DescriptionStyleModel",
          "model_module_version": "1.5.0",
          "state": {
            "_model_module": "@jupyter-widgets/controls",
            "_model_module_version": "1.5.0",
            "_model_name": "DescriptionStyleModel",
            "_view_count": null,
            "_view_module": "@jupyter-widgets/base",
            "_view_module_version": "1.2.0",
            "_view_name": "StyleView",
            "description_width": ""
          }
        },
        "2d79103bba75466d96bfccfd6528998e": {
          "model_module": "@jupyter-widgets/controls",
          "model_name": "HBoxModel",
          "model_module_version": "1.5.0",
          "state": {
            "_dom_classes": [],
            "_model_module": "@jupyter-widgets/controls",
            "_model_module_version": "1.5.0",
            "_model_name": "HBoxModel",
            "_view_count": null,
            "_view_module": "@jupyter-widgets/controls",
            "_view_module_version": "1.5.0",
            "_view_name": "HBoxView",
            "box_style": "",
            "children": [
              "IPY_MODEL_4cc21aa2264e480f9d254e05e56060b6",
              "IPY_MODEL_6a2167126f3143829d4cd7c27473cba5",
              "IPY_MODEL_9af4e25adaa34231adacfc1dfef3f8a9"
            ],
            "layout": "IPY_MODEL_77fbaec11dd541a9bd36e951a3a19494"
          }
        },
        "4cc21aa2264e480f9d254e05e56060b6": {
          "model_module": "@jupyter-widgets/controls",
          "model_name": "HTMLModel",
          "model_module_version": "1.5.0",
          "state": {
            "_dom_classes": [],
            "_model_module": "@jupyter-widgets/controls",
            "_model_module_version": "1.5.0",
            "_model_name": "HTMLModel",
            "_view_count": null,
            "_view_module": "@jupyter-widgets/controls",
            "_view_module_version": "1.5.0",
            "_view_name": "HTMLView",
            "description": "",
            "description_tooltip": null,
            "layout": "IPY_MODEL_34747a64ccec4b76950e64ed0fbb253d",
            "placeholder": "​",
            "style": "IPY_MODEL_475c71bdfe3b4427b1ff197f9bc59726",
            "value": "validate, epoch=4: 100%"
          }
        },
        "6a2167126f3143829d4cd7c27473cba5": {
          "model_module": "@jupyter-widgets/controls",
          "model_name": "FloatProgressModel",
          "model_module_version": "1.5.0",
          "state": {
            "_dom_classes": [],
            "_model_module": "@jupyter-widgets/controls",
            "_model_module_version": "1.5.0",
            "_model_name": "FloatProgressModel",
            "_view_count": null,
            "_view_module": "@jupyter-widgets/controls",
            "_view_module_version": "1.5.0",
            "_view_name": "ProgressView",
            "bar_style": "success",
            "description": "",
            "description_tooltip": null,
            "layout": "IPY_MODEL_a38cfa6055b547cf9bcdeb430dd04816",
            "max": 2713,
            "min": 0,
            "orientation": "horizontal",
            "style": "IPY_MODEL_b06e008df2094cf1ac80e033cb18b5d0",
            "value": 2713
          }
        },
        "9af4e25adaa34231adacfc1dfef3f8a9": {
          "model_module": "@jupyter-widgets/controls",
          "model_name": "HTMLModel",
          "model_module_version": "1.5.0",
          "state": {
            "_dom_classes": [],
            "_model_module": "@jupyter-widgets/controls",
            "_model_module_version": "1.5.0",
            "_model_name": "HTMLModel",
            "_view_count": null,
            "_view_module": "@jupyter-widgets/controls",
            "_view_module_version": "1.5.0",
            "_view_name": "HTMLView",
            "description": "",
            "description_tooltip": null,
            "layout": "IPY_MODEL_fa80820d9e884efbb5815b049def4742",
            "placeholder": "​",
            "style": "IPY_MODEL_29129372e0914969a3fdb10e69182a3b",
            "value": " 2713/2713 [00:38&lt;00:00, 76.09it/s, loss=0, acc=100, P=100, R=100, F1=100]"
          }
        },
        "77fbaec11dd541a9bd36e951a3a19494": {
          "model_module": "@jupyter-widgets/base",
          "model_name": "LayoutModel",
          "model_module_version": "1.2.0",
          "state": {
            "_model_module": "@jupyter-widgets/base",
            "_model_module_version": "1.2.0",
            "_model_name": "LayoutModel",
            "_view_count": null,
            "_view_module": "@jupyter-widgets/base",
            "_view_module_version": "1.2.0",
            "_view_name": "LayoutView",
            "align_content": null,
            "align_items": null,
            "align_self": null,
            "border": null,
            "bottom": null,
            "display": null,
            "flex": null,
            "flex_flow": null,
            "grid_area": null,
            "grid_auto_columns": null,
            "grid_auto_flow": null,
            "grid_auto_rows": null,
            "grid_column": null,
            "grid_gap": null,
            "grid_row": null,
            "grid_template_areas": null,
            "grid_template_columns": null,
            "grid_template_rows": null,
            "height": null,
            "justify_content": null,
            "justify_items": null,
            "left": null,
            "margin": null,
            "max_height": null,
            "max_width": null,
            "min_height": null,
            "min_width": null,
            "object_fit": null,
            "object_position": null,
            "order": null,
            "overflow": null,
            "overflow_x": null,
            "overflow_y": null,
            "padding": null,
            "right": null,
            "top": null,
            "visibility": null,
            "width": null
          }
        },
        "34747a64ccec4b76950e64ed0fbb253d": {
          "model_module": "@jupyter-widgets/base",
          "model_name": "LayoutModel",
          "model_module_version": "1.2.0",
          "state": {
            "_model_module": "@jupyter-widgets/base",
            "_model_module_version": "1.2.0",
            "_model_name": "LayoutModel",
            "_view_count": null,
            "_view_module": "@jupyter-widgets/base",
            "_view_module_version": "1.2.0",
            "_view_name": "LayoutView",
            "align_content": null,
            "align_items": null,
            "align_self": null,
            "border": null,
            "bottom": null,
            "display": null,
            "flex": null,
            "flex_flow": null,
            "grid_area": null,
            "grid_auto_columns": null,
            "grid_auto_flow": null,
            "grid_auto_rows": null,
            "grid_column": null,
            "grid_gap": null,
            "grid_row": null,
            "grid_template_areas": null,
            "grid_template_columns": null,
            "grid_template_rows": null,
            "height": null,
            "justify_content": null,
            "justify_items": null,
            "left": null,
            "margin": null,
            "max_height": null,
            "max_width": null,
            "min_height": null,
            "min_width": null,
            "object_fit": null,
            "object_position": null,
            "order": null,
            "overflow": null,
            "overflow_x": null,
            "overflow_y": null,
            "padding": null,
            "right": null,
            "top": null,
            "visibility": null,
            "width": null
          }
        },
        "475c71bdfe3b4427b1ff197f9bc59726": {
          "model_module": "@jupyter-widgets/controls",
          "model_name": "DescriptionStyleModel",
          "model_module_version": "1.5.0",
          "state": {
            "_model_module": "@jupyter-widgets/controls",
            "_model_module_version": "1.5.0",
            "_model_name": "DescriptionStyleModel",
            "_view_count": null,
            "_view_module": "@jupyter-widgets/base",
            "_view_module_version": "1.2.0",
            "_view_name": "StyleView",
            "description_width": ""
          }
        },
        "a38cfa6055b547cf9bcdeb430dd04816": {
          "model_module": "@jupyter-widgets/base",
          "model_name": "LayoutModel",
          "model_module_version": "1.2.0",
          "state": {
            "_model_module": "@jupyter-widgets/base",
            "_model_module_version": "1.2.0",
            "_model_name": "LayoutModel",
            "_view_count": null,
            "_view_module": "@jupyter-widgets/base",
            "_view_module_version": "1.2.0",
            "_view_name": "LayoutView",
            "align_content": null,
            "align_items": null,
            "align_self": null,
            "border": null,
            "bottom": null,
            "display": null,
            "flex": null,
            "flex_flow": null,
            "grid_area": null,
            "grid_auto_columns": null,
            "grid_auto_flow": null,
            "grid_auto_rows": null,
            "grid_column": null,
            "grid_gap": null,
            "grid_row": null,
            "grid_template_areas": null,
            "grid_template_columns": null,
            "grid_template_rows": null,
            "height": null,
            "justify_content": null,
            "justify_items": null,
            "left": null,
            "margin": null,
            "max_height": null,
            "max_width": null,
            "min_height": null,
            "min_width": null,
            "object_fit": null,
            "object_position": null,
            "order": null,
            "overflow": null,
            "overflow_x": null,
            "overflow_y": null,
            "padding": null,
            "right": null,
            "top": null,
            "visibility": null,
            "width": null
          }
        },
        "b06e008df2094cf1ac80e033cb18b5d0": {
          "model_module": "@jupyter-widgets/controls",
          "model_name": "ProgressStyleModel",
          "model_module_version": "1.5.0",
          "state": {
            "_model_module": "@jupyter-widgets/controls",
            "_model_module_version": "1.5.0",
            "_model_name": "ProgressStyleModel",
            "_view_count": null,
            "_view_module": "@jupyter-widgets/base",
            "_view_module_version": "1.2.0",
            "_view_name": "StyleView",
            "bar_color": null,
            "description_width": ""
          }
        },
        "fa80820d9e884efbb5815b049def4742": {
          "model_module": "@jupyter-widgets/base",
          "model_name": "LayoutModel",
          "model_module_version": "1.2.0",
          "state": {
            "_model_module": "@jupyter-widgets/base",
            "_model_module_version": "1.2.0",
            "_model_name": "LayoutModel",
            "_view_count": null,
            "_view_module": "@jupyter-widgets/base",
            "_view_module_version": "1.2.0",
            "_view_name": "LayoutView",
            "align_content": null,
            "align_items": null,
            "align_self": null,
            "border": null,
            "bottom": null,
            "display": null,
            "flex": null,
            "flex_flow": null,
            "grid_area": null,
            "grid_auto_columns": null,
            "grid_auto_flow": null,
            "grid_auto_rows": null,
            "grid_column": null,
            "grid_gap": null,
            "grid_row": null,
            "grid_template_areas": null,
            "grid_template_columns": null,
            "grid_template_rows": null,
            "height": null,
            "justify_content": null,
            "justify_items": null,
            "left": null,
            "margin": null,
            "max_height": null,
            "max_width": null,
            "min_height": null,
            "min_width": null,
            "object_fit": null,
            "object_position": null,
            "order": null,
            "overflow": null,
            "overflow_x": null,
            "overflow_y": null,
            "padding": null,
            "right": null,
            "top": null,
            "visibility": null,
            "width": null
          }
        },
        "29129372e0914969a3fdb10e69182a3b": {
          "model_module": "@jupyter-widgets/controls",
          "model_name": "DescriptionStyleModel",
          "model_module_version": "1.5.0",
          "state": {
            "_model_module": "@jupyter-widgets/controls",
            "_model_module_version": "1.5.0",
            "_model_name": "DescriptionStyleModel",
            "_view_count": null,
            "_view_module": "@jupyter-widgets/base",
            "_view_module_version": "1.2.0",
            "_view_name": "StyleView",
            "description_width": ""
          }
        },
        "bf843b0c64ff4b4aaa2b935e6d933d83": {
          "model_module": "@jupyter-widgets/controls",
          "model_name": "HBoxModel",
          "model_module_version": "1.5.0",
          "state": {
            "_dom_classes": [],
            "_model_module": "@jupyter-widgets/controls",
            "_model_module_version": "1.5.0",
            "_model_name": "HBoxModel",
            "_view_count": null,
            "_view_module": "@jupyter-widgets/controls",
            "_view_module_version": "1.5.0",
            "_view_name": "HBoxView",
            "box_style": "",
            "children": [
              "IPY_MODEL_b60120a0541846c8a8374b0fdaa2ca4f",
              "IPY_MODEL_a63d35e9a3e8423a957b8344ee57287b",
              "IPY_MODEL_9b8509a30a6847a9a7e38080aa6bfe5e"
            ],
            "layout": "IPY_MODEL_9f8c70b859e448b5abfb181f42cc30df"
          }
        },
        "b60120a0541846c8a8374b0fdaa2ca4f": {
          "model_module": "@jupyter-widgets/controls",
          "model_name": "HTMLModel",
          "model_module_version": "1.5.0",
          "state": {
            "_dom_classes": [],
            "_model_module": "@jupyter-widgets/controls",
            "_model_module_version": "1.5.0",
            "_model_name": "HTMLModel",
            "_view_count": null,
            "_view_module": "@jupyter-widgets/controls",
            "_view_module_version": "1.5.0",
            "_view_name": "HTMLView",
            "description": "",
            "description_tooltip": null,
            "layout": "IPY_MODEL_2f5926d2b01d4c5e8abade738d5db1b9",
            "placeholder": "​",
            "style": "IPY_MODEL_0b8d7b67715e4b4d826eab5218de5a3c",
            "value": "train, epoch=5: 100%"
          }
        },
        "a63d35e9a3e8423a957b8344ee57287b": {
          "model_module": "@jupyter-widgets/controls",
          "model_name": "FloatProgressModel",
          "model_module_version": "1.5.0",
          "state": {
            "_dom_classes": [],
            "_model_module": "@jupyter-widgets/controls",
            "_model_module_version": "1.5.0",
            "_model_name": "FloatProgressModel",
            "_view_count": null,
            "_view_module": "@jupyter-widgets/controls",
            "_view_module_version": "1.5.0",
            "_view_name": "ProgressView",
            "bar_style": "success",
            "description": "",
            "description_tooltip": null,
            "layout": "IPY_MODEL_13f521b0f961447a8b28911d3287949c",
            "max": 12666,
            "min": 0,
            "orientation": "horizontal",
            "style": "IPY_MODEL_c4b1c19f829349e88438573917d97eb2",
            "value": 12666
          }
        },
        "9b8509a30a6847a9a7e38080aa6bfe5e": {
          "model_module": "@jupyter-widgets/controls",
          "model_name": "HTMLModel",
          "model_module_version": "1.5.0",
          "state": {
            "_dom_classes": [],
            "_model_module": "@jupyter-widgets/controls",
            "_model_module_version": "1.5.0",
            "_model_name": "HTMLModel",
            "_view_count": null,
            "_view_module": "@jupyter-widgets/controls",
            "_view_module_version": "1.5.0",
            "_view_name": "HTMLView",
            "description": "",
            "description_tooltip": null,
            "layout": "IPY_MODEL_0a4e960200714eedbbe1461ffe9e9115",
            "placeholder": "​",
            "style": "IPY_MODEL_28e12f4bcdc34c20972df02c7d79c15c",
            "value": " 12666/12666 [20:28&lt;00:00, 10.38it/s, loss=0, acc=100, P=100, R=100, F1=100]"
          }
        },
        "9f8c70b859e448b5abfb181f42cc30df": {
          "model_module": "@jupyter-widgets/base",
          "model_name": "LayoutModel",
          "model_module_version": "1.2.0",
          "state": {
            "_model_module": "@jupyter-widgets/base",
            "_model_module_version": "1.2.0",
            "_model_name": "LayoutModel",
            "_view_count": null,
            "_view_module": "@jupyter-widgets/base",
            "_view_module_version": "1.2.0",
            "_view_name": "LayoutView",
            "align_content": null,
            "align_items": null,
            "align_self": null,
            "border": null,
            "bottom": null,
            "display": null,
            "flex": null,
            "flex_flow": null,
            "grid_area": null,
            "grid_auto_columns": null,
            "grid_auto_flow": null,
            "grid_auto_rows": null,
            "grid_column": null,
            "grid_gap": null,
            "grid_row": null,
            "grid_template_areas": null,
            "grid_template_columns": null,
            "grid_template_rows": null,
            "height": null,
            "justify_content": null,
            "justify_items": null,
            "left": null,
            "margin": null,
            "max_height": null,
            "max_width": null,
            "min_height": null,
            "min_width": null,
            "object_fit": null,
            "object_position": null,
            "order": null,
            "overflow": null,
            "overflow_x": null,
            "overflow_y": null,
            "padding": null,
            "right": null,
            "top": null,
            "visibility": null,
            "width": null
          }
        },
        "2f5926d2b01d4c5e8abade738d5db1b9": {
          "model_module": "@jupyter-widgets/base",
          "model_name": "LayoutModel",
          "model_module_version": "1.2.0",
          "state": {
            "_model_module": "@jupyter-widgets/base",
            "_model_module_version": "1.2.0",
            "_model_name": "LayoutModel",
            "_view_count": null,
            "_view_module": "@jupyter-widgets/base",
            "_view_module_version": "1.2.0",
            "_view_name": "LayoutView",
            "align_content": null,
            "align_items": null,
            "align_self": null,
            "border": null,
            "bottom": null,
            "display": null,
            "flex": null,
            "flex_flow": null,
            "grid_area": null,
            "grid_auto_columns": null,
            "grid_auto_flow": null,
            "grid_auto_rows": null,
            "grid_column": null,
            "grid_gap": null,
            "grid_row": null,
            "grid_template_areas": null,
            "grid_template_columns": null,
            "grid_template_rows": null,
            "height": null,
            "justify_content": null,
            "justify_items": null,
            "left": null,
            "margin": null,
            "max_height": null,
            "max_width": null,
            "min_height": null,
            "min_width": null,
            "object_fit": null,
            "object_position": null,
            "order": null,
            "overflow": null,
            "overflow_x": null,
            "overflow_y": null,
            "padding": null,
            "right": null,
            "top": null,
            "visibility": null,
            "width": null
          }
        },
        "0b8d7b67715e4b4d826eab5218de5a3c": {
          "model_module": "@jupyter-widgets/controls",
          "model_name": "DescriptionStyleModel",
          "model_module_version": "1.5.0",
          "state": {
            "_model_module": "@jupyter-widgets/controls",
            "_model_module_version": "1.5.0",
            "_model_name": "DescriptionStyleModel",
            "_view_count": null,
            "_view_module": "@jupyter-widgets/base",
            "_view_module_version": "1.2.0",
            "_view_name": "StyleView",
            "description_width": ""
          }
        },
        "13f521b0f961447a8b28911d3287949c": {
          "model_module": "@jupyter-widgets/base",
          "model_name": "LayoutModel",
          "model_module_version": "1.2.0",
          "state": {
            "_model_module": "@jupyter-widgets/base",
            "_model_module_version": "1.2.0",
            "_model_name": "LayoutModel",
            "_view_count": null,
            "_view_module": "@jupyter-widgets/base",
            "_view_module_version": "1.2.0",
            "_view_name": "LayoutView",
            "align_content": null,
            "align_items": null,
            "align_self": null,
            "border": null,
            "bottom": null,
            "display": null,
            "flex": null,
            "flex_flow": null,
            "grid_area": null,
            "grid_auto_columns": null,
            "grid_auto_flow": null,
            "grid_auto_rows": null,
            "grid_column": null,
            "grid_gap": null,
            "grid_row": null,
            "grid_template_areas": null,
            "grid_template_columns": null,
            "grid_template_rows": null,
            "height": null,
            "justify_content": null,
            "justify_items": null,
            "left": null,
            "margin": null,
            "max_height": null,
            "max_width": null,
            "min_height": null,
            "min_width": null,
            "object_fit": null,
            "object_position": null,
            "order": null,
            "overflow": null,
            "overflow_x": null,
            "overflow_y": null,
            "padding": null,
            "right": null,
            "top": null,
            "visibility": null,
            "width": null
          }
        },
        "c4b1c19f829349e88438573917d97eb2": {
          "model_module": "@jupyter-widgets/controls",
          "model_name": "ProgressStyleModel",
          "model_module_version": "1.5.0",
          "state": {
            "_model_module": "@jupyter-widgets/controls",
            "_model_module_version": "1.5.0",
            "_model_name": "ProgressStyleModel",
            "_view_count": null,
            "_view_module": "@jupyter-widgets/base",
            "_view_module_version": "1.2.0",
            "_view_name": "StyleView",
            "bar_color": null,
            "description_width": ""
          }
        },
        "0a4e960200714eedbbe1461ffe9e9115": {
          "model_module": "@jupyter-widgets/base",
          "model_name": "LayoutModel",
          "model_module_version": "1.2.0",
          "state": {
            "_model_module": "@jupyter-widgets/base",
            "_model_module_version": "1.2.0",
            "_model_name": "LayoutModel",
            "_view_count": null,
            "_view_module": "@jupyter-widgets/base",
            "_view_module_version": "1.2.0",
            "_view_name": "LayoutView",
            "align_content": null,
            "align_items": null,
            "align_self": null,
            "border": null,
            "bottom": null,
            "display": null,
            "flex": null,
            "flex_flow": null,
            "grid_area": null,
            "grid_auto_columns": null,
            "grid_auto_flow": null,
            "grid_auto_rows": null,
            "grid_column": null,
            "grid_gap": null,
            "grid_row": null,
            "grid_template_areas": null,
            "grid_template_columns": null,
            "grid_template_rows": null,
            "height": null,
            "justify_content": null,
            "justify_items": null,
            "left": null,
            "margin": null,
            "max_height": null,
            "max_width": null,
            "min_height": null,
            "min_width": null,
            "object_fit": null,
            "object_position": null,
            "order": null,
            "overflow": null,
            "overflow_x": null,
            "overflow_y": null,
            "padding": null,
            "right": null,
            "top": null,
            "visibility": null,
            "width": null
          }
        },
        "28e12f4bcdc34c20972df02c7d79c15c": {
          "model_module": "@jupyter-widgets/controls",
          "model_name": "DescriptionStyleModel",
          "model_module_version": "1.5.0",
          "state": {
            "_model_module": "@jupyter-widgets/controls",
            "_model_module_version": "1.5.0",
            "_model_name": "DescriptionStyleModel",
            "_view_count": null,
            "_view_module": "@jupyter-widgets/base",
            "_view_module_version": "1.2.0",
            "_view_name": "StyleView",
            "description_width": ""
          }
        },
        "b181ac4e7ccb40a2b2530b6376d0272d": {
          "model_module": "@jupyter-widgets/controls",
          "model_name": "HBoxModel",
          "model_module_version": "1.5.0",
          "state": {
            "_dom_classes": [],
            "_model_module": "@jupyter-widgets/controls",
            "_model_module_version": "1.5.0",
            "_model_name": "HBoxModel",
            "_view_count": null,
            "_view_module": "@jupyter-widgets/controls",
            "_view_module_version": "1.5.0",
            "_view_name": "HBoxView",
            "box_style": "",
            "children": [
              "IPY_MODEL_ded8f49a242241d590eb17b31b9c9918",
              "IPY_MODEL_8b0d44a17c6e4f679bbc0b38187057e9",
              "IPY_MODEL_a4b24bbf9979437895cea1570495a349"
            ],
            "layout": "IPY_MODEL_b0194a161b5649dd8f6acb872774a68f"
          }
        },
        "ded8f49a242241d590eb17b31b9c9918": {
          "model_module": "@jupyter-widgets/controls",
          "model_name": "HTMLModel",
          "model_module_version": "1.5.0",
          "state": {
            "_dom_classes": [],
            "_model_module": "@jupyter-widgets/controls",
            "_model_module_version": "1.5.0",
            "_model_name": "HTMLModel",
            "_view_count": null,
            "_view_module": "@jupyter-widgets/controls",
            "_view_module_version": "1.5.0",
            "_view_name": "HTMLView",
            "description": "",
            "description_tooltip": null,
            "layout": "IPY_MODEL_e8566ed34fe242ffbf30835efb1dcfb6",
            "placeholder": "​",
            "style": "IPY_MODEL_3b7e11c8f1be4db1b3f20b3eb4d0d637",
            "value": "validate, epoch=5: 100%"
          }
        },
        "8b0d44a17c6e4f679bbc0b38187057e9": {
          "model_module": "@jupyter-widgets/controls",
          "model_name": "FloatProgressModel",
          "model_module_version": "1.5.0",
          "state": {
            "_dom_classes": [],
            "_model_module": "@jupyter-widgets/controls",
            "_model_module_version": "1.5.0",
            "_model_name": "FloatProgressModel",
            "_view_count": null,
            "_view_module": "@jupyter-widgets/controls",
            "_view_module_version": "1.5.0",
            "_view_name": "ProgressView",
            "bar_style": "success",
            "description": "",
            "description_tooltip": null,
            "layout": "IPY_MODEL_72f4bc1f7ab540418a6246a495d6f6a5",
            "max": 2713,
            "min": 0,
            "orientation": "horizontal",
            "style": "IPY_MODEL_668a295c18174b5192f62988d276c9e9",
            "value": 2713
          }
        },
        "a4b24bbf9979437895cea1570495a349": {
          "model_module": "@jupyter-widgets/controls",
          "model_name": "HTMLModel",
          "model_module_version": "1.5.0",
          "state": {
            "_dom_classes": [],
            "_model_module": "@jupyter-widgets/controls",
            "_model_module_version": "1.5.0",
            "_model_name": "HTMLModel",
            "_view_count": null,
            "_view_module": "@jupyter-widgets/controls",
            "_view_module_version": "1.5.0",
            "_view_name": "HTMLView",
            "description": "",
            "description_tooltip": null,
            "layout": "IPY_MODEL_54481d71c47949aaa74a00b46564ea91",
            "placeholder": "​",
            "style": "IPY_MODEL_aeb40014934a4c9a84148bfb677e3bd6",
            "value": " 2713/2713 [00:38&lt;00:00, 75.60it/s, loss=0, acc=100, P=100, R=100, F1=100]"
          }
        },
        "b0194a161b5649dd8f6acb872774a68f": {
          "model_module": "@jupyter-widgets/base",
          "model_name": "LayoutModel",
          "model_module_version": "1.2.0",
          "state": {
            "_model_module": "@jupyter-widgets/base",
            "_model_module_version": "1.2.0",
            "_model_name": "LayoutModel",
            "_view_count": null,
            "_view_module": "@jupyter-widgets/base",
            "_view_module_version": "1.2.0",
            "_view_name": "LayoutView",
            "align_content": null,
            "align_items": null,
            "align_self": null,
            "border": null,
            "bottom": null,
            "display": null,
            "flex": null,
            "flex_flow": null,
            "grid_area": null,
            "grid_auto_columns": null,
            "grid_auto_flow": null,
            "grid_auto_rows": null,
            "grid_column": null,
            "grid_gap": null,
            "grid_row": null,
            "grid_template_areas": null,
            "grid_template_columns": null,
            "grid_template_rows": null,
            "height": null,
            "justify_content": null,
            "justify_items": null,
            "left": null,
            "margin": null,
            "max_height": null,
            "max_width": null,
            "min_height": null,
            "min_width": null,
            "object_fit": null,
            "object_position": null,
            "order": null,
            "overflow": null,
            "overflow_x": null,
            "overflow_y": null,
            "padding": null,
            "right": null,
            "top": null,
            "visibility": null,
            "width": null
          }
        },
        "e8566ed34fe242ffbf30835efb1dcfb6": {
          "model_module": "@jupyter-widgets/base",
          "model_name": "LayoutModel",
          "model_module_version": "1.2.0",
          "state": {
            "_model_module": "@jupyter-widgets/base",
            "_model_module_version": "1.2.0",
            "_model_name": "LayoutModel",
            "_view_count": null,
            "_view_module": "@jupyter-widgets/base",
            "_view_module_version": "1.2.0",
            "_view_name": "LayoutView",
            "align_content": null,
            "align_items": null,
            "align_self": null,
            "border": null,
            "bottom": null,
            "display": null,
            "flex": null,
            "flex_flow": null,
            "grid_area": null,
            "grid_auto_columns": null,
            "grid_auto_flow": null,
            "grid_auto_rows": null,
            "grid_column": null,
            "grid_gap": null,
            "grid_row": null,
            "grid_template_areas": null,
            "grid_template_columns": null,
            "grid_template_rows": null,
            "height": null,
            "justify_content": null,
            "justify_items": null,
            "left": null,
            "margin": null,
            "max_height": null,
            "max_width": null,
            "min_height": null,
            "min_width": null,
            "object_fit": null,
            "object_position": null,
            "order": null,
            "overflow": null,
            "overflow_x": null,
            "overflow_y": null,
            "padding": null,
            "right": null,
            "top": null,
            "visibility": null,
            "width": null
          }
        },
        "3b7e11c8f1be4db1b3f20b3eb4d0d637": {
          "model_module": "@jupyter-widgets/controls",
          "model_name": "DescriptionStyleModel",
          "model_module_version": "1.5.0",
          "state": {
            "_model_module": "@jupyter-widgets/controls",
            "_model_module_version": "1.5.0",
            "_model_name": "DescriptionStyleModel",
            "_view_count": null,
            "_view_module": "@jupyter-widgets/base",
            "_view_module_version": "1.2.0",
            "_view_name": "StyleView",
            "description_width": ""
          }
        },
        "72f4bc1f7ab540418a6246a495d6f6a5": {
          "model_module": "@jupyter-widgets/base",
          "model_name": "LayoutModel",
          "model_module_version": "1.2.0",
          "state": {
            "_model_module": "@jupyter-widgets/base",
            "_model_module_version": "1.2.0",
            "_model_name": "LayoutModel",
            "_view_count": null,
            "_view_module": "@jupyter-widgets/base",
            "_view_module_version": "1.2.0",
            "_view_name": "LayoutView",
            "align_content": null,
            "align_items": null,
            "align_self": null,
            "border": null,
            "bottom": null,
            "display": null,
            "flex": null,
            "flex_flow": null,
            "grid_area": null,
            "grid_auto_columns": null,
            "grid_auto_flow": null,
            "grid_auto_rows": null,
            "grid_column": null,
            "grid_gap": null,
            "grid_row": null,
            "grid_template_areas": null,
            "grid_template_columns": null,
            "grid_template_rows": null,
            "height": null,
            "justify_content": null,
            "justify_items": null,
            "left": null,
            "margin": null,
            "max_height": null,
            "max_width": null,
            "min_height": null,
            "min_width": null,
            "object_fit": null,
            "object_position": null,
            "order": null,
            "overflow": null,
            "overflow_x": null,
            "overflow_y": null,
            "padding": null,
            "right": null,
            "top": null,
            "visibility": null,
            "width": null
          }
        },
        "668a295c18174b5192f62988d276c9e9": {
          "model_module": "@jupyter-widgets/controls",
          "model_name": "ProgressStyleModel",
          "model_module_version": "1.5.0",
          "state": {
            "_model_module": "@jupyter-widgets/controls",
            "_model_module_version": "1.5.0",
            "_model_name": "ProgressStyleModel",
            "_view_count": null,
            "_view_module": "@jupyter-widgets/base",
            "_view_module_version": "1.2.0",
            "_view_name": "StyleView",
            "bar_color": null,
            "description_width": ""
          }
        },
        "54481d71c47949aaa74a00b46564ea91": {
          "model_module": "@jupyter-widgets/base",
          "model_name": "LayoutModel",
          "model_module_version": "1.2.0",
          "state": {
            "_model_module": "@jupyter-widgets/base",
            "_model_module_version": "1.2.0",
            "_model_name": "LayoutModel",
            "_view_count": null,
            "_view_module": "@jupyter-widgets/base",
            "_view_module_version": "1.2.0",
            "_view_name": "LayoutView",
            "align_content": null,
            "align_items": null,
            "align_self": null,
            "border": null,
            "bottom": null,
            "display": null,
            "flex": null,
            "flex_flow": null,
            "grid_area": null,
            "grid_auto_columns": null,
            "grid_auto_flow": null,
            "grid_auto_rows": null,
            "grid_column": null,
            "grid_gap": null,
            "grid_row": null,
            "grid_template_areas": null,
            "grid_template_columns": null,
            "grid_template_rows": null,
            "height": null,
            "justify_content": null,
            "justify_items": null,
            "left": null,
            "margin": null,
            "max_height": null,
            "max_width": null,
            "min_height": null,
            "min_width": null,
            "object_fit": null,
            "object_position": null,
            "order": null,
            "overflow": null,
            "overflow_x": null,
            "overflow_y": null,
            "padding": null,
            "right": null,
            "top": null,
            "visibility": null,
            "width": null
          }
        },
        "aeb40014934a4c9a84148bfb677e3bd6": {
          "model_module": "@jupyter-widgets/controls",
          "model_name": "DescriptionStyleModel",
          "model_module_version": "1.5.0",
          "state": {
            "_model_module": "@jupyter-widgets/controls",
            "_model_module_version": "1.5.0",
            "_model_name": "DescriptionStyleModel",
            "_view_count": null,
            "_view_module": "@jupyter-widgets/base",
            "_view_module_version": "1.2.0",
            "_view_name": "StyleView",
            "description_width": ""
          }
        },
        "fc6587d508c840a38ff773bddf03c6d6": {
          "model_module": "@jupyter-widgets/controls",
          "model_name": "HBoxModel",
          "model_module_version": "1.5.0",
          "state": {
            "_dom_classes": [],
            "_model_module": "@jupyter-widgets/controls",
            "_model_module_version": "1.5.0",
            "_model_name": "HBoxModel",
            "_view_count": null,
            "_view_module": "@jupyter-widgets/controls",
            "_view_module_version": "1.5.0",
            "_view_name": "HBoxView",
            "box_style": "",
            "children": [
              "IPY_MODEL_2dcf85fcae974f94a683f9309f460d91",
              "IPY_MODEL_2a020898c9be48e094c95f61685f1913",
              "IPY_MODEL_6d8511a4600b48c7b0b38967a32c2841"
            ],
            "layout": "IPY_MODEL_992400a9712b428a91f83a702b0056c1"
          }
        },
        "2dcf85fcae974f94a683f9309f460d91": {
          "model_module": "@jupyter-widgets/controls",
          "model_name": "HTMLModel",
          "model_module_version": "1.5.0",
          "state": {
            "_dom_classes": [],
            "_model_module": "@jupyter-widgets/controls",
            "_model_module_version": "1.5.0",
            "_model_name": "HTMLModel",
            "_view_count": null,
            "_view_module": "@jupyter-widgets/controls",
            "_view_module_version": "1.5.0",
            "_view_name": "HTMLView",
            "description": "",
            "description_tooltip": null,
            "layout": "IPY_MODEL_78e3488856634e11848e5df091f862af",
            "placeholder": "​",
            "style": "IPY_MODEL_6f866b2ba90149428e0771a082dfc8f5",
            "value": "validate, epoch=evaluate: 100%"
          }
        },
        "2a020898c9be48e094c95f61685f1913": {
          "model_module": "@jupyter-widgets/controls",
          "model_name": "FloatProgressModel",
          "model_module_version": "1.5.0",
          "state": {
            "_dom_classes": [],
            "_model_module": "@jupyter-widgets/controls",
            "_model_module_version": "1.5.0",
            "_model_name": "FloatProgressModel",
            "_view_count": null,
            "_view_module": "@jupyter-widgets/controls",
            "_view_module_version": "1.5.0",
            "_view_name": "ProgressView",
            "bar_style": "success",
            "description": "",
            "description_tooltip": null,
            "layout": "IPY_MODEL_1db6fe91a3894c1a8f0f7072263af0ed",
            "max": 2713,
            "min": 0,
            "orientation": "horizontal",
            "style": "IPY_MODEL_507dc6b441c84bb8bb5b3b2078489279",
            "value": 2713
          }
        },
        "6d8511a4600b48c7b0b38967a32c2841": {
          "model_module": "@jupyter-widgets/controls",
          "model_name": "HTMLModel",
          "model_module_version": "1.5.0",
          "state": {
            "_dom_classes": [],
            "_model_module": "@jupyter-widgets/controls",
            "_model_module_version": "1.5.0",
            "_model_name": "HTMLModel",
            "_view_count": null,
            "_view_module": "@jupyter-widgets/controls",
            "_view_module_version": "1.5.0",
            "_view_name": "HTMLView",
            "description": "",
            "description_tooltip": null,
            "layout": "IPY_MODEL_77aacba1aac641c485dc385b0490812d",
            "placeholder": "​",
            "style": "IPY_MODEL_618faee9419d4764a30a61b7a26da9a9",
            "value": " 2713/2713 [00:38&lt;00:00, 74.44it/s, loss=0.0001, acc=100, P=100, R=100, F1=100]"
          }
        },
        "992400a9712b428a91f83a702b0056c1": {
          "model_module": "@jupyter-widgets/base",
          "model_name": "LayoutModel",
          "model_module_version": "1.2.0",
          "state": {
            "_model_module": "@jupyter-widgets/base",
            "_model_module_version": "1.2.0",
            "_model_name": "LayoutModel",
            "_view_count": null,
            "_view_module": "@jupyter-widgets/base",
            "_view_module_version": "1.2.0",
            "_view_name": "LayoutView",
            "align_content": null,
            "align_items": null,
            "align_self": null,
            "border": null,
            "bottom": null,
            "display": null,
            "flex": null,
            "flex_flow": null,
            "grid_area": null,
            "grid_auto_columns": null,
            "grid_auto_flow": null,
            "grid_auto_rows": null,
            "grid_column": null,
            "grid_gap": null,
            "grid_row": null,
            "grid_template_areas": null,
            "grid_template_columns": null,
            "grid_template_rows": null,
            "height": null,
            "justify_content": null,
            "justify_items": null,
            "left": null,
            "margin": null,
            "max_height": null,
            "max_width": null,
            "min_height": null,
            "min_width": null,
            "object_fit": null,
            "object_position": null,
            "order": null,
            "overflow": null,
            "overflow_x": null,
            "overflow_y": null,
            "padding": null,
            "right": null,
            "top": null,
            "visibility": null,
            "width": null
          }
        },
        "78e3488856634e11848e5df091f862af": {
          "model_module": "@jupyter-widgets/base",
          "model_name": "LayoutModel",
          "model_module_version": "1.2.0",
          "state": {
            "_model_module": "@jupyter-widgets/base",
            "_model_module_version": "1.2.0",
            "_model_name": "LayoutModel",
            "_view_count": null,
            "_view_module": "@jupyter-widgets/base",
            "_view_module_version": "1.2.0",
            "_view_name": "LayoutView",
            "align_content": null,
            "align_items": null,
            "align_self": null,
            "border": null,
            "bottom": null,
            "display": null,
            "flex": null,
            "flex_flow": null,
            "grid_area": null,
            "grid_auto_columns": null,
            "grid_auto_flow": null,
            "grid_auto_rows": null,
            "grid_column": null,
            "grid_gap": null,
            "grid_row": null,
            "grid_template_areas": null,
            "grid_template_columns": null,
            "grid_template_rows": null,
            "height": null,
            "justify_content": null,
            "justify_items": null,
            "left": null,
            "margin": null,
            "max_height": null,
            "max_width": null,
            "min_height": null,
            "min_width": null,
            "object_fit": null,
            "object_position": null,
            "order": null,
            "overflow": null,
            "overflow_x": null,
            "overflow_y": null,
            "padding": null,
            "right": null,
            "top": null,
            "visibility": null,
            "width": null
          }
        },
        "6f866b2ba90149428e0771a082dfc8f5": {
          "model_module": "@jupyter-widgets/controls",
          "model_name": "DescriptionStyleModel",
          "model_module_version": "1.5.0",
          "state": {
            "_model_module": "@jupyter-widgets/controls",
            "_model_module_version": "1.5.0",
            "_model_name": "DescriptionStyleModel",
            "_view_count": null,
            "_view_module": "@jupyter-widgets/base",
            "_view_module_version": "1.2.0",
            "_view_name": "StyleView",
            "description_width": ""
          }
        },
        "1db6fe91a3894c1a8f0f7072263af0ed": {
          "model_module": "@jupyter-widgets/base",
          "model_name": "LayoutModel",
          "model_module_version": "1.2.0",
          "state": {
            "_model_module": "@jupyter-widgets/base",
            "_model_module_version": "1.2.0",
            "_model_name": "LayoutModel",
            "_view_count": null,
            "_view_module": "@jupyter-widgets/base",
            "_view_module_version": "1.2.0",
            "_view_name": "LayoutView",
            "align_content": null,
            "align_items": null,
            "align_self": null,
            "border": null,
            "bottom": null,
            "display": null,
            "flex": null,
            "flex_flow": null,
            "grid_area": null,
            "grid_auto_columns": null,
            "grid_auto_flow": null,
            "grid_auto_rows": null,
            "grid_column": null,
            "grid_gap": null,
            "grid_row": null,
            "grid_template_areas": null,
            "grid_template_columns": null,
            "grid_template_rows": null,
            "height": null,
            "justify_content": null,
            "justify_items": null,
            "left": null,
            "margin": null,
            "max_height": null,
            "max_width": null,
            "min_height": null,
            "min_width": null,
            "object_fit": null,
            "object_position": null,
            "order": null,
            "overflow": null,
            "overflow_x": null,
            "overflow_y": null,
            "padding": null,
            "right": null,
            "top": null,
            "visibility": null,
            "width": null
          }
        },
        "507dc6b441c84bb8bb5b3b2078489279": {
          "model_module": "@jupyter-widgets/controls",
          "model_name": "ProgressStyleModel",
          "model_module_version": "1.5.0",
          "state": {
            "_model_module": "@jupyter-widgets/controls",
            "_model_module_version": "1.5.0",
            "_model_name": "ProgressStyleModel",
            "_view_count": null,
            "_view_module": "@jupyter-widgets/base",
            "_view_module_version": "1.2.0",
            "_view_name": "StyleView",
            "bar_color": null,
            "description_width": ""
          }
        },
        "77aacba1aac641c485dc385b0490812d": {
          "model_module": "@jupyter-widgets/base",
          "model_name": "LayoutModel",
          "model_module_version": "1.2.0",
          "state": {
            "_model_module": "@jupyter-widgets/base",
            "_model_module_version": "1.2.0",
            "_model_name": "LayoutModel",
            "_view_count": null,
            "_view_module": "@jupyter-widgets/base",
            "_view_module_version": "1.2.0",
            "_view_name": "LayoutView",
            "align_content": null,
            "align_items": null,
            "align_self": null,
            "border": null,
            "bottom": null,
            "display": null,
            "flex": null,
            "flex_flow": null,
            "grid_area": null,
            "grid_auto_columns": null,
            "grid_auto_flow": null,
            "grid_auto_rows": null,
            "grid_column": null,
            "grid_gap": null,
            "grid_row": null,
            "grid_template_areas": null,
            "grid_template_columns": null,
            "grid_template_rows": null,
            "height": null,
            "justify_content": null,
            "justify_items": null,
            "left": null,
            "margin": null,
            "max_height": null,
            "max_width": null,
            "min_height": null,
            "min_width": null,
            "object_fit": null,
            "object_position": null,
            "order": null,
            "overflow": null,
            "overflow_x": null,
            "overflow_y": null,
            "padding": null,
            "right": null,
            "top": null,
            "visibility": null,
            "width": null
          }
        },
        "618faee9419d4764a30a61b7a26da9a9": {
          "model_module": "@jupyter-widgets/controls",
          "model_name": "DescriptionStyleModel",
          "model_module_version": "1.5.0",
          "state": {
            "_model_module": "@jupyter-widgets/controls",
            "_model_module_version": "1.5.0",
            "_model_name": "DescriptionStyleModel",
            "_view_count": null,
            "_view_module": "@jupyter-widgets/base",
            "_view_module_version": "1.2.0",
            "_view_name": "StyleView",
            "description_width": ""
          }
        }
      }
    }
  },
  "nbformat": 4,
  "nbformat_minor": 0
}