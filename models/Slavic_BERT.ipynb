{
  "nbformat": 4,
  "nbformat_minor": 0,
  "metadata": {
    "colab": {
      "name": "Slavic BERT.ipynb",
      "provenance": [],
      "collapsed_sections": [],
      "machine_shape": "hm"
    },
    "kernelspec": {
      "name": "python3",
      "display_name": "Python 3"
    },
    "language_info": {
      "name": "python"
    },
    "accelerator": "GPU",
    "widgets": {
      "application/vnd.jupyter.widget-state+json": {
        "9f584c257f3b4abc9813346c323e3835": {
          "model_module": "@jupyter-widgets/controls",
          "model_name": "HBoxModel",
          "model_module_version": "1.5.0",
          "state": {
            "_dom_classes": [],
            "_model_module": "@jupyter-widgets/controls",
            "_model_module_version": "1.5.0",
            "_model_name": "HBoxModel",
            "_view_count": null,
            "_view_module": "@jupyter-widgets/controls",
            "_view_module_version": "1.5.0",
            "_view_name": "HBoxView",
            "box_style": "",
            "children": [
              "IPY_MODEL_a62c283827bc401192e8c762a043cf69",
              "IPY_MODEL_e28a0b58c3644764bdc04d9e07022c06",
              "IPY_MODEL_8f1224f2a8aa45c6b402da71b275a53a"
            ],
            "layout": "IPY_MODEL_f0cad69fe6274d869da8396e35bd30ea"
          }
        },
        "a62c283827bc401192e8c762a043cf69": {
          "model_module": "@jupyter-widgets/controls",
          "model_name": "HTMLModel",
          "model_module_version": "1.5.0",
          "state": {
            "_dom_classes": [],
            "_model_module": "@jupyter-widgets/controls",
            "_model_module_version": "1.5.0",
            "_model_name": "HTMLModel",
            "_view_count": null,
            "_view_module": "@jupyter-widgets/controls",
            "_view_module_version": "1.5.0",
            "_view_name": "HTMLView",
            "description": "",
            "description_tooltip": null,
            "layout": "IPY_MODEL_f2e0794aac4446afb9d7b5f58fd9513c",
            "placeholder": "​",
            "style": "IPY_MODEL_24639c3f4233400d8a084f87832d61f3",
            "value": "Downloading: 100%"
          }
        },
        "e28a0b58c3644764bdc04d9e07022c06": {
          "model_module": "@jupyter-widgets/controls",
          "model_name": "FloatProgressModel",
          "model_module_version": "1.5.0",
          "state": {
            "_dom_classes": [],
            "_model_module": "@jupyter-widgets/controls",
            "_model_module_version": "1.5.0",
            "_model_name": "FloatProgressModel",
            "_view_count": null,
            "_view_module": "@jupyter-widgets/controls",
            "_view_module_version": "1.5.0",
            "_view_name": "ProgressView",
            "bar_style": "success",
            "description": "",
            "description_tooltip": null,
            "layout": "IPY_MODEL_2bacdf3b95154514aeffa362f14609fc",
            "max": 24,
            "min": 0,
            "orientation": "horizontal",
            "style": "IPY_MODEL_79987c2ddae644bbaeee97c3f4be7938",
            "value": 24
          }
        },
        "8f1224f2a8aa45c6b402da71b275a53a": {
          "model_module": "@jupyter-widgets/controls",
          "model_name": "HTMLModel",
          "model_module_version": "1.5.0",
          "state": {
            "_dom_classes": [],
            "_model_module": "@jupyter-widgets/controls",
            "_model_module_version": "1.5.0",
            "_model_name": "HTMLModel",
            "_view_count": null,
            "_view_module": "@jupyter-widgets/controls",
            "_view_module_version": "1.5.0",
            "_view_name": "HTMLView",
            "description": "",
            "description_tooltip": null,
            "layout": "IPY_MODEL_e9ae34ddfec84460a1f6f9c38d182e05",
            "placeholder": "​",
            "style": "IPY_MODEL_ec600188aa6a43e99080c8c37f6a3230",
            "value": " 24.0/24.0 [00:00&lt;00:00, 364B/s]"
          }
        },
        "f0cad69fe6274d869da8396e35bd30ea": {
          "model_module": "@jupyter-widgets/base",
          "model_name": "LayoutModel",
          "model_module_version": "1.2.0",
          "state": {
            "_model_module": "@jupyter-widgets/base",
            "_model_module_version": "1.2.0",
            "_model_name": "LayoutModel",
            "_view_count": null,
            "_view_module": "@jupyter-widgets/base",
            "_view_module_version": "1.2.0",
            "_view_name": "LayoutView",
            "align_content": null,
            "align_items": null,
            "align_self": null,
            "border": null,
            "bottom": null,
            "display": null,
            "flex": null,
            "flex_flow": null,
            "grid_area": null,
            "grid_auto_columns": null,
            "grid_auto_flow": null,
            "grid_auto_rows": null,
            "grid_column": null,
            "grid_gap": null,
            "grid_row": null,
            "grid_template_areas": null,
            "grid_template_columns": null,
            "grid_template_rows": null,
            "height": null,
            "justify_content": null,
            "justify_items": null,
            "left": null,
            "margin": null,
            "max_height": null,
            "max_width": null,
            "min_height": null,
            "min_width": null,
            "object_fit": null,
            "object_position": null,
            "order": null,
            "overflow": null,
            "overflow_x": null,
            "overflow_y": null,
            "padding": null,
            "right": null,
            "top": null,
            "visibility": null,
            "width": null
          }
        },
        "f2e0794aac4446afb9d7b5f58fd9513c": {
          "model_module": "@jupyter-widgets/base",
          "model_name": "LayoutModel",
          "model_module_version": "1.2.0",
          "state": {
            "_model_module": "@jupyter-widgets/base",
            "_model_module_version": "1.2.0",
            "_model_name": "LayoutModel",
            "_view_count": null,
            "_view_module": "@jupyter-widgets/base",
            "_view_module_version": "1.2.0",
            "_view_name": "LayoutView",
            "align_content": null,
            "align_items": null,
            "align_self": null,
            "border": null,
            "bottom": null,
            "display": null,
            "flex": null,
            "flex_flow": null,
            "grid_area": null,
            "grid_auto_columns": null,
            "grid_auto_flow": null,
            "grid_auto_rows": null,
            "grid_column": null,
            "grid_gap": null,
            "grid_row": null,
            "grid_template_areas": null,
            "grid_template_columns": null,
            "grid_template_rows": null,
            "height": null,
            "justify_content": null,
            "justify_items": null,
            "left": null,
            "margin": null,
            "max_height": null,
            "max_width": null,
            "min_height": null,
            "min_width": null,
            "object_fit": null,
            "object_position": null,
            "order": null,
            "overflow": null,
            "overflow_x": null,
            "overflow_y": null,
            "padding": null,
            "right": null,
            "top": null,
            "visibility": null,
            "width": null
          }
        },
        "24639c3f4233400d8a084f87832d61f3": {
          "model_module": "@jupyter-widgets/controls",
          "model_name": "DescriptionStyleModel",
          "model_module_version": "1.5.0",
          "state": {
            "_model_module": "@jupyter-widgets/controls",
            "_model_module_version": "1.5.0",
            "_model_name": "DescriptionStyleModel",
            "_view_count": null,
            "_view_module": "@jupyter-widgets/base",
            "_view_module_version": "1.2.0",
            "_view_name": "StyleView",
            "description_width": ""
          }
        },
        "2bacdf3b95154514aeffa362f14609fc": {
          "model_module": "@jupyter-widgets/base",
          "model_name": "LayoutModel",
          "model_module_version": "1.2.0",
          "state": {
            "_model_module": "@jupyter-widgets/base",
            "_model_module_version": "1.2.0",
            "_model_name": "LayoutModel",
            "_view_count": null,
            "_view_module": "@jupyter-widgets/base",
            "_view_module_version": "1.2.0",
            "_view_name": "LayoutView",
            "align_content": null,
            "align_items": null,
            "align_self": null,
            "border": null,
            "bottom": null,
            "display": null,
            "flex": null,
            "flex_flow": null,
            "grid_area": null,
            "grid_auto_columns": null,
            "grid_auto_flow": null,
            "grid_auto_rows": null,
            "grid_column": null,
            "grid_gap": null,
            "grid_row": null,
            "grid_template_areas": null,
            "grid_template_columns": null,
            "grid_template_rows": null,
            "height": null,
            "justify_content": null,
            "justify_items": null,
            "left": null,
            "margin": null,
            "max_height": null,
            "max_width": null,
            "min_height": null,
            "min_width": null,
            "object_fit": null,
            "object_position": null,
            "order": null,
            "overflow": null,
            "overflow_x": null,
            "overflow_y": null,
            "padding": null,
            "right": null,
            "top": null,
            "visibility": null,
            "width": null
          }
        },
        "79987c2ddae644bbaeee97c3f4be7938": {
          "model_module": "@jupyter-widgets/controls",
          "model_name": "ProgressStyleModel",
          "model_module_version": "1.5.0",
          "state": {
            "_model_module": "@jupyter-widgets/controls",
            "_model_module_version": "1.5.0",
            "_model_name": "ProgressStyleModel",
            "_view_count": null,
            "_view_module": "@jupyter-widgets/base",
            "_view_module_version": "1.2.0",
            "_view_name": "StyleView",
            "bar_color": null,
            "description_width": ""
          }
        },
        "e9ae34ddfec84460a1f6f9c38d182e05": {
          "model_module": "@jupyter-widgets/base",
          "model_name": "LayoutModel",
          "model_module_version": "1.2.0",
          "state": {
            "_model_module": "@jupyter-widgets/base",
            "_model_module_version": "1.2.0",
            "_model_name": "LayoutModel",
            "_view_count": null,
            "_view_module": "@jupyter-widgets/base",
            "_view_module_version": "1.2.0",
            "_view_name": "LayoutView",
            "align_content": null,
            "align_items": null,
            "align_self": null,
            "border": null,
            "bottom": null,
            "display": null,
            "flex": null,
            "flex_flow": null,
            "grid_area": null,
            "grid_auto_columns": null,
            "grid_auto_flow": null,
            "grid_auto_rows": null,
            "grid_column": null,
            "grid_gap": null,
            "grid_row": null,
            "grid_template_areas": null,
            "grid_template_columns": null,
            "grid_template_rows": null,
            "height": null,
            "justify_content": null,
            "justify_items": null,
            "left": null,
            "margin": null,
            "max_height": null,
            "max_width": null,
            "min_height": null,
            "min_width": null,
            "object_fit": null,
            "object_position": null,
            "order": null,
            "overflow": null,
            "overflow_x": null,
            "overflow_y": null,
            "padding": null,
            "right": null,
            "top": null,
            "visibility": null,
            "width": null
          }
        },
        "ec600188aa6a43e99080c8c37f6a3230": {
          "model_module": "@jupyter-widgets/controls",
          "model_name": "DescriptionStyleModel",
          "model_module_version": "1.5.0",
          "state": {
            "_model_module": "@jupyter-widgets/controls",
            "_model_module_version": "1.5.0",
            "_model_name": "DescriptionStyleModel",
            "_view_count": null,
            "_view_module": "@jupyter-widgets/base",
            "_view_module_version": "1.2.0",
            "_view_name": "StyleView",
            "description_width": ""
          }
        },
        "b7e84cb57e324fbeb6d5d3dee147aa5f": {
          "model_module": "@jupyter-widgets/controls",
          "model_name": "HBoxModel",
          "model_module_version": "1.5.0",
          "state": {
            "_dom_classes": [],
            "_model_module": "@jupyter-widgets/controls",
            "_model_module_version": "1.5.0",
            "_model_name": "HBoxModel",
            "_view_count": null,
            "_view_module": "@jupyter-widgets/controls",
            "_view_module_version": "1.5.0",
            "_view_name": "HBoxView",
            "box_style": "",
            "children": [
              "IPY_MODEL_420af36f0a464149b2d830ec299435cf",
              "IPY_MODEL_0a41d636f57749bc8dee4a7bbdee83d3",
              "IPY_MODEL_4927429d6fc14454b17f8f14f78e8b03"
            ],
            "layout": "IPY_MODEL_b8c52cb3f4c044faa4de7d3f7f6697de"
          }
        },
        "420af36f0a464149b2d830ec299435cf": {
          "model_module": "@jupyter-widgets/controls",
          "model_name": "HTMLModel",
          "model_module_version": "1.5.0",
          "state": {
            "_dom_classes": [],
            "_model_module": "@jupyter-widgets/controls",
            "_model_module_version": "1.5.0",
            "_model_name": "HTMLModel",
            "_view_count": null,
            "_view_module": "@jupyter-widgets/controls",
            "_view_module_version": "1.5.0",
            "_view_name": "HTMLView",
            "description": "",
            "description_tooltip": null,
            "layout": "IPY_MODEL_82eb80579d2143dab90ecfccde81ba4f",
            "placeholder": "​",
            "style": "IPY_MODEL_5f004c61312248abb67217f96d7e7b7e",
            "value": "Downloading: 100%"
          }
        },
        "0a41d636f57749bc8dee4a7bbdee83d3": {
          "model_module": "@jupyter-widgets/controls",
          "model_name": "FloatProgressModel",
          "model_module_version": "1.5.0",
          "state": {
            "_dom_classes": [],
            "_model_module": "@jupyter-widgets/controls",
            "_model_module_version": "1.5.0",
            "_model_name": "FloatProgressModel",
            "_view_count": null,
            "_view_module": "@jupyter-widgets/controls",
            "_view_module_version": "1.5.0",
            "_view_name": "ProgressView",
            "bar_style": "success",
            "description": "",
            "description_tooltip": null,
            "layout": "IPY_MODEL_29b76273f75b44f29d795275f0e445f8",
            "max": 642,
            "min": 0,
            "orientation": "horizontal",
            "style": "IPY_MODEL_7b841ce74a3f41b49f17ef6bc5f5ec2b",
            "value": 642
          }
        },
        "4927429d6fc14454b17f8f14f78e8b03": {
          "model_module": "@jupyter-widgets/controls",
          "model_name": "HTMLModel",
          "model_module_version": "1.5.0",
          "state": {
            "_dom_classes": [],
            "_model_module": "@jupyter-widgets/controls",
            "_model_module_version": "1.5.0",
            "_model_name": "HTMLModel",
            "_view_count": null,
            "_view_module": "@jupyter-widgets/controls",
            "_view_module_version": "1.5.0",
            "_view_name": "HTMLView",
            "description": "",
            "description_tooltip": null,
            "layout": "IPY_MODEL_ad36374e923d4d419a91bb3cb67c2922",
            "placeholder": "​",
            "style": "IPY_MODEL_7faf2ec145de4accbc8928a0c91cf366",
            "value": " 642/642 [00:00&lt;00:00, 12.8kB/s]"
          }
        },
        "b8c52cb3f4c044faa4de7d3f7f6697de": {
          "model_module": "@jupyter-widgets/base",
          "model_name": "LayoutModel",
          "model_module_version": "1.2.0",
          "state": {
            "_model_module": "@jupyter-widgets/base",
            "_model_module_version": "1.2.0",
            "_model_name": "LayoutModel",
            "_view_count": null,
            "_view_module": "@jupyter-widgets/base",
            "_view_module_version": "1.2.0",
            "_view_name": "LayoutView",
            "align_content": null,
            "align_items": null,
            "align_self": null,
            "border": null,
            "bottom": null,
            "display": null,
            "flex": null,
            "flex_flow": null,
            "grid_area": null,
            "grid_auto_columns": null,
            "grid_auto_flow": null,
            "grid_auto_rows": null,
            "grid_column": null,
            "grid_gap": null,
            "grid_row": null,
            "grid_template_areas": null,
            "grid_template_columns": null,
            "grid_template_rows": null,
            "height": null,
            "justify_content": null,
            "justify_items": null,
            "left": null,
            "margin": null,
            "max_height": null,
            "max_width": null,
            "min_height": null,
            "min_width": null,
            "object_fit": null,
            "object_position": null,
            "order": null,
            "overflow": null,
            "overflow_x": null,
            "overflow_y": null,
            "padding": null,
            "right": null,
            "top": null,
            "visibility": null,
            "width": null
          }
        },
        "82eb80579d2143dab90ecfccde81ba4f": {
          "model_module": "@jupyter-widgets/base",
          "model_name": "LayoutModel",
          "model_module_version": "1.2.0",
          "state": {
            "_model_module": "@jupyter-widgets/base",
            "_model_module_version": "1.2.0",
            "_model_name": "LayoutModel",
            "_view_count": null,
            "_view_module": "@jupyter-widgets/base",
            "_view_module_version": "1.2.0",
            "_view_name": "LayoutView",
            "align_content": null,
            "align_items": null,
            "align_self": null,
            "border": null,
            "bottom": null,
            "display": null,
            "flex": null,
            "flex_flow": null,
            "grid_area": null,
            "grid_auto_columns": null,
            "grid_auto_flow": null,
            "grid_auto_rows": null,
            "grid_column": null,
            "grid_gap": null,
            "grid_row": null,
            "grid_template_areas": null,
            "grid_template_columns": null,
            "grid_template_rows": null,
            "height": null,
            "justify_content": null,
            "justify_items": null,
            "left": null,
            "margin": null,
            "max_height": null,
            "max_width": null,
            "min_height": null,
            "min_width": null,
            "object_fit": null,
            "object_position": null,
            "order": null,
            "overflow": null,
            "overflow_x": null,
            "overflow_y": null,
            "padding": null,
            "right": null,
            "top": null,
            "visibility": null,
            "width": null
          }
        },
        "5f004c61312248abb67217f96d7e7b7e": {
          "model_module": "@jupyter-widgets/controls",
          "model_name": "DescriptionStyleModel",
          "model_module_version": "1.5.0",
          "state": {
            "_model_module": "@jupyter-widgets/controls",
            "_model_module_version": "1.5.0",
            "_model_name": "DescriptionStyleModel",
            "_view_count": null,
            "_view_module": "@jupyter-widgets/base",
            "_view_module_version": "1.2.0",
            "_view_name": "StyleView",
            "description_width": ""
          }
        },
        "29b76273f75b44f29d795275f0e445f8": {
          "model_module": "@jupyter-widgets/base",
          "model_name": "LayoutModel",
          "model_module_version": "1.2.0",
          "state": {
            "_model_module": "@jupyter-widgets/base",
            "_model_module_version": "1.2.0",
            "_model_name": "LayoutModel",
            "_view_count": null,
            "_view_module": "@jupyter-widgets/base",
            "_view_module_version": "1.2.0",
            "_view_name": "LayoutView",
            "align_content": null,
            "align_items": null,
            "align_self": null,
            "border": null,
            "bottom": null,
            "display": null,
            "flex": null,
            "flex_flow": null,
            "grid_area": null,
            "grid_auto_columns": null,
            "grid_auto_flow": null,
            "grid_auto_rows": null,
            "grid_column": null,
            "grid_gap": null,
            "grid_row": null,
            "grid_template_areas": null,
            "grid_template_columns": null,
            "grid_template_rows": null,
            "height": null,
            "justify_content": null,
            "justify_items": null,
            "left": null,
            "margin": null,
            "max_height": null,
            "max_width": null,
            "min_height": null,
            "min_width": null,
            "object_fit": null,
            "object_position": null,
            "order": null,
            "overflow": null,
            "overflow_x": null,
            "overflow_y": null,
            "padding": null,
            "right": null,
            "top": null,
            "visibility": null,
            "width": null
          }
        },
        "7b841ce74a3f41b49f17ef6bc5f5ec2b": {
          "model_module": "@jupyter-widgets/controls",
          "model_name": "ProgressStyleModel",
          "model_module_version": "1.5.0",
          "state": {
            "_model_module": "@jupyter-widgets/controls",
            "_model_module_version": "1.5.0",
            "_model_name": "ProgressStyleModel",
            "_view_count": null,
            "_view_module": "@jupyter-widgets/base",
            "_view_module_version": "1.2.0",
            "_view_name": "StyleView",
            "bar_color": null,
            "description_width": ""
          }
        },
        "ad36374e923d4d419a91bb3cb67c2922": {
          "model_module": "@jupyter-widgets/base",
          "model_name": "LayoutModel",
          "model_module_version": "1.2.0",
          "state": {
            "_model_module": "@jupyter-widgets/base",
            "_model_module_version": "1.2.0",
            "_model_name": "LayoutModel",
            "_view_count": null,
            "_view_module": "@jupyter-widgets/base",
            "_view_module_version": "1.2.0",
            "_view_name": "LayoutView",
            "align_content": null,
            "align_items": null,
            "align_self": null,
            "border": null,
            "bottom": null,
            "display": null,
            "flex": null,
            "flex_flow": null,
            "grid_area": null,
            "grid_auto_columns": null,
            "grid_auto_flow": null,
            "grid_auto_rows": null,
            "grid_column": null,
            "grid_gap": null,
            "grid_row": null,
            "grid_template_areas": null,
            "grid_template_columns": null,
            "grid_template_rows": null,
            "height": null,
            "justify_content": null,
            "justify_items": null,
            "left": null,
            "margin": null,
            "max_height": null,
            "max_width": null,
            "min_height": null,
            "min_width": null,
            "object_fit": null,
            "object_position": null,
            "order": null,
            "overflow": null,
            "overflow_x": null,
            "overflow_y": null,
            "padding": null,
            "right": null,
            "top": null,
            "visibility": null,
            "width": null
          }
        },
        "7faf2ec145de4accbc8928a0c91cf366": {
          "model_module": "@jupyter-widgets/controls",
          "model_name": "DescriptionStyleModel",
          "model_module_version": "1.5.0",
          "state": {
            "_model_module": "@jupyter-widgets/controls",
            "_model_module_version": "1.5.0",
            "_model_name": "DescriptionStyleModel",
            "_view_count": null,
            "_view_module": "@jupyter-widgets/base",
            "_view_module_version": "1.2.0",
            "_view_name": "StyleView",
            "description_width": ""
          }
        },
        "3b8539f3be17499ba7eb14d66243139b": {
          "model_module": "@jupyter-widgets/controls",
          "model_name": "HBoxModel",
          "model_module_version": "1.5.0",
          "state": {
            "_dom_classes": [],
            "_model_module": "@jupyter-widgets/controls",
            "_model_module_version": "1.5.0",
            "_model_name": "HBoxModel",
            "_view_count": null,
            "_view_module": "@jupyter-widgets/controls",
            "_view_module_version": "1.5.0",
            "_view_name": "HBoxView",
            "box_style": "",
            "children": [
              "IPY_MODEL_791bc52afd8140eb885f252a9b875b6e",
              "IPY_MODEL_649866f5128c4bc391d0589c08ea35e6",
              "IPY_MODEL_6bf229950584427196ccf2fc172c85c1"
            ],
            "layout": "IPY_MODEL_6a85704ee6294d47b53d5de678abc147"
          }
        },
        "791bc52afd8140eb885f252a9b875b6e": {
          "model_module": "@jupyter-widgets/controls",
          "model_name": "HTMLModel",
          "model_module_version": "1.5.0",
          "state": {
            "_dom_classes": [],
            "_model_module": "@jupyter-widgets/controls",
            "_model_module_version": "1.5.0",
            "_model_name": "HTMLModel",
            "_view_count": null,
            "_view_module": "@jupyter-widgets/controls",
            "_view_module_version": "1.5.0",
            "_view_name": "HTMLView",
            "description": "",
            "description_tooltip": null,
            "layout": "IPY_MODEL_c78074c4b5c84ef38b2cac7a5e56c8d1",
            "placeholder": "​",
            "style": "IPY_MODEL_8b48fd705f5d471a943566eb82eb5739",
            "value": "Downloading: 100%"
          }
        },
        "649866f5128c4bc391d0589c08ea35e6": {
          "model_module": "@jupyter-widgets/controls",
          "model_name": "FloatProgressModel",
          "model_module_version": "1.5.0",
          "state": {
            "_dom_classes": [],
            "_model_module": "@jupyter-widgets/controls",
            "_model_module_version": "1.5.0",
            "_model_name": "FloatProgressModel",
            "_view_count": null,
            "_view_module": "@jupyter-widgets/controls",
            "_view_module_version": "1.5.0",
            "_view_name": "ProgressView",
            "bar_style": "success",
            "description": "",
            "description_tooltip": null,
            "layout": "IPY_MODEL_0e4a21c941964af48eb8605d66677ccd",
            "max": 1181956,
            "min": 0,
            "orientation": "horizontal",
            "style": "IPY_MODEL_e11695b599ce4a46b436205eb078ca1a",
            "value": 1181956
          }
        },
        "6bf229950584427196ccf2fc172c85c1": {
          "model_module": "@jupyter-widgets/controls",
          "model_name": "HTMLModel",
          "model_module_version": "1.5.0",
          "state": {
            "_dom_classes": [],
            "_model_module": "@jupyter-widgets/controls",
            "_model_module_version": "1.5.0",
            "_model_name": "HTMLModel",
            "_view_count": null,
            "_view_module": "@jupyter-widgets/controls",
            "_view_module_version": "1.5.0",
            "_view_name": "HTMLView",
            "description": "",
            "description_tooltip": null,
            "layout": "IPY_MODEL_56e73765ce724ec695f4c20035e59983",
            "placeholder": "​",
            "style": "IPY_MODEL_17c4babc78a047db945aeaa4b712c790",
            "value": " 1.13M/1.13M [00:00&lt;00:00, 3.57MB/s]"
          }
        },
        "6a85704ee6294d47b53d5de678abc147": {
          "model_module": "@jupyter-widgets/base",
          "model_name": "LayoutModel",
          "model_module_version": "1.2.0",
          "state": {
            "_model_module": "@jupyter-widgets/base",
            "_model_module_version": "1.2.0",
            "_model_name": "LayoutModel",
            "_view_count": null,
            "_view_module": "@jupyter-widgets/base",
            "_view_module_version": "1.2.0",
            "_view_name": "LayoutView",
            "align_content": null,
            "align_items": null,
            "align_self": null,
            "border": null,
            "bottom": null,
            "display": null,
            "flex": null,
            "flex_flow": null,
            "grid_area": null,
            "grid_auto_columns": null,
            "grid_auto_flow": null,
            "grid_auto_rows": null,
            "grid_column": null,
            "grid_gap": null,
            "grid_row": null,
            "grid_template_areas": null,
            "grid_template_columns": null,
            "grid_template_rows": null,
            "height": null,
            "justify_content": null,
            "justify_items": null,
            "left": null,
            "margin": null,
            "max_height": null,
            "max_width": null,
            "min_height": null,
            "min_width": null,
            "object_fit": null,
            "object_position": null,
            "order": null,
            "overflow": null,
            "overflow_x": null,
            "overflow_y": null,
            "padding": null,
            "right": null,
            "top": null,
            "visibility": null,
            "width": null
          }
        },
        "c78074c4b5c84ef38b2cac7a5e56c8d1": {
          "model_module": "@jupyter-widgets/base",
          "model_name": "LayoutModel",
          "model_module_version": "1.2.0",
          "state": {
            "_model_module": "@jupyter-widgets/base",
            "_model_module_version": "1.2.0",
            "_model_name": "LayoutModel",
            "_view_count": null,
            "_view_module": "@jupyter-widgets/base",
            "_view_module_version": "1.2.0",
            "_view_name": "LayoutView",
            "align_content": null,
            "align_items": null,
            "align_self": null,
            "border": null,
            "bottom": null,
            "display": null,
            "flex": null,
            "flex_flow": null,
            "grid_area": null,
            "grid_auto_columns": null,
            "grid_auto_flow": null,
            "grid_auto_rows": null,
            "grid_column": null,
            "grid_gap": null,
            "grid_row": null,
            "grid_template_areas": null,
            "grid_template_columns": null,
            "grid_template_rows": null,
            "height": null,
            "justify_content": null,
            "justify_items": null,
            "left": null,
            "margin": null,
            "max_height": null,
            "max_width": null,
            "min_height": null,
            "min_width": null,
            "object_fit": null,
            "object_position": null,
            "order": null,
            "overflow": null,
            "overflow_x": null,
            "overflow_y": null,
            "padding": null,
            "right": null,
            "top": null,
            "visibility": null,
            "width": null
          }
        },
        "8b48fd705f5d471a943566eb82eb5739": {
          "model_module": "@jupyter-widgets/controls",
          "model_name": "DescriptionStyleModel",
          "model_module_version": "1.5.0",
          "state": {
            "_model_module": "@jupyter-widgets/controls",
            "_model_module_version": "1.5.0",
            "_model_name": "DescriptionStyleModel",
            "_view_count": null,
            "_view_module": "@jupyter-widgets/base",
            "_view_module_version": "1.2.0",
            "_view_name": "StyleView",
            "description_width": ""
          }
        },
        "0e4a21c941964af48eb8605d66677ccd": {
          "model_module": "@jupyter-widgets/base",
          "model_name": "LayoutModel",
          "model_module_version": "1.2.0",
          "state": {
            "_model_module": "@jupyter-widgets/base",
            "_model_module_version": "1.2.0",
            "_model_name": "LayoutModel",
            "_view_count": null,
            "_view_module": "@jupyter-widgets/base",
            "_view_module_version": "1.2.0",
            "_view_name": "LayoutView",
            "align_content": null,
            "align_items": null,
            "align_self": null,
            "border": null,
            "bottom": null,
            "display": null,
            "flex": null,
            "flex_flow": null,
            "grid_area": null,
            "grid_auto_columns": null,
            "grid_auto_flow": null,
            "grid_auto_rows": null,
            "grid_column": null,
            "grid_gap": null,
            "grid_row": null,
            "grid_template_areas": null,
            "grid_template_columns": null,
            "grid_template_rows": null,
            "height": null,
            "justify_content": null,
            "justify_items": null,
            "left": null,
            "margin": null,
            "max_height": null,
            "max_width": null,
            "min_height": null,
            "min_width": null,
            "object_fit": null,
            "object_position": null,
            "order": null,
            "overflow": null,
            "overflow_x": null,
            "overflow_y": null,
            "padding": null,
            "right": null,
            "top": null,
            "visibility": null,
            "width": null
          }
        },
        "e11695b599ce4a46b436205eb078ca1a": {
          "model_module": "@jupyter-widgets/controls",
          "model_name": "ProgressStyleModel",
          "model_module_version": "1.5.0",
          "state": {
            "_model_module": "@jupyter-widgets/controls",
            "_model_module_version": "1.5.0",
            "_model_name": "ProgressStyleModel",
            "_view_count": null,
            "_view_module": "@jupyter-widgets/base",
            "_view_module_version": "1.2.0",
            "_view_name": "StyleView",
            "bar_color": null,
            "description_width": ""
          }
        },
        "56e73765ce724ec695f4c20035e59983": {
          "model_module": "@jupyter-widgets/base",
          "model_name": "LayoutModel",
          "model_module_version": "1.2.0",
          "state": {
            "_model_module": "@jupyter-widgets/base",
            "_model_module_version": "1.2.0",
            "_model_name": "LayoutModel",
            "_view_count": null,
            "_view_module": "@jupyter-widgets/base",
            "_view_module_version": "1.2.0",
            "_view_name": "LayoutView",
            "align_content": null,
            "align_items": null,
            "align_self": null,
            "border": null,
            "bottom": null,
            "display": null,
            "flex": null,
            "flex_flow": null,
            "grid_area": null,
            "grid_auto_columns": null,
            "grid_auto_flow": null,
            "grid_auto_rows": null,
            "grid_column": null,
            "grid_gap": null,
            "grid_row": null,
            "grid_template_areas": null,
            "grid_template_columns": null,
            "grid_template_rows": null,
            "height": null,
            "justify_content": null,
            "justify_items": null,
            "left": null,
            "margin": null,
            "max_height": null,
            "max_width": null,
            "min_height": null,
            "min_width": null,
            "object_fit": null,
            "object_position": null,
            "order": null,
            "overflow": null,
            "overflow_x": null,
            "overflow_y": null,
            "padding": null,
            "right": null,
            "top": null,
            "visibility": null,
            "width": null
          }
        },
        "17c4babc78a047db945aeaa4b712c790": {
          "model_module": "@jupyter-widgets/controls",
          "model_name": "DescriptionStyleModel",
          "model_module_version": "1.5.0",
          "state": {
            "_model_module": "@jupyter-widgets/controls",
            "_model_module_version": "1.5.0",
            "_model_name": "DescriptionStyleModel",
            "_view_count": null,
            "_view_module": "@jupyter-widgets/base",
            "_view_module_version": "1.2.0",
            "_view_name": "StyleView",
            "description_width": ""
          }
        },
        "72bf9bc391e64fcd85c3e32e0033b2bd": {
          "model_module": "@jupyter-widgets/controls",
          "model_name": "HBoxModel",
          "model_module_version": "1.5.0",
          "state": {
            "_dom_classes": [],
            "_model_module": "@jupyter-widgets/controls",
            "_model_module_version": "1.5.0",
            "_model_name": "HBoxModel",
            "_view_count": null,
            "_view_module": "@jupyter-widgets/controls",
            "_view_module_version": "1.5.0",
            "_view_name": "HBoxView",
            "box_style": "",
            "children": [
              "IPY_MODEL_0f95283dbec9477fb992891dae65b9c2",
              "IPY_MODEL_332cb4ec16b64545ac867d421177f9cb",
              "IPY_MODEL_052d3c184d4847848d02f26469852a06"
            ],
            "layout": "IPY_MODEL_596aade741614ca1b6d31baa9f218223"
          }
        },
        "0f95283dbec9477fb992891dae65b9c2": {
          "model_module": "@jupyter-widgets/controls",
          "model_name": "HTMLModel",
          "model_module_version": "1.5.0",
          "state": {
            "_dom_classes": [],
            "_model_module": "@jupyter-widgets/controls",
            "_model_module_version": "1.5.0",
            "_model_name": "HTMLModel",
            "_view_count": null,
            "_view_module": "@jupyter-widgets/controls",
            "_view_module_version": "1.5.0",
            "_view_name": "HTMLView",
            "description": "",
            "description_tooltip": null,
            "layout": "IPY_MODEL_fa1a1fd39ab6409d88cc1e10a7499083",
            "placeholder": "​",
            "style": "IPY_MODEL_987edd291ef54993a1a6d549f5e6f154",
            "value": "Downloading: 100%"
          }
        },
        "332cb4ec16b64545ac867d421177f9cb": {
          "model_module": "@jupyter-widgets/controls",
          "model_name": "FloatProgressModel",
          "model_module_version": "1.5.0",
          "state": {
            "_dom_classes": [],
            "_model_module": "@jupyter-widgets/controls",
            "_model_module_version": "1.5.0",
            "_model_name": "FloatProgressModel",
            "_view_count": null,
            "_view_module": "@jupyter-widgets/controls",
            "_view_module_version": "1.5.0",
            "_view_name": "ProgressView",
            "bar_style": "success",
            "description": "",
            "description_tooltip": null,
            "layout": "IPY_MODEL_4720f4962e3248ddaf1b8a89a66fbf73",
            "max": 112,
            "min": 0,
            "orientation": "horizontal",
            "style": "IPY_MODEL_4048be02be424a159691a3658c5f1c76",
            "value": 112
          }
        },
        "052d3c184d4847848d02f26469852a06": {
          "model_module": "@jupyter-widgets/controls",
          "model_name": "HTMLModel",
          "model_module_version": "1.5.0",
          "state": {
            "_dom_classes": [],
            "_model_module": "@jupyter-widgets/controls",
            "_model_module_version": "1.5.0",
            "_model_name": "HTMLModel",
            "_view_count": null,
            "_view_module": "@jupyter-widgets/controls",
            "_view_module_version": "1.5.0",
            "_view_name": "HTMLView",
            "description": "",
            "description_tooltip": null,
            "layout": "IPY_MODEL_af090b1abc514c52995a1c28b05aa241",
            "placeholder": "​",
            "style": "IPY_MODEL_059bd8e31dcc4e63b04dc0d81bee09b0",
            "value": " 112/112 [00:00&lt;00:00, 2.66kB/s]"
          }
        },
        "596aade741614ca1b6d31baa9f218223": {
          "model_module": "@jupyter-widgets/base",
          "model_name": "LayoutModel",
          "model_module_version": "1.2.0",
          "state": {
            "_model_module": "@jupyter-widgets/base",
            "_model_module_version": "1.2.0",
            "_model_name": "LayoutModel",
            "_view_count": null,
            "_view_module": "@jupyter-widgets/base",
            "_view_module_version": "1.2.0",
            "_view_name": "LayoutView",
            "align_content": null,
            "align_items": null,
            "align_self": null,
            "border": null,
            "bottom": null,
            "display": null,
            "flex": null,
            "flex_flow": null,
            "grid_area": null,
            "grid_auto_columns": null,
            "grid_auto_flow": null,
            "grid_auto_rows": null,
            "grid_column": null,
            "grid_gap": null,
            "grid_row": null,
            "grid_template_areas": null,
            "grid_template_columns": null,
            "grid_template_rows": null,
            "height": null,
            "justify_content": null,
            "justify_items": null,
            "left": null,
            "margin": null,
            "max_height": null,
            "max_width": null,
            "min_height": null,
            "min_width": null,
            "object_fit": null,
            "object_position": null,
            "order": null,
            "overflow": null,
            "overflow_x": null,
            "overflow_y": null,
            "padding": null,
            "right": null,
            "top": null,
            "visibility": null,
            "width": null
          }
        },
        "fa1a1fd39ab6409d88cc1e10a7499083": {
          "model_module": "@jupyter-widgets/base",
          "model_name": "LayoutModel",
          "model_module_version": "1.2.0",
          "state": {
            "_model_module": "@jupyter-widgets/base",
            "_model_module_version": "1.2.0",
            "_model_name": "LayoutModel",
            "_view_count": null,
            "_view_module": "@jupyter-widgets/base",
            "_view_module_version": "1.2.0",
            "_view_name": "LayoutView",
            "align_content": null,
            "align_items": null,
            "align_self": null,
            "border": null,
            "bottom": null,
            "display": null,
            "flex": null,
            "flex_flow": null,
            "grid_area": null,
            "grid_auto_columns": null,
            "grid_auto_flow": null,
            "grid_auto_rows": null,
            "grid_column": null,
            "grid_gap": null,
            "grid_row": null,
            "grid_template_areas": null,
            "grid_template_columns": null,
            "grid_template_rows": null,
            "height": null,
            "justify_content": null,
            "justify_items": null,
            "left": null,
            "margin": null,
            "max_height": null,
            "max_width": null,
            "min_height": null,
            "min_width": null,
            "object_fit": null,
            "object_position": null,
            "order": null,
            "overflow": null,
            "overflow_x": null,
            "overflow_y": null,
            "padding": null,
            "right": null,
            "top": null,
            "visibility": null,
            "width": null
          }
        },
        "987edd291ef54993a1a6d549f5e6f154": {
          "model_module": "@jupyter-widgets/controls",
          "model_name": "DescriptionStyleModel",
          "model_module_version": "1.5.0",
          "state": {
            "_model_module": "@jupyter-widgets/controls",
            "_model_module_version": "1.5.0",
            "_model_name": "DescriptionStyleModel",
            "_view_count": null,
            "_view_module": "@jupyter-widgets/base",
            "_view_module_version": "1.2.0",
            "_view_name": "StyleView",
            "description_width": ""
          }
        },
        "4720f4962e3248ddaf1b8a89a66fbf73": {
          "model_module": "@jupyter-widgets/base",
          "model_name": "LayoutModel",
          "model_module_version": "1.2.0",
          "state": {
            "_model_module": "@jupyter-widgets/base",
            "_model_module_version": "1.2.0",
            "_model_name": "LayoutModel",
            "_view_count": null,
            "_view_module": "@jupyter-widgets/base",
            "_view_module_version": "1.2.0",
            "_view_name": "LayoutView",
            "align_content": null,
            "align_items": null,
            "align_self": null,
            "border": null,
            "bottom": null,
            "display": null,
            "flex": null,
            "flex_flow": null,
            "grid_area": null,
            "grid_auto_columns": null,
            "grid_auto_flow": null,
            "grid_auto_rows": null,
            "grid_column": null,
            "grid_gap": null,
            "grid_row": null,
            "grid_template_areas": null,
            "grid_template_columns": null,
            "grid_template_rows": null,
            "height": null,
            "justify_content": null,
            "justify_items": null,
            "left": null,
            "margin": null,
            "max_height": null,
            "max_width": null,
            "min_height": null,
            "min_width": null,
            "object_fit": null,
            "object_position": null,
            "order": null,
            "overflow": null,
            "overflow_x": null,
            "overflow_y": null,
            "padding": null,
            "right": null,
            "top": null,
            "visibility": null,
            "width": null
          }
        },
        "4048be02be424a159691a3658c5f1c76": {
          "model_module": "@jupyter-widgets/controls",
          "model_name": "ProgressStyleModel",
          "model_module_version": "1.5.0",
          "state": {
            "_model_module": "@jupyter-widgets/controls",
            "_model_module_version": "1.5.0",
            "_model_name": "ProgressStyleModel",
            "_view_count": null,
            "_view_module": "@jupyter-widgets/base",
            "_view_module_version": "1.2.0",
            "_view_name": "StyleView",
            "bar_color": null,
            "description_width": ""
          }
        },
        "af090b1abc514c52995a1c28b05aa241": {
          "model_module": "@jupyter-widgets/base",
          "model_name": "LayoutModel",
          "model_module_version": "1.2.0",
          "state": {
            "_model_module": "@jupyter-widgets/base",
            "_model_module_version": "1.2.0",
            "_model_name": "LayoutModel",
            "_view_count": null,
            "_view_module": "@jupyter-widgets/base",
            "_view_module_version": "1.2.0",
            "_view_name": "LayoutView",
            "align_content": null,
            "align_items": null,
            "align_self": null,
            "border": null,
            "bottom": null,
            "display": null,
            "flex": null,
            "flex_flow": null,
            "grid_area": null,
            "grid_auto_columns": null,
            "grid_auto_flow": null,
            "grid_auto_rows": null,
            "grid_column": null,
            "grid_gap": null,
            "grid_row": null,
            "grid_template_areas": null,
            "grid_template_columns": null,
            "grid_template_rows": null,
            "height": null,
            "justify_content": null,
            "justify_items": null,
            "left": null,
            "margin": null,
            "max_height": null,
            "max_width": null,
            "min_height": null,
            "min_width": null,
            "object_fit": null,
            "object_position": null,
            "order": null,
            "overflow": null,
            "overflow_x": null,
            "overflow_y": null,
            "padding": null,
            "right": null,
            "top": null,
            "visibility": null,
            "width": null
          }
        },
        "059bd8e31dcc4e63b04dc0d81bee09b0": {
          "model_module": "@jupyter-widgets/controls",
          "model_name": "DescriptionStyleModel",
          "model_module_version": "1.5.0",
          "state": {
            "_model_module": "@jupyter-widgets/controls",
            "_model_module_version": "1.5.0",
            "_model_name": "DescriptionStyleModel",
            "_view_count": null,
            "_view_module": "@jupyter-widgets/base",
            "_view_module_version": "1.2.0",
            "_view_name": "StyleView",
            "description_width": ""
          }
        },
        "2f58b591d344491d8dab34ad099633e6": {
          "model_module": "@jupyter-widgets/controls",
          "model_name": "HBoxModel",
          "model_module_version": "1.5.0",
          "state": {
            "_dom_classes": [],
            "_model_module": "@jupyter-widgets/controls",
            "_model_module_version": "1.5.0",
            "_model_name": "HBoxModel",
            "_view_count": null,
            "_view_module": "@jupyter-widgets/controls",
            "_view_module_version": "1.5.0",
            "_view_name": "HBoxView",
            "box_style": "",
            "children": [
              "IPY_MODEL_fed5677b2e47485780789cc7b3df72d9",
              "IPY_MODEL_dbecc3ec4dd14c90a70793139e74e5ca",
              "IPY_MODEL_43e4e46fbde14b44a8666fe6a9f2f233"
            ],
            "layout": "IPY_MODEL_e33756def8284c129a6bddb87b6f6eef"
          }
        },
        "fed5677b2e47485780789cc7b3df72d9": {
          "model_module": "@jupyter-widgets/controls",
          "model_name": "HTMLModel",
          "model_module_version": "1.5.0",
          "state": {
            "_dom_classes": [],
            "_model_module": "@jupyter-widgets/controls",
            "_model_module_version": "1.5.0",
            "_model_name": "HTMLModel",
            "_view_count": null,
            "_view_module": "@jupyter-widgets/controls",
            "_view_module_version": "1.5.0",
            "_view_name": "HTMLView",
            "description": "",
            "description_tooltip": null,
            "layout": "IPY_MODEL_0a2250dc2da242b89dedb19b024a72e4",
            "placeholder": "​",
            "style": "IPY_MODEL_5aaf03da635d40528751142bc75c3a81",
            "value": "Downloading: 100%"
          }
        },
        "dbecc3ec4dd14c90a70793139e74e5ca": {
          "model_module": "@jupyter-widgets/controls",
          "model_name": "FloatProgressModel",
          "model_module_version": "1.5.0",
          "state": {
            "_dom_classes": [],
            "_model_module": "@jupyter-widgets/controls",
            "_model_module_version": "1.5.0",
            "_model_name": "FloatProgressModel",
            "_view_count": null,
            "_view_module": "@jupyter-widgets/controls",
            "_view_module_version": "1.5.0",
            "_view_name": "ProgressView",
            "bar_style": "success",
            "description": "",
            "description_tooltip": null,
            "layout": "IPY_MODEL_ccd1d261065e4040a496fce160013215",
            "max": 714355318,
            "min": 0,
            "orientation": "horizontal",
            "style": "IPY_MODEL_ed7317332fc9444886f196cdec23f57f",
            "value": 714355318
          }
        },
        "43e4e46fbde14b44a8666fe6a9f2f233": {
          "model_module": "@jupyter-widgets/controls",
          "model_name": "HTMLModel",
          "model_module_version": "1.5.0",
          "state": {
            "_dom_classes": [],
            "_model_module": "@jupyter-widgets/controls",
            "_model_module_version": "1.5.0",
            "_model_name": "HTMLModel",
            "_view_count": null,
            "_view_module": "@jupyter-widgets/controls",
            "_view_module_version": "1.5.0",
            "_view_name": "HTMLView",
            "description": "",
            "description_tooltip": null,
            "layout": "IPY_MODEL_0840e95f80f24317a87410c3d6eb2a2d",
            "placeholder": "​",
            "style": "IPY_MODEL_1a5e7315ee814c449473ddfe7c71286c",
            "value": " 681M/681M [00:10&lt;00:00, 66.9MB/s]"
          }
        },
        "e33756def8284c129a6bddb87b6f6eef": {
          "model_module": "@jupyter-widgets/base",
          "model_name": "LayoutModel",
          "model_module_version": "1.2.0",
          "state": {
            "_model_module": "@jupyter-widgets/base",
            "_model_module_version": "1.2.0",
            "_model_name": "LayoutModel",
            "_view_count": null,
            "_view_module": "@jupyter-widgets/base",
            "_view_module_version": "1.2.0",
            "_view_name": "LayoutView",
            "align_content": null,
            "align_items": null,
            "align_self": null,
            "border": null,
            "bottom": null,
            "display": null,
            "flex": null,
            "flex_flow": null,
            "grid_area": null,
            "grid_auto_columns": null,
            "grid_auto_flow": null,
            "grid_auto_rows": null,
            "grid_column": null,
            "grid_gap": null,
            "grid_row": null,
            "grid_template_areas": null,
            "grid_template_columns": null,
            "grid_template_rows": null,
            "height": null,
            "justify_content": null,
            "justify_items": null,
            "left": null,
            "margin": null,
            "max_height": null,
            "max_width": null,
            "min_height": null,
            "min_width": null,
            "object_fit": null,
            "object_position": null,
            "order": null,
            "overflow": null,
            "overflow_x": null,
            "overflow_y": null,
            "padding": null,
            "right": null,
            "top": null,
            "visibility": null,
            "width": null
          }
        },
        "0a2250dc2da242b89dedb19b024a72e4": {
          "model_module": "@jupyter-widgets/base",
          "model_name": "LayoutModel",
          "model_module_version": "1.2.0",
          "state": {
            "_model_module": "@jupyter-widgets/base",
            "_model_module_version": "1.2.0",
            "_model_name": "LayoutModel",
            "_view_count": null,
            "_view_module": "@jupyter-widgets/base",
            "_view_module_version": "1.2.0",
            "_view_name": "LayoutView",
            "align_content": null,
            "align_items": null,
            "align_self": null,
            "border": null,
            "bottom": null,
            "display": null,
            "flex": null,
            "flex_flow": null,
            "grid_area": null,
            "grid_auto_columns": null,
            "grid_auto_flow": null,
            "grid_auto_rows": null,
            "grid_column": null,
            "grid_gap": null,
            "grid_row": null,
            "grid_template_areas": null,
            "grid_template_columns": null,
            "grid_template_rows": null,
            "height": null,
            "justify_content": null,
            "justify_items": null,
            "left": null,
            "margin": null,
            "max_height": null,
            "max_width": null,
            "min_height": null,
            "min_width": null,
            "object_fit": null,
            "object_position": null,
            "order": null,
            "overflow": null,
            "overflow_x": null,
            "overflow_y": null,
            "padding": null,
            "right": null,
            "top": null,
            "visibility": null,
            "width": null
          }
        },
        "5aaf03da635d40528751142bc75c3a81": {
          "model_module": "@jupyter-widgets/controls",
          "model_name": "DescriptionStyleModel",
          "model_module_version": "1.5.0",
          "state": {
            "_model_module": "@jupyter-widgets/controls",
            "_model_module_version": "1.5.0",
            "_model_name": "DescriptionStyleModel",
            "_view_count": null,
            "_view_module": "@jupyter-widgets/base",
            "_view_module_version": "1.2.0",
            "_view_name": "StyleView",
            "description_width": ""
          }
        },
        "ccd1d261065e4040a496fce160013215": {
          "model_module": "@jupyter-widgets/base",
          "model_name": "LayoutModel",
          "model_module_version": "1.2.0",
          "state": {
            "_model_module": "@jupyter-widgets/base",
            "_model_module_version": "1.2.0",
            "_model_name": "LayoutModel",
            "_view_count": null,
            "_view_module": "@jupyter-widgets/base",
            "_view_module_version": "1.2.0",
            "_view_name": "LayoutView",
            "align_content": null,
            "align_items": null,
            "align_self": null,
            "border": null,
            "bottom": null,
            "display": null,
            "flex": null,
            "flex_flow": null,
            "grid_area": null,
            "grid_auto_columns": null,
            "grid_auto_flow": null,
            "grid_auto_rows": null,
            "grid_column": null,
            "grid_gap": null,
            "grid_row": null,
            "grid_template_areas": null,
            "grid_template_columns": null,
            "grid_template_rows": null,
            "height": null,
            "justify_content": null,
            "justify_items": null,
            "left": null,
            "margin": null,
            "max_height": null,
            "max_width": null,
            "min_height": null,
            "min_width": null,
            "object_fit": null,
            "object_position": null,
            "order": null,
            "overflow": null,
            "overflow_x": null,
            "overflow_y": null,
            "padding": null,
            "right": null,
            "top": null,
            "visibility": null,
            "width": null
          }
        },
        "ed7317332fc9444886f196cdec23f57f": {
          "model_module": "@jupyter-widgets/controls",
          "model_name": "ProgressStyleModel",
          "model_module_version": "1.5.0",
          "state": {
            "_model_module": "@jupyter-widgets/controls",
            "_model_module_version": "1.5.0",
            "_model_name": "ProgressStyleModel",
            "_view_count": null,
            "_view_module": "@jupyter-widgets/base",
            "_view_module_version": "1.2.0",
            "_view_name": "StyleView",
            "bar_color": null,
            "description_width": ""
          }
        },
        "0840e95f80f24317a87410c3d6eb2a2d": {
          "model_module": "@jupyter-widgets/base",
          "model_name": "LayoutModel",
          "model_module_version": "1.2.0",
          "state": {
            "_model_module": "@jupyter-widgets/base",
            "_model_module_version": "1.2.0",
            "_model_name": "LayoutModel",
            "_view_count": null,
            "_view_module": "@jupyter-widgets/base",
            "_view_module_version": "1.2.0",
            "_view_name": "LayoutView",
            "align_content": null,
            "align_items": null,
            "align_self": null,
            "border": null,
            "bottom": null,
            "display": null,
            "flex": null,
            "flex_flow": null,
            "grid_area": null,
            "grid_auto_columns": null,
            "grid_auto_flow": null,
            "grid_auto_rows": null,
            "grid_column": null,
            "grid_gap": null,
            "grid_row": null,
            "grid_template_areas": null,
            "grid_template_columns": null,
            "grid_template_rows": null,
            "height": null,
            "justify_content": null,
            "justify_items": null,
            "left": null,
            "margin": null,
            "max_height": null,
            "max_width": null,
            "min_height": null,
            "min_width": null,
            "object_fit": null,
            "object_position": null,
            "order": null,
            "overflow": null,
            "overflow_x": null,
            "overflow_y": null,
            "padding": null,
            "right": null,
            "top": null,
            "visibility": null,
            "width": null
          }
        },
        "1a5e7315ee814c449473ddfe7c71286c": {
          "model_module": "@jupyter-widgets/controls",
          "model_name": "DescriptionStyleModel",
          "model_module_version": "1.5.0",
          "state": {
            "_model_module": "@jupyter-widgets/controls",
            "_model_module_version": "1.5.0",
            "_model_name": "DescriptionStyleModel",
            "_view_count": null,
            "_view_module": "@jupyter-widgets/base",
            "_view_module_version": "1.2.0",
            "_view_name": "StyleView",
            "description_width": ""
          }
        },
        "cbf2f1eaae744652ab93749c8596389e": {
          "model_module": "@jupyter-widgets/controls",
          "model_name": "HBoxModel",
          "model_module_version": "1.5.0",
          "state": {
            "_dom_classes": [],
            "_model_module": "@jupyter-widgets/controls",
            "_model_module_version": "1.5.0",
            "_model_name": "HBoxModel",
            "_view_count": null,
            "_view_module": "@jupyter-widgets/controls",
            "_view_module_version": "1.5.0",
            "_view_name": "HBoxView",
            "box_style": "",
            "children": [
              "IPY_MODEL_ecc664b123f0486d8df3731c964076de",
              "IPY_MODEL_13c9275e48c047e8a6e568d92fbfe467",
              "IPY_MODEL_fecb644240bc4124bf7ce912e40a3566"
            ],
            "layout": "IPY_MODEL_6879a72dda9140009cd63ba5fcdfa32e"
          }
        },
        "ecc664b123f0486d8df3731c964076de": {
          "model_module": "@jupyter-widgets/controls",
          "model_name": "HTMLModel",
          "model_module_version": "1.5.0",
          "state": {
            "_dom_classes": [],
            "_model_module": "@jupyter-widgets/controls",
            "_model_module_version": "1.5.0",
            "_model_name": "HTMLModel",
            "_view_count": null,
            "_view_module": "@jupyter-widgets/controls",
            "_view_module_version": "1.5.0",
            "_view_name": "HTMLView",
            "description": "",
            "description_tooltip": null,
            "layout": "IPY_MODEL_804be9177d284fcb9f717f57892961be",
            "placeholder": "​",
            "style": "IPY_MODEL_8800d1c625834295b7ad79488ddb5c3b",
            "value": "train, epoch=1: 100%"
          }
        },
        "13c9275e48c047e8a6e568d92fbfe467": {
          "model_module": "@jupyter-widgets/controls",
          "model_name": "FloatProgressModel",
          "model_module_version": "1.5.0",
          "state": {
            "_dom_classes": [],
            "_model_module": "@jupyter-widgets/controls",
            "_model_module_version": "1.5.0",
            "_model_name": "FloatProgressModel",
            "_view_count": null,
            "_view_module": "@jupyter-widgets/controls",
            "_view_module_version": "1.5.0",
            "_view_name": "ProgressView",
            "bar_style": "success",
            "description": "",
            "description_tooltip": null,
            "layout": "IPY_MODEL_ab4427499cfd4d488bd707a86ce2aa0b",
            "max": 12666,
            "min": 0,
            "orientation": "horizontal",
            "style": "IPY_MODEL_e1e14f7c8a2747d8968253c75f19774a",
            "value": 12666
          }
        },
        "fecb644240bc4124bf7ce912e40a3566": {
          "model_module": "@jupyter-widgets/controls",
          "model_name": "HTMLModel",
          "model_module_version": "1.5.0",
          "state": {
            "_dom_classes": [],
            "_model_module": "@jupyter-widgets/controls",
            "_model_module_version": "1.5.0",
            "_model_name": "HTMLModel",
            "_view_count": null,
            "_view_module": "@jupyter-widgets/controls",
            "_view_module_version": "1.5.0",
            "_view_name": "HTMLView",
            "description": "",
            "description_tooltip": null,
            "layout": "IPY_MODEL_fa518d1946ab4ce59913c13b2f51364f",
            "placeholder": "​",
            "style": "IPY_MODEL_acdcee75bb49423f8d6774bc02ce401d",
            "value": " 12666/12666 [21:12&lt;00:00, 10.24it/s, loss=0.012, acc=99.5, P=99.5, R=99.5, F1=99.5]"
          }
        },
        "6879a72dda9140009cd63ba5fcdfa32e": {
          "model_module": "@jupyter-widgets/base",
          "model_name": "LayoutModel",
          "model_module_version": "1.2.0",
          "state": {
            "_model_module": "@jupyter-widgets/base",
            "_model_module_version": "1.2.0",
            "_model_name": "LayoutModel",
            "_view_count": null,
            "_view_module": "@jupyter-widgets/base",
            "_view_module_version": "1.2.0",
            "_view_name": "LayoutView",
            "align_content": null,
            "align_items": null,
            "align_self": null,
            "border": null,
            "bottom": null,
            "display": null,
            "flex": null,
            "flex_flow": null,
            "grid_area": null,
            "grid_auto_columns": null,
            "grid_auto_flow": null,
            "grid_auto_rows": null,
            "grid_column": null,
            "grid_gap": null,
            "grid_row": null,
            "grid_template_areas": null,
            "grid_template_columns": null,
            "grid_template_rows": null,
            "height": null,
            "justify_content": null,
            "justify_items": null,
            "left": null,
            "margin": null,
            "max_height": null,
            "max_width": null,
            "min_height": null,
            "min_width": null,
            "object_fit": null,
            "object_position": null,
            "order": null,
            "overflow": null,
            "overflow_x": null,
            "overflow_y": null,
            "padding": null,
            "right": null,
            "top": null,
            "visibility": null,
            "width": null
          }
        },
        "804be9177d284fcb9f717f57892961be": {
          "model_module": "@jupyter-widgets/base",
          "model_name": "LayoutModel",
          "model_module_version": "1.2.0",
          "state": {
            "_model_module": "@jupyter-widgets/base",
            "_model_module_version": "1.2.0",
            "_model_name": "LayoutModel",
            "_view_count": null,
            "_view_module": "@jupyter-widgets/base",
            "_view_module_version": "1.2.0",
            "_view_name": "LayoutView",
            "align_content": null,
            "align_items": null,
            "align_self": null,
            "border": null,
            "bottom": null,
            "display": null,
            "flex": null,
            "flex_flow": null,
            "grid_area": null,
            "grid_auto_columns": null,
            "grid_auto_flow": null,
            "grid_auto_rows": null,
            "grid_column": null,
            "grid_gap": null,
            "grid_row": null,
            "grid_template_areas": null,
            "grid_template_columns": null,
            "grid_template_rows": null,
            "height": null,
            "justify_content": null,
            "justify_items": null,
            "left": null,
            "margin": null,
            "max_height": null,
            "max_width": null,
            "min_height": null,
            "min_width": null,
            "object_fit": null,
            "object_position": null,
            "order": null,
            "overflow": null,
            "overflow_x": null,
            "overflow_y": null,
            "padding": null,
            "right": null,
            "top": null,
            "visibility": null,
            "width": null
          }
        },
        "8800d1c625834295b7ad79488ddb5c3b": {
          "model_module": "@jupyter-widgets/controls",
          "model_name": "DescriptionStyleModel",
          "model_module_version": "1.5.0",
          "state": {
            "_model_module": "@jupyter-widgets/controls",
            "_model_module_version": "1.5.0",
            "_model_name": "DescriptionStyleModel",
            "_view_count": null,
            "_view_module": "@jupyter-widgets/base",
            "_view_module_version": "1.2.0",
            "_view_name": "StyleView",
            "description_width": ""
          }
        },
        "ab4427499cfd4d488bd707a86ce2aa0b": {
          "model_module": "@jupyter-widgets/base",
          "model_name": "LayoutModel",
          "model_module_version": "1.2.0",
          "state": {
            "_model_module": "@jupyter-widgets/base",
            "_model_module_version": "1.2.0",
            "_model_name": "LayoutModel",
            "_view_count": null,
            "_view_module": "@jupyter-widgets/base",
            "_view_module_version": "1.2.0",
            "_view_name": "LayoutView",
            "align_content": null,
            "align_items": null,
            "align_self": null,
            "border": null,
            "bottom": null,
            "display": null,
            "flex": null,
            "flex_flow": null,
            "grid_area": null,
            "grid_auto_columns": null,
            "grid_auto_flow": null,
            "grid_auto_rows": null,
            "grid_column": null,
            "grid_gap": null,
            "grid_row": null,
            "grid_template_areas": null,
            "grid_template_columns": null,
            "grid_template_rows": null,
            "height": null,
            "justify_content": null,
            "justify_items": null,
            "left": null,
            "margin": null,
            "max_height": null,
            "max_width": null,
            "min_height": null,
            "min_width": null,
            "object_fit": null,
            "object_position": null,
            "order": null,
            "overflow": null,
            "overflow_x": null,
            "overflow_y": null,
            "padding": null,
            "right": null,
            "top": null,
            "visibility": null,
            "width": null
          }
        },
        "e1e14f7c8a2747d8968253c75f19774a": {
          "model_module": "@jupyter-widgets/controls",
          "model_name": "ProgressStyleModel",
          "model_module_version": "1.5.0",
          "state": {
            "_model_module": "@jupyter-widgets/controls",
            "_model_module_version": "1.5.0",
            "_model_name": "ProgressStyleModel",
            "_view_count": null,
            "_view_module": "@jupyter-widgets/base",
            "_view_module_version": "1.2.0",
            "_view_name": "StyleView",
            "bar_color": null,
            "description_width": ""
          }
        },
        "fa518d1946ab4ce59913c13b2f51364f": {
          "model_module": "@jupyter-widgets/base",
          "model_name": "LayoutModel",
          "model_module_version": "1.2.0",
          "state": {
            "_model_module": "@jupyter-widgets/base",
            "_model_module_version": "1.2.0",
            "_model_name": "LayoutModel",
            "_view_count": null,
            "_view_module": "@jupyter-widgets/base",
            "_view_module_version": "1.2.0",
            "_view_name": "LayoutView",
            "align_content": null,
            "align_items": null,
            "align_self": null,
            "border": null,
            "bottom": null,
            "display": null,
            "flex": null,
            "flex_flow": null,
            "grid_area": null,
            "grid_auto_columns": null,
            "grid_auto_flow": null,
            "grid_auto_rows": null,
            "grid_column": null,
            "grid_gap": null,
            "grid_row": null,
            "grid_template_areas": null,
            "grid_template_columns": null,
            "grid_template_rows": null,
            "height": null,
            "justify_content": null,
            "justify_items": null,
            "left": null,
            "margin": null,
            "max_height": null,
            "max_width": null,
            "min_height": null,
            "min_width": null,
            "object_fit": null,
            "object_position": null,
            "order": null,
            "overflow": null,
            "overflow_x": null,
            "overflow_y": null,
            "padding": null,
            "right": null,
            "top": null,
            "visibility": null,
            "width": null
          }
        },
        "acdcee75bb49423f8d6774bc02ce401d": {
          "model_module": "@jupyter-widgets/controls",
          "model_name": "DescriptionStyleModel",
          "model_module_version": "1.5.0",
          "state": {
            "_model_module": "@jupyter-widgets/controls",
            "_model_module_version": "1.5.0",
            "_model_name": "DescriptionStyleModel",
            "_view_count": null,
            "_view_module": "@jupyter-widgets/base",
            "_view_module_version": "1.2.0",
            "_view_name": "StyleView",
            "description_width": ""
          }
        },
        "31a9bbb0b26f48d7acaabfb104d33ea5": {
          "model_module": "@jupyter-widgets/controls",
          "model_name": "HBoxModel",
          "model_module_version": "1.5.0",
          "state": {
            "_dom_classes": [],
            "_model_module": "@jupyter-widgets/controls",
            "_model_module_version": "1.5.0",
            "_model_name": "HBoxModel",
            "_view_count": null,
            "_view_module": "@jupyter-widgets/controls",
            "_view_module_version": "1.5.0",
            "_view_name": "HBoxView",
            "box_style": "",
            "children": [
              "IPY_MODEL_5b5aca7786ac40b9b1798683eff0b3a5",
              "IPY_MODEL_54b8d5ddb5ed44e68f832d6c3baf79a5",
              "IPY_MODEL_7d28e9e8875f4006951d620070959619"
            ],
            "layout": "IPY_MODEL_6fd3c76213fc487681142f90bd335ff0"
          }
        },
        "5b5aca7786ac40b9b1798683eff0b3a5": {
          "model_module": "@jupyter-widgets/controls",
          "model_name": "HTMLModel",
          "model_module_version": "1.5.0",
          "state": {
            "_dom_classes": [],
            "_model_module": "@jupyter-widgets/controls",
            "_model_module_version": "1.5.0",
            "_model_name": "HTMLModel",
            "_view_count": null,
            "_view_module": "@jupyter-widgets/controls",
            "_view_module_version": "1.5.0",
            "_view_name": "HTMLView",
            "description": "",
            "description_tooltip": null,
            "layout": "IPY_MODEL_d20ab2918cb2482cbd8bb1755c8f2069",
            "placeholder": "​",
            "style": "IPY_MODEL_c3d0c6a9ecff4ed2b07c829bcc19d942",
            "value": "validate, epoch=1: 100%"
          }
        },
        "54b8d5ddb5ed44e68f832d6c3baf79a5": {
          "model_module": "@jupyter-widgets/controls",
          "model_name": "FloatProgressModel",
          "model_module_version": "1.5.0",
          "state": {
            "_dom_classes": [],
            "_model_module": "@jupyter-widgets/controls",
            "_model_module_version": "1.5.0",
            "_model_name": "FloatProgressModel",
            "_view_count": null,
            "_view_module": "@jupyter-widgets/controls",
            "_view_module_version": "1.5.0",
            "_view_name": "ProgressView",
            "bar_style": "success",
            "description": "",
            "description_tooltip": null,
            "layout": "IPY_MODEL_1cf4f05b6d1e49469d70270ebaeb7064",
            "max": 2713,
            "min": 0,
            "orientation": "horizontal",
            "style": "IPY_MODEL_2456dc16494c4cba8011b9ae8372a68b",
            "value": 2713
          }
        },
        "7d28e9e8875f4006951d620070959619": {
          "model_module": "@jupyter-widgets/controls",
          "model_name": "HTMLModel",
          "model_module_version": "1.5.0",
          "state": {
            "_dom_classes": [],
            "_model_module": "@jupyter-widgets/controls",
            "_model_module_version": "1.5.0",
            "_model_name": "HTMLModel",
            "_view_count": null,
            "_view_module": "@jupyter-widgets/controls",
            "_view_module_version": "1.5.0",
            "_view_name": "HTMLView",
            "description": "",
            "description_tooltip": null,
            "layout": "IPY_MODEL_f10e58c0697242148fb1d15f69a88903",
            "placeholder": "​",
            "style": "IPY_MODEL_b936ef7c993443bda876554805a6d664",
            "value": " 2713/2713 [00:40&lt;00:00, 71.09it/s, loss=0, acc=100, P=100, R=100, F1=100]"
          }
        },
        "6fd3c76213fc487681142f90bd335ff0": {
          "model_module": "@jupyter-widgets/base",
          "model_name": "LayoutModel",
          "model_module_version": "1.2.0",
          "state": {
            "_model_module": "@jupyter-widgets/base",
            "_model_module_version": "1.2.0",
            "_model_name": "LayoutModel",
            "_view_count": null,
            "_view_module": "@jupyter-widgets/base",
            "_view_module_version": "1.2.0",
            "_view_name": "LayoutView",
            "align_content": null,
            "align_items": null,
            "align_self": null,
            "border": null,
            "bottom": null,
            "display": null,
            "flex": null,
            "flex_flow": null,
            "grid_area": null,
            "grid_auto_columns": null,
            "grid_auto_flow": null,
            "grid_auto_rows": null,
            "grid_column": null,
            "grid_gap": null,
            "grid_row": null,
            "grid_template_areas": null,
            "grid_template_columns": null,
            "grid_template_rows": null,
            "height": null,
            "justify_content": null,
            "justify_items": null,
            "left": null,
            "margin": null,
            "max_height": null,
            "max_width": null,
            "min_height": null,
            "min_width": null,
            "object_fit": null,
            "object_position": null,
            "order": null,
            "overflow": null,
            "overflow_x": null,
            "overflow_y": null,
            "padding": null,
            "right": null,
            "top": null,
            "visibility": null,
            "width": null
          }
        },
        "d20ab2918cb2482cbd8bb1755c8f2069": {
          "model_module": "@jupyter-widgets/base",
          "model_name": "LayoutModel",
          "model_module_version": "1.2.0",
          "state": {
            "_model_module": "@jupyter-widgets/base",
            "_model_module_version": "1.2.0",
            "_model_name": "LayoutModel",
            "_view_count": null,
            "_view_module": "@jupyter-widgets/base",
            "_view_module_version": "1.2.0",
            "_view_name": "LayoutView",
            "align_content": null,
            "align_items": null,
            "align_self": null,
            "border": null,
            "bottom": null,
            "display": null,
            "flex": null,
            "flex_flow": null,
            "grid_area": null,
            "grid_auto_columns": null,
            "grid_auto_flow": null,
            "grid_auto_rows": null,
            "grid_column": null,
            "grid_gap": null,
            "grid_row": null,
            "grid_template_areas": null,
            "grid_template_columns": null,
            "grid_template_rows": null,
            "height": null,
            "justify_content": null,
            "justify_items": null,
            "left": null,
            "margin": null,
            "max_height": null,
            "max_width": null,
            "min_height": null,
            "min_width": null,
            "object_fit": null,
            "object_position": null,
            "order": null,
            "overflow": null,
            "overflow_x": null,
            "overflow_y": null,
            "padding": null,
            "right": null,
            "top": null,
            "visibility": null,
            "width": null
          }
        },
        "c3d0c6a9ecff4ed2b07c829bcc19d942": {
          "model_module": "@jupyter-widgets/controls",
          "model_name": "DescriptionStyleModel",
          "model_module_version": "1.5.0",
          "state": {
            "_model_module": "@jupyter-widgets/controls",
            "_model_module_version": "1.5.0",
            "_model_name": "DescriptionStyleModel",
            "_view_count": null,
            "_view_module": "@jupyter-widgets/base",
            "_view_module_version": "1.2.0",
            "_view_name": "StyleView",
            "description_width": ""
          }
        },
        "1cf4f05b6d1e49469d70270ebaeb7064": {
          "model_module": "@jupyter-widgets/base",
          "model_name": "LayoutModel",
          "model_module_version": "1.2.0",
          "state": {
            "_model_module": "@jupyter-widgets/base",
            "_model_module_version": "1.2.0",
            "_model_name": "LayoutModel",
            "_view_count": null,
            "_view_module": "@jupyter-widgets/base",
            "_view_module_version": "1.2.0",
            "_view_name": "LayoutView",
            "align_content": null,
            "align_items": null,
            "align_self": null,
            "border": null,
            "bottom": null,
            "display": null,
            "flex": null,
            "flex_flow": null,
            "grid_area": null,
            "grid_auto_columns": null,
            "grid_auto_flow": null,
            "grid_auto_rows": null,
            "grid_column": null,
            "grid_gap": null,
            "grid_row": null,
            "grid_template_areas": null,
            "grid_template_columns": null,
            "grid_template_rows": null,
            "height": null,
            "justify_content": null,
            "justify_items": null,
            "left": null,
            "margin": null,
            "max_height": null,
            "max_width": null,
            "min_height": null,
            "min_width": null,
            "object_fit": null,
            "object_position": null,
            "order": null,
            "overflow": null,
            "overflow_x": null,
            "overflow_y": null,
            "padding": null,
            "right": null,
            "top": null,
            "visibility": null,
            "width": null
          }
        },
        "2456dc16494c4cba8011b9ae8372a68b": {
          "model_module": "@jupyter-widgets/controls",
          "model_name": "ProgressStyleModel",
          "model_module_version": "1.5.0",
          "state": {
            "_model_module": "@jupyter-widgets/controls",
            "_model_module_version": "1.5.0",
            "_model_name": "ProgressStyleModel",
            "_view_count": null,
            "_view_module": "@jupyter-widgets/base",
            "_view_module_version": "1.2.0",
            "_view_name": "StyleView",
            "bar_color": null,
            "description_width": ""
          }
        },
        "f10e58c0697242148fb1d15f69a88903": {
          "model_module": "@jupyter-widgets/base",
          "model_name": "LayoutModel",
          "model_module_version": "1.2.0",
          "state": {
            "_model_module": "@jupyter-widgets/base",
            "_model_module_version": "1.2.0",
            "_model_name": "LayoutModel",
            "_view_count": null,
            "_view_module": "@jupyter-widgets/base",
            "_view_module_version": "1.2.0",
            "_view_name": "LayoutView",
            "align_content": null,
            "align_items": null,
            "align_self": null,
            "border": null,
            "bottom": null,
            "display": null,
            "flex": null,
            "flex_flow": null,
            "grid_area": null,
            "grid_auto_columns": null,
            "grid_auto_flow": null,
            "grid_auto_rows": null,
            "grid_column": null,
            "grid_gap": null,
            "grid_row": null,
            "grid_template_areas": null,
            "grid_template_columns": null,
            "grid_template_rows": null,
            "height": null,
            "justify_content": null,
            "justify_items": null,
            "left": null,
            "margin": null,
            "max_height": null,
            "max_width": null,
            "min_height": null,
            "min_width": null,
            "object_fit": null,
            "object_position": null,
            "order": null,
            "overflow": null,
            "overflow_x": null,
            "overflow_y": null,
            "padding": null,
            "right": null,
            "top": null,
            "visibility": null,
            "width": null
          }
        },
        "b936ef7c993443bda876554805a6d664": {
          "model_module": "@jupyter-widgets/controls",
          "model_name": "DescriptionStyleModel",
          "model_module_version": "1.5.0",
          "state": {
            "_model_module": "@jupyter-widgets/controls",
            "_model_module_version": "1.5.0",
            "_model_name": "DescriptionStyleModel",
            "_view_count": null,
            "_view_module": "@jupyter-widgets/base",
            "_view_module_version": "1.2.0",
            "_view_name": "StyleView",
            "description_width": ""
          }
        },
        "26901b7220254dd48792f954ca6428b5": {
          "model_module": "@jupyter-widgets/controls",
          "model_name": "HBoxModel",
          "model_module_version": "1.5.0",
          "state": {
            "_dom_classes": [],
            "_model_module": "@jupyter-widgets/controls",
            "_model_module_version": "1.5.0",
            "_model_name": "HBoxModel",
            "_view_count": null,
            "_view_module": "@jupyter-widgets/controls",
            "_view_module_version": "1.5.0",
            "_view_name": "HBoxView",
            "box_style": "",
            "children": [
              "IPY_MODEL_8fea0c7c5dbe454885d7943bb5de9a9b",
              "IPY_MODEL_8f20286b771348d487c5e0110affa741",
              "IPY_MODEL_902ad1a6e09f445d844520983b507c24"
            ],
            "layout": "IPY_MODEL_77081f44519149e7887124ae482229f8"
          }
        },
        "8fea0c7c5dbe454885d7943bb5de9a9b": {
          "model_module": "@jupyter-widgets/controls",
          "model_name": "HTMLModel",
          "model_module_version": "1.5.0",
          "state": {
            "_dom_classes": [],
            "_model_module": "@jupyter-widgets/controls",
            "_model_module_version": "1.5.0",
            "_model_name": "HTMLModel",
            "_view_count": null,
            "_view_module": "@jupyter-widgets/controls",
            "_view_module_version": "1.5.0",
            "_view_name": "HTMLView",
            "description": "",
            "description_tooltip": null,
            "layout": "IPY_MODEL_4e7980b96ee44665bfd4ff6048cda0d4",
            "placeholder": "​",
            "style": "IPY_MODEL_1a342e0440514dd7a901183dfd95f9b2",
            "value": "train, epoch=2: 100%"
          }
        },
        "8f20286b771348d487c5e0110affa741": {
          "model_module": "@jupyter-widgets/controls",
          "model_name": "FloatProgressModel",
          "model_module_version": "1.5.0",
          "state": {
            "_dom_classes": [],
            "_model_module": "@jupyter-widgets/controls",
            "_model_module_version": "1.5.0",
            "_model_name": "FloatProgressModel",
            "_view_count": null,
            "_view_module": "@jupyter-widgets/controls",
            "_view_module_version": "1.5.0",
            "_view_name": "ProgressView",
            "bar_style": "success",
            "description": "",
            "description_tooltip": null,
            "layout": "IPY_MODEL_9bc69e044cda49f793364a9c4d80e732",
            "max": 12666,
            "min": 0,
            "orientation": "horizontal",
            "style": "IPY_MODEL_4d7b1526f7df49e79b8aa9c181c8e2f5",
            "value": 12666
          }
        },
        "902ad1a6e09f445d844520983b507c24": {
          "model_module": "@jupyter-widgets/controls",
          "model_name": "HTMLModel",
          "model_module_version": "1.5.0",
          "state": {
            "_dom_classes": [],
            "_model_module": "@jupyter-widgets/controls",
            "_model_module_version": "1.5.0",
            "_model_name": "HTMLModel",
            "_view_count": null,
            "_view_module": "@jupyter-widgets/controls",
            "_view_module_version": "1.5.0",
            "_view_name": "HTMLView",
            "description": "",
            "description_tooltip": null,
            "layout": "IPY_MODEL_d49069bdbcdc46dca2509728e70aa429",
            "placeholder": "​",
            "style": "IPY_MODEL_57a0843ca9ae44df8fd27a101cbe041a",
            "value": " 12666/12666 [21:04&lt;00:00, 10.13it/s, loss=0.0024, acc=100, P=100, R=100, F1=100]"
          }
        },
        "77081f44519149e7887124ae482229f8": {
          "model_module": "@jupyter-widgets/base",
          "model_name": "LayoutModel",
          "model_module_version": "1.2.0",
          "state": {
            "_model_module": "@jupyter-widgets/base",
            "_model_module_version": "1.2.0",
            "_model_name": "LayoutModel",
            "_view_count": null,
            "_view_module": "@jupyter-widgets/base",
            "_view_module_version": "1.2.0",
            "_view_name": "LayoutView",
            "align_content": null,
            "align_items": null,
            "align_self": null,
            "border": null,
            "bottom": null,
            "display": null,
            "flex": null,
            "flex_flow": null,
            "grid_area": null,
            "grid_auto_columns": null,
            "grid_auto_flow": null,
            "grid_auto_rows": null,
            "grid_column": null,
            "grid_gap": null,
            "grid_row": null,
            "grid_template_areas": null,
            "grid_template_columns": null,
            "grid_template_rows": null,
            "height": null,
            "justify_content": null,
            "justify_items": null,
            "left": null,
            "margin": null,
            "max_height": null,
            "max_width": null,
            "min_height": null,
            "min_width": null,
            "object_fit": null,
            "object_position": null,
            "order": null,
            "overflow": null,
            "overflow_x": null,
            "overflow_y": null,
            "padding": null,
            "right": null,
            "top": null,
            "visibility": null,
            "width": null
          }
        },
        "4e7980b96ee44665bfd4ff6048cda0d4": {
          "model_module": "@jupyter-widgets/base",
          "model_name": "LayoutModel",
          "model_module_version": "1.2.0",
          "state": {
            "_model_module": "@jupyter-widgets/base",
            "_model_module_version": "1.2.0",
            "_model_name": "LayoutModel",
            "_view_count": null,
            "_view_module": "@jupyter-widgets/base",
            "_view_module_version": "1.2.0",
            "_view_name": "LayoutView",
            "align_content": null,
            "align_items": null,
            "align_self": null,
            "border": null,
            "bottom": null,
            "display": null,
            "flex": null,
            "flex_flow": null,
            "grid_area": null,
            "grid_auto_columns": null,
            "grid_auto_flow": null,
            "grid_auto_rows": null,
            "grid_column": null,
            "grid_gap": null,
            "grid_row": null,
            "grid_template_areas": null,
            "grid_template_columns": null,
            "grid_template_rows": null,
            "height": null,
            "justify_content": null,
            "justify_items": null,
            "left": null,
            "margin": null,
            "max_height": null,
            "max_width": null,
            "min_height": null,
            "min_width": null,
            "object_fit": null,
            "object_position": null,
            "order": null,
            "overflow": null,
            "overflow_x": null,
            "overflow_y": null,
            "padding": null,
            "right": null,
            "top": null,
            "visibility": null,
            "width": null
          }
        },
        "1a342e0440514dd7a901183dfd95f9b2": {
          "model_module": "@jupyter-widgets/controls",
          "model_name": "DescriptionStyleModel",
          "model_module_version": "1.5.0",
          "state": {
            "_model_module": "@jupyter-widgets/controls",
            "_model_module_version": "1.5.0",
            "_model_name": "DescriptionStyleModel",
            "_view_count": null,
            "_view_module": "@jupyter-widgets/base",
            "_view_module_version": "1.2.0",
            "_view_name": "StyleView",
            "description_width": ""
          }
        },
        "9bc69e044cda49f793364a9c4d80e732": {
          "model_module": "@jupyter-widgets/base",
          "model_name": "LayoutModel",
          "model_module_version": "1.2.0",
          "state": {
            "_model_module": "@jupyter-widgets/base",
            "_model_module_version": "1.2.0",
            "_model_name": "LayoutModel",
            "_view_count": null,
            "_view_module": "@jupyter-widgets/base",
            "_view_module_version": "1.2.0",
            "_view_name": "LayoutView",
            "align_content": null,
            "align_items": null,
            "align_self": null,
            "border": null,
            "bottom": null,
            "display": null,
            "flex": null,
            "flex_flow": null,
            "grid_area": null,
            "grid_auto_columns": null,
            "grid_auto_flow": null,
            "grid_auto_rows": null,
            "grid_column": null,
            "grid_gap": null,
            "grid_row": null,
            "grid_template_areas": null,
            "grid_template_columns": null,
            "grid_template_rows": null,
            "height": null,
            "justify_content": null,
            "justify_items": null,
            "left": null,
            "margin": null,
            "max_height": null,
            "max_width": null,
            "min_height": null,
            "min_width": null,
            "object_fit": null,
            "object_position": null,
            "order": null,
            "overflow": null,
            "overflow_x": null,
            "overflow_y": null,
            "padding": null,
            "right": null,
            "top": null,
            "visibility": null,
            "width": null
          }
        },
        "4d7b1526f7df49e79b8aa9c181c8e2f5": {
          "model_module": "@jupyter-widgets/controls",
          "model_name": "ProgressStyleModel",
          "model_module_version": "1.5.0",
          "state": {
            "_model_module": "@jupyter-widgets/controls",
            "_model_module_version": "1.5.0",
            "_model_name": "ProgressStyleModel",
            "_view_count": null,
            "_view_module": "@jupyter-widgets/base",
            "_view_module_version": "1.2.0",
            "_view_name": "StyleView",
            "bar_color": null,
            "description_width": ""
          }
        },
        "d49069bdbcdc46dca2509728e70aa429": {
          "model_module": "@jupyter-widgets/base",
          "model_name": "LayoutModel",
          "model_module_version": "1.2.0",
          "state": {
            "_model_module": "@jupyter-widgets/base",
            "_model_module_version": "1.2.0",
            "_model_name": "LayoutModel",
            "_view_count": null,
            "_view_module": "@jupyter-widgets/base",
            "_view_module_version": "1.2.0",
            "_view_name": "LayoutView",
            "align_content": null,
            "align_items": null,
            "align_self": null,
            "border": null,
            "bottom": null,
            "display": null,
            "flex": null,
            "flex_flow": null,
            "grid_area": null,
            "grid_auto_columns": null,
            "grid_auto_flow": null,
            "grid_auto_rows": null,
            "grid_column": null,
            "grid_gap": null,
            "grid_row": null,
            "grid_template_areas": null,
            "grid_template_columns": null,
            "grid_template_rows": null,
            "height": null,
            "justify_content": null,
            "justify_items": null,
            "left": null,
            "margin": null,
            "max_height": null,
            "max_width": null,
            "min_height": null,
            "min_width": null,
            "object_fit": null,
            "object_position": null,
            "order": null,
            "overflow": null,
            "overflow_x": null,
            "overflow_y": null,
            "padding": null,
            "right": null,
            "top": null,
            "visibility": null,
            "width": null
          }
        },
        "57a0843ca9ae44df8fd27a101cbe041a": {
          "model_module": "@jupyter-widgets/controls",
          "model_name": "DescriptionStyleModel",
          "model_module_version": "1.5.0",
          "state": {
            "_model_module": "@jupyter-widgets/controls",
            "_model_module_version": "1.5.0",
            "_model_name": "DescriptionStyleModel",
            "_view_count": null,
            "_view_module": "@jupyter-widgets/base",
            "_view_module_version": "1.2.0",
            "_view_name": "StyleView",
            "description_width": ""
          }
        },
        "7e7fb971ac084442a2bbe5e7db0163b9": {
          "model_module": "@jupyter-widgets/controls",
          "model_name": "HBoxModel",
          "model_module_version": "1.5.0",
          "state": {
            "_dom_classes": [],
            "_model_module": "@jupyter-widgets/controls",
            "_model_module_version": "1.5.0",
            "_model_name": "HBoxModel",
            "_view_count": null,
            "_view_module": "@jupyter-widgets/controls",
            "_view_module_version": "1.5.0",
            "_view_name": "HBoxView",
            "box_style": "",
            "children": [
              "IPY_MODEL_582c535d6ee14cf5aa3af26546a77590",
              "IPY_MODEL_e15ce37825654c81bf53886043ec23bf",
              "IPY_MODEL_ae186c7a9c714ac7b31b925034fd074a"
            ],
            "layout": "IPY_MODEL_2cabfbd87ae04d169ea36ab424700fa2"
          }
        },
        "582c535d6ee14cf5aa3af26546a77590": {
          "model_module": "@jupyter-widgets/controls",
          "model_name": "HTMLModel",
          "model_module_version": "1.5.0",
          "state": {
            "_dom_classes": [],
            "_model_module": "@jupyter-widgets/controls",
            "_model_module_version": "1.5.0",
            "_model_name": "HTMLModel",
            "_view_count": null,
            "_view_module": "@jupyter-widgets/controls",
            "_view_module_version": "1.5.0",
            "_view_name": "HTMLView",
            "description": "",
            "description_tooltip": null,
            "layout": "IPY_MODEL_a99b8dbae69c4f42b2b578498d9d27db",
            "placeholder": "​",
            "style": "IPY_MODEL_2418a710fb3f420b88360cbea0b5ce8c",
            "value": "validate, epoch=2: 100%"
          }
        },
        "e15ce37825654c81bf53886043ec23bf": {
          "model_module": "@jupyter-widgets/controls",
          "model_name": "FloatProgressModel",
          "model_module_version": "1.5.0",
          "state": {
            "_dom_classes": [],
            "_model_module": "@jupyter-widgets/controls",
            "_model_module_version": "1.5.0",
            "_model_name": "FloatProgressModel",
            "_view_count": null,
            "_view_module": "@jupyter-widgets/controls",
            "_view_module_version": "1.5.0",
            "_view_name": "ProgressView",
            "bar_style": "success",
            "description": "",
            "description_tooltip": null,
            "layout": "IPY_MODEL_fa0ea2fcde66451db43ddf66bfd3e53c",
            "max": 2713,
            "min": 0,
            "orientation": "horizontal",
            "style": "IPY_MODEL_fd01ee85acda4fafbcc8bb1ddd5500b1",
            "value": 2713
          }
        },
        "ae186c7a9c714ac7b31b925034fd074a": {
          "model_module": "@jupyter-widgets/controls",
          "model_name": "HTMLModel",
          "model_module_version": "1.5.0",
          "state": {
            "_dom_classes": [],
            "_model_module": "@jupyter-widgets/controls",
            "_model_module_version": "1.5.0",
            "_model_name": "HTMLModel",
            "_view_count": null,
            "_view_module": "@jupyter-widgets/controls",
            "_view_module_version": "1.5.0",
            "_view_name": "HTMLView",
            "description": "",
            "description_tooltip": null,
            "layout": "IPY_MODEL_00e00eccf75a409fb3d740b4c26ced20",
            "placeholder": "​",
            "style": "IPY_MODEL_8a6bff86036a4129bbcad786cf9af2b1",
            "value": " 2713/2713 [00:40&lt;00:00, 70.73it/s, loss=0, acc=100, P=100, R=100, F1=100]"
          }
        },
        "2cabfbd87ae04d169ea36ab424700fa2": {
          "model_module": "@jupyter-widgets/base",
          "model_name": "LayoutModel",
          "model_module_version": "1.2.0",
          "state": {
            "_model_module": "@jupyter-widgets/base",
            "_model_module_version": "1.2.0",
            "_model_name": "LayoutModel",
            "_view_count": null,
            "_view_module": "@jupyter-widgets/base",
            "_view_module_version": "1.2.0",
            "_view_name": "LayoutView",
            "align_content": null,
            "align_items": null,
            "align_self": null,
            "border": null,
            "bottom": null,
            "display": null,
            "flex": null,
            "flex_flow": null,
            "grid_area": null,
            "grid_auto_columns": null,
            "grid_auto_flow": null,
            "grid_auto_rows": null,
            "grid_column": null,
            "grid_gap": null,
            "grid_row": null,
            "grid_template_areas": null,
            "grid_template_columns": null,
            "grid_template_rows": null,
            "height": null,
            "justify_content": null,
            "justify_items": null,
            "left": null,
            "margin": null,
            "max_height": null,
            "max_width": null,
            "min_height": null,
            "min_width": null,
            "object_fit": null,
            "object_position": null,
            "order": null,
            "overflow": null,
            "overflow_x": null,
            "overflow_y": null,
            "padding": null,
            "right": null,
            "top": null,
            "visibility": null,
            "width": null
          }
        },
        "a99b8dbae69c4f42b2b578498d9d27db": {
          "model_module": "@jupyter-widgets/base",
          "model_name": "LayoutModel",
          "model_module_version": "1.2.0",
          "state": {
            "_model_module": "@jupyter-widgets/base",
            "_model_module_version": "1.2.0",
            "_model_name": "LayoutModel",
            "_view_count": null,
            "_view_module": "@jupyter-widgets/base",
            "_view_module_version": "1.2.0",
            "_view_name": "LayoutView",
            "align_content": null,
            "align_items": null,
            "align_self": null,
            "border": null,
            "bottom": null,
            "display": null,
            "flex": null,
            "flex_flow": null,
            "grid_area": null,
            "grid_auto_columns": null,
            "grid_auto_flow": null,
            "grid_auto_rows": null,
            "grid_column": null,
            "grid_gap": null,
            "grid_row": null,
            "grid_template_areas": null,
            "grid_template_columns": null,
            "grid_template_rows": null,
            "height": null,
            "justify_content": null,
            "justify_items": null,
            "left": null,
            "margin": null,
            "max_height": null,
            "max_width": null,
            "min_height": null,
            "min_width": null,
            "object_fit": null,
            "object_position": null,
            "order": null,
            "overflow": null,
            "overflow_x": null,
            "overflow_y": null,
            "padding": null,
            "right": null,
            "top": null,
            "visibility": null,
            "width": null
          }
        },
        "2418a710fb3f420b88360cbea0b5ce8c": {
          "model_module": "@jupyter-widgets/controls",
          "model_name": "DescriptionStyleModel",
          "model_module_version": "1.5.0",
          "state": {
            "_model_module": "@jupyter-widgets/controls",
            "_model_module_version": "1.5.0",
            "_model_name": "DescriptionStyleModel",
            "_view_count": null,
            "_view_module": "@jupyter-widgets/base",
            "_view_module_version": "1.2.0",
            "_view_name": "StyleView",
            "description_width": ""
          }
        },
        "fa0ea2fcde66451db43ddf66bfd3e53c": {
          "model_module": "@jupyter-widgets/base",
          "model_name": "LayoutModel",
          "model_module_version": "1.2.0",
          "state": {
            "_model_module": "@jupyter-widgets/base",
            "_model_module_version": "1.2.0",
            "_model_name": "LayoutModel",
            "_view_count": null,
            "_view_module": "@jupyter-widgets/base",
            "_view_module_version": "1.2.0",
            "_view_name": "LayoutView",
            "align_content": null,
            "align_items": null,
            "align_self": null,
            "border": null,
            "bottom": null,
            "display": null,
            "flex": null,
            "flex_flow": null,
            "grid_area": null,
            "grid_auto_columns": null,
            "grid_auto_flow": null,
            "grid_auto_rows": null,
            "grid_column": null,
            "grid_gap": null,
            "grid_row": null,
            "grid_template_areas": null,
            "grid_template_columns": null,
            "grid_template_rows": null,
            "height": null,
            "justify_content": null,
            "justify_items": null,
            "left": null,
            "margin": null,
            "max_height": null,
            "max_width": null,
            "min_height": null,
            "min_width": null,
            "object_fit": null,
            "object_position": null,
            "order": null,
            "overflow": null,
            "overflow_x": null,
            "overflow_y": null,
            "padding": null,
            "right": null,
            "top": null,
            "visibility": null,
            "width": null
          }
        },
        "fd01ee85acda4fafbcc8bb1ddd5500b1": {
          "model_module": "@jupyter-widgets/controls",
          "model_name": "ProgressStyleModel",
          "model_module_version": "1.5.0",
          "state": {
            "_model_module": "@jupyter-widgets/controls",
            "_model_module_version": "1.5.0",
            "_model_name": "ProgressStyleModel",
            "_view_count": null,
            "_view_module": "@jupyter-widgets/base",
            "_view_module_version": "1.2.0",
            "_view_name": "StyleView",
            "bar_color": null,
            "description_width": ""
          }
        },
        "00e00eccf75a409fb3d740b4c26ced20": {
          "model_module": "@jupyter-widgets/base",
          "model_name": "LayoutModel",
          "model_module_version": "1.2.0",
          "state": {
            "_model_module": "@jupyter-widgets/base",
            "_model_module_version": "1.2.0",
            "_model_name": "LayoutModel",
            "_view_count": null,
            "_view_module": "@jupyter-widgets/base",
            "_view_module_version": "1.2.0",
            "_view_name": "LayoutView",
            "align_content": null,
            "align_items": null,
            "align_self": null,
            "border": null,
            "bottom": null,
            "display": null,
            "flex": null,
            "flex_flow": null,
            "grid_area": null,
            "grid_auto_columns": null,
            "grid_auto_flow": null,
            "grid_auto_rows": null,
            "grid_column": null,
            "grid_gap": null,
            "grid_row": null,
            "grid_template_areas": null,
            "grid_template_columns": null,
            "grid_template_rows": null,
            "height": null,
            "justify_content": null,
            "justify_items": null,
            "left": null,
            "margin": null,
            "max_height": null,
            "max_width": null,
            "min_height": null,
            "min_width": null,
            "object_fit": null,
            "object_position": null,
            "order": null,
            "overflow": null,
            "overflow_x": null,
            "overflow_y": null,
            "padding": null,
            "right": null,
            "top": null,
            "visibility": null,
            "width": null
          }
        },
        "8a6bff86036a4129bbcad786cf9af2b1": {
          "model_module": "@jupyter-widgets/controls",
          "model_name": "DescriptionStyleModel",
          "model_module_version": "1.5.0",
          "state": {
            "_model_module": "@jupyter-widgets/controls",
            "_model_module_version": "1.5.0",
            "_model_name": "DescriptionStyleModel",
            "_view_count": null,
            "_view_module": "@jupyter-widgets/base",
            "_view_module_version": "1.2.0",
            "_view_name": "StyleView",
            "description_width": ""
          }
        },
        "6c0b5b2bd18844f8900cf53afad7ddfa": {
          "model_module": "@jupyter-widgets/controls",
          "model_name": "HBoxModel",
          "model_module_version": "1.5.0",
          "state": {
            "_dom_classes": [],
            "_model_module": "@jupyter-widgets/controls",
            "_model_module_version": "1.5.0",
            "_model_name": "HBoxModel",
            "_view_count": null,
            "_view_module": "@jupyter-widgets/controls",
            "_view_module_version": "1.5.0",
            "_view_name": "HBoxView",
            "box_style": "",
            "children": [
              "IPY_MODEL_c58cfcb306014690acb6e25a2663808c",
              "IPY_MODEL_c10a84a8c7704709afa54f54f8d2598e",
              "IPY_MODEL_c31b0b95fdde4eb5944b09fe9fd1954a"
            ],
            "layout": "IPY_MODEL_572d6aa0390544aeaee4e62173821121"
          }
        },
        "c58cfcb306014690acb6e25a2663808c": {
          "model_module": "@jupyter-widgets/controls",
          "model_name": "HTMLModel",
          "model_module_version": "1.5.0",
          "state": {
            "_dom_classes": [],
            "_model_module": "@jupyter-widgets/controls",
            "_model_module_version": "1.5.0",
            "_model_name": "HTMLModel",
            "_view_count": null,
            "_view_module": "@jupyter-widgets/controls",
            "_view_module_version": "1.5.0",
            "_view_name": "HTMLView",
            "description": "",
            "description_tooltip": null,
            "layout": "IPY_MODEL_f0feee5ab11d4f9195315895de5efcea",
            "placeholder": "​",
            "style": "IPY_MODEL_98cc55a89a00431294967cddfb11aeb8",
            "value": "train, epoch=3: 100%"
          }
        },
        "c10a84a8c7704709afa54f54f8d2598e": {
          "model_module": "@jupyter-widgets/controls",
          "model_name": "FloatProgressModel",
          "model_module_version": "1.5.0",
          "state": {
            "_dom_classes": [],
            "_model_module": "@jupyter-widgets/controls",
            "_model_module_version": "1.5.0",
            "_model_name": "FloatProgressModel",
            "_view_count": null,
            "_view_module": "@jupyter-widgets/controls",
            "_view_module_version": "1.5.0",
            "_view_name": "ProgressView",
            "bar_style": "success",
            "description": "",
            "description_tooltip": null,
            "layout": "IPY_MODEL_65923d6699bc48679b009f2848202f3e",
            "max": 12666,
            "min": 0,
            "orientation": "horizontal",
            "style": "IPY_MODEL_68d67f98a757424d9a1a9b81a91b327c",
            "value": 12666
          }
        },
        "c31b0b95fdde4eb5944b09fe9fd1954a": {
          "model_module": "@jupyter-widgets/controls",
          "model_name": "HTMLModel",
          "model_module_version": "1.5.0",
          "state": {
            "_dom_classes": [],
            "_model_module": "@jupyter-widgets/controls",
            "_model_module_version": "1.5.0",
            "_model_name": "HTMLModel",
            "_view_count": null,
            "_view_module": "@jupyter-widgets/controls",
            "_view_module_version": "1.5.0",
            "_view_name": "HTMLView",
            "description": "",
            "description_tooltip": null,
            "layout": "IPY_MODEL_18b1cb1333934c7ab799254453254068",
            "placeholder": "​",
            "style": "IPY_MODEL_9cd932ade6dd4a79b8dc8d7a5e3e840d",
            "value": " 12666/12666 [21:02&lt;00:00, 10.20it/s, loss=0.0003, acc=100, P=100, R=100, F1=100]"
          }
        },
        "572d6aa0390544aeaee4e62173821121": {
          "model_module": "@jupyter-widgets/base",
          "model_name": "LayoutModel",
          "model_module_version": "1.2.0",
          "state": {
            "_model_module": "@jupyter-widgets/base",
            "_model_module_version": "1.2.0",
            "_model_name": "LayoutModel",
            "_view_count": null,
            "_view_module": "@jupyter-widgets/base",
            "_view_module_version": "1.2.0",
            "_view_name": "LayoutView",
            "align_content": null,
            "align_items": null,
            "align_self": null,
            "border": null,
            "bottom": null,
            "display": null,
            "flex": null,
            "flex_flow": null,
            "grid_area": null,
            "grid_auto_columns": null,
            "grid_auto_flow": null,
            "grid_auto_rows": null,
            "grid_column": null,
            "grid_gap": null,
            "grid_row": null,
            "grid_template_areas": null,
            "grid_template_columns": null,
            "grid_template_rows": null,
            "height": null,
            "justify_content": null,
            "justify_items": null,
            "left": null,
            "margin": null,
            "max_height": null,
            "max_width": null,
            "min_height": null,
            "min_width": null,
            "object_fit": null,
            "object_position": null,
            "order": null,
            "overflow": null,
            "overflow_x": null,
            "overflow_y": null,
            "padding": null,
            "right": null,
            "top": null,
            "visibility": null,
            "width": null
          }
        },
        "f0feee5ab11d4f9195315895de5efcea": {
          "model_module": "@jupyter-widgets/base",
          "model_name": "LayoutModel",
          "model_module_version": "1.2.0",
          "state": {
            "_model_module": "@jupyter-widgets/base",
            "_model_module_version": "1.2.0",
            "_model_name": "LayoutModel",
            "_view_count": null,
            "_view_module": "@jupyter-widgets/base",
            "_view_module_version": "1.2.0",
            "_view_name": "LayoutView",
            "align_content": null,
            "align_items": null,
            "align_self": null,
            "border": null,
            "bottom": null,
            "display": null,
            "flex": null,
            "flex_flow": null,
            "grid_area": null,
            "grid_auto_columns": null,
            "grid_auto_flow": null,
            "grid_auto_rows": null,
            "grid_column": null,
            "grid_gap": null,
            "grid_row": null,
            "grid_template_areas": null,
            "grid_template_columns": null,
            "grid_template_rows": null,
            "height": null,
            "justify_content": null,
            "justify_items": null,
            "left": null,
            "margin": null,
            "max_height": null,
            "max_width": null,
            "min_height": null,
            "min_width": null,
            "object_fit": null,
            "object_position": null,
            "order": null,
            "overflow": null,
            "overflow_x": null,
            "overflow_y": null,
            "padding": null,
            "right": null,
            "top": null,
            "visibility": null,
            "width": null
          }
        },
        "98cc55a89a00431294967cddfb11aeb8": {
          "model_module": "@jupyter-widgets/controls",
          "model_name": "DescriptionStyleModel",
          "model_module_version": "1.5.0",
          "state": {
            "_model_module": "@jupyter-widgets/controls",
            "_model_module_version": "1.5.0",
            "_model_name": "DescriptionStyleModel",
            "_view_count": null,
            "_view_module": "@jupyter-widgets/base",
            "_view_module_version": "1.2.0",
            "_view_name": "StyleView",
            "description_width": ""
          }
        },
        "65923d6699bc48679b009f2848202f3e": {
          "model_module": "@jupyter-widgets/base",
          "model_name": "LayoutModel",
          "model_module_version": "1.2.0",
          "state": {
            "_model_module": "@jupyter-widgets/base",
            "_model_module_version": "1.2.0",
            "_model_name": "LayoutModel",
            "_view_count": null,
            "_view_module": "@jupyter-widgets/base",
            "_view_module_version": "1.2.0",
            "_view_name": "LayoutView",
            "align_content": null,
            "align_items": null,
            "align_self": null,
            "border": null,
            "bottom": null,
            "display": null,
            "flex": null,
            "flex_flow": null,
            "grid_area": null,
            "grid_auto_columns": null,
            "grid_auto_flow": null,
            "grid_auto_rows": null,
            "grid_column": null,
            "grid_gap": null,
            "grid_row": null,
            "grid_template_areas": null,
            "grid_template_columns": null,
            "grid_template_rows": null,
            "height": null,
            "justify_content": null,
            "justify_items": null,
            "left": null,
            "margin": null,
            "max_height": null,
            "max_width": null,
            "min_height": null,
            "min_width": null,
            "object_fit": null,
            "object_position": null,
            "order": null,
            "overflow": null,
            "overflow_x": null,
            "overflow_y": null,
            "padding": null,
            "right": null,
            "top": null,
            "visibility": null,
            "width": null
          }
        },
        "68d67f98a757424d9a1a9b81a91b327c": {
          "model_module": "@jupyter-widgets/controls",
          "model_name": "ProgressStyleModel",
          "model_module_version": "1.5.0",
          "state": {
            "_model_module": "@jupyter-widgets/controls",
            "_model_module_version": "1.5.0",
            "_model_name": "ProgressStyleModel",
            "_view_count": null,
            "_view_module": "@jupyter-widgets/base",
            "_view_module_version": "1.2.0",
            "_view_name": "StyleView",
            "bar_color": null,
            "description_width": ""
          }
        },
        "18b1cb1333934c7ab799254453254068": {
          "model_module": "@jupyter-widgets/base",
          "model_name": "LayoutModel",
          "model_module_version": "1.2.0",
          "state": {
            "_model_module": "@jupyter-widgets/base",
            "_model_module_version": "1.2.0",
            "_model_name": "LayoutModel",
            "_view_count": null,
            "_view_module": "@jupyter-widgets/base",
            "_view_module_version": "1.2.0",
            "_view_name": "LayoutView",
            "align_content": null,
            "align_items": null,
            "align_self": null,
            "border": null,
            "bottom": null,
            "display": null,
            "flex": null,
            "flex_flow": null,
            "grid_area": null,
            "grid_auto_columns": null,
            "grid_auto_flow": null,
            "grid_auto_rows": null,
            "grid_column": null,
            "grid_gap": null,
            "grid_row": null,
            "grid_template_areas": null,
            "grid_template_columns": null,
            "grid_template_rows": null,
            "height": null,
            "justify_content": null,
            "justify_items": null,
            "left": null,
            "margin": null,
            "max_height": null,
            "max_width": null,
            "min_height": null,
            "min_width": null,
            "object_fit": null,
            "object_position": null,
            "order": null,
            "overflow": null,
            "overflow_x": null,
            "overflow_y": null,
            "padding": null,
            "right": null,
            "top": null,
            "visibility": null,
            "width": null
          }
        },
        "9cd932ade6dd4a79b8dc8d7a5e3e840d": {
          "model_module": "@jupyter-widgets/controls",
          "model_name": "DescriptionStyleModel",
          "model_module_version": "1.5.0",
          "state": {
            "_model_module": "@jupyter-widgets/controls",
            "_model_module_version": "1.5.0",
            "_model_name": "DescriptionStyleModel",
            "_view_count": null,
            "_view_module": "@jupyter-widgets/base",
            "_view_module_version": "1.2.0",
            "_view_name": "StyleView",
            "description_width": ""
          }
        },
        "a794b24001db486aba375cef6867720d": {
          "model_module": "@jupyter-widgets/controls",
          "model_name": "HBoxModel",
          "model_module_version": "1.5.0",
          "state": {
            "_dom_classes": [],
            "_model_module": "@jupyter-widgets/controls",
            "_model_module_version": "1.5.0",
            "_model_name": "HBoxModel",
            "_view_count": null,
            "_view_module": "@jupyter-widgets/controls",
            "_view_module_version": "1.5.0",
            "_view_name": "HBoxView",
            "box_style": "",
            "children": [
              "IPY_MODEL_8e597dce6c01426681d6ad0e79cc8715",
              "IPY_MODEL_8d268a77edb5453d93514cdb42d94de3",
              "IPY_MODEL_26277730b8104b22bbce601fa6574431"
            ],
            "layout": "IPY_MODEL_d2c47237661d4e7da513f4e2ab82c549"
          }
        },
        "8e597dce6c01426681d6ad0e79cc8715": {
          "model_module": "@jupyter-widgets/controls",
          "model_name": "HTMLModel",
          "model_module_version": "1.5.0",
          "state": {
            "_dom_classes": [],
            "_model_module": "@jupyter-widgets/controls",
            "_model_module_version": "1.5.0",
            "_model_name": "HTMLModel",
            "_view_count": null,
            "_view_module": "@jupyter-widgets/controls",
            "_view_module_version": "1.5.0",
            "_view_name": "HTMLView",
            "description": "",
            "description_tooltip": null,
            "layout": "IPY_MODEL_05bb1282753b4d4a88992d70417e901e",
            "placeholder": "​",
            "style": "IPY_MODEL_da568dd9398449e5a32a0512a5e292bc",
            "value": "validate, epoch=3: 100%"
          }
        },
        "8d268a77edb5453d93514cdb42d94de3": {
          "model_module": "@jupyter-widgets/controls",
          "model_name": "FloatProgressModel",
          "model_module_version": "1.5.0",
          "state": {
            "_dom_classes": [],
            "_model_module": "@jupyter-widgets/controls",
            "_model_module_version": "1.5.0",
            "_model_name": "FloatProgressModel",
            "_view_count": null,
            "_view_module": "@jupyter-widgets/controls",
            "_view_module_version": "1.5.0",
            "_view_name": "ProgressView",
            "bar_style": "success",
            "description": "",
            "description_tooltip": null,
            "layout": "IPY_MODEL_df0ddc9c907f45858fdac664b14a2ee2",
            "max": 2713,
            "min": 0,
            "orientation": "horizontal",
            "style": "IPY_MODEL_fa27aa099b604983bb3a5f92f36bbcf3",
            "value": 2713
          }
        },
        "26277730b8104b22bbce601fa6574431": {
          "model_module": "@jupyter-widgets/controls",
          "model_name": "HTMLModel",
          "model_module_version": "1.5.0",
          "state": {
            "_dom_classes": [],
            "_model_module": "@jupyter-widgets/controls",
            "_model_module_version": "1.5.0",
            "_model_name": "HTMLModel",
            "_view_count": null,
            "_view_module": "@jupyter-widgets/controls",
            "_view_module_version": "1.5.0",
            "_view_name": "HTMLView",
            "description": "",
            "description_tooltip": null,
            "layout": "IPY_MODEL_cc91405446db49b19c4ec1be8a0ac740",
            "placeholder": "​",
            "style": "IPY_MODEL_8b7a36b9961d4e6db8a95d9fe6fe0ce5",
            "value": " 2713/2713 [00:39&lt;00:00, 70.34it/s, loss=0, acc=100, P=100, R=100, F1=100]"
          }
        },
        "d2c47237661d4e7da513f4e2ab82c549": {
          "model_module": "@jupyter-widgets/base",
          "model_name": "LayoutModel",
          "model_module_version": "1.2.0",
          "state": {
            "_model_module": "@jupyter-widgets/base",
            "_model_module_version": "1.2.0",
            "_model_name": "LayoutModel",
            "_view_count": null,
            "_view_module": "@jupyter-widgets/base",
            "_view_module_version": "1.2.0",
            "_view_name": "LayoutView",
            "align_content": null,
            "align_items": null,
            "align_self": null,
            "border": null,
            "bottom": null,
            "display": null,
            "flex": null,
            "flex_flow": null,
            "grid_area": null,
            "grid_auto_columns": null,
            "grid_auto_flow": null,
            "grid_auto_rows": null,
            "grid_column": null,
            "grid_gap": null,
            "grid_row": null,
            "grid_template_areas": null,
            "grid_template_columns": null,
            "grid_template_rows": null,
            "height": null,
            "justify_content": null,
            "justify_items": null,
            "left": null,
            "margin": null,
            "max_height": null,
            "max_width": null,
            "min_height": null,
            "min_width": null,
            "object_fit": null,
            "object_position": null,
            "order": null,
            "overflow": null,
            "overflow_x": null,
            "overflow_y": null,
            "padding": null,
            "right": null,
            "top": null,
            "visibility": null,
            "width": null
          }
        },
        "05bb1282753b4d4a88992d70417e901e": {
          "model_module": "@jupyter-widgets/base",
          "model_name": "LayoutModel",
          "model_module_version": "1.2.0",
          "state": {
            "_model_module": "@jupyter-widgets/base",
            "_model_module_version": "1.2.0",
            "_model_name": "LayoutModel",
            "_view_count": null,
            "_view_module": "@jupyter-widgets/base",
            "_view_module_version": "1.2.0",
            "_view_name": "LayoutView",
            "align_content": null,
            "align_items": null,
            "align_self": null,
            "border": null,
            "bottom": null,
            "display": null,
            "flex": null,
            "flex_flow": null,
            "grid_area": null,
            "grid_auto_columns": null,
            "grid_auto_flow": null,
            "grid_auto_rows": null,
            "grid_column": null,
            "grid_gap": null,
            "grid_row": null,
            "grid_template_areas": null,
            "grid_template_columns": null,
            "grid_template_rows": null,
            "height": null,
            "justify_content": null,
            "justify_items": null,
            "left": null,
            "margin": null,
            "max_height": null,
            "max_width": null,
            "min_height": null,
            "min_width": null,
            "object_fit": null,
            "object_position": null,
            "order": null,
            "overflow": null,
            "overflow_x": null,
            "overflow_y": null,
            "padding": null,
            "right": null,
            "top": null,
            "visibility": null,
            "width": null
          }
        },
        "da568dd9398449e5a32a0512a5e292bc": {
          "model_module": "@jupyter-widgets/controls",
          "model_name": "DescriptionStyleModel",
          "model_module_version": "1.5.0",
          "state": {
            "_model_module": "@jupyter-widgets/controls",
            "_model_module_version": "1.5.0",
            "_model_name": "DescriptionStyleModel",
            "_view_count": null,
            "_view_module": "@jupyter-widgets/base",
            "_view_module_version": "1.2.0",
            "_view_name": "StyleView",
            "description_width": ""
          }
        },
        "df0ddc9c907f45858fdac664b14a2ee2": {
          "model_module": "@jupyter-widgets/base",
          "model_name": "LayoutModel",
          "model_module_version": "1.2.0",
          "state": {
            "_model_module": "@jupyter-widgets/base",
            "_model_module_version": "1.2.0",
            "_model_name": "LayoutModel",
            "_view_count": null,
            "_view_module": "@jupyter-widgets/base",
            "_view_module_version": "1.2.0",
            "_view_name": "LayoutView",
            "align_content": null,
            "align_items": null,
            "align_self": null,
            "border": null,
            "bottom": null,
            "display": null,
            "flex": null,
            "flex_flow": null,
            "grid_area": null,
            "grid_auto_columns": null,
            "grid_auto_flow": null,
            "grid_auto_rows": null,
            "grid_column": null,
            "grid_gap": null,
            "grid_row": null,
            "grid_template_areas": null,
            "grid_template_columns": null,
            "grid_template_rows": null,
            "height": null,
            "justify_content": null,
            "justify_items": null,
            "left": null,
            "margin": null,
            "max_height": null,
            "max_width": null,
            "min_height": null,
            "min_width": null,
            "object_fit": null,
            "object_position": null,
            "order": null,
            "overflow": null,
            "overflow_x": null,
            "overflow_y": null,
            "padding": null,
            "right": null,
            "top": null,
            "visibility": null,
            "width": null
          }
        },
        "fa27aa099b604983bb3a5f92f36bbcf3": {
          "model_module": "@jupyter-widgets/controls",
          "model_name": "ProgressStyleModel",
          "model_module_version": "1.5.0",
          "state": {
            "_model_module": "@jupyter-widgets/controls",
            "_model_module_version": "1.5.0",
            "_model_name": "ProgressStyleModel",
            "_view_count": null,
            "_view_module": "@jupyter-widgets/base",
            "_view_module_version": "1.2.0",
            "_view_name": "StyleView",
            "bar_color": null,
            "description_width": ""
          }
        },
        "cc91405446db49b19c4ec1be8a0ac740": {
          "model_module": "@jupyter-widgets/base",
          "model_name": "LayoutModel",
          "model_module_version": "1.2.0",
          "state": {
            "_model_module": "@jupyter-widgets/base",
            "_model_module_version": "1.2.0",
            "_model_name": "LayoutModel",
            "_view_count": null,
            "_view_module": "@jupyter-widgets/base",
            "_view_module_version": "1.2.0",
            "_view_name": "LayoutView",
            "align_content": null,
            "align_items": null,
            "align_self": null,
            "border": null,
            "bottom": null,
            "display": null,
            "flex": null,
            "flex_flow": null,
            "grid_area": null,
            "grid_auto_columns": null,
            "grid_auto_flow": null,
            "grid_auto_rows": null,
            "grid_column": null,
            "grid_gap": null,
            "grid_row": null,
            "grid_template_areas": null,
            "grid_template_columns": null,
            "grid_template_rows": null,
            "height": null,
            "justify_content": null,
            "justify_items": null,
            "left": null,
            "margin": null,
            "max_height": null,
            "max_width": null,
            "min_height": null,
            "min_width": null,
            "object_fit": null,
            "object_position": null,
            "order": null,
            "overflow": null,
            "overflow_x": null,
            "overflow_y": null,
            "padding": null,
            "right": null,
            "top": null,
            "visibility": null,
            "width": null
          }
        },
        "8b7a36b9961d4e6db8a95d9fe6fe0ce5": {
          "model_module": "@jupyter-widgets/controls",
          "model_name": "DescriptionStyleModel",
          "model_module_version": "1.5.0",
          "state": {
            "_model_module": "@jupyter-widgets/controls",
            "_model_module_version": "1.5.0",
            "_model_name": "DescriptionStyleModel",
            "_view_count": null,
            "_view_module": "@jupyter-widgets/base",
            "_view_module_version": "1.2.0",
            "_view_name": "StyleView",
            "description_width": ""
          }
        },
        "6ee0345733084f008230c7715933e6d9": {
          "model_module": "@jupyter-widgets/controls",
          "model_name": "HBoxModel",
          "model_module_version": "1.5.0",
          "state": {
            "_dom_classes": [],
            "_model_module": "@jupyter-widgets/controls",
            "_model_module_version": "1.5.0",
            "_model_name": "HBoxModel",
            "_view_count": null,
            "_view_module": "@jupyter-widgets/controls",
            "_view_module_version": "1.5.0",
            "_view_name": "HBoxView",
            "box_style": "",
            "children": [
              "IPY_MODEL_240c988450e0454f9878884203f4d2d2",
              "IPY_MODEL_a8e5fcfab1794ca0bf018659c14a44be",
              "IPY_MODEL_43b9455e956b40b69ecd65b8e9836d9a"
            ],
            "layout": "IPY_MODEL_e8d7f54682604175b0e359ec47f7b3d5"
          }
        },
        "240c988450e0454f9878884203f4d2d2": {
          "model_module": "@jupyter-widgets/controls",
          "model_name": "HTMLModel",
          "model_module_version": "1.5.0",
          "state": {
            "_dom_classes": [],
            "_model_module": "@jupyter-widgets/controls",
            "_model_module_version": "1.5.0",
            "_model_name": "HTMLModel",
            "_view_count": null,
            "_view_module": "@jupyter-widgets/controls",
            "_view_module_version": "1.5.0",
            "_view_name": "HTMLView",
            "description": "",
            "description_tooltip": null,
            "layout": "IPY_MODEL_1e5b6926c641458c9ac362feba757cf0",
            "placeholder": "​",
            "style": "IPY_MODEL_f456aaaf96d8416f9b735ab53cbf553d",
            "value": "train, epoch=4: 100%"
          }
        },
        "a8e5fcfab1794ca0bf018659c14a44be": {
          "model_module": "@jupyter-widgets/controls",
          "model_name": "FloatProgressModel",
          "model_module_version": "1.5.0",
          "state": {
            "_dom_classes": [],
            "_model_module": "@jupyter-widgets/controls",
            "_model_module_version": "1.5.0",
            "_model_name": "FloatProgressModel",
            "_view_count": null,
            "_view_module": "@jupyter-widgets/controls",
            "_view_module_version": "1.5.0",
            "_view_name": "ProgressView",
            "bar_style": "success",
            "description": "",
            "description_tooltip": null,
            "layout": "IPY_MODEL_a555eb78181a4b05acc0a666113195eb",
            "max": 12666,
            "min": 0,
            "orientation": "horizontal",
            "style": "IPY_MODEL_05760aa8365b4b29a46da2a68812f8a6",
            "value": 12666
          }
        },
        "43b9455e956b40b69ecd65b8e9836d9a": {
          "model_module": "@jupyter-widgets/controls",
          "model_name": "HTMLModel",
          "model_module_version": "1.5.0",
          "state": {
            "_dom_classes": [],
            "_model_module": "@jupyter-widgets/controls",
            "_model_module_version": "1.5.0",
            "_model_name": "HTMLModel",
            "_view_count": null,
            "_view_module": "@jupyter-widgets/controls",
            "_view_module_version": "1.5.0",
            "_view_name": "HTMLView",
            "description": "",
            "description_tooltip": null,
            "layout": "IPY_MODEL_7715c6275dd84efe8bca35a53218cc2d",
            "placeholder": "​",
            "style": "IPY_MODEL_932dbe9443604774a846bdeeede67bc7",
            "value": " 12666/12666 [21:04&lt;00:00, 10.17it/s, loss=0.0015, acc=100, P=100, R=100, F1=100]"
          }
        },
        "e8d7f54682604175b0e359ec47f7b3d5": {
          "model_module": "@jupyter-widgets/base",
          "model_name": "LayoutModel",
          "model_module_version": "1.2.0",
          "state": {
            "_model_module": "@jupyter-widgets/base",
            "_model_module_version": "1.2.0",
            "_model_name": "LayoutModel",
            "_view_count": null,
            "_view_module": "@jupyter-widgets/base",
            "_view_module_version": "1.2.0",
            "_view_name": "LayoutView",
            "align_content": null,
            "align_items": null,
            "align_self": null,
            "border": null,
            "bottom": null,
            "display": null,
            "flex": null,
            "flex_flow": null,
            "grid_area": null,
            "grid_auto_columns": null,
            "grid_auto_flow": null,
            "grid_auto_rows": null,
            "grid_column": null,
            "grid_gap": null,
            "grid_row": null,
            "grid_template_areas": null,
            "grid_template_columns": null,
            "grid_template_rows": null,
            "height": null,
            "justify_content": null,
            "justify_items": null,
            "left": null,
            "margin": null,
            "max_height": null,
            "max_width": null,
            "min_height": null,
            "min_width": null,
            "object_fit": null,
            "object_position": null,
            "order": null,
            "overflow": null,
            "overflow_x": null,
            "overflow_y": null,
            "padding": null,
            "right": null,
            "top": null,
            "visibility": null,
            "width": null
          }
        },
        "1e5b6926c641458c9ac362feba757cf0": {
          "model_module": "@jupyter-widgets/base",
          "model_name": "LayoutModel",
          "model_module_version": "1.2.0",
          "state": {
            "_model_module": "@jupyter-widgets/base",
            "_model_module_version": "1.2.0",
            "_model_name": "LayoutModel",
            "_view_count": null,
            "_view_module": "@jupyter-widgets/base",
            "_view_module_version": "1.2.0",
            "_view_name": "LayoutView",
            "align_content": null,
            "align_items": null,
            "align_self": null,
            "border": null,
            "bottom": null,
            "display": null,
            "flex": null,
            "flex_flow": null,
            "grid_area": null,
            "grid_auto_columns": null,
            "grid_auto_flow": null,
            "grid_auto_rows": null,
            "grid_column": null,
            "grid_gap": null,
            "grid_row": null,
            "grid_template_areas": null,
            "grid_template_columns": null,
            "grid_template_rows": null,
            "height": null,
            "justify_content": null,
            "justify_items": null,
            "left": null,
            "margin": null,
            "max_height": null,
            "max_width": null,
            "min_height": null,
            "min_width": null,
            "object_fit": null,
            "object_position": null,
            "order": null,
            "overflow": null,
            "overflow_x": null,
            "overflow_y": null,
            "padding": null,
            "right": null,
            "top": null,
            "visibility": null,
            "width": null
          }
        },
        "f456aaaf96d8416f9b735ab53cbf553d": {
          "model_module": "@jupyter-widgets/controls",
          "model_name": "DescriptionStyleModel",
          "model_module_version": "1.5.0",
          "state": {
            "_model_module": "@jupyter-widgets/controls",
            "_model_module_version": "1.5.0",
            "_model_name": "DescriptionStyleModel",
            "_view_count": null,
            "_view_module": "@jupyter-widgets/base",
            "_view_module_version": "1.2.0",
            "_view_name": "StyleView",
            "description_width": ""
          }
        },
        "a555eb78181a4b05acc0a666113195eb": {
          "model_module": "@jupyter-widgets/base",
          "model_name": "LayoutModel",
          "model_module_version": "1.2.0",
          "state": {
            "_model_module": "@jupyter-widgets/base",
            "_model_module_version": "1.2.0",
            "_model_name": "LayoutModel",
            "_view_count": null,
            "_view_module": "@jupyter-widgets/base",
            "_view_module_version": "1.2.0",
            "_view_name": "LayoutView",
            "align_content": null,
            "align_items": null,
            "align_self": null,
            "border": null,
            "bottom": null,
            "display": null,
            "flex": null,
            "flex_flow": null,
            "grid_area": null,
            "grid_auto_columns": null,
            "grid_auto_flow": null,
            "grid_auto_rows": null,
            "grid_column": null,
            "grid_gap": null,
            "grid_row": null,
            "grid_template_areas": null,
            "grid_template_columns": null,
            "grid_template_rows": null,
            "height": null,
            "justify_content": null,
            "justify_items": null,
            "left": null,
            "margin": null,
            "max_height": null,
            "max_width": null,
            "min_height": null,
            "min_width": null,
            "object_fit": null,
            "object_position": null,
            "order": null,
            "overflow": null,
            "overflow_x": null,
            "overflow_y": null,
            "padding": null,
            "right": null,
            "top": null,
            "visibility": null,
            "width": null
          }
        },
        "05760aa8365b4b29a46da2a68812f8a6": {
          "model_module": "@jupyter-widgets/controls",
          "model_name": "ProgressStyleModel",
          "model_module_version": "1.5.0",
          "state": {
            "_model_module": "@jupyter-widgets/controls",
            "_model_module_version": "1.5.0",
            "_model_name": "ProgressStyleModel",
            "_view_count": null,
            "_view_module": "@jupyter-widgets/base",
            "_view_module_version": "1.2.0",
            "_view_name": "StyleView",
            "bar_color": null,
            "description_width": ""
          }
        },
        "7715c6275dd84efe8bca35a53218cc2d": {
          "model_module": "@jupyter-widgets/base",
          "model_name": "LayoutModel",
          "model_module_version": "1.2.0",
          "state": {
            "_model_module": "@jupyter-widgets/base",
            "_model_module_version": "1.2.0",
            "_model_name": "LayoutModel",
            "_view_count": null,
            "_view_module": "@jupyter-widgets/base",
            "_view_module_version": "1.2.0",
            "_view_name": "LayoutView",
            "align_content": null,
            "align_items": null,
            "align_self": null,
            "border": null,
            "bottom": null,
            "display": null,
            "flex": null,
            "flex_flow": null,
            "grid_area": null,
            "grid_auto_columns": null,
            "grid_auto_flow": null,
            "grid_auto_rows": null,
            "grid_column": null,
            "grid_gap": null,
            "grid_row": null,
            "grid_template_areas": null,
            "grid_template_columns": null,
            "grid_template_rows": null,
            "height": null,
            "justify_content": null,
            "justify_items": null,
            "left": null,
            "margin": null,
            "max_height": null,
            "max_width": null,
            "min_height": null,
            "min_width": null,
            "object_fit": null,
            "object_position": null,
            "order": null,
            "overflow": null,
            "overflow_x": null,
            "overflow_y": null,
            "padding": null,
            "right": null,
            "top": null,
            "visibility": null,
            "width": null
          }
        },
        "932dbe9443604774a846bdeeede67bc7": {
          "model_module": "@jupyter-widgets/controls",
          "model_name": "DescriptionStyleModel",
          "model_module_version": "1.5.0",
          "state": {
            "_model_module": "@jupyter-widgets/controls",
            "_model_module_version": "1.5.0",
            "_model_name": "DescriptionStyleModel",
            "_view_count": null,
            "_view_module": "@jupyter-widgets/base",
            "_view_module_version": "1.2.0",
            "_view_name": "StyleView",
            "description_width": ""
          }
        },
        "549b03afeb5d4361b32e4bedb5e4ff95": {
          "model_module": "@jupyter-widgets/controls",
          "model_name": "HBoxModel",
          "model_module_version": "1.5.0",
          "state": {
            "_dom_classes": [],
            "_model_module": "@jupyter-widgets/controls",
            "_model_module_version": "1.5.0",
            "_model_name": "HBoxModel",
            "_view_count": null,
            "_view_module": "@jupyter-widgets/controls",
            "_view_module_version": "1.5.0",
            "_view_name": "HBoxView",
            "box_style": "",
            "children": [
              "IPY_MODEL_1cfeea42fe9643ea9551ec7ea3985ea1",
              "IPY_MODEL_98e50ccbc5ac4bd4b477a7608aa470b8",
              "IPY_MODEL_42a2cb051b0b4622b085ece7ba0c4d25"
            ],
            "layout": "IPY_MODEL_31d4820927af43469f976d01965f00a1"
          }
        },
        "1cfeea42fe9643ea9551ec7ea3985ea1": {
          "model_module": "@jupyter-widgets/controls",
          "model_name": "HTMLModel",
          "model_module_version": "1.5.0",
          "state": {
            "_dom_classes": [],
            "_model_module": "@jupyter-widgets/controls",
            "_model_module_version": "1.5.0",
            "_model_name": "HTMLModel",
            "_view_count": null,
            "_view_module": "@jupyter-widgets/controls",
            "_view_module_version": "1.5.0",
            "_view_name": "HTMLView",
            "description": "",
            "description_tooltip": null,
            "layout": "IPY_MODEL_f7beb68be8aa46759b12dd1de6b3bc91",
            "placeholder": "​",
            "style": "IPY_MODEL_5feabed34a1b4570b2d382a923a5fbb1",
            "value": "validate, epoch=4: 100%"
          }
        },
        "98e50ccbc5ac4bd4b477a7608aa470b8": {
          "model_module": "@jupyter-widgets/controls",
          "model_name": "FloatProgressModel",
          "model_module_version": "1.5.0",
          "state": {
            "_dom_classes": [],
            "_model_module": "@jupyter-widgets/controls",
            "_model_module_version": "1.5.0",
            "_model_name": "FloatProgressModel",
            "_view_count": null,
            "_view_module": "@jupyter-widgets/controls",
            "_view_module_version": "1.5.0",
            "_view_name": "ProgressView",
            "bar_style": "success",
            "description": "",
            "description_tooltip": null,
            "layout": "IPY_MODEL_6783108a50ff4143b93ec16154be8fd8",
            "max": 2713,
            "min": 0,
            "orientation": "horizontal",
            "style": "IPY_MODEL_7a33886604dd4a23af713da3ecd7b5f6",
            "value": 2713
          }
        },
        "42a2cb051b0b4622b085ece7ba0c4d25": {
          "model_module": "@jupyter-widgets/controls",
          "model_name": "HTMLModel",
          "model_module_version": "1.5.0",
          "state": {
            "_dom_classes": [],
            "_model_module": "@jupyter-widgets/controls",
            "_model_module_version": "1.5.0",
            "_model_name": "HTMLModel",
            "_view_count": null,
            "_view_module": "@jupyter-widgets/controls",
            "_view_module_version": "1.5.0",
            "_view_name": "HTMLView",
            "description": "",
            "description_tooltip": null,
            "layout": "IPY_MODEL_79234dc170e643c48eb1457dad29ead2",
            "placeholder": "​",
            "style": "IPY_MODEL_4f6484e4e11248ed8a22a45ef73ae203",
            "value": " 2713/2713 [00:40&lt;00:00, 70.85it/s, loss=0, acc=100, P=100, R=100, F1=100]"
          }
        },
        "31d4820927af43469f976d01965f00a1": {
          "model_module": "@jupyter-widgets/base",
          "model_name": "LayoutModel",
          "model_module_version": "1.2.0",
          "state": {
            "_model_module": "@jupyter-widgets/base",
            "_model_module_version": "1.2.0",
            "_model_name": "LayoutModel",
            "_view_count": null,
            "_view_module": "@jupyter-widgets/base",
            "_view_module_version": "1.2.0",
            "_view_name": "LayoutView",
            "align_content": null,
            "align_items": null,
            "align_self": null,
            "border": null,
            "bottom": null,
            "display": null,
            "flex": null,
            "flex_flow": null,
            "grid_area": null,
            "grid_auto_columns": null,
            "grid_auto_flow": null,
            "grid_auto_rows": null,
            "grid_column": null,
            "grid_gap": null,
            "grid_row": null,
            "grid_template_areas": null,
            "grid_template_columns": null,
            "grid_template_rows": null,
            "height": null,
            "justify_content": null,
            "justify_items": null,
            "left": null,
            "margin": null,
            "max_height": null,
            "max_width": null,
            "min_height": null,
            "min_width": null,
            "object_fit": null,
            "object_position": null,
            "order": null,
            "overflow": null,
            "overflow_x": null,
            "overflow_y": null,
            "padding": null,
            "right": null,
            "top": null,
            "visibility": null,
            "width": null
          }
        },
        "f7beb68be8aa46759b12dd1de6b3bc91": {
          "model_module": "@jupyter-widgets/base",
          "model_name": "LayoutModel",
          "model_module_version": "1.2.0",
          "state": {
            "_model_module": "@jupyter-widgets/base",
            "_model_module_version": "1.2.0",
            "_model_name": "LayoutModel",
            "_view_count": null,
            "_view_module": "@jupyter-widgets/base",
            "_view_module_version": "1.2.0",
            "_view_name": "LayoutView",
            "align_content": null,
            "align_items": null,
            "align_self": null,
            "border": null,
            "bottom": null,
            "display": null,
            "flex": null,
            "flex_flow": null,
            "grid_area": null,
            "grid_auto_columns": null,
            "grid_auto_flow": null,
            "grid_auto_rows": null,
            "grid_column": null,
            "grid_gap": null,
            "grid_row": null,
            "grid_template_areas": null,
            "grid_template_columns": null,
            "grid_template_rows": null,
            "height": null,
            "justify_content": null,
            "justify_items": null,
            "left": null,
            "margin": null,
            "max_height": null,
            "max_width": null,
            "min_height": null,
            "min_width": null,
            "object_fit": null,
            "object_position": null,
            "order": null,
            "overflow": null,
            "overflow_x": null,
            "overflow_y": null,
            "padding": null,
            "right": null,
            "top": null,
            "visibility": null,
            "width": null
          }
        },
        "5feabed34a1b4570b2d382a923a5fbb1": {
          "model_module": "@jupyter-widgets/controls",
          "model_name": "DescriptionStyleModel",
          "model_module_version": "1.5.0",
          "state": {
            "_model_module": "@jupyter-widgets/controls",
            "_model_module_version": "1.5.0",
            "_model_name": "DescriptionStyleModel",
            "_view_count": null,
            "_view_module": "@jupyter-widgets/base",
            "_view_module_version": "1.2.0",
            "_view_name": "StyleView",
            "description_width": ""
          }
        },
        "6783108a50ff4143b93ec16154be8fd8": {
          "model_module": "@jupyter-widgets/base",
          "model_name": "LayoutModel",
          "model_module_version": "1.2.0",
          "state": {
            "_model_module": "@jupyter-widgets/base",
            "_model_module_version": "1.2.0",
            "_model_name": "LayoutModel",
            "_view_count": null,
            "_view_module": "@jupyter-widgets/base",
            "_view_module_version": "1.2.0",
            "_view_name": "LayoutView",
            "align_content": null,
            "align_items": null,
            "align_self": null,
            "border": null,
            "bottom": null,
            "display": null,
            "flex": null,
            "flex_flow": null,
            "grid_area": null,
            "grid_auto_columns": null,
            "grid_auto_flow": null,
            "grid_auto_rows": null,
            "grid_column": null,
            "grid_gap": null,
            "grid_row": null,
            "grid_template_areas": null,
            "grid_template_columns": null,
            "grid_template_rows": null,
            "height": null,
            "justify_content": null,
            "justify_items": null,
            "left": null,
            "margin": null,
            "max_height": null,
            "max_width": null,
            "min_height": null,
            "min_width": null,
            "object_fit": null,
            "object_position": null,
            "order": null,
            "overflow": null,
            "overflow_x": null,
            "overflow_y": null,
            "padding": null,
            "right": null,
            "top": null,
            "visibility": null,
            "width": null
          }
        },
        "7a33886604dd4a23af713da3ecd7b5f6": {
          "model_module": "@jupyter-widgets/controls",
          "model_name": "ProgressStyleModel",
          "model_module_version": "1.5.0",
          "state": {
            "_model_module": "@jupyter-widgets/controls",
            "_model_module_version": "1.5.0",
            "_model_name": "ProgressStyleModel",
            "_view_count": null,
            "_view_module": "@jupyter-widgets/base",
            "_view_module_version": "1.2.0",
            "_view_name": "StyleView",
            "bar_color": null,
            "description_width": ""
          }
        },
        "79234dc170e643c48eb1457dad29ead2": {
          "model_module": "@jupyter-widgets/base",
          "model_name": "LayoutModel",
          "model_module_version": "1.2.0",
          "state": {
            "_model_module": "@jupyter-widgets/base",
            "_model_module_version": "1.2.0",
            "_model_name": "LayoutModel",
            "_view_count": null,
            "_view_module": "@jupyter-widgets/base",
            "_view_module_version": "1.2.0",
            "_view_name": "LayoutView",
            "align_content": null,
            "align_items": null,
            "align_self": null,
            "border": null,
            "bottom": null,
            "display": null,
            "flex": null,
            "flex_flow": null,
            "grid_area": null,
            "grid_auto_columns": null,
            "grid_auto_flow": null,
            "grid_auto_rows": null,
            "grid_column": null,
            "grid_gap": null,
            "grid_row": null,
            "grid_template_areas": null,
            "grid_template_columns": null,
            "grid_template_rows": null,
            "height": null,
            "justify_content": null,
            "justify_items": null,
            "left": null,
            "margin": null,
            "max_height": null,
            "max_width": null,
            "min_height": null,
            "min_width": null,
            "object_fit": null,
            "object_position": null,
            "order": null,
            "overflow": null,
            "overflow_x": null,
            "overflow_y": null,
            "padding": null,
            "right": null,
            "top": null,
            "visibility": null,
            "width": null
          }
        },
        "4f6484e4e11248ed8a22a45ef73ae203": {
          "model_module": "@jupyter-widgets/controls",
          "model_name": "DescriptionStyleModel",
          "model_module_version": "1.5.0",
          "state": {
            "_model_module": "@jupyter-widgets/controls",
            "_model_module_version": "1.5.0",
            "_model_name": "DescriptionStyleModel",
            "_view_count": null,
            "_view_module": "@jupyter-widgets/base",
            "_view_module_version": "1.2.0",
            "_view_name": "StyleView",
            "description_width": ""
          }
        },
        "48c90918faf14e60aea0887974f9d22f": {
          "model_module": "@jupyter-widgets/controls",
          "model_name": "HBoxModel",
          "model_module_version": "1.5.0",
          "state": {
            "_dom_classes": [],
            "_model_module": "@jupyter-widgets/controls",
            "_model_module_version": "1.5.0",
            "_model_name": "HBoxModel",
            "_view_count": null,
            "_view_module": "@jupyter-widgets/controls",
            "_view_module_version": "1.5.0",
            "_view_name": "HBoxView",
            "box_style": "",
            "children": [
              "IPY_MODEL_776e6e7322ae426f8b8d9ada413b8071",
              "IPY_MODEL_12ab2a4e13c749c09edefdfdbfa367e5",
              "IPY_MODEL_a983d2ad35e248d4a794400a227b04a3"
            ],
            "layout": "IPY_MODEL_09ecef22144d47a8a6e774338b4401f7"
          }
        },
        "776e6e7322ae426f8b8d9ada413b8071": {
          "model_module": "@jupyter-widgets/controls",
          "model_name": "HTMLModel",
          "model_module_version": "1.5.0",
          "state": {
            "_dom_classes": [],
            "_model_module": "@jupyter-widgets/controls",
            "_model_module_version": "1.5.0",
            "_model_name": "HTMLModel",
            "_view_count": null,
            "_view_module": "@jupyter-widgets/controls",
            "_view_module_version": "1.5.0",
            "_view_name": "HTMLView",
            "description": "",
            "description_tooltip": null,
            "layout": "IPY_MODEL_c5ff8fca9dfe4f3098905ce346c7da4b",
            "placeholder": "​",
            "style": "IPY_MODEL_0672ed4e202c44e79118a1aaabc41f23",
            "value": "train, epoch=5: 100%"
          }
        },
        "12ab2a4e13c749c09edefdfdbfa367e5": {
          "model_module": "@jupyter-widgets/controls",
          "model_name": "FloatProgressModel",
          "model_module_version": "1.5.0",
          "state": {
            "_dom_classes": [],
            "_model_module": "@jupyter-widgets/controls",
            "_model_module_version": "1.5.0",
            "_model_name": "FloatProgressModel",
            "_view_count": null,
            "_view_module": "@jupyter-widgets/controls",
            "_view_module_version": "1.5.0",
            "_view_name": "ProgressView",
            "bar_style": "success",
            "description": "",
            "description_tooltip": null,
            "layout": "IPY_MODEL_89d2fb8eb6c24806b51a7f6e4bf85b8e",
            "max": 12666,
            "min": 0,
            "orientation": "horizontal",
            "style": "IPY_MODEL_41bf2bc7d5c5495cbcbbf2ba3b6ed04a",
            "value": 12666
          }
        },
        "a983d2ad35e248d4a794400a227b04a3": {
          "model_module": "@jupyter-widgets/controls",
          "model_name": "HTMLModel",
          "model_module_version": "1.5.0",
          "state": {
            "_dom_classes": [],
            "_model_module": "@jupyter-widgets/controls",
            "_model_module_version": "1.5.0",
            "_model_name": "HTMLModel",
            "_view_count": null,
            "_view_module": "@jupyter-widgets/controls",
            "_view_module_version": "1.5.0",
            "_view_name": "HTMLView",
            "description": "",
            "description_tooltip": null,
            "layout": "IPY_MODEL_e3217b06ca6a4d68aed78b35054805d7",
            "placeholder": "​",
            "style": "IPY_MODEL_897fc73d76764bf2a773e8db434eb243",
            "value": " 12666/12666 [20:55&lt;00:00, 10.25it/s, loss=0.0006, acc=100, P=100, R=100, F1=100]"
          }
        },
        "09ecef22144d47a8a6e774338b4401f7": {
          "model_module": "@jupyter-widgets/base",
          "model_name": "LayoutModel",
          "model_module_version": "1.2.0",
          "state": {
            "_model_module": "@jupyter-widgets/base",
            "_model_module_version": "1.2.0",
            "_model_name": "LayoutModel",
            "_view_count": null,
            "_view_module": "@jupyter-widgets/base",
            "_view_module_version": "1.2.0",
            "_view_name": "LayoutView",
            "align_content": null,
            "align_items": null,
            "align_self": null,
            "border": null,
            "bottom": null,
            "display": null,
            "flex": null,
            "flex_flow": null,
            "grid_area": null,
            "grid_auto_columns": null,
            "grid_auto_flow": null,
            "grid_auto_rows": null,
            "grid_column": null,
            "grid_gap": null,
            "grid_row": null,
            "grid_template_areas": null,
            "grid_template_columns": null,
            "grid_template_rows": null,
            "height": null,
            "justify_content": null,
            "justify_items": null,
            "left": null,
            "margin": null,
            "max_height": null,
            "max_width": null,
            "min_height": null,
            "min_width": null,
            "object_fit": null,
            "object_position": null,
            "order": null,
            "overflow": null,
            "overflow_x": null,
            "overflow_y": null,
            "padding": null,
            "right": null,
            "top": null,
            "visibility": null,
            "width": null
          }
        },
        "c5ff8fca9dfe4f3098905ce346c7da4b": {
          "model_module": "@jupyter-widgets/base",
          "model_name": "LayoutModel",
          "model_module_version": "1.2.0",
          "state": {
            "_model_module": "@jupyter-widgets/base",
            "_model_module_version": "1.2.0",
            "_model_name": "LayoutModel",
            "_view_count": null,
            "_view_module": "@jupyter-widgets/base",
            "_view_module_version": "1.2.0",
            "_view_name": "LayoutView",
            "align_content": null,
            "align_items": null,
            "align_self": null,
            "border": null,
            "bottom": null,
            "display": null,
            "flex": null,
            "flex_flow": null,
            "grid_area": null,
            "grid_auto_columns": null,
            "grid_auto_flow": null,
            "grid_auto_rows": null,
            "grid_column": null,
            "grid_gap": null,
            "grid_row": null,
            "grid_template_areas": null,
            "grid_template_columns": null,
            "grid_template_rows": null,
            "height": null,
            "justify_content": null,
            "justify_items": null,
            "left": null,
            "margin": null,
            "max_height": null,
            "max_width": null,
            "min_height": null,
            "min_width": null,
            "object_fit": null,
            "object_position": null,
            "order": null,
            "overflow": null,
            "overflow_x": null,
            "overflow_y": null,
            "padding": null,
            "right": null,
            "top": null,
            "visibility": null,
            "width": null
          }
        },
        "0672ed4e202c44e79118a1aaabc41f23": {
          "model_module": "@jupyter-widgets/controls",
          "model_name": "DescriptionStyleModel",
          "model_module_version": "1.5.0",
          "state": {
            "_model_module": "@jupyter-widgets/controls",
            "_model_module_version": "1.5.0",
            "_model_name": "DescriptionStyleModel",
            "_view_count": null,
            "_view_module": "@jupyter-widgets/base",
            "_view_module_version": "1.2.0",
            "_view_name": "StyleView",
            "description_width": ""
          }
        },
        "89d2fb8eb6c24806b51a7f6e4bf85b8e": {
          "model_module": "@jupyter-widgets/base",
          "model_name": "LayoutModel",
          "model_module_version": "1.2.0",
          "state": {
            "_model_module": "@jupyter-widgets/base",
            "_model_module_version": "1.2.0",
            "_model_name": "LayoutModel",
            "_view_count": null,
            "_view_module": "@jupyter-widgets/base",
            "_view_module_version": "1.2.0",
            "_view_name": "LayoutView",
            "align_content": null,
            "align_items": null,
            "align_self": null,
            "border": null,
            "bottom": null,
            "display": null,
            "flex": null,
            "flex_flow": null,
            "grid_area": null,
            "grid_auto_columns": null,
            "grid_auto_flow": null,
            "grid_auto_rows": null,
            "grid_column": null,
            "grid_gap": null,
            "grid_row": null,
            "grid_template_areas": null,
            "grid_template_columns": null,
            "grid_template_rows": null,
            "height": null,
            "justify_content": null,
            "justify_items": null,
            "left": null,
            "margin": null,
            "max_height": null,
            "max_width": null,
            "min_height": null,
            "min_width": null,
            "object_fit": null,
            "object_position": null,
            "order": null,
            "overflow": null,
            "overflow_x": null,
            "overflow_y": null,
            "padding": null,
            "right": null,
            "top": null,
            "visibility": null,
            "width": null
          }
        },
        "41bf2bc7d5c5495cbcbbf2ba3b6ed04a": {
          "model_module": "@jupyter-widgets/controls",
          "model_name": "ProgressStyleModel",
          "model_module_version": "1.5.0",
          "state": {
            "_model_module": "@jupyter-widgets/controls",
            "_model_module_version": "1.5.0",
            "_model_name": "ProgressStyleModel",
            "_view_count": null,
            "_view_module": "@jupyter-widgets/base",
            "_view_module_version": "1.2.0",
            "_view_name": "StyleView",
            "bar_color": null,
            "description_width": ""
          }
        },
        "e3217b06ca6a4d68aed78b35054805d7": {
          "model_module": "@jupyter-widgets/base",
          "model_name": "LayoutModel",
          "model_module_version": "1.2.0",
          "state": {
            "_model_module": "@jupyter-widgets/base",
            "_model_module_version": "1.2.0",
            "_model_name": "LayoutModel",
            "_view_count": null,
            "_view_module": "@jupyter-widgets/base",
            "_view_module_version": "1.2.0",
            "_view_name": "LayoutView",
            "align_content": null,
            "align_items": null,
            "align_self": null,
            "border": null,
            "bottom": null,
            "display": null,
            "flex": null,
            "flex_flow": null,
            "grid_area": null,
            "grid_auto_columns": null,
            "grid_auto_flow": null,
            "grid_auto_rows": null,
            "grid_column": null,
            "grid_gap": null,
            "grid_row": null,
            "grid_template_areas": null,
            "grid_template_columns": null,
            "grid_template_rows": null,
            "height": null,
            "justify_content": null,
            "justify_items": null,
            "left": null,
            "margin": null,
            "max_height": null,
            "max_width": null,
            "min_height": null,
            "min_width": null,
            "object_fit": null,
            "object_position": null,
            "order": null,
            "overflow": null,
            "overflow_x": null,
            "overflow_y": null,
            "padding": null,
            "right": null,
            "top": null,
            "visibility": null,
            "width": null
          }
        },
        "897fc73d76764bf2a773e8db434eb243": {
          "model_module": "@jupyter-widgets/controls",
          "model_name": "DescriptionStyleModel",
          "model_module_version": "1.5.0",
          "state": {
            "_model_module": "@jupyter-widgets/controls",
            "_model_module_version": "1.5.0",
            "_model_name": "DescriptionStyleModel",
            "_view_count": null,
            "_view_module": "@jupyter-widgets/base",
            "_view_module_version": "1.2.0",
            "_view_name": "StyleView",
            "description_width": ""
          }
        },
        "42627e32ad904779abca76693f864e3d": {
          "model_module": "@jupyter-widgets/controls",
          "model_name": "HBoxModel",
          "model_module_version": "1.5.0",
          "state": {
            "_dom_classes": [],
            "_model_module": "@jupyter-widgets/controls",
            "_model_module_version": "1.5.0",
            "_model_name": "HBoxModel",
            "_view_count": null,
            "_view_module": "@jupyter-widgets/controls",
            "_view_module_version": "1.5.0",
            "_view_name": "HBoxView",
            "box_style": "",
            "children": [
              "IPY_MODEL_05f5f79a7bc74942854f6b2e51c3ab5f",
              "IPY_MODEL_f64255928ed94a309cd8b0ce265bb2fc",
              "IPY_MODEL_895c5b6eeafd4322b84780f00abeebcf"
            ],
            "layout": "IPY_MODEL_3fa0296df6954791b497335a02ef1d88"
          }
        },
        "05f5f79a7bc74942854f6b2e51c3ab5f": {
          "model_module": "@jupyter-widgets/controls",
          "model_name": "HTMLModel",
          "model_module_version": "1.5.0",
          "state": {
            "_dom_classes": [],
            "_model_module": "@jupyter-widgets/controls",
            "_model_module_version": "1.5.0",
            "_model_name": "HTMLModel",
            "_view_count": null,
            "_view_module": "@jupyter-widgets/controls",
            "_view_module_version": "1.5.0",
            "_view_name": "HTMLView",
            "description": "",
            "description_tooltip": null,
            "layout": "IPY_MODEL_9590c8dceffe4f50a8cca3a6b91bf79c",
            "placeholder": "​",
            "style": "IPY_MODEL_1eca05e9dd734461a649b1e94aa98db6",
            "value": "validate, epoch=5: 100%"
          }
        },
        "f64255928ed94a309cd8b0ce265bb2fc": {
          "model_module": "@jupyter-widgets/controls",
          "model_name": "FloatProgressModel",
          "model_module_version": "1.5.0",
          "state": {
            "_dom_classes": [],
            "_model_module": "@jupyter-widgets/controls",
            "_model_module_version": "1.5.0",
            "_model_name": "FloatProgressModel",
            "_view_count": null,
            "_view_module": "@jupyter-widgets/controls",
            "_view_module_version": "1.5.0",
            "_view_name": "ProgressView",
            "bar_style": "success",
            "description": "",
            "description_tooltip": null,
            "layout": "IPY_MODEL_d87c65287d5441a2b8b847ee137025f8",
            "max": 2713,
            "min": 0,
            "orientation": "horizontal",
            "style": "IPY_MODEL_35c5e5b248334114b6f4c68648b6829e",
            "value": 2713
          }
        },
        "895c5b6eeafd4322b84780f00abeebcf": {
          "model_module": "@jupyter-widgets/controls",
          "model_name": "HTMLModel",
          "model_module_version": "1.5.0",
          "state": {
            "_dom_classes": [],
            "_model_module": "@jupyter-widgets/controls",
            "_model_module_version": "1.5.0",
            "_model_name": "HTMLModel",
            "_view_count": null,
            "_view_module": "@jupyter-widgets/controls",
            "_view_module_version": "1.5.0",
            "_view_name": "HTMLView",
            "description": "",
            "description_tooltip": null,
            "layout": "IPY_MODEL_4807ebb03fc9489ab220d0bb4690ae15",
            "placeholder": "​",
            "style": "IPY_MODEL_8156055aa1a14ce5832fc8e8cfa58496",
            "value": " 2713/2713 [00:39&lt;00:00, 74.57it/s, loss=0, acc=100, P=100, R=100, F1=100]"
          }
        },
        "3fa0296df6954791b497335a02ef1d88": {
          "model_module": "@jupyter-widgets/base",
          "model_name": "LayoutModel",
          "model_module_version": "1.2.0",
          "state": {
            "_model_module": "@jupyter-widgets/base",
            "_model_module_version": "1.2.0",
            "_model_name": "LayoutModel",
            "_view_count": null,
            "_view_module": "@jupyter-widgets/base",
            "_view_module_version": "1.2.0",
            "_view_name": "LayoutView",
            "align_content": null,
            "align_items": null,
            "align_self": null,
            "border": null,
            "bottom": null,
            "display": null,
            "flex": null,
            "flex_flow": null,
            "grid_area": null,
            "grid_auto_columns": null,
            "grid_auto_flow": null,
            "grid_auto_rows": null,
            "grid_column": null,
            "grid_gap": null,
            "grid_row": null,
            "grid_template_areas": null,
            "grid_template_columns": null,
            "grid_template_rows": null,
            "height": null,
            "justify_content": null,
            "justify_items": null,
            "left": null,
            "margin": null,
            "max_height": null,
            "max_width": null,
            "min_height": null,
            "min_width": null,
            "object_fit": null,
            "object_position": null,
            "order": null,
            "overflow": null,
            "overflow_x": null,
            "overflow_y": null,
            "padding": null,
            "right": null,
            "top": null,
            "visibility": null,
            "width": null
          }
        },
        "9590c8dceffe4f50a8cca3a6b91bf79c": {
          "model_module": "@jupyter-widgets/base",
          "model_name": "LayoutModel",
          "model_module_version": "1.2.0",
          "state": {
            "_model_module": "@jupyter-widgets/base",
            "_model_module_version": "1.2.0",
            "_model_name": "LayoutModel",
            "_view_count": null,
            "_view_module": "@jupyter-widgets/base",
            "_view_module_version": "1.2.0",
            "_view_name": "LayoutView",
            "align_content": null,
            "align_items": null,
            "align_self": null,
            "border": null,
            "bottom": null,
            "display": null,
            "flex": null,
            "flex_flow": null,
            "grid_area": null,
            "grid_auto_columns": null,
            "grid_auto_flow": null,
            "grid_auto_rows": null,
            "grid_column": null,
            "grid_gap": null,
            "grid_row": null,
            "grid_template_areas": null,
            "grid_template_columns": null,
            "grid_template_rows": null,
            "height": null,
            "justify_content": null,
            "justify_items": null,
            "left": null,
            "margin": null,
            "max_height": null,
            "max_width": null,
            "min_height": null,
            "min_width": null,
            "object_fit": null,
            "object_position": null,
            "order": null,
            "overflow": null,
            "overflow_x": null,
            "overflow_y": null,
            "padding": null,
            "right": null,
            "top": null,
            "visibility": null,
            "width": null
          }
        },
        "1eca05e9dd734461a649b1e94aa98db6": {
          "model_module": "@jupyter-widgets/controls",
          "model_name": "DescriptionStyleModel",
          "model_module_version": "1.5.0",
          "state": {
            "_model_module": "@jupyter-widgets/controls",
            "_model_module_version": "1.5.0",
            "_model_name": "DescriptionStyleModel",
            "_view_count": null,
            "_view_module": "@jupyter-widgets/base",
            "_view_module_version": "1.2.0",
            "_view_name": "StyleView",
            "description_width": ""
          }
        },
        "d87c65287d5441a2b8b847ee137025f8": {
          "model_module": "@jupyter-widgets/base",
          "model_name": "LayoutModel",
          "model_module_version": "1.2.0",
          "state": {
            "_model_module": "@jupyter-widgets/base",
            "_model_module_version": "1.2.0",
            "_model_name": "LayoutModel",
            "_view_count": null,
            "_view_module": "@jupyter-widgets/base",
            "_view_module_version": "1.2.0",
            "_view_name": "LayoutView",
            "align_content": null,
            "align_items": null,
            "align_self": null,
            "border": null,
            "bottom": null,
            "display": null,
            "flex": null,
            "flex_flow": null,
            "grid_area": null,
            "grid_auto_columns": null,
            "grid_auto_flow": null,
            "grid_auto_rows": null,
            "grid_column": null,
            "grid_gap": null,
            "grid_row": null,
            "grid_template_areas": null,
            "grid_template_columns": null,
            "grid_template_rows": null,
            "height": null,
            "justify_content": null,
            "justify_items": null,
            "left": null,
            "margin": null,
            "max_height": null,
            "max_width": null,
            "min_height": null,
            "min_width": null,
            "object_fit": null,
            "object_position": null,
            "order": null,
            "overflow": null,
            "overflow_x": null,
            "overflow_y": null,
            "padding": null,
            "right": null,
            "top": null,
            "visibility": null,
            "width": null
          }
        },
        "35c5e5b248334114b6f4c68648b6829e": {
          "model_module": "@jupyter-widgets/controls",
          "model_name": "ProgressStyleModel",
          "model_module_version": "1.5.0",
          "state": {
            "_model_module": "@jupyter-widgets/controls",
            "_model_module_version": "1.5.0",
            "_model_name": "ProgressStyleModel",
            "_view_count": null,
            "_view_module": "@jupyter-widgets/base",
            "_view_module_version": "1.2.0",
            "_view_name": "StyleView",
            "bar_color": null,
            "description_width": ""
          }
        },
        "4807ebb03fc9489ab220d0bb4690ae15": {
          "model_module": "@jupyter-widgets/base",
          "model_name": "LayoutModel",
          "model_module_version": "1.2.0",
          "state": {
            "_model_module": "@jupyter-widgets/base",
            "_model_module_version": "1.2.0",
            "_model_name": "LayoutModel",
            "_view_count": null,
            "_view_module": "@jupyter-widgets/base",
            "_view_module_version": "1.2.0",
            "_view_name": "LayoutView",
            "align_content": null,
            "align_items": null,
            "align_self": null,
            "border": null,
            "bottom": null,
            "display": null,
            "flex": null,
            "flex_flow": null,
            "grid_area": null,
            "grid_auto_columns": null,
            "grid_auto_flow": null,
            "grid_auto_rows": null,
            "grid_column": null,
            "grid_gap": null,
            "grid_row": null,
            "grid_template_areas": null,
            "grid_template_columns": null,
            "grid_template_rows": null,
            "height": null,
            "justify_content": null,
            "justify_items": null,
            "left": null,
            "margin": null,
            "max_height": null,
            "max_width": null,
            "min_height": null,
            "min_width": null,
            "object_fit": null,
            "object_position": null,
            "order": null,
            "overflow": null,
            "overflow_x": null,
            "overflow_y": null,
            "padding": null,
            "right": null,
            "top": null,
            "visibility": null,
            "width": null
          }
        },
        "8156055aa1a14ce5832fc8e8cfa58496": {
          "model_module": "@jupyter-widgets/controls",
          "model_name": "DescriptionStyleModel",
          "model_module_version": "1.5.0",
          "state": {
            "_model_module": "@jupyter-widgets/controls",
            "_model_module_version": "1.5.0",
            "_model_name": "DescriptionStyleModel",
            "_view_count": null,
            "_view_module": "@jupyter-widgets/base",
            "_view_module_version": "1.2.0",
            "_view_name": "StyleView",
            "description_width": ""
          }
        },
        "f843b4295df44645ad5108b4167639f8": {
          "model_module": "@jupyter-widgets/controls",
          "model_name": "HBoxModel",
          "model_module_version": "1.5.0",
          "state": {
            "_dom_classes": [],
            "_model_module": "@jupyter-widgets/controls",
            "_model_module_version": "1.5.0",
            "_model_name": "HBoxModel",
            "_view_count": null,
            "_view_module": "@jupyter-widgets/controls",
            "_view_module_version": "1.5.0",
            "_view_name": "HBoxView",
            "box_style": "",
            "children": [
              "IPY_MODEL_07e190d1a74449b98bc4502076f4994e",
              "IPY_MODEL_825b8514913d4b57b5f480274ece912d",
              "IPY_MODEL_9c820f0ffdd449f3bb17a5f6ce09a551"
            ],
            "layout": "IPY_MODEL_6fed35c7bfb24312a57a95aac6d94b5a"
          }
        },
        "07e190d1a74449b98bc4502076f4994e": {
          "model_module": "@jupyter-widgets/controls",
          "model_name": "HTMLModel",
          "model_module_version": "1.5.0",
          "state": {
            "_dom_classes": [],
            "_model_module": "@jupyter-widgets/controls",
            "_model_module_version": "1.5.0",
            "_model_name": "HTMLModel",
            "_view_count": null,
            "_view_module": "@jupyter-widgets/controls",
            "_view_module_version": "1.5.0",
            "_view_name": "HTMLView",
            "description": "",
            "description_tooltip": null,
            "layout": "IPY_MODEL_1b61c4f4d1054cb5b4468b8bc328fef5",
            "placeholder": "​",
            "style": "IPY_MODEL_d7e3f0eeb8cd4a8ea54c55cc73f44e16",
            "value": "validate, epoch=evaluate: 100%"
          }
        },
        "825b8514913d4b57b5f480274ece912d": {
          "model_module": "@jupyter-widgets/controls",
          "model_name": "FloatProgressModel",
          "model_module_version": "1.5.0",
          "state": {
            "_dom_classes": [],
            "_model_module": "@jupyter-widgets/controls",
            "_model_module_version": "1.5.0",
            "_model_name": "FloatProgressModel",
            "_view_count": null,
            "_view_module": "@jupyter-widgets/controls",
            "_view_module_version": "1.5.0",
            "_view_name": "ProgressView",
            "bar_style": "success",
            "description": "",
            "description_tooltip": null,
            "layout": "IPY_MODEL_0a51327401e3410fb483b99d55986918",
            "max": 2713,
            "min": 0,
            "orientation": "horizontal",
            "style": "IPY_MODEL_77ee6ec49a034b6e862ada1c47f88b5e",
            "value": 2713
          }
        },
        "9c820f0ffdd449f3bb17a5f6ce09a551": {
          "model_module": "@jupyter-widgets/controls",
          "model_name": "HTMLModel",
          "model_module_version": "1.5.0",
          "state": {
            "_dom_classes": [],
            "_model_module": "@jupyter-widgets/controls",
            "_model_module_version": "1.5.0",
            "_model_name": "HTMLModel",
            "_view_count": null,
            "_view_module": "@jupyter-widgets/controls",
            "_view_module_version": "1.5.0",
            "_view_name": "HTMLView",
            "description": "",
            "description_tooltip": null,
            "layout": "IPY_MODEL_902c150fc59d40f3a05a1edab79e7ae5",
            "placeholder": "​",
            "style": "IPY_MODEL_c995f53497014f48a99bbfdcaa9b195b",
            "value": " 2713/2713 [00:39&lt;00:00, 72.31it/s, loss=0, acc=100, P=100, R=100, F1=100]"
          }
        },
        "6fed35c7bfb24312a57a95aac6d94b5a": {
          "model_module": "@jupyter-widgets/base",
          "model_name": "LayoutModel",
          "model_module_version": "1.2.0",
          "state": {
            "_model_module": "@jupyter-widgets/base",
            "_model_module_version": "1.2.0",
            "_model_name": "LayoutModel",
            "_view_count": null,
            "_view_module": "@jupyter-widgets/base",
            "_view_module_version": "1.2.0",
            "_view_name": "LayoutView",
            "align_content": null,
            "align_items": null,
            "align_self": null,
            "border": null,
            "bottom": null,
            "display": null,
            "flex": null,
            "flex_flow": null,
            "grid_area": null,
            "grid_auto_columns": null,
            "grid_auto_flow": null,
            "grid_auto_rows": null,
            "grid_column": null,
            "grid_gap": null,
            "grid_row": null,
            "grid_template_areas": null,
            "grid_template_columns": null,
            "grid_template_rows": null,
            "height": null,
            "justify_content": null,
            "justify_items": null,
            "left": null,
            "margin": null,
            "max_height": null,
            "max_width": null,
            "min_height": null,
            "min_width": null,
            "object_fit": null,
            "object_position": null,
            "order": null,
            "overflow": null,
            "overflow_x": null,
            "overflow_y": null,
            "padding": null,
            "right": null,
            "top": null,
            "visibility": null,
            "width": null
          }
        },
        "1b61c4f4d1054cb5b4468b8bc328fef5": {
          "model_module": "@jupyter-widgets/base",
          "model_name": "LayoutModel",
          "model_module_version": "1.2.0",
          "state": {
            "_model_module": "@jupyter-widgets/base",
            "_model_module_version": "1.2.0",
            "_model_name": "LayoutModel",
            "_view_count": null,
            "_view_module": "@jupyter-widgets/base",
            "_view_module_version": "1.2.0",
            "_view_name": "LayoutView",
            "align_content": null,
            "align_items": null,
            "align_self": null,
            "border": null,
            "bottom": null,
            "display": null,
            "flex": null,
            "flex_flow": null,
            "grid_area": null,
            "grid_auto_columns": null,
            "grid_auto_flow": null,
            "grid_auto_rows": null,
            "grid_column": null,
            "grid_gap": null,
            "grid_row": null,
            "grid_template_areas": null,
            "grid_template_columns": null,
            "grid_template_rows": null,
            "height": null,
            "justify_content": null,
            "justify_items": null,
            "left": null,
            "margin": null,
            "max_height": null,
            "max_width": null,
            "min_height": null,
            "min_width": null,
            "object_fit": null,
            "object_position": null,
            "order": null,
            "overflow": null,
            "overflow_x": null,
            "overflow_y": null,
            "padding": null,
            "right": null,
            "top": null,
            "visibility": null,
            "width": null
          }
        },
        "d7e3f0eeb8cd4a8ea54c55cc73f44e16": {
          "model_module": "@jupyter-widgets/controls",
          "model_name": "DescriptionStyleModel",
          "model_module_version": "1.5.0",
          "state": {
            "_model_module": "@jupyter-widgets/controls",
            "_model_module_version": "1.5.0",
            "_model_name": "DescriptionStyleModel",
            "_view_count": null,
            "_view_module": "@jupyter-widgets/base",
            "_view_module_version": "1.2.0",
            "_view_name": "StyleView",
            "description_width": ""
          }
        },
        "0a51327401e3410fb483b99d55986918": {
          "model_module": "@jupyter-widgets/base",
          "model_name": "LayoutModel",
          "model_module_version": "1.2.0",
          "state": {
            "_model_module": "@jupyter-widgets/base",
            "_model_module_version": "1.2.0",
            "_model_name": "LayoutModel",
            "_view_count": null,
            "_view_module": "@jupyter-widgets/base",
            "_view_module_version": "1.2.0",
            "_view_name": "LayoutView",
            "align_content": null,
            "align_items": null,
            "align_self": null,
            "border": null,
            "bottom": null,
            "display": null,
            "flex": null,
            "flex_flow": null,
            "grid_area": null,
            "grid_auto_columns": null,
            "grid_auto_flow": null,
            "grid_auto_rows": null,
            "grid_column": null,
            "grid_gap": null,
            "grid_row": null,
            "grid_template_areas": null,
            "grid_template_columns": null,
            "grid_template_rows": null,
            "height": null,
            "justify_content": null,
            "justify_items": null,
            "left": null,
            "margin": null,
            "max_height": null,
            "max_width": null,
            "min_height": null,
            "min_width": null,
            "object_fit": null,
            "object_position": null,
            "order": null,
            "overflow": null,
            "overflow_x": null,
            "overflow_y": null,
            "padding": null,
            "right": null,
            "top": null,
            "visibility": null,
            "width": null
          }
        },
        "77ee6ec49a034b6e862ada1c47f88b5e": {
          "model_module": "@jupyter-widgets/controls",
          "model_name": "ProgressStyleModel",
          "model_module_version": "1.5.0",
          "state": {
            "_model_module": "@jupyter-widgets/controls",
            "_model_module_version": "1.5.0",
            "_model_name": "ProgressStyleModel",
            "_view_count": null,
            "_view_module": "@jupyter-widgets/base",
            "_view_module_version": "1.2.0",
            "_view_name": "StyleView",
            "bar_color": null,
            "description_width": ""
          }
        },
        "902c150fc59d40f3a05a1edab79e7ae5": {
          "model_module": "@jupyter-widgets/base",
          "model_name": "LayoutModel",
          "model_module_version": "1.2.0",
          "state": {
            "_model_module": "@jupyter-widgets/base",
            "_model_module_version": "1.2.0",
            "_model_name": "LayoutModel",
            "_view_count": null,
            "_view_module": "@jupyter-widgets/base",
            "_view_module_version": "1.2.0",
            "_view_name": "LayoutView",
            "align_content": null,
            "align_items": null,
            "align_self": null,
            "border": null,
            "bottom": null,
            "display": null,
            "flex": null,
            "flex_flow": null,
            "grid_area": null,
            "grid_auto_columns": null,
            "grid_auto_flow": null,
            "grid_auto_rows": null,
            "grid_column": null,
            "grid_gap": null,
            "grid_row": null,
            "grid_template_areas": null,
            "grid_template_columns": null,
            "grid_template_rows": null,
            "height": null,
            "justify_content": null,
            "justify_items": null,
            "left": null,
            "margin": null,
            "max_height": null,
            "max_width": null,
            "min_height": null,
            "min_width": null,
            "object_fit": null,
            "object_position": null,
            "order": null,
            "overflow": null,
            "overflow_x": null,
            "overflow_y": null,
            "padding": null,
            "right": null,
            "top": null,
            "visibility": null,
            "width": null
          }
        },
        "c995f53497014f48a99bbfdcaa9b195b": {
          "model_module": "@jupyter-widgets/controls",
          "model_name": "DescriptionStyleModel",
          "model_module_version": "1.5.0",
          "state": {
            "_model_module": "@jupyter-widgets/controls",
            "_model_module_version": "1.5.0",
            "_model_name": "DescriptionStyleModel",
            "_view_count": null,
            "_view_module": "@jupyter-widgets/base",
            "_view_module_version": "1.2.0",
            "_view_name": "StyleView",
            "description_width": ""
          }
        }
      }
    },
    "gpuClass": "standard"
  },
  "cells": [
    {
      "cell_type": "code",
      "metadata": {
        "id": "YJIxGlVYGOBQ",
        "colab": {
          "base_uri": "https://localhost:8080/"
        },
        "outputId": "2e7a53b0-076a-45e0-d0de-8e4ab3674309"
      },
      "source": [
        "!pip install jsonlines\n",
        "!pip install transformers"
      ],
      "execution_count": 1,
      "outputs": [
        {
          "output_type": "stream",
          "name": "stdout",
          "text": [
            "Looking in indexes: https://pypi.org/simple, https://us-python.pkg.dev/colab-wheels/public/simple/\n",
            "Collecting jsonlines\n",
            "  Downloading jsonlines-3.0.0-py3-none-any.whl (8.5 kB)\n",
            "Requirement already satisfied: attrs>=19.2.0 in /usr/local/lib/python3.7/dist-packages (from jsonlines) (21.4.0)\n",
            "Requirement already satisfied: typing-extensions in /usr/local/lib/python3.7/dist-packages (from jsonlines) (4.1.1)\n",
            "Installing collected packages: jsonlines\n",
            "Successfully installed jsonlines-3.0.0\n",
            "Looking in indexes: https://pypi.org/simple, https://us-python.pkg.dev/colab-wheels/public/simple/\n",
            "Collecting transformers\n",
            "  Downloading transformers-4.20.0-py3-none-any.whl (4.4 MB)\n",
            "\u001b[K     |████████████████████████████████| 4.4 MB 5.1 MB/s \n",
            "\u001b[?25hRequirement already satisfied: importlib-metadata in /usr/local/lib/python3.7/dist-packages (from transformers) (4.11.4)\n",
            "Requirement already satisfied: requests in /usr/local/lib/python3.7/dist-packages (from transformers) (2.23.0)\n",
            "Requirement already satisfied: tqdm>=4.27 in /usr/local/lib/python3.7/dist-packages (from transformers) (4.64.0)\n",
            "Requirement already satisfied: packaging>=20.0 in /usr/local/lib/python3.7/dist-packages (from transformers) (21.3)\n",
            "Collecting pyyaml>=5.1\n",
            "  Downloading PyYAML-6.0-cp37-cp37m-manylinux_2_5_x86_64.manylinux1_x86_64.manylinux_2_12_x86_64.manylinux2010_x86_64.whl (596 kB)\n",
            "\u001b[K     |████████████████████████████████| 596 kB 52.2 MB/s \n",
            "\u001b[?25hCollecting huggingface-hub<1.0,>=0.1.0\n",
            "  Downloading huggingface_hub-0.7.0-py3-none-any.whl (86 kB)\n",
            "\u001b[K     |████████████████████████████████| 86 kB 4.8 MB/s \n",
            "\u001b[?25hCollecting tokenizers!=0.11.3,<0.13,>=0.11.1\n",
            "  Downloading tokenizers-0.12.1-cp37-cp37m-manylinux_2_12_x86_64.manylinux2010_x86_64.whl (6.6 MB)\n",
            "\u001b[K     |████████████████████████████████| 6.6 MB 53.6 MB/s \n",
            "\u001b[?25hRequirement already satisfied: numpy>=1.17 in /usr/local/lib/python3.7/dist-packages (from transformers) (1.21.6)\n",
            "Requirement already satisfied: regex!=2019.12.17 in /usr/local/lib/python3.7/dist-packages (from transformers) (2022.6.2)\n",
            "Requirement already satisfied: filelock in /usr/local/lib/python3.7/dist-packages (from transformers) (3.7.1)\n",
            "Requirement already satisfied: typing-extensions>=3.7.4.3 in /usr/local/lib/python3.7/dist-packages (from huggingface-hub<1.0,>=0.1.0->transformers) (4.1.1)\n",
            "Requirement already satisfied: pyparsing!=3.0.5,>=2.0.2 in /usr/local/lib/python3.7/dist-packages (from packaging>=20.0->transformers) (3.0.9)\n",
            "Requirement already satisfied: zipp>=0.5 in /usr/local/lib/python3.7/dist-packages (from importlib-metadata->transformers) (3.8.0)\n",
            "Requirement already satisfied: idna<3,>=2.5 in /usr/local/lib/python3.7/dist-packages (from requests->transformers) (2.10)\n",
            "Requirement already satisfied: urllib3!=1.25.0,!=1.25.1,<1.26,>=1.21.1 in /usr/local/lib/python3.7/dist-packages (from requests->transformers) (1.24.3)\n",
            "Requirement already satisfied: certifi>=2017.4.17 in /usr/local/lib/python3.7/dist-packages (from requests->transformers) (2022.6.15)\n",
            "Requirement already satisfied: chardet<4,>=3.0.2 in /usr/local/lib/python3.7/dist-packages (from requests->transformers) (3.0.4)\n",
            "Installing collected packages: pyyaml, tokenizers, huggingface-hub, transformers\n",
            "  Attempting uninstall: pyyaml\n",
            "    Found existing installation: PyYAML 3.13\n",
            "    Uninstalling PyYAML-3.13:\n",
            "      Successfully uninstalled PyYAML-3.13\n",
            "Successfully installed huggingface-hub-0.7.0 pyyaml-6.0 tokenizers-0.12.1 transformers-4.20.0\n"
          ]
        }
      ]
    },
    {
      "cell_type": "markdown",
      "metadata": {
        "id": "0FuT0tixE65e"
      },
      "source": [
        "## Загрузка данных"
      ]
    },
    {
      "cell_type": "code",
      "source": [
        "!wget https://raw.githubusercontent.com/Xeanst/grammaticality_judgments/main/train_data.jsonl\n",
        "!wget https://raw.githubusercontent.com/Xeanst/grammaticality_judgments/main/val_data.jsonl\n",
        "!wget https://raw.githubusercontent.com/Xeanst/grammaticality_judgments/main/test_data.jsonl"
      ],
      "metadata": {
        "colab": {
          "base_uri": "https://localhost:8080/"
        },
        "id": "3OO3uxVASs5p",
        "outputId": "0c76f5d4-7f45-4dfa-e2a1-524bda31cf15"
      },
      "execution_count": 2,
      "outputs": [
        {
          "output_type": "stream",
          "name": "stdout",
          "text": [
            "--2022-06-20 08:57:11--  https://raw.githubusercontent.com/Xeanst/grammaticality_judgments/main/train_data.jsonl\n",
            "Resolving raw.githubusercontent.com (raw.githubusercontent.com)... 185.199.109.133, 185.199.108.133, 185.199.110.133, ...\n",
            "Connecting to raw.githubusercontent.com (raw.githubusercontent.com)|185.199.109.133|:443... connected.\n",
            "HTTP request sent, awaiting response... 200 OK\n",
            "Length: 13342932 (13M) [text/plain]\n",
            "Saving to: ‘train_data.jsonl’\n",
            "\n",
            "train_data.jsonl    100%[===================>]  12.72M  --.-KB/s    in 0.1s    \n",
            "\n",
            "2022-06-20 08:57:12 (127 MB/s) - ‘train_data.jsonl’ saved [13342932/13342932]\n",
            "\n",
            "--2022-06-20 08:57:12--  https://raw.githubusercontent.com/Xeanst/grammaticality_judgments/main/val_data.jsonl\n",
            "Resolving raw.githubusercontent.com (raw.githubusercontent.com)... 185.199.108.133, 185.199.109.133, 185.199.110.133, ...\n",
            "Connecting to raw.githubusercontent.com (raw.githubusercontent.com)|185.199.108.133|:443... connected.\n",
            "HTTP request sent, awaiting response... 200 OK\n",
            "Length: 2859307 (2.7M) [text/plain]\n",
            "Saving to: ‘val_data.jsonl’\n",
            "\n",
            "val_data.jsonl      100%[===================>]   2.73M  --.-KB/s    in 0.07s   \n",
            "\n",
            "2022-06-20 08:57:12 (41.7 MB/s) - ‘val_data.jsonl’ saved [2859307/2859307]\n",
            "\n",
            "--2022-06-20 08:57:12--  https://raw.githubusercontent.com/Xeanst/grammaticality_judgments/main/test_data.jsonl\n",
            "Resolving raw.githubusercontent.com (raw.githubusercontent.com)... 185.199.108.133, 185.199.111.133, 185.199.110.133, ...\n",
            "Connecting to raw.githubusercontent.com (raw.githubusercontent.com)|185.199.108.133|:443... connected.\n",
            "HTTP request sent, awaiting response... 200 OK\n",
            "Length: 2861425 (2.7M) [text/plain]\n",
            "Saving to: ‘test_data.jsonl’\n",
            "\n",
            "test_data.jsonl     100%[===================>]   2.73M  --.-KB/s    in 0.07s   \n",
            "\n",
            "2022-06-20 08:57:13 (42.0 MB/s) - ‘test_data.jsonl’ saved [2861425/2861425]\n",
            "\n"
          ]
        }
      ]
    },
    {
      "cell_type": "code",
      "source": [
        "import jsonlines\n",
        "\n",
        "with jsonlines.open(\"train_data.jsonl\", \"r\") as fin:\n",
        "    train_data = list(fin)\n",
        "with jsonlines.open(\"val_data.jsonl\", \"r\") as fin:\n",
        "    dev_data = list(fin)\n",
        "with jsonlines.open(\"test_data.jsonl\", \"r\") as fin:\n",
        "    test_data = list(fin)"
      ],
      "metadata": {
        "id": "yiBBN7GTiTxF"
      },
      "execution_count": 3,
      "outputs": []
    },
    {
      "cell_type": "code",
      "source": [
        "train_data[10].items()"
      ],
      "metadata": {
        "colab": {
          "base_uri": "https://localhost:8080/"
        },
        "id": "ygT4A3RSjEdT",
        "outputId": "61b24b03-a752-4b4d-e677-2943ba22a233"
      },
      "execution_count": 4,
      "outputs": [
        {
          "output_type": "execute_result",
          "data": {
            "text/plain": [
              "dict_items([('sentence', 'чертежи которые презирал родитель был плохим'), ('idx', 0), ('label', 'obj_rel_inan')])"
            ]
          },
          "metadata": {},
          "execution_count": 4
        }
      ]
    },
    {
      "cell_type": "code",
      "source": [
        "train_data[11].items()"
      ],
      "metadata": {
        "colab": {
          "base_uri": "https://localhost:8080/"
        },
        "id": "ixxwbFTFtMaQ",
        "outputId": "beb3e807-3d65-400d-ef2d-4d085be535c0"
      },
      "execution_count": 5,
      "outputs": [
        {
          "output_type": "execute_result",
          "data": {
            "text/plain": [
              "dict_items([('sentence', 'руководители которых знал ассистент рассуждал'), ('idx', 0), ('label', 'obj_rel_anim')])"
            ]
          },
          "metadata": {},
          "execution_count": 5
        }
      ]
    },
    {
      "cell_type": "code",
      "metadata": {
        "id": "Ne8vIT3AF74p",
        "colab": {
          "base_uri": "https://localhost:8080/",
          "height": 234,
          "referenced_widgets": [
            "9f584c257f3b4abc9813346c323e3835",
            "a62c283827bc401192e8c762a043cf69",
            "e28a0b58c3644764bdc04d9e07022c06",
            "8f1224f2a8aa45c6b402da71b275a53a",
            "f0cad69fe6274d869da8396e35bd30ea",
            "f2e0794aac4446afb9d7b5f58fd9513c",
            "24639c3f4233400d8a084f87832d61f3",
            "2bacdf3b95154514aeffa362f14609fc",
            "79987c2ddae644bbaeee97c3f4be7938",
            "e9ae34ddfec84460a1f6f9c38d182e05",
            "ec600188aa6a43e99080c8c37f6a3230",
            "b7e84cb57e324fbeb6d5d3dee147aa5f",
            "420af36f0a464149b2d830ec299435cf",
            "0a41d636f57749bc8dee4a7bbdee83d3",
            "4927429d6fc14454b17f8f14f78e8b03",
            "b8c52cb3f4c044faa4de7d3f7f6697de",
            "82eb80579d2143dab90ecfccde81ba4f",
            "5f004c61312248abb67217f96d7e7b7e",
            "29b76273f75b44f29d795275f0e445f8",
            "7b841ce74a3f41b49f17ef6bc5f5ec2b",
            "ad36374e923d4d419a91bb3cb67c2922",
            "7faf2ec145de4accbc8928a0c91cf366",
            "3b8539f3be17499ba7eb14d66243139b",
            "791bc52afd8140eb885f252a9b875b6e",
            "649866f5128c4bc391d0589c08ea35e6",
            "6bf229950584427196ccf2fc172c85c1",
            "6a85704ee6294d47b53d5de678abc147",
            "c78074c4b5c84ef38b2cac7a5e56c8d1",
            "8b48fd705f5d471a943566eb82eb5739",
            "0e4a21c941964af48eb8605d66677ccd",
            "e11695b599ce4a46b436205eb078ca1a",
            "56e73765ce724ec695f4c20035e59983",
            "17c4babc78a047db945aeaa4b712c790",
            "72bf9bc391e64fcd85c3e32e0033b2bd",
            "0f95283dbec9477fb992891dae65b9c2",
            "332cb4ec16b64545ac867d421177f9cb",
            "052d3c184d4847848d02f26469852a06",
            "596aade741614ca1b6d31baa9f218223",
            "fa1a1fd39ab6409d88cc1e10a7499083",
            "987edd291ef54993a1a6d549f5e6f154",
            "4720f4962e3248ddaf1b8a89a66fbf73",
            "4048be02be424a159691a3658c5f1c76",
            "af090b1abc514c52995a1c28b05aa241",
            "059bd8e31dcc4e63b04dc0d81bee09b0"
          ]
        },
        "outputId": "59d00438-eda1-4f51-b45c-3d0ad2e02fc1"
      },
      "source": [
        "from transformers import AutoTokenizer\n",
        "\n",
        "\n",
        "tokenizer = AutoTokenizer.from_pretrained(\"DeepPavlov/bert-base-bg-cs-pl-ru-cased\")\n",
        "\n",
        "for key, value in train_data[10].items():\n",
        "    print(key, value)\n",
        "tokenized_data = tokenizer(train_data[10][\"sentence\"])\n",
        "token_indexes = tokenized_data[\"input_ids\"]\n",
        "tokens = tokenizer.convert_ids_to_tokens(token_indexes)\n",
        "print(\"\")\n",
        "for index, token in zip(token_indexes, tokens):\n",
        "    print(f\"{index}:{token}\", end=\" \")"
      ],
      "execution_count": 6,
      "outputs": [
        {
          "output_type": "display_data",
          "data": {
            "text/plain": [
              "Downloading:   0%|          | 0.00/24.0 [00:00<?, ?B/s]"
            ],
            "application/vnd.jupyter.widget-view+json": {
              "version_major": 2,
              "version_minor": 0,
              "model_id": "9f584c257f3b4abc9813346c323e3835"
            }
          },
          "metadata": {}
        },
        {
          "output_type": "display_data",
          "data": {
            "text/plain": [
              "Downloading:   0%|          | 0.00/642 [00:00<?, ?B/s]"
            ],
            "application/vnd.jupyter.widget-view+json": {
              "version_major": 2,
              "version_minor": 0,
              "model_id": "b7e84cb57e324fbeb6d5d3dee147aa5f"
            }
          },
          "metadata": {}
        },
        {
          "output_type": "display_data",
          "data": {
            "text/plain": [
              "Downloading:   0%|          | 0.00/1.13M [00:00<?, ?B/s]"
            ],
            "application/vnd.jupyter.widget-view+json": {
              "version_major": 2,
              "version_minor": 0,
              "model_id": "3b8539f3be17499ba7eb14d66243139b"
            }
          },
          "metadata": {}
        },
        {
          "output_type": "display_data",
          "data": {
            "text/plain": [
              "Downloading:   0%|          | 0.00/112 [00:00<?, ?B/s]"
            ],
            "application/vnd.jupyter.widget-view+json": {
              "version_major": 2,
              "version_minor": 0,
              "model_id": "72bf9bc391e64fcd85c3e32e0033b2bd"
            }
          },
          "metadata": {}
        },
        {
          "output_type": "stream",
          "name": "stdout",
          "text": [
            "sentence чертежи которые презирал родитель был плохим\n",
            "idx 0\n",
            "label obj_rel_inan\n",
            "\n",
            "101:[CLS] 114054:черте 2343:##жи 4155:которые 2498:през 25667:##ира 422:##л 8835:роди 2426:##тель 3231:был 97963:плохи 501:##м 102:[SEP] "
          ]
        }
      ]
    },
    {
      "cell_type": "markdown",
      "metadata": {
        "id": "EgFoPvllH_2I"
      },
      "source": [
        " Напишем соответствующий `Dataset`"
      ]
    },
    {
      "cell_type": "code",
      "metadata": {
        "id": "9lJzVSD4ID7R"
      },
      "source": [
        "from torch.utils.data.dataset import Dataset\n",
        "\n",
        "class GramDataset(Dataset):\n",
        "\n",
        "    def __init__(self, data, tokenizer, pos_label=1):\n",
        "        self.data = data\n",
        "        self.tokenizer = tokenizer\n",
        "        self.pos_label = pos_label\n",
        "\n",
        "    def __len__(self):\n",
        "        return len(self.data)\n",
        "\n",
        "    def __getitem__(self, index):\n",
        "        item = self.data[index]\n",
        "        answer = {\"input_ids\": self.tokenizer(item[\"sentence\"])[\"input_ids\"]}\n",
        "        if \"idx\" in item:\n",
        "            answer[\"y\"] = float(item[\"idx\"] == self.pos_label)\n",
        "        return answer "
      ],
      "execution_count": 7,
      "outputs": []
    },
    {
      "cell_type": "code",
      "metadata": {
        "colab": {
          "base_uri": "https://localhost:8080/"
        },
        "id": "Sb0PZcM6JTCN",
        "outputId": "c2b1a7db-7dcc-43d2-97d5-0f41dcbcc090"
      },
      "source": [
        "train_dataset = GramDataset(train_data, tokenizer)\n",
        "for key, value in train_dataset[2].items():\n",
        "    print(key, value, sep=\"\\n\")"
      ],
      "execution_count": 8,
      "outputs": [
        {
          "output_type": "stream",
          "name": "stdout",
          "text": [
            "input_ids\n",
            "[101, 71206, 73231, 105248, 572, 102]\n",
            "y\n",
            "0.0\n"
          ]
        }
      ]
    },
    {
      "cell_type": "code",
      "metadata": {
        "id": "QA-B-v5yKRRX"
      },
      "source": [
        "import torch\n",
        "import numpy as np\n",
        "import itertools\n",
        "\n",
        "def pad_tensor(vec, length, dim, pad_symbol):\n",
        "    # vec.shape = [3, 4, 5]\n",
        "    # length=7, dim=1 -> pad_size = (3, 7-4, 5)\n",
        "    pad_size = list(vec.shape)\n",
        "    pad_size[dim] = length - vec.shape[dim]\n",
        "    answer = torch.cat([vec, torch.ones(*pad_size, dtype=torch.long) * pad_symbol], axis=dim)\n",
        "    return answer\n",
        "\n",
        "def pad_tensors(tensors, pad=0):\n",
        "    # дополняет тензоры из tensors до общей максимальной длины символом pad\n",
        "    if isinstance(tensors[0], (int, np.integer)):\n",
        "        return torch.LongTensor(tensors)\n",
        "    elif isinstance(tensors[0], (float, np.float)):\n",
        "        return torch.Tensor(tensors)\n",
        "    tensors = [torch.LongTensor(tensor) for tensor in tensors]\n",
        "    L = max(tensor.shape[0] for tensor in tensors)\n",
        "    tensors = [pad_tensor(tensor, L, dim=0, pad_symbol=pad) for tensor in tensors]\n",
        "    return torch.stack(tensors, axis=0)\n",
        "\n",
        "class FieldBatchDataLoader:\n",
        "\n",
        "    def __init__(self, X, batch_size=32, sort_by_length=True, \n",
        "                 length_field=None, state=115, device=\"cpu\"):\n",
        "        self.X = X\n",
        "        self.batch_size = batch_size\n",
        "        self.sort_by_length = sort_by_length\n",
        "        self.length_field = length_field  ## добавилось\n",
        "        self.device = device\n",
        "        np.random.seed(state)\n",
        "\n",
        "    def __len__(self):\n",
        "        return (len(self.X)-1) // self.batch_size + 1 \n",
        "\n",
        "    def __iter__(self):\n",
        "        if self.sort_by_length:\n",
        "            # отсортировать индексы по длине объектов [1, ..., 32] -> [7, 4, 15, ...]\n",
        "            # изменилось взятие длины из поля\n",
        "            if self.length_field is not None:\n",
        "                lengths = [len(x[self.length_field]) for x in self.X]\n",
        "            else:\n",
        "                lengths = [len(list(x.values())[0]) for x in self.X]\n",
        "            order = np.argsort(lengths)\n",
        "            # сгруппировать в батчи [7, 4, 15, 31, 3, ...] -> [[7, 4, 15, 31], [3, ...], ...]\n",
        "            batched_order = np.array([order[start:start+self.batch_size] \n",
        "                                      for start in range(0, len(self.X), self.batch_size)])\n",
        "            # переупорядочить батчи случайно: [[3, 11, 21, 19], [27, ...], ..., [7, ...], ...]\n",
        "            np.random.shuffle(batched_order[:-1])\n",
        "            # собрать посл-ть индексов: -> [3, 11, 21, 19, 27, ...]\n",
        "            self.order = np.fromiter(itertools.chain.from_iterable(batched_order), dtype=int)\n",
        "        else:\n",
        "            self.order = np.arange(len(self.X))\n",
        "            np.random.shuffle(self.order)\n",
        "        self.idx = 0\n",
        "        return self\n",
        "\n",
        "    def __next__(self):\n",
        "        if self.idx >= len(self.X):\n",
        "            raise StopIteration()\n",
        "        end = min(self.idx + self.batch_size, len(self.X))\n",
        "        indexes = [self.order[i] for i in range(self.idx, end)]\n",
        "        batch = dict()\n",
        "        # перебираем все поля\n",
        "        for field in self.X[indexes[0]]:\n",
        "            batch[field] = pad_tensors([self.X[i][field] for i in indexes]).to(self.device)\n",
        "        batch[\"indexes\"] = indexes\n",
        "        self.idx = end\n",
        "        return batch"
      ],
      "execution_count": 9,
      "outputs": []
    },
    {
      "cell_type": "code",
      "metadata": {
        "colab": {
          "base_uri": "https://localhost:8080/"
        },
        "id": "_X0xjvfqKUru",
        "outputId": "ed3c5a30-2efa-4687-a72c-89dacb943889"
      },
      "source": [
        "train_dataloader = iter(FieldBatchDataLoader(train_dataset, batch_size=8, device=\"cuda\"))\n",
        "for i in range(10):\n",
        "    batch = next(train_dataloader)\n",
        "    for field, data in batch.items():\n",
        "        print(f\"{field}:{np.shape(data)}\", end=\"\\t\")\n",
        "    print(\"\")"
      ],
      "execution_count": 10,
      "outputs": [
        {
          "output_type": "stream",
          "name": "stderr",
          "text": [
            "/usr/local/lib/python3.7/dist-packages/ipykernel_launcher.py:49: VisibleDeprecationWarning: Creating an ndarray from ragged nested sequences (which is a list-or-tuple of lists-or-tuples-or ndarrays with different lengths or shapes) is deprecated. If you meant to do this, you must specify 'dtype=object' when creating the ndarray.\n",
            "/usr/local/lib/python3.7/dist-packages/ipykernel_launcher.py:17: DeprecationWarning: `np.float` is a deprecated alias for the builtin `float`. To silence this warning, use `float` by itself. Doing this will not modify any behavior and is safe. If you specifically wanted the numpy scalar type, use `np.float64` here.\n",
            "Deprecated in NumPy 1.20; for more details and guidance: https://numpy.org/devdocs/release/1.20.0-notes.html#deprecations\n"
          ]
        },
        {
          "output_type": "stream",
          "name": "stdout",
          "text": [
            "input_ids:torch.Size([8, 8])\ty:torch.Size([8])\tindexes:(8,)\t\n",
            "input_ids:torch.Size([8, 9])\ty:torch.Size([8])\tindexes:(8,)\t\n",
            "input_ids:torch.Size([8, 11])\ty:torch.Size([8])\tindexes:(8,)\t\n",
            "input_ids:torch.Size([8, 11])\ty:torch.Size([8])\tindexes:(8,)\t\n",
            "input_ids:torch.Size([8, 11])\ty:torch.Size([8])\tindexes:(8,)\t\n",
            "input_ids:torch.Size([8, 13])\ty:torch.Size([8])\tindexes:(8,)\t\n",
            "input_ids:torch.Size([8, 10])\ty:torch.Size([8])\tindexes:(8,)\t\n",
            "input_ids:torch.Size([8, 10])\ty:torch.Size([8])\tindexes:(8,)\t\n",
            "input_ids:torch.Size([8, 12])\ty:torch.Size([8])\tindexes:(8,)\t\n",
            "input_ids:torch.Size([8, 10])\ty:torch.Size([8])\tindexes:(8,)\t\n"
          ]
        }
      ]
    },
    {
      "cell_type": "markdown",
      "metadata": {
        "id": "IcH5OVR-KZm3"
      },
      "source": [
        "## Создание и обучение модели"
      ]
    },
    {
      "cell_type": "code",
      "metadata": {
        "colab": {
          "base_uri": "https://localhost:8080/",
          "height": 123,
          "referenced_widgets": [
            "2f58b591d344491d8dab34ad099633e6",
            "fed5677b2e47485780789cc7b3df72d9",
            "dbecc3ec4dd14c90a70793139e74e5ca",
            "43e4e46fbde14b44a8666fe6a9f2f233",
            "e33756def8284c129a6bddb87b6f6eef",
            "0a2250dc2da242b89dedb19b024a72e4",
            "5aaf03da635d40528751142bc75c3a81",
            "ccd1d261065e4040a496fce160013215",
            "ed7317332fc9444886f196cdec23f57f",
            "0840e95f80f24317a87410c3d6eb2a2d",
            "1a5e7315ee814c449473ddfe7c71286c"
          ]
        },
        "id": "hi8LVWPUKgZl",
        "outputId": "3d9b24b0-2c7f-433b-9c92-fd0fa343ccb8"
      },
      "source": [
        "from transformers import AutoModel\n",
        "\n",
        "\n",
        "bert_model = AutoModel.from_pretrained(\"DeepPavlov/bert-base-bg-cs-pl-ru-cased\").to(\"cuda\")"
      ],
      "execution_count": 11,
      "outputs": [
        {
          "output_type": "display_data",
          "data": {
            "text/plain": [
              "Downloading:   0%|          | 0.00/681M [00:00<?, ?B/s]"
            ],
            "application/vnd.jupyter.widget-view+json": {
              "version_major": 2,
              "version_minor": 0,
              "model_id": "2f58b591d344491d8dab34ad099633e6"
            }
          },
          "metadata": {}
        },
        {
          "output_type": "stream",
          "name": "stderr",
          "text": [
            "Some weights of the model checkpoint at DeepPavlov/bert-base-bg-cs-pl-ru-cased were not used when initializing BertModel: ['cls.predictions.decoder.bias', 'cls.predictions.bias', 'cls.predictions.transform.LayerNorm.weight', 'cls.predictions.transform.dense.weight', 'cls.predictions.transform.LayerNorm.bias', 'cls.predictions.decoder.weight', 'cls.seq_relationship.bias', 'cls.seq_relationship.weight', 'cls.predictions.transform.dense.bias']\n",
            "- This IS expected if you are initializing BertModel from the checkpoint of a model trained on another task or with another architecture (e.g. initializing a BertForSequenceClassification model from a BertForPreTraining model).\n",
            "- This IS NOT expected if you are initializing BertModel from the checkpoint of a model that you expect to be exactly identical (initializing a BertForSequenceClassification model from a BertForSequenceClassification model).\n"
          ]
        }
      ]
    },
    {
      "cell_type": "code",
      "metadata": {
        "colab": {
          "base_uri": "https://localhost:8080/"
        },
        "id": "2h8-NSPYMcnh",
        "outputId": "a960d430-a693-4c00-94fa-157e23a0776d"
      },
      "source": [
        "answer = bert_model(batch['input_ids'])\n",
        "print(answer[\"last_hidden_state\"].shape)\n",
        "print(answer[\"pooler_output\"].shape)"
      ],
      "execution_count": 12,
      "outputs": [
        {
          "output_type": "stream",
          "name": "stdout",
          "text": [
            "torch.Size([8, 10, 768])\n",
            "torch.Size([8, 768])\n"
          ]
        }
      ]
    },
    {
      "cell_type": "markdown",
      "metadata": {
        "id": "5Ctt1K4oNffu"
      },
      "source": [
        "Напишем класс-обёртку для классификации"
      ]
    },
    {
      "cell_type": "code",
      "metadata": {
        "id": "U3NY-NrLNeBO"
      },
      "source": [
        "import torch.nn as nn\n",
        "from transformers.optimization import AdamW\n",
        "\n",
        "class BasicTransformersClassificationModel(nn.Module):\n",
        "\n",
        "    def __init__(self, model, labels_number, lr=1e-5, device=\"cpu\", **kwargs):\n",
        "        super(BasicTransformersClassificationModel, self).__init__()\n",
        "        self.model = model\n",
        "        self.labels_number = labels_number\n",
        "        self.build_network(labels_number)\n",
        "        # определяем функцию потерь\n",
        "        if self.labels_number > 1:\n",
        "            self.log_softmax = nn.LogSoftmax(dim=-1)\n",
        "            self.criterion = nn.NLLLoss(reduction=\"mean\")\n",
        "        else:\n",
        "            self.log_softmax = nn.Sigmoid()\n",
        "            self.criterion = nn.BCELoss(reduction=\"mean\")\n",
        "        self.device = device\n",
        "        if self.device is not None:\n",
        "            self.to(self.device)\n",
        "        self.optimizer = AdamW(self.parameters(), lr=lr, weight_decay=0.01)\n",
        "\n",
        "    @property\n",
        "    def hidden_size(self):\n",
        "        return self.model.config.hidden_size\n",
        "\n",
        "    def forward(self, input_ids, **kwargs):\n",
        "        raise NotImplementedError(\"You should implement forward pass in your derived class.\") \n",
        "\n",
        "    def train_on_batch(self, x, y):\n",
        "        self.train()\n",
        "        self.optimizer.zero_grad()\n",
        "        loss = self._validate(x, y)\n",
        "        loss[\"loss\"].backward()\n",
        "        self.optimizer.step()\n",
        "        return loss\n",
        "\n",
        "    def validate_on_batch(self, x, y):\n",
        "        self.eval()\n",
        "        with torch.no_grad():\n",
        "            return self._validate(x, y)\n",
        "\n",
        "    def _validate(self, x, y):\n",
        "        if self.device is not None:\n",
        "            y = y.to(self.device)\n",
        "        log_probs = self(**x) #   self.forward(x) = self.__call__(x)\n",
        "        loss = self.criterion(log_probs, y)\n",
        "        if self.labels_number > 1:\n",
        "            _, labels = torch.max(log_probs, dim=-1)\n",
        "        else:\n",
        "            labels = (log_probs >= 0.5).int()\n",
        "        return {\"loss\": loss, \"labels\": labels}\n",
        "\n",
        "class TransformersClassificationModel(BasicTransformersClassificationModel):\n",
        "\n",
        "    def build_network(self, labels_number):\n",
        "        self.proj_layer = torch.nn.Linear(self.hidden_size, self.labels_number)\n",
        "        return self\n",
        "\n",
        "    def forward(self, input_ids, **kwargs):\n",
        "        input_ids = input_ids.to(self.device)\n",
        "        cls_output = self.model(input_ids)[\"pooler_output\"]\n",
        "        logits = self.proj_layer(cls_output)\n",
        "        log_probs = self.log_softmax(logits)\n",
        "        if self.labels_number == 1:\n",
        "            log_probs = log_probs[...,0]\n",
        "        return log_probs\n"
      ],
      "execution_count": 13,
      "outputs": []
    },
    {
      "cell_type": "code",
      "metadata": {
        "id": "86bol6geQqbO",
        "colab": {
          "base_uri": "https://localhost:8080/"
        },
        "outputId": "6435c46a-b445-4627-9c37-7b1762615084"
      },
      "source": [
        "model = TransformersClassificationModel(\n",
        "    bert_model, labels_number=1, device=\"cuda\"\n",
        ")\n",
        "for name, elem in model.named_parameters():\n",
        "    print(name, elem.device, elem.shape)"
      ],
      "execution_count": 14,
      "outputs": [
        {
          "output_type": "stream",
          "name": "stdout",
          "text": [
            "model.embeddings.word_embeddings.weight cuda:0 torch.Size([119547, 768])\n",
            "model.embeddings.position_embeddings.weight cuda:0 torch.Size([512, 768])\n",
            "model.embeddings.token_type_embeddings.weight cuda:0 torch.Size([2, 768])\n",
            "model.embeddings.LayerNorm.weight cuda:0 torch.Size([768])\n",
            "model.embeddings.LayerNorm.bias cuda:0 torch.Size([768])\n",
            "model.encoder.layer.0.attention.self.query.weight cuda:0 torch.Size([768, 768])\n",
            "model.encoder.layer.0.attention.self.query.bias cuda:0 torch.Size([768])\n",
            "model.encoder.layer.0.attention.self.key.weight cuda:0 torch.Size([768, 768])\n",
            "model.encoder.layer.0.attention.self.key.bias cuda:0 torch.Size([768])\n",
            "model.encoder.layer.0.attention.self.value.weight cuda:0 torch.Size([768, 768])\n",
            "model.encoder.layer.0.attention.self.value.bias cuda:0 torch.Size([768])\n",
            "model.encoder.layer.0.attention.output.dense.weight cuda:0 torch.Size([768, 768])\n",
            "model.encoder.layer.0.attention.output.dense.bias cuda:0 torch.Size([768])\n",
            "model.encoder.layer.0.attention.output.LayerNorm.weight cuda:0 torch.Size([768])\n",
            "model.encoder.layer.0.attention.output.LayerNorm.bias cuda:0 torch.Size([768])\n",
            "model.encoder.layer.0.intermediate.dense.weight cuda:0 torch.Size([3072, 768])\n",
            "model.encoder.layer.0.intermediate.dense.bias cuda:0 torch.Size([3072])\n",
            "model.encoder.layer.0.output.dense.weight cuda:0 torch.Size([768, 3072])\n",
            "model.encoder.layer.0.output.dense.bias cuda:0 torch.Size([768])\n",
            "model.encoder.layer.0.output.LayerNorm.weight cuda:0 torch.Size([768])\n",
            "model.encoder.layer.0.output.LayerNorm.bias cuda:0 torch.Size([768])\n",
            "model.encoder.layer.1.attention.self.query.weight cuda:0 torch.Size([768, 768])\n",
            "model.encoder.layer.1.attention.self.query.bias cuda:0 torch.Size([768])\n",
            "model.encoder.layer.1.attention.self.key.weight cuda:0 torch.Size([768, 768])\n",
            "model.encoder.layer.1.attention.self.key.bias cuda:0 torch.Size([768])\n",
            "model.encoder.layer.1.attention.self.value.weight cuda:0 torch.Size([768, 768])\n",
            "model.encoder.layer.1.attention.self.value.bias cuda:0 torch.Size([768])\n",
            "model.encoder.layer.1.attention.output.dense.weight cuda:0 torch.Size([768, 768])\n",
            "model.encoder.layer.1.attention.output.dense.bias cuda:0 torch.Size([768])\n",
            "model.encoder.layer.1.attention.output.LayerNorm.weight cuda:0 torch.Size([768])\n",
            "model.encoder.layer.1.attention.output.LayerNorm.bias cuda:0 torch.Size([768])\n",
            "model.encoder.layer.1.intermediate.dense.weight cuda:0 torch.Size([3072, 768])\n",
            "model.encoder.layer.1.intermediate.dense.bias cuda:0 torch.Size([3072])\n",
            "model.encoder.layer.1.output.dense.weight cuda:0 torch.Size([768, 3072])\n",
            "model.encoder.layer.1.output.dense.bias cuda:0 torch.Size([768])\n",
            "model.encoder.layer.1.output.LayerNorm.weight cuda:0 torch.Size([768])\n",
            "model.encoder.layer.1.output.LayerNorm.bias cuda:0 torch.Size([768])\n",
            "model.encoder.layer.2.attention.self.query.weight cuda:0 torch.Size([768, 768])\n",
            "model.encoder.layer.2.attention.self.query.bias cuda:0 torch.Size([768])\n",
            "model.encoder.layer.2.attention.self.key.weight cuda:0 torch.Size([768, 768])\n",
            "model.encoder.layer.2.attention.self.key.bias cuda:0 torch.Size([768])\n",
            "model.encoder.layer.2.attention.self.value.weight cuda:0 torch.Size([768, 768])\n",
            "model.encoder.layer.2.attention.self.value.bias cuda:0 torch.Size([768])\n",
            "model.encoder.layer.2.attention.output.dense.weight cuda:0 torch.Size([768, 768])\n",
            "model.encoder.layer.2.attention.output.dense.bias cuda:0 torch.Size([768])\n",
            "model.encoder.layer.2.attention.output.LayerNorm.weight cuda:0 torch.Size([768])\n",
            "model.encoder.layer.2.attention.output.LayerNorm.bias cuda:0 torch.Size([768])\n",
            "model.encoder.layer.2.intermediate.dense.weight cuda:0 torch.Size([3072, 768])\n",
            "model.encoder.layer.2.intermediate.dense.bias cuda:0 torch.Size([3072])\n",
            "model.encoder.layer.2.output.dense.weight cuda:0 torch.Size([768, 3072])\n",
            "model.encoder.layer.2.output.dense.bias cuda:0 torch.Size([768])\n",
            "model.encoder.layer.2.output.LayerNorm.weight cuda:0 torch.Size([768])\n",
            "model.encoder.layer.2.output.LayerNorm.bias cuda:0 torch.Size([768])\n",
            "model.encoder.layer.3.attention.self.query.weight cuda:0 torch.Size([768, 768])\n",
            "model.encoder.layer.3.attention.self.query.bias cuda:0 torch.Size([768])\n",
            "model.encoder.layer.3.attention.self.key.weight cuda:0 torch.Size([768, 768])\n",
            "model.encoder.layer.3.attention.self.key.bias cuda:0 torch.Size([768])\n",
            "model.encoder.layer.3.attention.self.value.weight cuda:0 torch.Size([768, 768])\n",
            "model.encoder.layer.3.attention.self.value.bias cuda:0 torch.Size([768])\n",
            "model.encoder.layer.3.attention.output.dense.weight cuda:0 torch.Size([768, 768])\n",
            "model.encoder.layer.3.attention.output.dense.bias cuda:0 torch.Size([768])\n",
            "model.encoder.layer.3.attention.output.LayerNorm.weight cuda:0 torch.Size([768])\n",
            "model.encoder.layer.3.attention.output.LayerNorm.bias cuda:0 torch.Size([768])\n",
            "model.encoder.layer.3.intermediate.dense.weight cuda:0 torch.Size([3072, 768])\n",
            "model.encoder.layer.3.intermediate.dense.bias cuda:0 torch.Size([3072])\n",
            "model.encoder.layer.3.output.dense.weight cuda:0 torch.Size([768, 3072])\n",
            "model.encoder.layer.3.output.dense.bias cuda:0 torch.Size([768])\n",
            "model.encoder.layer.3.output.LayerNorm.weight cuda:0 torch.Size([768])\n",
            "model.encoder.layer.3.output.LayerNorm.bias cuda:0 torch.Size([768])\n",
            "model.encoder.layer.4.attention.self.query.weight cuda:0 torch.Size([768, 768])\n",
            "model.encoder.layer.4.attention.self.query.bias cuda:0 torch.Size([768])\n",
            "model.encoder.layer.4.attention.self.key.weight cuda:0 torch.Size([768, 768])\n",
            "model.encoder.layer.4.attention.self.key.bias cuda:0 torch.Size([768])\n",
            "model.encoder.layer.4.attention.self.value.weight cuda:0 torch.Size([768, 768])\n",
            "model.encoder.layer.4.attention.self.value.bias cuda:0 torch.Size([768])\n",
            "model.encoder.layer.4.attention.output.dense.weight cuda:0 torch.Size([768, 768])\n",
            "model.encoder.layer.4.attention.output.dense.bias cuda:0 torch.Size([768])\n",
            "model.encoder.layer.4.attention.output.LayerNorm.weight cuda:0 torch.Size([768])\n",
            "model.encoder.layer.4.attention.output.LayerNorm.bias cuda:0 torch.Size([768])\n",
            "model.encoder.layer.4.intermediate.dense.weight cuda:0 torch.Size([3072, 768])\n",
            "model.encoder.layer.4.intermediate.dense.bias cuda:0 torch.Size([3072])\n",
            "model.encoder.layer.4.output.dense.weight cuda:0 torch.Size([768, 3072])\n",
            "model.encoder.layer.4.output.dense.bias cuda:0 torch.Size([768])\n",
            "model.encoder.layer.4.output.LayerNorm.weight cuda:0 torch.Size([768])\n",
            "model.encoder.layer.4.output.LayerNorm.bias cuda:0 torch.Size([768])\n",
            "model.encoder.layer.5.attention.self.query.weight cuda:0 torch.Size([768, 768])\n",
            "model.encoder.layer.5.attention.self.query.bias cuda:0 torch.Size([768])\n",
            "model.encoder.layer.5.attention.self.key.weight cuda:0 torch.Size([768, 768])\n",
            "model.encoder.layer.5.attention.self.key.bias cuda:0 torch.Size([768])\n",
            "model.encoder.layer.5.attention.self.value.weight cuda:0 torch.Size([768, 768])\n",
            "model.encoder.layer.5.attention.self.value.bias cuda:0 torch.Size([768])\n",
            "model.encoder.layer.5.attention.output.dense.weight cuda:0 torch.Size([768, 768])\n",
            "model.encoder.layer.5.attention.output.dense.bias cuda:0 torch.Size([768])\n",
            "model.encoder.layer.5.attention.output.LayerNorm.weight cuda:0 torch.Size([768])\n",
            "model.encoder.layer.5.attention.output.LayerNorm.bias cuda:0 torch.Size([768])\n",
            "model.encoder.layer.5.intermediate.dense.weight cuda:0 torch.Size([3072, 768])\n",
            "model.encoder.layer.5.intermediate.dense.bias cuda:0 torch.Size([3072])\n",
            "model.encoder.layer.5.output.dense.weight cuda:0 torch.Size([768, 3072])\n",
            "model.encoder.layer.5.output.dense.bias cuda:0 torch.Size([768])\n",
            "model.encoder.layer.5.output.LayerNorm.weight cuda:0 torch.Size([768])\n",
            "model.encoder.layer.5.output.LayerNorm.bias cuda:0 torch.Size([768])\n",
            "model.encoder.layer.6.attention.self.query.weight cuda:0 torch.Size([768, 768])\n",
            "model.encoder.layer.6.attention.self.query.bias cuda:0 torch.Size([768])\n",
            "model.encoder.layer.6.attention.self.key.weight cuda:0 torch.Size([768, 768])\n",
            "model.encoder.layer.6.attention.self.key.bias cuda:0 torch.Size([768])\n",
            "model.encoder.layer.6.attention.self.value.weight cuda:0 torch.Size([768, 768])\n",
            "model.encoder.layer.6.attention.self.value.bias cuda:0 torch.Size([768])\n",
            "model.encoder.layer.6.attention.output.dense.weight cuda:0 torch.Size([768, 768])\n",
            "model.encoder.layer.6.attention.output.dense.bias cuda:0 torch.Size([768])\n",
            "model.encoder.layer.6.attention.output.LayerNorm.weight cuda:0 torch.Size([768])\n",
            "model.encoder.layer.6.attention.output.LayerNorm.bias cuda:0 torch.Size([768])\n",
            "model.encoder.layer.6.intermediate.dense.weight cuda:0 torch.Size([3072, 768])\n",
            "model.encoder.layer.6.intermediate.dense.bias cuda:0 torch.Size([3072])\n",
            "model.encoder.layer.6.output.dense.weight cuda:0 torch.Size([768, 3072])\n",
            "model.encoder.layer.6.output.dense.bias cuda:0 torch.Size([768])\n",
            "model.encoder.layer.6.output.LayerNorm.weight cuda:0 torch.Size([768])\n",
            "model.encoder.layer.6.output.LayerNorm.bias cuda:0 torch.Size([768])\n",
            "model.encoder.layer.7.attention.self.query.weight cuda:0 torch.Size([768, 768])\n",
            "model.encoder.layer.7.attention.self.query.bias cuda:0 torch.Size([768])\n",
            "model.encoder.layer.7.attention.self.key.weight cuda:0 torch.Size([768, 768])\n",
            "model.encoder.layer.7.attention.self.key.bias cuda:0 torch.Size([768])\n",
            "model.encoder.layer.7.attention.self.value.weight cuda:0 torch.Size([768, 768])\n",
            "model.encoder.layer.7.attention.self.value.bias cuda:0 torch.Size([768])\n",
            "model.encoder.layer.7.attention.output.dense.weight cuda:0 torch.Size([768, 768])\n",
            "model.encoder.layer.7.attention.output.dense.bias cuda:0 torch.Size([768])\n",
            "model.encoder.layer.7.attention.output.LayerNorm.weight cuda:0 torch.Size([768])\n",
            "model.encoder.layer.7.attention.output.LayerNorm.bias cuda:0 torch.Size([768])\n",
            "model.encoder.layer.7.intermediate.dense.weight cuda:0 torch.Size([3072, 768])\n",
            "model.encoder.layer.7.intermediate.dense.bias cuda:0 torch.Size([3072])\n",
            "model.encoder.layer.7.output.dense.weight cuda:0 torch.Size([768, 3072])\n",
            "model.encoder.layer.7.output.dense.bias cuda:0 torch.Size([768])\n",
            "model.encoder.layer.7.output.LayerNorm.weight cuda:0 torch.Size([768])\n",
            "model.encoder.layer.7.output.LayerNorm.bias cuda:0 torch.Size([768])\n",
            "model.encoder.layer.8.attention.self.query.weight cuda:0 torch.Size([768, 768])\n",
            "model.encoder.layer.8.attention.self.query.bias cuda:0 torch.Size([768])\n",
            "model.encoder.layer.8.attention.self.key.weight cuda:0 torch.Size([768, 768])\n",
            "model.encoder.layer.8.attention.self.key.bias cuda:0 torch.Size([768])\n",
            "model.encoder.layer.8.attention.self.value.weight cuda:0 torch.Size([768, 768])\n",
            "model.encoder.layer.8.attention.self.value.bias cuda:0 torch.Size([768])\n",
            "model.encoder.layer.8.attention.output.dense.weight cuda:0 torch.Size([768, 768])\n",
            "model.encoder.layer.8.attention.output.dense.bias cuda:0 torch.Size([768])\n",
            "model.encoder.layer.8.attention.output.LayerNorm.weight cuda:0 torch.Size([768])\n",
            "model.encoder.layer.8.attention.output.LayerNorm.bias cuda:0 torch.Size([768])\n",
            "model.encoder.layer.8.intermediate.dense.weight cuda:0 torch.Size([3072, 768])\n",
            "model.encoder.layer.8.intermediate.dense.bias cuda:0 torch.Size([3072])\n",
            "model.encoder.layer.8.output.dense.weight cuda:0 torch.Size([768, 3072])\n",
            "model.encoder.layer.8.output.dense.bias cuda:0 torch.Size([768])\n",
            "model.encoder.layer.8.output.LayerNorm.weight cuda:0 torch.Size([768])\n",
            "model.encoder.layer.8.output.LayerNorm.bias cuda:0 torch.Size([768])\n",
            "model.encoder.layer.9.attention.self.query.weight cuda:0 torch.Size([768, 768])\n",
            "model.encoder.layer.9.attention.self.query.bias cuda:0 torch.Size([768])\n",
            "model.encoder.layer.9.attention.self.key.weight cuda:0 torch.Size([768, 768])\n",
            "model.encoder.layer.9.attention.self.key.bias cuda:0 torch.Size([768])\n",
            "model.encoder.layer.9.attention.self.value.weight cuda:0 torch.Size([768, 768])\n",
            "model.encoder.layer.9.attention.self.value.bias cuda:0 torch.Size([768])\n",
            "model.encoder.layer.9.attention.output.dense.weight cuda:0 torch.Size([768, 768])\n",
            "model.encoder.layer.9.attention.output.dense.bias cuda:0 torch.Size([768])\n",
            "model.encoder.layer.9.attention.output.LayerNorm.weight cuda:0 torch.Size([768])\n",
            "model.encoder.layer.9.attention.output.LayerNorm.bias cuda:0 torch.Size([768])\n",
            "model.encoder.layer.9.intermediate.dense.weight cuda:0 torch.Size([3072, 768])\n",
            "model.encoder.layer.9.intermediate.dense.bias cuda:0 torch.Size([3072])\n",
            "model.encoder.layer.9.output.dense.weight cuda:0 torch.Size([768, 3072])\n",
            "model.encoder.layer.9.output.dense.bias cuda:0 torch.Size([768])\n",
            "model.encoder.layer.9.output.LayerNorm.weight cuda:0 torch.Size([768])\n",
            "model.encoder.layer.9.output.LayerNorm.bias cuda:0 torch.Size([768])\n",
            "model.encoder.layer.10.attention.self.query.weight cuda:0 torch.Size([768, 768])\n",
            "model.encoder.layer.10.attention.self.query.bias cuda:0 torch.Size([768])\n",
            "model.encoder.layer.10.attention.self.key.weight cuda:0 torch.Size([768, 768])\n",
            "model.encoder.layer.10.attention.self.key.bias cuda:0 torch.Size([768])\n",
            "model.encoder.layer.10.attention.self.value.weight cuda:0 torch.Size([768, 768])\n",
            "model.encoder.layer.10.attention.self.value.bias cuda:0 torch.Size([768])\n",
            "model.encoder.layer.10.attention.output.dense.weight cuda:0 torch.Size([768, 768])\n",
            "model.encoder.layer.10.attention.output.dense.bias cuda:0 torch.Size([768])\n",
            "model.encoder.layer.10.attention.output.LayerNorm.weight cuda:0 torch.Size([768])\n",
            "model.encoder.layer.10.attention.output.LayerNorm.bias cuda:0 torch.Size([768])\n",
            "model.encoder.layer.10.intermediate.dense.weight cuda:0 torch.Size([3072, 768])\n",
            "model.encoder.layer.10.intermediate.dense.bias cuda:0 torch.Size([3072])\n",
            "model.encoder.layer.10.output.dense.weight cuda:0 torch.Size([768, 3072])\n",
            "model.encoder.layer.10.output.dense.bias cuda:0 torch.Size([768])\n",
            "model.encoder.layer.10.output.LayerNorm.weight cuda:0 torch.Size([768])\n",
            "model.encoder.layer.10.output.LayerNorm.bias cuda:0 torch.Size([768])\n",
            "model.encoder.layer.11.attention.self.query.weight cuda:0 torch.Size([768, 768])\n",
            "model.encoder.layer.11.attention.self.query.bias cuda:0 torch.Size([768])\n",
            "model.encoder.layer.11.attention.self.key.weight cuda:0 torch.Size([768, 768])\n",
            "model.encoder.layer.11.attention.self.key.bias cuda:0 torch.Size([768])\n",
            "model.encoder.layer.11.attention.self.value.weight cuda:0 torch.Size([768, 768])\n",
            "model.encoder.layer.11.attention.self.value.bias cuda:0 torch.Size([768])\n",
            "model.encoder.layer.11.attention.output.dense.weight cuda:0 torch.Size([768, 768])\n",
            "model.encoder.layer.11.attention.output.dense.bias cuda:0 torch.Size([768])\n",
            "model.encoder.layer.11.attention.output.LayerNorm.weight cuda:0 torch.Size([768])\n",
            "model.encoder.layer.11.attention.output.LayerNorm.bias cuda:0 torch.Size([768])\n",
            "model.encoder.layer.11.intermediate.dense.weight cuda:0 torch.Size([3072, 768])\n",
            "model.encoder.layer.11.intermediate.dense.bias cuda:0 torch.Size([3072])\n",
            "model.encoder.layer.11.output.dense.weight cuda:0 torch.Size([768, 3072])\n",
            "model.encoder.layer.11.output.dense.bias cuda:0 torch.Size([768])\n",
            "model.encoder.layer.11.output.LayerNorm.weight cuda:0 torch.Size([768])\n",
            "model.encoder.layer.11.output.LayerNorm.bias cuda:0 torch.Size([768])\n",
            "model.pooler.dense.weight cuda:0 torch.Size([768, 768])\n",
            "model.pooler.dense.bias cuda:0 torch.Size([768])\n",
            "proj_layer.weight cuda:0 torch.Size([1, 768])\n",
            "proj_layer.bias cuda:0 torch.Size([1])\n"
          ]
        },
        {
          "output_type": "stream",
          "name": "stderr",
          "text": [
            "/usr/local/lib/python3.7/dist-packages/transformers/optimization.py:310: FutureWarning: This implementation of AdamW is deprecated and will be removed in a future version. Use the PyTorch implementation torch.optim.AdamW instead, or set `no_deprecation_warning=True` to disable this warning\n",
            "  FutureWarning,\n"
          ]
        }
      ]
    },
    {
      "cell_type": "code",
      "metadata": {
        "colab": {
          "base_uri": "https://localhost:8080/"
        },
        "id": "OFTCr3H6RKjG",
        "outputId": "036c868e-6ae1-44cd-f417-5f5ac5491951"
      },
      "source": [
        "train_dataloader = iter(FieldBatchDataLoader(train_dataset, batch_size=8, device=\"cuda\"))\n",
        "batch = next(train_dataloader)\n",
        "labels = batch[\"y\"]\n",
        "print(labels)\n",
        "for i in range(100):\n",
        "    loss = model.train_on_batch(batch, labels)[\"loss\"].item()\n",
        "    if i < 5 or (i+1) % 10 == 0:\n",
        "        print(i, loss)\n",
        "print(model.validate_on_batch(batch, labels)[\"loss\"].item())"
      ],
      "execution_count": 15,
      "outputs": [
        {
          "output_type": "stream",
          "name": "stderr",
          "text": [
            "/usr/local/lib/python3.7/dist-packages/ipykernel_launcher.py:49: VisibleDeprecationWarning: Creating an ndarray from ragged nested sequences (which is a list-or-tuple of lists-or-tuples-or ndarrays with different lengths or shapes) is deprecated. If you meant to do this, you must specify 'dtype=object' when creating the ndarray.\n",
            "/usr/local/lib/python3.7/dist-packages/ipykernel_launcher.py:17: DeprecationWarning: `np.float` is a deprecated alias for the builtin `float`. To silence this warning, use `float` by itself. Doing this will not modify any behavior and is safe. If you specifically wanted the numpy scalar type, use `np.float64` here.\n",
            "Deprecated in NumPy 1.20; for more details and guidance: https://numpy.org/devdocs/release/1.20.0-notes.html#deprecations\n"
          ]
        },
        {
          "output_type": "stream",
          "name": "stdout",
          "text": [
            "tensor([0., 1., 1., 0., 1., 1., 0., 0.], device='cuda:0')\n",
            "0 0.6863128542900085\n",
            "1 0.7014662623405457\n",
            "2 0.6890579462051392\n",
            "3 0.6811313629150391\n",
            "4 0.676398754119873\n",
            "9 0.594107449054718\n",
            "19 0.3534449636936188\n",
            "29 0.16878768801689148\n",
            "39 0.07225139439105988\n",
            "49 0.041993118822574615\n",
            "59 0.027434349060058594\n",
            "69 0.019774340093135834\n",
            "79 0.015765216201543808\n",
            "89 0.012184271588921547\n",
            "99 0.011070141568779945\n",
            "0.007773426361382008\n"
          ]
        }
      ]
    },
    {
      "cell_type": "markdown",
      "metadata": {
        "id": "yG1Pyf907g8w"
      },
      "source": [
        "## Обучение классификационной модели"
      ]
    },
    {
      "cell_type": "code",
      "metadata": {
        "id": "ce5t8lckSPo9"
      },
      "source": [
        "def update_metrics(metrics, batch_output, batch_labels):\n",
        "    n_batches = metrics[\"n_batches\"]\n",
        "    metrics[\"loss\"] = (metrics[\"loss\"] * n_batches + batch_output[\"loss\"].item()) / (n_batches + 1)\n",
        "    metrics[\"n_batches\"] += 1\n",
        "    are_equal = (batch_output[\"labels\"] == batch_labels).float()\n",
        "    are_TP = are_equal * batch_labels\n",
        "    are_FP = (1.0 - are_equal) * (1-batch_labels)\n",
        "    are_FN = (1.0 - are_equal) * batch_labels\n",
        "    metrics[\"correct\"] += are_equal.sum().item()\n",
        "    metrics[\"total\"] += are_equal.shape[0]\n",
        "    metrics[\"TP\"] += are_TP.sum().item()\n",
        "    metrics[\"FP\"] += are_FP.sum().item()\n",
        "    metrics[\"FN\"] += are_FN.sum().item()\n",
        "    metrics[\"accuracy\"] = metrics[\"correct\"] / max(metrics[\"total\"], 1)\n",
        "    metrics[\"P\"] = metrics[\"TP\"] / max(metrics[\"TP\"]+metrics[\"FP\"], 1)\n",
        "    metrics[\"R\"] = metrics[\"TP\"] / max(metrics[\"TP\"]+metrics[\"FN\"], 1)\n",
        "    metrics[\"F1\"] = metrics[\"TP\"] / max(metrics[\"TP\"]+0.5*metrics[\"FN\"]+0.5*metrics[\"FP\"], 1)"
      ],
      "execution_count": 16,
      "outputs": []
    },
    {
      "cell_type": "code",
      "metadata": {
        "id": "2AHpkvUISWo4"
      },
      "source": [
        "import tqdm\n",
        "\n",
        "def do_epoch(model, dataloader, mode=\"validate\", epoch=1):\n",
        "    metrics = {\"correct\": 0, \"total\": 0, \"loss\": 0.0, \"n_batches\": 0,\n",
        "               \"TP\": 0, \"FP\": 0, \"FN\": 0}\n",
        "    func = model.train_on_batch if mode == \"train\" else model.validate_on_batch\n",
        "    progress_bar = tqdm.notebook.tqdm(dataloader, leave=True)\n",
        "    progress_bar.set_description(f\"{mode}, epoch={epoch}\")\n",
        "    for batch in progress_bar:\n",
        "        batch_answers = batch[\"y\"]\n",
        "        batch_output = func(batch, batch_answers)\n",
        "        update_metrics(metrics, batch_output, batch_answers)\n",
        "        postfix = {\"loss\": round(metrics[\"loss\"], 4), \"acc\": round(100 * metrics[\"accuracy\"], 2)}\n",
        "        for key in [\"P\", \"R\", \"F1\"]:\n",
        "            postfix[key] =  round(100 * metrics[key], 2)\n",
        "        progress_bar.set_postfix(postfix)\n",
        "    return metrics"
      ],
      "execution_count": 17,
      "outputs": []
    },
    {
      "cell_type": "code",
      "metadata": {
        "colab": {
          "base_uri": "https://localhost:8080/",
          "height": 728,
          "referenced_widgets": [
            "cbf2f1eaae744652ab93749c8596389e",
            "ecc664b123f0486d8df3731c964076de",
            "13c9275e48c047e8a6e568d92fbfe467",
            "fecb644240bc4124bf7ce912e40a3566",
            "6879a72dda9140009cd63ba5fcdfa32e",
            "804be9177d284fcb9f717f57892961be",
            "8800d1c625834295b7ad79488ddb5c3b",
            "ab4427499cfd4d488bd707a86ce2aa0b",
            "e1e14f7c8a2747d8968253c75f19774a",
            "fa518d1946ab4ce59913c13b2f51364f",
            "acdcee75bb49423f8d6774bc02ce401d",
            "31a9bbb0b26f48d7acaabfb104d33ea5",
            "5b5aca7786ac40b9b1798683eff0b3a5",
            "54b8d5ddb5ed44e68f832d6c3baf79a5",
            "7d28e9e8875f4006951d620070959619",
            "6fd3c76213fc487681142f90bd335ff0",
            "d20ab2918cb2482cbd8bb1755c8f2069",
            "c3d0c6a9ecff4ed2b07c829bcc19d942",
            "1cf4f05b6d1e49469d70270ebaeb7064",
            "2456dc16494c4cba8011b9ae8372a68b",
            "f10e58c0697242148fb1d15f69a88903",
            "b936ef7c993443bda876554805a6d664",
            "26901b7220254dd48792f954ca6428b5",
            "8fea0c7c5dbe454885d7943bb5de9a9b",
            "8f20286b771348d487c5e0110affa741",
            "902ad1a6e09f445d844520983b507c24",
            "77081f44519149e7887124ae482229f8",
            "4e7980b96ee44665bfd4ff6048cda0d4",
            "1a342e0440514dd7a901183dfd95f9b2",
            "9bc69e044cda49f793364a9c4d80e732",
            "4d7b1526f7df49e79b8aa9c181c8e2f5",
            "d49069bdbcdc46dca2509728e70aa429",
            "57a0843ca9ae44df8fd27a101cbe041a",
            "7e7fb971ac084442a2bbe5e7db0163b9",
            "582c535d6ee14cf5aa3af26546a77590",
            "e15ce37825654c81bf53886043ec23bf",
            "ae186c7a9c714ac7b31b925034fd074a",
            "2cabfbd87ae04d169ea36ab424700fa2",
            "a99b8dbae69c4f42b2b578498d9d27db",
            "2418a710fb3f420b88360cbea0b5ce8c",
            "fa0ea2fcde66451db43ddf66bfd3e53c",
            "fd01ee85acda4fafbcc8bb1ddd5500b1",
            "00e00eccf75a409fb3d740b4c26ced20",
            "8a6bff86036a4129bbcad786cf9af2b1",
            "6c0b5b2bd18844f8900cf53afad7ddfa",
            "c58cfcb306014690acb6e25a2663808c",
            "c10a84a8c7704709afa54f54f8d2598e",
            "c31b0b95fdde4eb5944b09fe9fd1954a",
            "572d6aa0390544aeaee4e62173821121",
            "f0feee5ab11d4f9195315895de5efcea",
            "98cc55a89a00431294967cddfb11aeb8",
            "65923d6699bc48679b009f2848202f3e",
            "68d67f98a757424d9a1a9b81a91b327c",
            "18b1cb1333934c7ab799254453254068",
            "9cd932ade6dd4a79b8dc8d7a5e3e840d",
            "a794b24001db486aba375cef6867720d",
            "8e597dce6c01426681d6ad0e79cc8715",
            "8d268a77edb5453d93514cdb42d94de3",
            "26277730b8104b22bbce601fa6574431",
            "d2c47237661d4e7da513f4e2ab82c549",
            "05bb1282753b4d4a88992d70417e901e",
            "da568dd9398449e5a32a0512a5e292bc",
            "df0ddc9c907f45858fdac664b14a2ee2",
            "fa27aa099b604983bb3a5f92f36bbcf3",
            "cc91405446db49b19c4ec1be8a0ac740",
            "8b7a36b9961d4e6db8a95d9fe6fe0ce5",
            "6ee0345733084f008230c7715933e6d9",
            "240c988450e0454f9878884203f4d2d2",
            "a8e5fcfab1794ca0bf018659c14a44be",
            "43b9455e956b40b69ecd65b8e9836d9a",
            "e8d7f54682604175b0e359ec47f7b3d5",
            "1e5b6926c641458c9ac362feba757cf0",
            "f456aaaf96d8416f9b735ab53cbf553d",
            "a555eb78181a4b05acc0a666113195eb",
            "05760aa8365b4b29a46da2a68812f8a6",
            "7715c6275dd84efe8bca35a53218cc2d",
            "932dbe9443604774a846bdeeede67bc7",
            "549b03afeb5d4361b32e4bedb5e4ff95",
            "1cfeea42fe9643ea9551ec7ea3985ea1",
            "98e50ccbc5ac4bd4b477a7608aa470b8",
            "42a2cb051b0b4622b085ece7ba0c4d25",
            "31d4820927af43469f976d01965f00a1",
            "f7beb68be8aa46759b12dd1de6b3bc91",
            "5feabed34a1b4570b2d382a923a5fbb1",
            "6783108a50ff4143b93ec16154be8fd8",
            "7a33886604dd4a23af713da3ecd7b5f6",
            "79234dc170e643c48eb1457dad29ead2",
            "4f6484e4e11248ed8a22a45ef73ae203",
            "48c90918faf14e60aea0887974f9d22f",
            "776e6e7322ae426f8b8d9ada413b8071",
            "12ab2a4e13c749c09edefdfdbfa367e5",
            "a983d2ad35e248d4a794400a227b04a3",
            "09ecef22144d47a8a6e774338b4401f7",
            "c5ff8fca9dfe4f3098905ce346c7da4b",
            "0672ed4e202c44e79118a1aaabc41f23",
            "89d2fb8eb6c24806b51a7f6e4bf85b8e",
            "41bf2bc7d5c5495cbcbbf2ba3b6ed04a",
            "e3217b06ca6a4d68aed78b35054805d7",
            "897fc73d76764bf2a773e8db434eb243",
            "42627e32ad904779abca76693f864e3d",
            "05f5f79a7bc74942854f6b2e51c3ab5f",
            "f64255928ed94a309cd8b0ce265bb2fc",
            "895c5b6eeafd4322b84780f00abeebcf",
            "3fa0296df6954791b497335a02ef1d88",
            "9590c8dceffe4f50a8cca3a6b91bf79c",
            "1eca05e9dd734461a649b1e94aa98db6",
            "d87c65287d5441a2b8b847ee137025f8",
            "35c5e5b248334114b6f4c68648b6829e",
            "4807ebb03fc9489ab220d0bb4690ae15",
            "8156055aa1a14ce5832fc8e8cfa58496",
            "f843b4295df44645ad5108b4167639f8",
            "07e190d1a74449b98bc4502076f4994e",
            "825b8514913d4b57b5f480274ece912d",
            "9c820f0ffdd449f3bb17a5f6ce09a551",
            "6fed35c7bfb24312a57a95aac6d94b5a",
            "1b61c4f4d1054cb5b4468b8bc328fef5",
            "d7e3f0eeb8cd4a8ea54c55cc73f44e16",
            "0a51327401e3410fb483b99d55986918",
            "77ee6ec49a034b6e862ada1c47f88b5e",
            "902c150fc59d40f3a05a1edab79e7ae5",
            "c995f53497014f48a99bbfdcaa9b195b"
          ]
        },
        "id": "XuR0gxgOSboP",
        "outputId": "f8a3e17d-21a1-4e9d-8d2d-b4adf9d942cc"
      },
      "source": [
        "train_dataset = GramDataset(train_data, tokenizer)\n",
        "dev_dataset = GramDataset(dev_data, tokenizer)\n",
        "train_dataloader = iter(FieldBatchDataLoader(train_dataset, batch_size=8, device=\"cuda\"))\n",
        "dev_dataloader = iter(FieldBatchDataLoader(dev_dataset, batch_size=8, device=\"cuda\"))\n",
        "\n",
        "bert_model = AutoModel.from_pretrained(\"DeepPavlov/bert-base-bg-cs-pl-ru-cased\").to(\"cuda\")\n",
        "model = TransformersClassificationModel(bert_model, labels_number=1, device=\"cuda\")\n",
        "best_val_acc = 0.0\n",
        "checkpoint = \"checkpoint_best.pt\"\n",
        "for epoch in range(5):\n",
        "    do_epoch(model, train_dataloader, mode=\"train\", epoch=epoch+1)\n",
        "    epoch_metrics = do_epoch(model, dev_dataloader, mode=\"validate\", epoch=epoch+1)\n",
        "    if epoch_metrics[\"accuracy\"] > best_val_acc:\n",
        "        best_val_acc = epoch_metrics[\"accuracy\"]\n",
        "        torch.save(model.state_dict(), checkpoint)\n",
        "        # print(\"Saving \")\n",
        "model.load_state_dict(torch.load(checkpoint))\n",
        "do_epoch(model, dev_dataloader, mode=\"validate\", epoch=\"evaluate\")"
      ],
      "execution_count": 18,
      "outputs": [
        {
          "metadata": {
            "tags": null
          },
          "name": "stderr",
          "output_type": "stream",
          "text": [
            "/usr/local/lib/python3.7/dist-packages/ipykernel_launcher.py:49: VisibleDeprecationWarning: Creating an ndarray from ragged nested sequences (which is a list-or-tuple of lists-or-tuples-or ndarrays with different lengths or shapes) is deprecated. If you meant to do this, you must specify 'dtype=object' when creating the ndarray.\n",
            "Some weights of the model checkpoint at DeepPavlov/bert-base-bg-cs-pl-ru-cased were not used when initializing BertModel: ['cls.predictions.decoder.bias', 'cls.predictions.bias', 'cls.predictions.transform.LayerNorm.weight', 'cls.predictions.transform.dense.weight', 'cls.predictions.transform.LayerNorm.bias', 'cls.predictions.decoder.weight', 'cls.seq_relationship.bias', 'cls.seq_relationship.weight', 'cls.predictions.transform.dense.bias']\n",
            "- This IS expected if you are initializing BertModel from the checkpoint of a model trained on another task or with another architecture (e.g. initializing a BertForSequenceClassification model from a BertForPreTraining model).\n",
            "- This IS NOT expected if you are initializing BertModel from the checkpoint of a model that you expect to be exactly identical (initializing a BertForSequenceClassification model from a BertForSequenceClassification model).\n",
            "/usr/local/lib/python3.7/dist-packages/transformers/optimization.py:310: FutureWarning: This implementation of AdamW is deprecated and will be removed in a future version. Use the PyTorch implementation torch.optim.AdamW instead, or set `no_deprecation_warning=True` to disable this warning\n",
            "  FutureWarning,\n"
          ]
        },
        {
          "data": {
            "application/vnd.jupyter.widget-view+json": {
              "model_id": "cbf2f1eaae744652ab93749c8596389e",
              "version_major": 2,
              "version_minor": 0
            },
            "text/plain": [
              "  0%|          | 0/12666 [00:00<?, ?it/s]"
            ]
          },
          "metadata": {},
          "output_type": "display_data"
        },
        {
          "metadata": {
            "tags": null
          },
          "name": "stderr",
          "output_type": "stream",
          "text": [
            "/usr/local/lib/python3.7/dist-packages/ipykernel_launcher.py:17: DeprecationWarning: `np.float` is a deprecated alias for the builtin `float`. To silence this warning, use `float` by itself. Doing this will not modify any behavior and is safe. If you specifically wanted the numpy scalar type, use `np.float64` here.\n",
            "Deprecated in NumPy 1.20; for more details and guidance: https://numpy.org/devdocs/release/1.20.0-notes.html#deprecations\n"
          ]
        },
        {
          "data": {
            "application/vnd.jupyter.widget-view+json": {
              "model_id": "31a9bbb0b26f48d7acaabfb104d33ea5",
              "version_major": 2,
              "version_minor": 0
            },
            "text/plain": [
              "  0%|          | 0/2713 [00:00<?, ?it/s]"
            ]
          },
          "metadata": {},
          "output_type": "display_data"
        },
        {
          "data": {
            "application/vnd.jupyter.widget-view+json": {
              "model_id": "26901b7220254dd48792f954ca6428b5",
              "version_major": 2,
              "version_minor": 0
            },
            "text/plain": [
              "  0%|          | 0/12666 [00:00<?, ?it/s]"
            ]
          },
          "metadata": {},
          "output_type": "display_data"
        },
        {
          "data": {
            "application/vnd.jupyter.widget-view+json": {
              "model_id": "7e7fb971ac084442a2bbe5e7db0163b9",
              "version_major": 2,
              "version_minor": 0
            },
            "text/plain": [
              "  0%|          | 0/2713 [00:00<?, ?it/s]"
            ]
          },
          "metadata": {},
          "output_type": "display_data"
        },
        {
          "data": {
            "application/vnd.jupyter.widget-view+json": {
              "model_id": "6c0b5b2bd18844f8900cf53afad7ddfa",
              "version_major": 2,
              "version_minor": 0
            },
            "text/plain": [
              "  0%|          | 0/12666 [00:00<?, ?it/s]"
            ]
          },
          "metadata": {},
          "output_type": "display_data"
        },
        {
          "data": {
            "application/vnd.jupyter.widget-view+json": {
              "model_id": "a794b24001db486aba375cef6867720d",
              "version_major": 2,
              "version_minor": 0
            },
            "text/plain": [
              "  0%|          | 0/2713 [00:00<?, ?it/s]"
            ]
          },
          "metadata": {},
          "output_type": "display_data"
        },
        {
          "data": {
            "application/vnd.jupyter.widget-view+json": {
              "model_id": "6ee0345733084f008230c7715933e6d9",
              "version_major": 2,
              "version_minor": 0
            },
            "text/plain": [
              "  0%|          | 0/12666 [00:00<?, ?it/s]"
            ]
          },
          "metadata": {},
          "output_type": "display_data"
        },
        {
          "output_type": "display_data",
          "data": {
            "text/plain": [
              "  0%|          | 0/2713 [00:00<?, ?it/s]"
            ],
            "application/vnd.jupyter.widget-view+json": {
              "version_major": 2,
              "version_minor": 0,
              "model_id": "549b03afeb5d4361b32e4bedb5e4ff95"
            }
          },
          "metadata": {}
        },
        {
          "output_type": "display_data",
          "data": {
            "text/plain": [
              "  0%|          | 0/12666 [00:00<?, ?it/s]"
            ],
            "application/vnd.jupyter.widget-view+json": {
              "version_major": 2,
              "version_minor": 0,
              "model_id": "48c90918faf14e60aea0887974f9d22f"
            }
          },
          "metadata": {}
        },
        {
          "output_type": "display_data",
          "data": {
            "text/plain": [
              "  0%|          | 0/2713 [00:00<?, ?it/s]"
            ],
            "application/vnd.jupyter.widget-view+json": {
              "version_major": 2,
              "version_minor": 0,
              "model_id": "42627e32ad904779abca76693f864e3d"
            }
          },
          "metadata": {}
        },
        {
          "output_type": "display_data",
          "data": {
            "text/plain": [
              "  0%|          | 0/2713 [00:00<?, ?it/s]"
            ],
            "application/vnd.jupyter.widget-view+json": {
              "version_major": 2,
              "version_minor": 0,
              "model_id": "f843b4295df44645ad5108b4167639f8"
            }
          },
          "metadata": {}
        },
        {
          "output_type": "execute_result",
          "data": {
            "text/plain": [
              "{'F1': 1.0,\n",
              " 'FN': 0.0,\n",
              " 'FP': 0.0,\n",
              " 'P': 1.0,\n",
              " 'R': 1.0,\n",
              " 'TP': 10811.0,\n",
              " 'accuracy': 1.0,\n",
              " 'correct': 21701.0,\n",
              " 'loss': 1.397684149980502e-05,\n",
              " 'n_batches': 2713,\n",
              " 'total': 21701}"
            ]
          },
          "metadata": {},
          "execution_count": 18
        }
      ]
    },
    {
      "cell_type": "code",
      "metadata": {
        "id": "L41M6K0neF_W"
      },
      "source": [
        "def predict_with_model(model, X, classes):\n",
        "    model.eval()\n",
        "    dataloader = FieldBatchDataLoader(X, device=model.device)\n",
        "    answer = [None] * len(X)\n",
        "    for batch in dataloader:\n",
        "        with torch.no_grad():\n",
        "            batch_answer = model(**batch)\n",
        "        labels = (batch_answer >= 0.5).int().cpu().numpy()\n",
        "        for i, label in zip(batch[\"indexes\"], labels):\n",
        "            answer[i] = classes[label]\n",
        "    return answer"
      ],
      "execution_count": 19,
      "outputs": []
    },
    {
      "cell_type": "code",
      "source": [
        "test_dataset = GramDataset(test_data, tokenizer)\n",
        "predicted = predict_with_model(model, test_dataset, classes=[0, 1])"
      ],
      "metadata": {
        "colab": {
          "base_uri": "https://localhost:8080/"
        },
        "id": "-hgtum3yTQfU",
        "outputId": "b8601929-588d-4e32-c72e-a5e875ac752b"
      },
      "execution_count": 20,
      "outputs": [
        {
          "output_type": "stream",
          "name": "stderr",
          "text": [
            "/usr/local/lib/python3.7/dist-packages/ipykernel_launcher.py:17: DeprecationWarning: `np.float` is a deprecated alias for the builtin `float`. To silence this warning, use `float` by itself. Doing this will not modify any behavior and is safe. If you specifically wanted the numpy scalar type, use `np.float64` here.\n",
            "Deprecated in NumPy 1.20; for more details and guidance: https://numpy.org/devdocs/release/1.20.0-notes.html#deprecations\n"
          ]
        }
      ]
    },
    {
      "cell_type": "code",
      "source": [
        "for i in range(10,20):\n",
        "    print(test_data[i][\"idx\"], predicted[i])"
      ],
      "metadata": {
        "colab": {
          "base_uri": "https://localhost:8080/"
        },
        "id": "Wgzan8KVvVnI",
        "outputId": "7e5e30da-8c76-4e06-f856-ed9fe0316180"
      },
      "execution_count": 51,
      "outputs": [
        {
          "output_type": "stream",
          "name": "stdout",
          "text": [
            "1 1\n",
            "0 0\n",
            "1 1\n",
            "1 1\n",
            "0 0\n",
            "1 1\n",
            "1 1\n",
            "0 0\n",
            "1 1\n",
            "1 1\n"
          ]
        }
      ]
    },
    {
      "cell_type": "code",
      "source": [
        "correct = []\n",
        "for i in range(len(test_data)):\n",
        "  correct.append(test_data[i][\"idx\"])"
      ],
      "metadata": {
        "id": "LxJf0l5MvYCF"
      },
      "execution_count": 52,
      "outputs": []
    },
    {
      "cell_type": "code",
      "source": [
        "from sklearn.metrics import accuracy_score\n",
        "accuracy_score(predicted, correct)"
      ],
      "metadata": {
        "colab": {
          "base_uri": "https://localhost:8080/"
        },
        "id": "MVp4oadmTVWH",
        "outputId": "06677893-e819-43a1-8d01-3233b1a1b250"
      },
      "execution_count": 53,
      "outputs": [
        {
          "output_type": "execute_result",
          "data": {
            "text/plain": [
              "1.0"
            ]
          },
          "metadata": {},
          "execution_count": 53
        }
      ]
    },
    {
      "cell_type": "code",
      "source": [
        "from sklearn.metrics import matthews_corrcoef\n",
        "matthews_corrcoef(correct, predicted, sample_weight=None)"
      ],
      "metadata": {
        "colab": {
          "base_uri": "https://localhost:8080/"
        },
        "id": "IC_5n_kwTXEY",
        "outputId": "49ae333f-c3f7-456e-f11b-c297b57ac939"
      },
      "execution_count": 54,
      "outputs": [
        {
          "output_type": "execute_result",
          "data": {
            "text/plain": [
              "1.0"
            ]
          },
          "metadata": {},
          "execution_count": 54
        }
      ]
    },
    {
      "cell_type": "markdown",
      "source": [
        "## Результаты"
      ],
      "metadata": {
        "id": "Bb0vWas2TZ7D"
      }
    },
    {
      "cell_type": "code",
      "source": [
        "def accuracy_for_group(test_data, label):\n",
        "\n",
        "  subset = []\n",
        "  for i in range(len(test_data)):\n",
        "    if test_data[i][\"label\"] in label:\n",
        "      subset.append(test_data[i])\n",
        "\n",
        "  dataset = GramDataset(subset, tokenizer)\n",
        "  subset_predicted = predict_with_model(model, dataset, classes=[0, 1]) \n",
        "\n",
        "  subset_correct = []\n",
        "\n",
        "  for i in range(len(subset)):\n",
        "    subset_correct.append(subset[i][\"idx\"])\n",
        "\n",
        "  accuracy = accuracy_score(subset_predicted, subset_correct)\n",
        "\n",
        "  return accuracy"
      ],
      "metadata": {
        "id": "OkAo34b3TbuK"
      },
      "execution_count": 55,
      "outputs": []
    },
    {
      "cell_type": "markdown",
      "source": [
        "### Непереходные предложения"
      ],
      "metadata": {
        "id": "n939aG7cTd9O"
      }
    },
    {
      "cell_type": "code",
      "source": [
        "intr_inan_acc = accuracy_for_group(test_data, ['intr_inan'])\n",
        "intr_inan_acc"
      ],
      "metadata": {
        "colab": {
          "base_uri": "https://localhost:8080/"
        },
        "id": "ahiCq8tXTf0g",
        "outputId": "f8af86fb-58ac-4bc4-c4c1-4199643b570a"
      },
      "execution_count": 56,
      "outputs": [
        {
          "output_type": "stream",
          "name": "stderr",
          "text": [
            "/usr/local/lib/python3.7/dist-packages/ipykernel_launcher.py:49: VisibleDeprecationWarning: Creating an ndarray from ragged nested sequences (which is a list-or-tuple of lists-or-tuples-or ndarrays with different lengths or shapes) is deprecated. If you meant to do this, you must specify 'dtype=object' when creating the ndarray.\n",
            "/usr/local/lib/python3.7/dist-packages/ipykernel_launcher.py:17: DeprecationWarning: `np.float` is a deprecated alias for the builtin `float`. To silence this warning, use `float` by itself. Doing this will not modify any behavior and is safe. If you specifically wanted the numpy scalar type, use `np.float64` here.\n",
            "Deprecated in NumPy 1.20; for more details and guidance: https://numpy.org/devdocs/release/1.20.0-notes.html#deprecations\n"
          ]
        },
        {
          "output_type": "execute_result",
          "data": {
            "text/plain": [
              "1.0"
            ]
          },
          "metadata": {},
          "execution_count": 56
        }
      ]
    },
    {
      "cell_type": "code",
      "source": [
        "intr_anim_acc = accuracy_for_group(test_data, ['intr_anim'])\n",
        "intr_anim_acc"
      ],
      "metadata": {
        "colab": {
          "base_uri": "https://localhost:8080/"
        },
        "id": "tMhsWhtTThB_",
        "outputId": "90e9da7a-f6d3-4d55-e7c2-3d83b3530c25"
      },
      "execution_count": 57,
      "outputs": [
        {
          "output_type": "stream",
          "name": "stderr",
          "text": [
            "/usr/local/lib/python3.7/dist-packages/ipykernel_launcher.py:49: VisibleDeprecationWarning: Creating an ndarray from ragged nested sequences (which is a list-or-tuple of lists-or-tuples-or ndarrays with different lengths or shapes) is deprecated. If you meant to do this, you must specify 'dtype=object' when creating the ndarray.\n",
            "/usr/local/lib/python3.7/dist-packages/ipykernel_launcher.py:17: DeprecationWarning: `np.float` is a deprecated alias for the builtin `float`. To silence this warning, use `float` by itself. Doing this will not modify any behavior and is safe. If you specifically wanted the numpy scalar type, use `np.float64` here.\n",
            "Deprecated in NumPy 1.20; for more details and guidance: https://numpy.org/devdocs/release/1.20.0-notes.html#deprecations\n"
          ]
        },
        {
          "output_type": "execute_result",
          "data": {
            "text/plain": [
              "1.0"
            ]
          },
          "metadata": {},
          "execution_count": 57
        }
      ]
    },
    {
      "cell_type": "code",
      "source": [
        "intr_acc = accuracy_for_group(test_data, ['intr_inan','intr_anim'])\n",
        "intr_acc"
      ],
      "metadata": {
        "colab": {
          "base_uri": "https://localhost:8080/"
        },
        "id": "5WngSlEaTiWp",
        "outputId": "839fdddc-5e8d-42b8-faef-5b8ebd82a154"
      },
      "execution_count": 58,
      "outputs": [
        {
          "output_type": "stream",
          "name": "stderr",
          "text": [
            "/usr/local/lib/python3.7/dist-packages/ipykernel_launcher.py:49: VisibleDeprecationWarning: Creating an ndarray from ragged nested sequences (which is a list-or-tuple of lists-or-tuples-or ndarrays with different lengths or shapes) is deprecated. If you meant to do this, you must specify 'dtype=object' when creating the ndarray.\n",
            "/usr/local/lib/python3.7/dist-packages/ipykernel_launcher.py:17: DeprecationWarning: `np.float` is a deprecated alias for the builtin `float`. To silence this warning, use `float` by itself. Doing this will not modify any behavior and is safe. If you specifically wanted the numpy scalar type, use `np.float64` here.\n",
            "Deprecated in NumPy 1.20; for more details and guidance: https://numpy.org/devdocs/release/1.20.0-notes.html#deprecations\n"
          ]
        },
        {
          "output_type": "execute_result",
          "data": {
            "text/plain": [
              "1.0"
            ]
          },
          "metadata": {},
          "execution_count": 58
        }
      ]
    },
    {
      "cell_type": "markdown",
      "source": [
        "### Переходные предложения"
      ],
      "metadata": {
        "id": "jGtnmQj1TkLR"
      }
    },
    {
      "cell_type": "code",
      "source": [
        "tr_direct_inan_acc = accuracy_for_group(test_data, ['tr_direct_inan'])\n",
        "tr_direct_inan_acc"
      ],
      "metadata": {
        "colab": {
          "base_uri": "https://localhost:8080/"
        },
        "id": "jq14GFFQTkgs",
        "outputId": "85f55f65-06f1-4ff2-cd40-d3b2e41b927e"
      },
      "execution_count": 59,
      "outputs": [
        {
          "output_type": "stream",
          "name": "stderr",
          "text": [
            "/usr/local/lib/python3.7/dist-packages/ipykernel_launcher.py:49: VisibleDeprecationWarning: Creating an ndarray from ragged nested sequences (which is a list-or-tuple of lists-or-tuples-or ndarrays with different lengths or shapes) is deprecated. If you meant to do this, you must specify 'dtype=object' when creating the ndarray.\n",
            "/usr/local/lib/python3.7/dist-packages/ipykernel_launcher.py:17: DeprecationWarning: `np.float` is a deprecated alias for the builtin `float`. To silence this warning, use `float` by itself. Doing this will not modify any behavior and is safe. If you specifically wanted the numpy scalar type, use `np.float64` here.\n",
            "Deprecated in NumPy 1.20; for more details and guidance: https://numpy.org/devdocs/release/1.20.0-notes.html#deprecations\n"
          ]
        },
        {
          "output_type": "execute_result",
          "data": {
            "text/plain": [
              "1.0"
            ]
          },
          "metadata": {},
          "execution_count": 59
        }
      ]
    },
    {
      "cell_type": "code",
      "source": [
        "tr_direct_anim_acc = accuracy_for_group(test_data, ['tr_direct_anim'])\n",
        "tr_direct_anim_acc"
      ],
      "metadata": {
        "colab": {
          "base_uri": "https://localhost:8080/"
        },
        "id": "CavAVsEtTmJd",
        "outputId": "b022bd29-07cf-462b-db5a-d523a82b9f81"
      },
      "execution_count": 60,
      "outputs": [
        {
          "output_type": "stream",
          "name": "stderr",
          "text": [
            "/usr/local/lib/python3.7/dist-packages/ipykernel_launcher.py:49: VisibleDeprecationWarning: Creating an ndarray from ragged nested sequences (which is a list-or-tuple of lists-or-tuples-or ndarrays with different lengths or shapes) is deprecated. If you meant to do this, you must specify 'dtype=object' when creating the ndarray.\n",
            "/usr/local/lib/python3.7/dist-packages/ipykernel_launcher.py:17: DeprecationWarning: `np.float` is a deprecated alias for the builtin `float`. To silence this warning, use `float` by itself. Doing this will not modify any behavior and is safe. If you specifically wanted the numpy scalar type, use `np.float64` here.\n",
            "Deprecated in NumPy 1.20; for more details and guidance: https://numpy.org/devdocs/release/1.20.0-notes.html#deprecations\n"
          ]
        },
        {
          "output_type": "execute_result",
          "data": {
            "text/plain": [
              "1.0"
            ]
          },
          "metadata": {},
          "execution_count": 60
        }
      ]
    },
    {
      "cell_type": "code",
      "source": [
        "tr_direct_acc = accuracy_for_group(test_data, ['tr_direct_inan','tr_direct_anim'])\n",
        "tr_direct_acc"
      ],
      "metadata": {
        "colab": {
          "base_uri": "https://localhost:8080/"
        },
        "id": "KxUEvdVzTnik",
        "outputId": "1d93b398-ad24-42d9-8434-cb26c343bd0a"
      },
      "execution_count": 61,
      "outputs": [
        {
          "output_type": "stream",
          "name": "stderr",
          "text": [
            "/usr/local/lib/python3.7/dist-packages/ipykernel_launcher.py:49: VisibleDeprecationWarning: Creating an ndarray from ragged nested sequences (which is a list-or-tuple of lists-or-tuples-or ndarrays with different lengths or shapes) is deprecated. If you meant to do this, you must specify 'dtype=object' when creating the ndarray.\n",
            "/usr/local/lib/python3.7/dist-packages/ipykernel_launcher.py:17: DeprecationWarning: `np.float` is a deprecated alias for the builtin `float`. To silence this warning, use `float` by itself. Doing this will not modify any behavior and is safe. If you specifically wanted the numpy scalar type, use `np.float64` here.\n",
            "Deprecated in NumPy 1.20; for more details and guidance: https://numpy.org/devdocs/release/1.20.0-notes.html#deprecations\n"
          ]
        },
        {
          "output_type": "execute_result",
          "data": {
            "text/plain": [
              "1.0"
            ]
          },
          "metadata": {},
          "execution_count": 61
        }
      ]
    },
    {
      "cell_type": "code",
      "source": [
        "tr_reverse_inan_acc = accuracy_for_group(test_data, ['tr_reverse_inan'])\n",
        "tr_reverse_inan_acc"
      ],
      "metadata": {
        "colab": {
          "base_uri": "https://localhost:8080/"
        },
        "id": "P1Pl61CnTpIa",
        "outputId": "7aa03276-8eec-40de-8d77-a6f65201e014"
      },
      "execution_count": 62,
      "outputs": [
        {
          "output_type": "stream",
          "name": "stderr",
          "text": [
            "/usr/local/lib/python3.7/dist-packages/ipykernel_launcher.py:49: VisibleDeprecationWarning: Creating an ndarray from ragged nested sequences (which is a list-or-tuple of lists-or-tuples-or ndarrays with different lengths or shapes) is deprecated. If you meant to do this, you must specify 'dtype=object' when creating the ndarray.\n",
            "/usr/local/lib/python3.7/dist-packages/ipykernel_launcher.py:17: DeprecationWarning: `np.float` is a deprecated alias for the builtin `float`. To silence this warning, use `float` by itself. Doing this will not modify any behavior and is safe. If you specifically wanted the numpy scalar type, use `np.float64` here.\n",
            "Deprecated in NumPy 1.20; for more details and guidance: https://numpy.org/devdocs/release/1.20.0-notes.html#deprecations\n"
          ]
        },
        {
          "output_type": "execute_result",
          "data": {
            "text/plain": [
              "1.0"
            ]
          },
          "metadata": {},
          "execution_count": 62
        }
      ]
    },
    {
      "cell_type": "code",
      "source": [
        "tr_reverse_anim_acc = accuracy_for_group(test_data, ['tr_reverse_anim'])\n",
        "tr_reverse_anim_acc"
      ],
      "metadata": {
        "colab": {
          "base_uri": "https://localhost:8080/"
        },
        "id": "DKnQAm6ETrT4",
        "outputId": "ac4d67a0-cdbd-4321-d772-fb88dce56f71"
      },
      "execution_count": 63,
      "outputs": [
        {
          "output_type": "stream",
          "name": "stderr",
          "text": [
            "/usr/local/lib/python3.7/dist-packages/ipykernel_launcher.py:49: VisibleDeprecationWarning: Creating an ndarray from ragged nested sequences (which is a list-or-tuple of lists-or-tuples-or ndarrays with different lengths or shapes) is deprecated. If you meant to do this, you must specify 'dtype=object' when creating the ndarray.\n",
            "/usr/local/lib/python3.7/dist-packages/ipykernel_launcher.py:17: DeprecationWarning: `np.float` is a deprecated alias for the builtin `float`. To silence this warning, use `float` by itself. Doing this will not modify any behavior and is safe. If you specifically wanted the numpy scalar type, use `np.float64` here.\n",
            "Deprecated in NumPy 1.20; for more details and guidance: https://numpy.org/devdocs/release/1.20.0-notes.html#deprecations\n"
          ]
        },
        {
          "output_type": "execute_result",
          "data": {
            "text/plain": [
              "1.0"
            ]
          },
          "metadata": {},
          "execution_count": 63
        }
      ]
    },
    {
      "cell_type": "code",
      "source": [
        "tr_reverse_acc = accuracy_for_group(test_data, ['tr_reverse_inan','tr_reverse_anim'])\n",
        "tr_reverse_acc"
      ],
      "metadata": {
        "colab": {
          "base_uri": "https://localhost:8080/"
        },
        "id": "koyGI83JTsji",
        "outputId": "2f26959e-852d-4eb3-8069-e8264f9908b8"
      },
      "execution_count": 64,
      "outputs": [
        {
          "output_type": "stream",
          "name": "stderr",
          "text": [
            "/usr/local/lib/python3.7/dist-packages/ipykernel_launcher.py:49: VisibleDeprecationWarning: Creating an ndarray from ragged nested sequences (which is a list-or-tuple of lists-or-tuples-or ndarrays with different lengths or shapes) is deprecated. If you meant to do this, you must specify 'dtype=object' when creating the ndarray.\n",
            "/usr/local/lib/python3.7/dist-packages/ipykernel_launcher.py:17: DeprecationWarning: `np.float` is a deprecated alias for the builtin `float`. To silence this warning, use `float` by itself. Doing this will not modify any behavior and is safe. If you specifically wanted the numpy scalar type, use `np.float64` here.\n",
            "Deprecated in NumPy 1.20; for more details and guidance: https://numpy.org/devdocs/release/1.20.0-notes.html#deprecations\n"
          ]
        },
        {
          "output_type": "execute_result",
          "data": {
            "text/plain": [
              "1.0"
            ]
          },
          "metadata": {},
          "execution_count": 64
        }
      ]
    },
    {
      "cell_type": "code",
      "source": [
        "tr_acc = accuracy_for_group(test_data, ['tr_direct_inan','tr_direct_anim','tr_reverse_inan','tr_reverse_anim'])\n",
        "tr_acc"
      ],
      "metadata": {
        "colab": {
          "base_uri": "https://localhost:8080/"
        },
        "id": "2JAta_8RTuAk",
        "outputId": "dad44afe-f8e3-410f-f4f4-030c2b67c183"
      },
      "execution_count": 65,
      "outputs": [
        {
          "output_type": "stream",
          "name": "stderr",
          "text": [
            "/usr/local/lib/python3.7/dist-packages/ipykernel_launcher.py:49: VisibleDeprecationWarning: Creating an ndarray from ragged nested sequences (which is a list-or-tuple of lists-or-tuples-or ndarrays with different lengths or shapes) is deprecated. If you meant to do this, you must specify 'dtype=object' when creating the ndarray.\n",
            "/usr/local/lib/python3.7/dist-packages/ipykernel_launcher.py:17: DeprecationWarning: `np.float` is a deprecated alias for the builtin `float`. To silence this warning, use `float` by itself. Doing this will not modify any behavior and is safe. If you specifically wanted the numpy scalar type, use `np.float64` here.\n",
            "Deprecated in NumPy 1.20; for more details and guidance: https://numpy.org/devdocs/release/1.20.0-notes.html#deprecations\n"
          ]
        },
        {
          "output_type": "execute_result",
          "data": {
            "text/plain": [
              "1.0"
            ]
          },
          "metadata": {},
          "execution_count": 65
        }
      ]
    },
    {
      "cell_type": "markdown",
      "source": [
        "### Предложения с распространенным подлежащим"
      ],
      "metadata": {
        "id": "0srRyhxVT2hu"
      }
    },
    {
      "cell_type": "code",
      "source": [
        "pp_inan_acc = accuracy_for_group(test_data, ['pp_inan'])\n",
        "pp_inan_acc"
      ],
      "metadata": {
        "colab": {
          "base_uri": "https://localhost:8080/"
        },
        "id": "fPtUtLGaT4RI",
        "outputId": "de5c8cc5-a9fa-4ef3-9ffc-5b24c3a565aa"
      },
      "execution_count": 66,
      "outputs": [
        {
          "output_type": "stream",
          "name": "stderr",
          "text": [
            "/usr/local/lib/python3.7/dist-packages/ipykernel_launcher.py:49: VisibleDeprecationWarning: Creating an ndarray from ragged nested sequences (which is a list-or-tuple of lists-or-tuples-or ndarrays with different lengths or shapes) is deprecated. If you meant to do this, you must specify 'dtype=object' when creating the ndarray.\n",
            "/usr/local/lib/python3.7/dist-packages/ipykernel_launcher.py:17: DeprecationWarning: `np.float` is a deprecated alias for the builtin `float`. To silence this warning, use `float` by itself. Doing this will not modify any behavior and is safe. If you specifically wanted the numpy scalar type, use `np.float64` here.\n",
            "Deprecated in NumPy 1.20; for more details and guidance: https://numpy.org/devdocs/release/1.20.0-notes.html#deprecations\n"
          ]
        },
        {
          "output_type": "execute_result",
          "data": {
            "text/plain": [
              "1.0"
            ]
          },
          "metadata": {},
          "execution_count": 66
        }
      ]
    },
    {
      "cell_type": "code",
      "source": [
        "pp_anim_acc = accuracy_for_group(test_data, ['pp_anim'])\n",
        "pp_anim_acc"
      ],
      "metadata": {
        "colab": {
          "base_uri": "https://localhost:8080/"
        },
        "id": "8DKBdix3T5eR",
        "outputId": "65e08783-be8d-42a3-a3f3-664f6c49c736"
      },
      "execution_count": 67,
      "outputs": [
        {
          "output_type": "stream",
          "name": "stderr",
          "text": [
            "/usr/local/lib/python3.7/dist-packages/ipykernel_launcher.py:49: VisibleDeprecationWarning: Creating an ndarray from ragged nested sequences (which is a list-or-tuple of lists-or-tuples-or ndarrays with different lengths or shapes) is deprecated. If you meant to do this, you must specify 'dtype=object' when creating the ndarray.\n",
            "/usr/local/lib/python3.7/dist-packages/ipykernel_launcher.py:17: DeprecationWarning: `np.float` is a deprecated alias for the builtin `float`. To silence this warning, use `float` by itself. Doing this will not modify any behavior and is safe. If you specifically wanted the numpy scalar type, use `np.float64` here.\n",
            "Deprecated in NumPy 1.20; for more details and guidance: https://numpy.org/devdocs/release/1.20.0-notes.html#deprecations\n"
          ]
        },
        {
          "output_type": "execute_result",
          "data": {
            "text/plain": [
              "1.0"
            ]
          },
          "metadata": {},
          "execution_count": 67
        }
      ]
    },
    {
      "cell_type": "code",
      "source": [
        "pp_acc = accuracy_for_group(test_data, ['pp_inan','pp_anim'])\n",
        "pp_acc"
      ],
      "metadata": {
        "colab": {
          "base_uri": "https://localhost:8080/"
        },
        "id": "DTBC7Z2UT6rn",
        "outputId": "affa7ccd-0e30-47e3-dbb3-eac21d060f3e"
      },
      "execution_count": 68,
      "outputs": [
        {
          "output_type": "stream",
          "name": "stderr",
          "text": [
            "/usr/local/lib/python3.7/dist-packages/ipykernel_launcher.py:49: VisibleDeprecationWarning: Creating an ndarray from ragged nested sequences (which is a list-or-tuple of lists-or-tuples-or ndarrays with different lengths or shapes) is deprecated. If you meant to do this, you must specify 'dtype=object' when creating the ndarray.\n",
            "/usr/local/lib/python3.7/dist-packages/ipykernel_launcher.py:17: DeprecationWarning: `np.float` is a deprecated alias for the builtin `float`. To silence this warning, use `float` by itself. Doing this will not modify any behavior and is safe. If you specifically wanted the numpy scalar type, use `np.float64` here.\n",
            "Deprecated in NumPy 1.20; for more details and guidance: https://numpy.org/devdocs/release/1.20.0-notes.html#deprecations\n"
          ]
        },
        {
          "output_type": "execute_result",
          "data": {
            "text/plain": [
              "1.0"
            ]
          },
          "metadata": {},
          "execution_count": 68
        }
      ]
    },
    {
      "cell_type": "markdown",
      "source": [
        "### Сложноподчиненные предложения с союзом \"что\""
      ],
      "metadata": {
        "id": "8RT5bj2jUfPy"
      }
    },
    {
      "cell_type": "code",
      "source": [
        "chto_inan_acc = accuracy_for_group(test_data, ['chto_inan'])\n",
        "chto_inan_acc"
      ],
      "metadata": {
        "colab": {
          "base_uri": "https://localhost:8080/"
        },
        "id": "iueA77uNUg6s",
        "outputId": "fb7f90cf-c608-4979-a341-deaeea798c46"
      },
      "execution_count": 69,
      "outputs": [
        {
          "output_type": "stream",
          "name": "stderr",
          "text": [
            "/usr/local/lib/python3.7/dist-packages/ipykernel_launcher.py:49: VisibleDeprecationWarning: Creating an ndarray from ragged nested sequences (which is a list-or-tuple of lists-or-tuples-or ndarrays with different lengths or shapes) is deprecated. If you meant to do this, you must specify 'dtype=object' when creating the ndarray.\n",
            "/usr/local/lib/python3.7/dist-packages/ipykernel_launcher.py:17: DeprecationWarning: `np.float` is a deprecated alias for the builtin `float`. To silence this warning, use `float` by itself. Doing this will not modify any behavior and is safe. If you specifically wanted the numpy scalar type, use `np.float64` here.\n",
            "Deprecated in NumPy 1.20; for more details and guidance: https://numpy.org/devdocs/release/1.20.0-notes.html#deprecations\n"
          ]
        },
        {
          "output_type": "execute_result",
          "data": {
            "text/plain": [
              "1.0"
            ]
          },
          "metadata": {},
          "execution_count": 69
        }
      ]
    },
    {
      "cell_type": "code",
      "source": [
        "chto_anim_acc = accuracy_for_group(test_data, ['chto_anim'])\n",
        "chto_anim_acc"
      ],
      "metadata": {
        "colab": {
          "base_uri": "https://localhost:8080/"
        },
        "id": "8mRqQ07zUiAf",
        "outputId": "c0714813-384e-4d32-b397-9e1fb44c3ca4"
      },
      "execution_count": 70,
      "outputs": [
        {
          "output_type": "stream",
          "name": "stderr",
          "text": [
            "/usr/local/lib/python3.7/dist-packages/ipykernel_launcher.py:49: VisibleDeprecationWarning: Creating an ndarray from ragged nested sequences (which is a list-or-tuple of lists-or-tuples-or ndarrays with different lengths or shapes) is deprecated. If you meant to do this, you must specify 'dtype=object' when creating the ndarray.\n",
            "/usr/local/lib/python3.7/dist-packages/ipykernel_launcher.py:17: DeprecationWarning: `np.float` is a deprecated alias for the builtin `float`. To silence this warning, use `float` by itself. Doing this will not modify any behavior and is safe. If you specifically wanted the numpy scalar type, use `np.float64` here.\n",
            "Deprecated in NumPy 1.20; for more details and guidance: https://numpy.org/devdocs/release/1.20.0-notes.html#deprecations\n"
          ]
        },
        {
          "output_type": "execute_result",
          "data": {
            "text/plain": [
              "1.0"
            ]
          },
          "metadata": {},
          "execution_count": 70
        }
      ]
    },
    {
      "cell_type": "code",
      "source": [
        "chto_acc = accuracy_for_group(test_data, ['chto_inan', 'chto_anim'])\n",
        "chto_acc"
      ],
      "metadata": {
        "colab": {
          "base_uri": "https://localhost:8080/"
        },
        "id": "wG106HjmUjFT",
        "outputId": "96a56831-7b7c-4182-a6ba-7fa4cc5a877c"
      },
      "execution_count": 71,
      "outputs": [
        {
          "output_type": "stream",
          "name": "stderr",
          "text": [
            "/usr/local/lib/python3.7/dist-packages/ipykernel_launcher.py:17: DeprecationWarning: `np.float` is a deprecated alias for the builtin `float`. To silence this warning, use `float` by itself. Doing this will not modify any behavior and is safe. If you specifically wanted the numpy scalar type, use `np.float64` here.\n",
            "Deprecated in NumPy 1.20; for more details and guidance: https://numpy.org/devdocs/release/1.20.0-notes.html#deprecations\n"
          ]
        },
        {
          "output_type": "execute_result",
          "data": {
            "text/plain": [
              "1.0"
            ]
          },
          "metadata": {},
          "execution_count": 71
        }
      ]
    },
    {
      "cell_type": "markdown",
      "source": [
        "### Относительные предложения"
      ],
      "metadata": {
        "id": "3LigHUtpUkZ8"
      }
    },
    {
      "cell_type": "code",
      "source": [
        "subj_rel_inan_acc = accuracy_for_group(test_data, ['subj_rel_inan'])\n",
        "subj_rel_inan_acc"
      ],
      "metadata": {
        "colab": {
          "base_uri": "https://localhost:8080/"
        },
        "id": "fNeF8u-6UmYp",
        "outputId": "f6d6ebbc-e286-4c79-c1bf-c68c8d6cd4ef"
      },
      "execution_count": 72,
      "outputs": [
        {
          "output_type": "stream",
          "name": "stderr",
          "text": [
            "/usr/local/lib/python3.7/dist-packages/ipykernel_launcher.py:49: VisibleDeprecationWarning: Creating an ndarray from ragged nested sequences (which is a list-or-tuple of lists-or-tuples-or ndarrays with different lengths or shapes) is deprecated. If you meant to do this, you must specify 'dtype=object' when creating the ndarray.\n",
            "/usr/local/lib/python3.7/dist-packages/ipykernel_launcher.py:17: DeprecationWarning: `np.float` is a deprecated alias for the builtin `float`. To silence this warning, use `float` by itself. Doing this will not modify any behavior and is safe. If you specifically wanted the numpy scalar type, use `np.float64` here.\n",
            "Deprecated in NumPy 1.20; for more details and guidance: https://numpy.org/devdocs/release/1.20.0-notes.html#deprecations\n"
          ]
        },
        {
          "output_type": "execute_result",
          "data": {
            "text/plain": [
              "1.0"
            ]
          },
          "metadata": {},
          "execution_count": 72
        }
      ]
    },
    {
      "cell_type": "code",
      "source": [
        "subj_rel_anim_acc = accuracy_for_group(test_data, ['subj_rel_anim'])\n",
        "subj_rel_anim_acc"
      ],
      "metadata": {
        "colab": {
          "base_uri": "https://localhost:8080/"
        },
        "id": "s9a_ugjHvlsq",
        "outputId": "81ef216f-bb65-4eff-a74c-62b3b81b4a2f"
      },
      "execution_count": 73,
      "outputs": [
        {
          "output_type": "stream",
          "name": "stderr",
          "text": [
            "/usr/local/lib/python3.7/dist-packages/ipykernel_launcher.py:49: VisibleDeprecationWarning: Creating an ndarray from ragged nested sequences (which is a list-or-tuple of lists-or-tuples-or ndarrays with different lengths or shapes) is deprecated. If you meant to do this, you must specify 'dtype=object' when creating the ndarray.\n",
            "/usr/local/lib/python3.7/dist-packages/ipykernel_launcher.py:17: DeprecationWarning: `np.float` is a deprecated alias for the builtin `float`. To silence this warning, use `float` by itself. Doing this will not modify any behavior and is safe. If you specifically wanted the numpy scalar type, use `np.float64` here.\n",
            "Deprecated in NumPy 1.20; for more details and guidance: https://numpy.org/devdocs/release/1.20.0-notes.html#deprecations\n"
          ]
        },
        {
          "output_type": "execute_result",
          "data": {
            "text/plain": [
              "1.0"
            ]
          },
          "metadata": {},
          "execution_count": 73
        }
      ]
    },
    {
      "cell_type": "code",
      "source": [
        "subj_rel_acc = accuracy_for_group(test_data, ['subj_rel_inan','subj_rel_anim'])\n",
        "subj_rel_acc"
      ],
      "metadata": {
        "colab": {
          "base_uri": "https://localhost:8080/"
        },
        "id": "kc0pgRQ4vooJ",
        "outputId": "8224b958-481f-4a78-a155-1c41f38bbffd"
      },
      "execution_count": 74,
      "outputs": [
        {
          "output_type": "stream",
          "name": "stderr",
          "text": [
            "/usr/local/lib/python3.7/dist-packages/ipykernel_launcher.py:49: VisibleDeprecationWarning: Creating an ndarray from ragged nested sequences (which is a list-or-tuple of lists-or-tuples-or ndarrays with different lengths or shapes) is deprecated. If you meant to do this, you must specify 'dtype=object' when creating the ndarray.\n",
            "/usr/local/lib/python3.7/dist-packages/ipykernel_launcher.py:17: DeprecationWarning: `np.float` is a deprecated alias for the builtin `float`. To silence this warning, use `float` by itself. Doing this will not modify any behavior and is safe. If you specifically wanted the numpy scalar type, use `np.float64` here.\n",
            "Deprecated in NumPy 1.20; for more details and guidance: https://numpy.org/devdocs/release/1.20.0-notes.html#deprecations\n"
          ]
        },
        {
          "output_type": "execute_result",
          "data": {
            "text/plain": [
              "1.0"
            ]
          },
          "metadata": {},
          "execution_count": 74
        }
      ]
    },
    {
      "cell_type": "code",
      "source": [
        "obj_rel_inan_acc = accuracy_for_group(test_data, ['obj_rel_inan'])\n",
        "obj_rel_inan_acc"
      ],
      "metadata": {
        "colab": {
          "base_uri": "https://localhost:8080/"
        },
        "id": "38YHcNCfvs73",
        "outputId": "2aa7d2a8-b8aa-42df-ee1a-42b5faea2ff6"
      },
      "execution_count": 75,
      "outputs": [
        {
          "output_type": "stream",
          "name": "stderr",
          "text": [
            "/usr/local/lib/python3.7/dist-packages/ipykernel_launcher.py:49: VisibleDeprecationWarning: Creating an ndarray from ragged nested sequences (which is a list-or-tuple of lists-or-tuples-or ndarrays with different lengths or shapes) is deprecated. If you meant to do this, you must specify 'dtype=object' when creating the ndarray.\n",
            "/usr/local/lib/python3.7/dist-packages/ipykernel_launcher.py:17: DeprecationWarning: `np.float` is a deprecated alias for the builtin `float`. To silence this warning, use `float` by itself. Doing this will not modify any behavior and is safe. If you specifically wanted the numpy scalar type, use `np.float64` here.\n",
            "Deprecated in NumPy 1.20; for more details and guidance: https://numpy.org/devdocs/release/1.20.0-notes.html#deprecations\n"
          ]
        },
        {
          "output_type": "execute_result",
          "data": {
            "text/plain": [
              "1.0"
            ]
          },
          "metadata": {},
          "execution_count": 75
        }
      ]
    },
    {
      "cell_type": "code",
      "source": [
        "obj_rel_anim_acc = accuracy_for_group(test_data, ['obj_rel_anim'])\n",
        "obj_rel_anim_acc"
      ],
      "metadata": {
        "colab": {
          "base_uri": "https://localhost:8080/"
        },
        "id": "ybBOsFHRUrc3",
        "outputId": "a71a10a5-8246-4222-c430-e2e8cf44454e"
      },
      "execution_count": 46,
      "outputs": [
        {
          "output_type": "stream",
          "name": "stderr",
          "text": [
            "/usr/local/lib/python3.7/dist-packages/ipykernel_launcher.py:49: VisibleDeprecationWarning: Creating an ndarray from ragged nested sequences (which is a list-or-tuple of lists-or-tuples-or ndarrays with different lengths or shapes) is deprecated. If you meant to do this, you must specify 'dtype=object' when creating the ndarray.\n",
            "/usr/local/lib/python3.7/dist-packages/ipykernel_launcher.py:17: DeprecationWarning: `np.float` is a deprecated alias for the builtin `float`. To silence this warning, use `float` by itself. Doing this will not modify any behavior and is safe. If you specifically wanted the numpy scalar type, use `np.float64` here.\n",
            "Deprecated in NumPy 1.20; for more details and guidance: https://numpy.org/devdocs/release/1.20.0-notes.html#deprecations\n"
          ]
        },
        {
          "output_type": "execute_result",
          "data": {
            "text/plain": [
              "1.0"
            ]
          },
          "metadata": {},
          "execution_count": 46
        }
      ]
    },
    {
      "cell_type": "code",
      "source": [
        "obj_rel_acc = accuracy_for_group(test_data, ['obj_rel_inan','obj_rel_anim'])\n",
        "obj_rel_acc"
      ],
      "metadata": {
        "colab": {
          "base_uri": "https://localhost:8080/"
        },
        "id": "tIjHcSWTvwPT",
        "outputId": "2d644c9b-279f-4150-8c44-35cdcd1bdc5e"
      },
      "execution_count": 76,
      "outputs": [
        {
          "output_type": "stream",
          "name": "stderr",
          "text": [
            "/usr/local/lib/python3.7/dist-packages/ipykernel_launcher.py:49: VisibleDeprecationWarning: Creating an ndarray from ragged nested sequences (which is a list-or-tuple of lists-or-tuples-or ndarrays with different lengths or shapes) is deprecated. If you meant to do this, you must specify 'dtype=object' when creating the ndarray.\n",
            "/usr/local/lib/python3.7/dist-packages/ipykernel_launcher.py:17: DeprecationWarning: `np.float` is a deprecated alias for the builtin `float`. To silence this warning, use `float` by itself. Doing this will not modify any behavior and is safe. If you specifically wanted the numpy scalar type, use `np.float64` here.\n",
            "Deprecated in NumPy 1.20; for more details and guidance: https://numpy.org/devdocs/release/1.20.0-notes.html#deprecations\n"
          ]
        },
        {
          "output_type": "execute_result",
          "data": {
            "text/plain": [
              "1.0"
            ]
          },
          "metadata": {},
          "execution_count": 76
        }
      ]
    },
    {
      "cell_type": "code",
      "source": [
        "rel_acc = accuracy_for_group(test_data, ['subj_rel_inan','subj_rel_anim','obj_rel_inan','obj_rel_anim'])\n",
        "rel_acc"
      ],
      "metadata": {
        "colab": {
          "base_uri": "https://localhost:8080/"
        },
        "id": "jXZQSA3YxA7c",
        "outputId": "cdb6a8c4-8986-4c93-b500-5f8b12696a5e"
      },
      "execution_count": 77,
      "outputs": [
        {
          "output_type": "stream",
          "name": "stderr",
          "text": [
            "/usr/local/lib/python3.7/dist-packages/ipykernel_launcher.py:49: VisibleDeprecationWarning: Creating an ndarray from ragged nested sequences (which is a list-or-tuple of lists-or-tuples-or ndarrays with different lengths or shapes) is deprecated. If you meant to do this, you must specify 'dtype=object' when creating the ndarray.\n",
            "/usr/local/lib/python3.7/dist-packages/ipykernel_launcher.py:17: DeprecationWarning: `np.float` is a deprecated alias for the builtin `float`. To silence this warning, use `float` by itself. Doing this will not modify any behavior and is safe. If you specifically wanted the numpy scalar type, use `np.float64` here.\n",
            "Deprecated in NumPy 1.20; for more details and guidance: https://numpy.org/devdocs/release/1.20.0-notes.html#deprecations\n"
          ]
        },
        {
          "output_type": "execute_result",
          "data": {
            "text/plain": [
              "1.0"
            ]
          },
          "metadata": {},
          "execution_count": 77
        }
      ]
    },
    {
      "cell_type": "markdown",
      "source": [
        "### Проверка"
      ],
      "metadata": {
        "id": "tkCnfhuQUxuq"
      }
    },
    {
      "cell_type": "code",
      "source": [
        "example = [{'idx': 1,\n",
        "  'label': 'ex',\n",
        "  'sentence': 'Профессиональные тренеры провели занятия по историческому и артистическому фехтованию'},\n",
        " {'idx': 0,\n",
        "  'label': 'ex',\n",
        "  'sentence': 'Профессиональные тренеры провел занятия по историческому и артистическому фехтованию'},\n",
        "  {'idx': 1,\n",
        "  'label': 'ex',\n",
        "  'sentence': 'Профессиональные тренеры проведут занятия по историческому и артистическому фехтованию'},\n",
        " {'idx': 0,\n",
        "  'label': 'ex',\n",
        "  'sentence': 'Профессиональные тренеры проведет занятия по историческому и артистическому фехтованию'}]"
      ],
      "metadata": {
        "id": "qyIEumf0xHUc"
      },
      "execution_count": 78,
      "outputs": []
    },
    {
      "cell_type": "code",
      "source": [
        "example_dataset = GramDataset(example, tokenizer)\n",
        "example_predicted = predict_with_model(model, example_dataset, classes=[0, 1])\n",
        "example_predicted"
      ],
      "metadata": {
        "colab": {
          "base_uri": "https://localhost:8080/"
        },
        "id": "rKd5OyfkU1kp",
        "outputId": "21938759-a2fa-478b-bb59-564d3fdab939"
      },
      "execution_count": 79,
      "outputs": [
        {
          "output_type": "stream",
          "name": "stderr",
          "text": [
            "/usr/local/lib/python3.7/dist-packages/ipykernel_launcher.py:17: DeprecationWarning: `np.float` is a deprecated alias for the builtin `float`. To silence this warning, use `float` by itself. Doing this will not modify any behavior and is safe. If you specifically wanted the numpy scalar type, use `np.float64` here.\n",
            "Deprecated in NumPy 1.20; for more details and guidance: https://numpy.org/devdocs/release/1.20.0-notes.html#deprecations\n"
          ]
        },
        {
          "output_type": "execute_result",
          "data": {
            "text/plain": [
              "[1, 0, 1, 0]"
            ]
          },
          "metadata": {},
          "execution_count": 79
        }
      ]
    }
  ]
}