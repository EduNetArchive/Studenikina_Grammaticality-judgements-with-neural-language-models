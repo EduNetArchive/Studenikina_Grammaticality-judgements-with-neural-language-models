{
 "cells": [
  {
   "cell_type": "code",
   "execution_count": 1,
   "metadata": {},
   "outputs": [],
   "source": [
    "subj_anim = [\"писатель\", \"писатели\", \"пилот\", \"пилоты\",\n",
    "             \"фермер\", \"фермеры\", \"руководитель\", \"руководители\",\n",
    "            \"покупатель\", \"покупатели\", \"командир\", \"командиры\",\n",
    "            \"преподаватель\", \"преподаватели\", \"чиновник\", \"чиновники\",\n",
    "            \"студент\", \"студенты\"]\n",
    "predicate_intr_anim = [\"рассуждал\", \"рассуждали\", \"пел\", \"пели\", \"был высоким\", \"были высокими\",\n",
    "             \"был пожилым\", \"были пожилыми\", \"размышлял\", \"размышляли\",\n",
    "            \"был низким\", \"были низкими\", \"был молодым\", \"были молодыми\",\"обедал\", \"обедали\",]"
   ]
  },
  {
   "cell_type": "code",
   "execution_count": 2,
   "metadata": {},
   "outputs": [],
   "source": [
    "subj_inan = [\"фильм\", \"фильмы\", \"журнал\", \"журналы\", \"сериал\", \"сериалы\", \"чертеж\", \"чертежи\", \n",
    "             \"учебник\", \"учебники\", \"рисунок\", \"рисунки\", \"роман\", \"романы\", \"рассказ\", \"рассказы\", \n",
    "             \"спектакль\", \"спектакли\"]\n",
    "predicate_intr_inan = [\"восхищал\", \"восхищали\", \"увлекал\", \"увлекали\", \"был хорошим\",\"были хорошими\",\n",
    "                       \"был известным\", \"были известными\", \n",
    "                       \"был плохим\", \"были плохими\", \"расстраивал\", \"расстраивали\",\n",
    "                        \"был новым\", \"были новыми\", \"веселил\", \"веселили\"]"
   ]
  },
  {
   "cell_type": "code",
   "execution_count": 3,
   "metadata": {},
   "outputs": [],
   "source": [
    "obj_anim = [\"охранника\", \"охранников\", \"ассистента\", \"ассистентов\", \"архитектора\", \"архитекторов\", \n",
    "            \"фигуриста\", \"фигуристов\", \"танцора\", \"танцоров\", \"министра\", \"министров\", \"водителя\", \"водителей\", \n",
    "            \"секретаря\", \"секретарей\", \"офицера\", \"офицеров\"]\n",
    "predicate_tr = [\"знал\", \"знали\", \"ненавидел\", \"ненавидели\", \"недолюбливал\", \"недолюбливали\", \n",
    "                \"презирал\", \"презирали\", \"ценил\", \"ценили\", \"обожал\", \"обожали\", \"игнорировал\", \"игнорировали\"]"
   ]
  },
  {
   "cell_type": "code",
   "execution_count": 4,
   "metadata": {},
   "outputs": [],
   "source": [
    "matrix_clause = [\"механик говорил\", \"механики говорили\", \"банкир говорил\", \"банкиры говорили\", \n",
    "                 \"механик предполагал\", \"механики предполагали\", \"банкир предполагал\", \"банкиры предполагали\",\n",
    "                 \"механик думал\", \"механики думали\", \"банкир думал\", \"банкиры думали\", \n",
    "                 \"механик знал\", \"механики знали\", \"банкир знал\", \"банкиры знали\"]"
   ]
  },
  {
   "cell_type": "code",
   "execution_count": 5,
   "metadata": {},
   "outputs": [],
   "source": [
    "pp_anim = [\"возле охранника\", \"возле охранников\", \"возле ассистента\", \"возле ассистентов\",\n",
    "          \"возле архитектора\", \"возле архитекторов\", \"возле фигуриста\", \"возле фигуристов\",\n",
    "           \"возле танцора\", \"возле танцоров\", \n",
    "          \"вблизи министра\", \"вблизи министров\", \"вблизи водителя\", \"вблизи водителей\", \n",
    "          \"около секретаря\", \"около секретарей\", \"около офицера\", \"около офицеров\"]"
   ]
  },
  {
   "cell_type": "code",
   "execution_count": 6,
   "metadata": {},
   "outputs": [],
   "source": [
    "pp_inan = [\"для охранника\", \"для охранников\", \"для ассистента\", \"для ассистентов\", \n",
    "           \"для архитектора\", \"для архитекторов\",\"для фигуриста\", \"для фигуристов\", \n",
    "           \"для танцора\", \"для танцоров\", \n",
    "           \"без министра\", \"без министров\", \"без водителя\", \"без водителей\",\n",
    "          \"от секретаря\", \"от секретарей\", \"от офицера\", \"от офицеров\"]"
   ]
  },
  {
   "cell_type": "code",
   "execution_count": 7,
   "metadata": {},
   "outputs": [],
   "source": [
    "subj_rel = [\"писатель который знал\", \"писатели которые знали\", \n",
    "            \"писатель который ненавидел\", \"писатели которые ненавидели\",\n",
    "            \"писатель который недолюбливал\", \"писатели которые недолюбливали\", \n",
    "            \"пилот который знал\", \"пилоты которые знали\", \n",
    "            \"пилот который ненавидел\", \"пилоты которые ненавидели\",\n",
    "            \"пилот который недолюбливал\", \"пилоты которые недолюбливали\", \n",
    "            \"фермер который знал\", \"фермеры которые знали\", \n",
    "            \"фермер который ненавидел\", \"фермеры которые ненавидели\",\n",
    "            \"фермер который недолюбливал\", \"фермеры которые недолюбливали\", \n",
    "            \"руководитель который знал\", \"руководители которые знали\", \n",
    "            \"руководитель который ненавидел\", \"руководители которые ненавидели\",\n",
    "            \"руководитель который недолюбливал\", \"руководители которые недолюбливали\", \n",
    "            \"покупатель который знал\", \"покупатели которые знали\", \n",
    "            \"покупатель который ненавидел\", \"покупатели которые ненавидели\",\n",
    "            \"покупатель который недолюбливал\", \"покупатели которые недолюбливали\", \n",
    "            \n",
    "            \"командир который презирал\", \"командиры которые презирали\",\n",
    "            \"командир который ценил\", \"командиры которые ценили\",\n",
    "            \"преподаватель который презирал\", \"преподаватели которые презирали\",\n",
    "            \"преподаватель который ценил\", \"преподаватели которые ценили\",\n",
    "            \n",
    "            \"чиновник который обожал\", \"чиновники которые обожали\",\n",
    "            \"чиновник который игнорировал\", \"чиновники которые игнорировали\",\n",
    "            \"студент который обожал\", \"студенты которые обожали\",\n",
    "            \"студент который игнорировал\", \"студенты которые игнорировали\"]"
   ]
  },
  {
   "cell_type": "code",
   "execution_count": 8,
   "metadata": {},
   "outputs": [],
   "source": [
    "sent_rel = [\"знал охранник\", \"знали охранники\",\n",
    "           \"знал ассистент\", \"знали ассистенты\",\n",
    "           \"знал архитектор\", \"знали архитекторы\",\n",
    "           \"знал фигурист\", \"знали фигуристы\",\n",
    "           \"знал танцор\", \"знали танцоры\",\n",
    "           \"ненавидел охранник\", \"ненавидели охранники\",\n",
    "           \"ненавидел ассистент\", \"ненавидели ассистенты\",\n",
    "           \"ненавидел архитектор\", \"ненавидели архитекторы\",\n",
    "           \"ненавидел фигурист\", \"ненавидели фигуристы\",\n",
    "           \"ненавидел танцор\", \"ненавидели танцоры\",\n",
    "           \"недолюбливал охранник\", \"недолюбливали охранники\",\n",
    "           \"недолюбливал ассистент\", \"недолюбливали ассистенты\",\n",
    "           \"недолюбливал архитектор\", \"недолюбливали архитекторы\",\n",
    "           \"недолюбливал фигурист\", \"недолюбливали фигуристы\",\n",
    "           \"недолюбливал танцор\", \"недолюбливали танцоры\",\n",
    "            \n",
    "           \"презирал министр\", \"презирали министры\",\n",
    "           \"презирал водитель\", \"презирали водители\",\n",
    "           \"ценил министр\", \"ценили министры\",\n",
    "           \"ценил водитель\", \"ценили водители\",\n",
    "           \n",
    "            \"обожал секретарь\", \"обожали секретари\",\n",
    "            \"обожал офицер\", \"обожали офицеры\",\n",
    "            \"игнорировал секретарь\", \"игнорировали секретари\",\n",
    "            \"игнорировал офицер\", \"игнорировали офицеры\"]"
   ]
  },
  {
   "cell_type": "code",
   "execution_count": 9,
   "metadata": {},
   "outputs": [],
   "source": [
    "obj_rel_anim = [\"писатель которого\", \"писатели которых\", \n",
    "            \"пилот которого\", \"пилоты которых\", \n",
    "            \"фермер которого\", \"фермеры которых\", \n",
    "            \"руководитель которого\", \"руководители которых\", \n",
    "            \"покупатель которого\", \"покупатели которых\", \n",
    "            \"командир которого\", \"командиры которых\", \n",
    "            \"преподаватель которого\", \"преподаватели которых\", \n",
    "            \"чиновник которого\", \"чиновники которых\", \n",
    "            \"студент которого\", \"студенты которых\"]\n",
    "obj_rel_inan = [\"фильм который\", \"фильмы которые\",\n",
    "               \"журнал который\", \"журналы которые\", \n",
    "                \"сериал который\", \"сериалы которые\", \n",
    "                \"чертеж который\", \"чертежи которые\", \n",
    "                \"учебник который\", \"учебники которые\", \n",
    "                \"рисунок который\", \"рисунки которые\", \n",
    "                \"роман который\", \"романы которые\", \n",
    "                \"рассказ который\", \"рассказы которые\", \n",
    "                \"спектакль который\", \"спектакли которые\"]"
   ]
  },
  {
   "cell_type": "code",
   "execution_count": 10,
   "metadata": {},
   "outputs": [],
   "source": [
    "def sentences_intr_json (sample, subj, predicate, file_name, label):\n",
    "    if sample == \"train\":\n",
    "        subj = subj[:10]\n",
    "        predicate = predicate[:8]\n",
    "    elif sample == \"val\":\n",
    "        subj = subj[10:14]\n",
    "        predicate = predicate[8:12]\n",
    "    elif sample == \"test\":\n",
    "        subj = subj[14:]\n",
    "        predicate = predicate[12:]\n",
    "    sentences_intr_json = []\n",
    "    sentence = ''\n",
    "    i = 1\n",
    "    score = 0\n",
    "    for noun in subj:\n",
    "        score +=1\n",
    "        for verb in predicate:\n",
    "            sentence = '{\"sentence\": \"' + noun + ' ' + verb + '\", \"idx\": ' + str(score%2) + ', \"label\": \"' + label + '\"}' \n",
    "            sentences_intr_json.append(sentence)\n",
    "            sentence = ''\n",
    "            i += 1\n",
    "            score +=1\n",
    "    write_file = file_name \n",
    "    with open(write_file, 'w') as fw:\n",
    "        for sentence in sentences_intr_json:\n",
    "            fw.write(sentence +'\\n')\n",
    "    return sentences_intr_json"
   ]
  },
  {
   "cell_type": "code",
   "execution_count": 11,
   "metadata": {},
   "outputs": [],
   "source": [
    "def sentences_tr_json (sample, subj, predicate, obj, order, file_name, label):\n",
    "    if sample == \"train\":\n",
    "        subj = subj[:10]\n",
    "        obj = obj[:10]\n",
    "        predicate = predicate[:6]\n",
    "    elif sample == \"val\":\n",
    "        subj = subj[10:14]\n",
    "        obj = obj[10:14]\n",
    "        predicate = predicate[6:10]\n",
    "    elif sample == \"test\":\n",
    "        subj = subj[14:]\n",
    "        obj = obj[14:]\n",
    "        predicate = predicate[10:]\n",
    "    sentences_tr_json = []\n",
    "    sentence = ''\n",
    "    i = 1\n",
    "    score = 0\n",
    "    for noun_1 in subj:\n",
    "        score +=1\n",
    "        for noun_2 in obj:\n",
    "            for verb in predicate:\n",
    "                if order == \"direct\":\n",
    "                    sentence = '{\"sentence\": \"' + noun_1 + ' ' + verb + ' ' + noun_2 + '\", \"idx\": ' + str(score%2) + ', \"label\": \"' + label + '\"}'\n",
    "                elif order == \"reverse\":\n",
    "                    sentence = '{\"sentence\": \"' + noun_2 + ' ' + verb + ' ' + noun_1 + '\", \"idx\": ' + str(score%2) + ', \"label\": \"' + label + '\"}'\n",
    "                sentences_tr_json.append(sentence)\n",
    "                sentence = ''\n",
    "                i += 1\n",
    "                score +=1\n",
    "    write_file = file_name \n",
    "    with open(write_file, 'w') as fw:\n",
    "        for sentence in sentences_tr_json:\n",
    "            fw.write(sentence +'\\n')\n",
    "    return sentences_tr_json"
   ]
  },
  {
   "cell_type": "code",
   "execution_count": 12,
   "metadata": {},
   "outputs": [],
   "source": [
    "def sentences_chto_json (sample, subj, predicate, matrix, file_name, label):\n",
    "    if sample == \"train\":\n",
    "        subj = subj[:10]\n",
    "        predicate = predicate[:8]\n",
    "        matrix = matrix[:8]\n",
    "    elif sample == \"val\":\n",
    "        subj = subj[10:14]\n",
    "        predicate = predicate[8:12]\n",
    "        matrix = matrix[8:12]\n",
    "    elif sample == \"test\":\n",
    "        subj = subj[14:]\n",
    "        predicate = predicate[12:]\n",
    "        matrix = matrix[12:]\n",
    "    sentences_chto_json = []\n",
    "    sentence = ''\n",
    "    i = 1\n",
    "    score = 0\n",
    "    for clause in matrix:\n",
    "        for noun in subj:\n",
    "            score +=1\n",
    "            for verb in predicate:\n",
    "                sentence = '{\"sentence\": \"' + clause + ' что ' + noun + ' ' + verb + '\", \"idx\": ' + str(score%2) + ', \"label\": \"' + label + '\"}' \n",
    "                sentences_chto_json.append(sentence)\n",
    "                sentence = ''\n",
    "                i += 1\n",
    "                score +=1\n",
    "    write_file = file_name \n",
    "    with open(write_file, 'w') as fw:\n",
    "        for sentence in sentences_chto_json:\n",
    "            fw.write(sentence +'\\n')\n",
    "    return sentences_chto_json"
   ]
  },
  {
   "cell_type": "code",
   "execution_count": 13,
   "metadata": {},
   "outputs": [],
   "source": [
    "def sentences_pp_json (sample, subj, predicate, pp, file_name, label):\n",
    "    if sample == \"train\":\n",
    "        subj = subj[:10]\n",
    "        predicate = predicate[:8]\n",
    "        pp = pp[:10]\n",
    "    elif sample == \"val\":\n",
    "        subj = subj[10:14]\n",
    "        predicate = predicate[8:12]\n",
    "        pp = pp[10:14]\n",
    "    elif sample == \"test\":\n",
    "        subj = subj[14:]\n",
    "        predicate = predicate[12:]\n",
    "        pp = pp[14:]\n",
    "    sentences_pp_json = []\n",
    "    sentence = ''\n",
    "    i = 1\n",
    "    score = 0\n",
    "    for phrase in pp:\n",
    "        for noun in subj:\n",
    "            score +=1\n",
    "            for verb in predicate:\n",
    "                sentence = '{\"sentence\": \"' + noun + ' ' + phrase + ' ' +verb + '\", \"idx\": ' + str(score%2) + ', \"label\": \"' + label + '\"}' \n",
    "                sentences_pp_json.append(sentence)\n",
    "                sentence = ''\n",
    "                i += 1\n",
    "                score +=1\n",
    "    write_file = file_name \n",
    "    with open(write_file, 'w') as fw:\n",
    "        for sentence in sentences_pp_json:\n",
    "            fw.write(sentence +'\\n')\n",
    "    return sentences_pp_json"
   ]
  },
  {
   "cell_type": "code",
   "execution_count": 14,
   "metadata": {},
   "outputs": [],
   "source": [
    "def sentences_subj_rel_json (sample, subj, predicate, rel, file_name, label):\n",
    "    if sample == \"train\":\n",
    "        subj = subj[:30]\n",
    "        predicate = predicate[:8]\n",
    "        rel = rel[:10]\n",
    "    elif sample == \"val\":\n",
    "        subj = subj[30:38]\n",
    "        predicate = predicate[8:12]\n",
    "        rel = rel[10:14]\n",
    "    elif sample == \"test\":\n",
    "        subj = subj[38:]\n",
    "        predicate = predicate[12:]\n",
    "        rel = rel[14:]\n",
    "    sentences_subj_rel_json = []\n",
    "    sentence = ''\n",
    "    i = 1\n",
    "    score = 0\n",
    "    for obj in rel:\n",
    "        for noun in subj:\n",
    "            score +=1\n",
    "            for verb in predicate:\n",
    "                sentence = '{\"sentence\": \"' + noun + ' ' + obj + ' ' +verb + '\", \"idx\": ' + str(score%2) + ', \"label\": \"' + label + '\"}' \n",
    "                sentences_subj_rel_json.append(sentence)\n",
    "                sentence = ''\n",
    "                i += 1\n",
    "                score +=1\n",
    "    write_file = file_name \n",
    "    with open(write_file, 'w') as fw:\n",
    "        for sentence in sentences_subj_rel_json:\n",
    "            fw.write(sentence +'\\n')\n",
    "    return sentences_subj_rel_json"
   ]
  },
  {
   "cell_type": "code",
   "execution_count": 15,
   "metadata": {},
   "outputs": [],
   "source": [
    "def sentences_obj_rel_json (sample, subj, predicate, rel, file_name, label):\n",
    "    if sample == \"train\":\n",
    "        subj = subj[:10]\n",
    "        predicate = predicate[:8]\n",
    "        rel = rel[:30]\n",
    "    elif sample == \"val\":\n",
    "        subj = subj[10:14]\n",
    "        predicate = predicate[8:12]\n",
    "        rel = rel[30:38]\n",
    "    elif sample == \"test\":\n",
    "        subj = subj[14:]\n",
    "        predicate = predicate[12:]\n",
    "        rel = rel[38:]\n",
    "    sentences_obj_rel_json = []\n",
    "    sentence = ''\n",
    "    i = 1\n",
    "    score = 0\n",
    "    for obj in rel:\n",
    "        for noun in subj:\n",
    "            score +=1\n",
    "            for verb in predicate:\n",
    "                sentence = '{\"sentence\": \"' + noun + ' ' + obj + ' ' +verb + '\", \"idx\": ' + str(score%2) + ', \"label\": \"' + label + '\"}' \n",
    "                sentences_obj_rel_json.append(sentence)\n",
    "                sentence = ''\n",
    "                i += 1\n",
    "                score +=1\n",
    "    write_file = file_name \n",
    "    with open(write_file, 'w') as fw:\n",
    "        for sentence in sentences_obj_rel_json:\n",
    "            fw.write(sentence +'\\n')\n",
    "    return sentences_obj_rel_json"
   ]
  },
  {
   "cell_type": "code",
   "execution_count": 16,
   "metadata": {},
   "outputs": [],
   "source": [
    "intr_anim_train = sentences_intr_json(\"train\", subj_anim, predicate_intr_anim, \n",
    "                       '/Applications/Нейронные сети/Данные/json/intr_anim_train.jsonl', 'intr_anim')\n",
    "intr_anim_val = sentences_intr_json(\"val\", subj_anim, predicate_intr_anim, \n",
    "                       '/Applications/Нейронные сети/Данные/json/intr_anim_val.jsonl', 'intr_anim')\n",
    "intr_anim_test = sentences_intr_json(\"test\", subj_anim, predicate_intr_anim, \n",
    "                       '/Applications/Нейронные сети/Данные/json/intr_anim_test.jsonl', 'intr_anim')"
   ]
  },
  {
   "cell_type": "code",
   "execution_count": 17,
   "metadata": {},
   "outputs": [],
   "source": [
    "intr_inan_train = sentences_intr_json(\"train\", subj_inan, predicate_intr_inan, \n",
    "                       '/Applications/Нейронные сети/Данные/json/intr_inan_train.jsonl', 'intr_inan')\n",
    "intr_inan_val = sentences_intr_json(\"val\", subj_inan, predicate_intr_inan, \n",
    "                       '/Applications/Нейронные сети/Данные/json/intr_inan_val.jsonl', 'intr_inan')\n",
    "intr_inan_test = sentences_intr_json(\"test\", subj_inan, predicate_intr_inan, \n",
    "                       '/Applications/Нейронные сети/Данные/json/intr_inan_test.jsonl', 'intr_inan')"
   ]
  },
  {
   "cell_type": "code",
   "execution_count": 18,
   "metadata": {},
   "outputs": [],
   "source": [
    "tr_direct_anim_train = sentences_tr_json(\"train\", subj_anim, predicate_tr, obj_anim, \"direct\",\n",
    "                       '/Applications/Нейронные сети/Данные/json/tr_direct_anim_train.jsonl', 'tr_direct_anim')\n",
    "tr_direct_anim_val = sentences_tr_json(\"val\", subj_anim, predicate_tr, obj_anim, \"direct\",\n",
    "                       '/Applications/Нейронные сети/Данные/json/tr_direct_anim_val.jsonl', 'tr_direct_anim')\n",
    "tr_direct_anim_test = sentences_tr_json(\"test\", subj_anim, predicate_tr, obj_anim, \"direct\",\n",
    "                       '/Applications/Нейронные сети/Данные/json/tr_direct_anim_test.jsonl', 'tr_direct_anim')"
   ]
  },
  {
   "cell_type": "code",
   "execution_count": 19,
   "metadata": {},
   "outputs": [],
   "source": [
    "tr_direct_inan_train = sentences_tr_json(\"train\", subj_anim, predicate_tr, subj_inan, \"direct\",\n",
    "                       '/Applications/Нейронные сети/Данные/json/tr_direct_inan_train.jsonl', 'tr_direct_inan')\n",
    "tr_direct_inan_val = sentences_tr_json(\"val\", subj_anim, predicate_tr, subj_inan, \"direct\",\n",
    "                       '/Applications/Нейронные сети/Данные/json/tr_direct_inan_val.jsonl', 'tr_direct_inan')\n",
    "tr_direct_inan_test = sentences_tr_json(\"test\", subj_anim, predicate_tr, subj_inan, \"direct\",\n",
    "                       '/Applications/Нейронные сети/Данные/json/tr_direct_inan_test.jsonl', 'tr_direct_inan')"
   ]
  },
  {
   "cell_type": "code",
   "execution_count": 20,
   "metadata": {},
   "outputs": [],
   "source": [
    "tr_reverse_anim_train = sentences_tr_json(\"train\",subj_anim, predicate_tr, obj_anim, \"reverse\",\n",
    "                       '/Applications/Нейронные сети/Данные/json/tr_reverse_anim_train.jsonl', 'tr_reverse_anim')\n",
    "tr_reverse_anim_val = sentences_tr_json(\"val\",subj_anim, predicate_tr, obj_anim, \"reverse\",\n",
    "                       '/Applications/Нейронные сети/Данные/json/tr_reverse_anim_val.jsonl', 'tr_reverse_anim')\n",
    "tr_reverse_anim_test = sentences_tr_json(\"test\",subj_anim, predicate_tr, obj_anim, \"reverse\",\n",
    "                       '/Applications/Нейронные сети/Данные/json/tr_reverse_anim_test.jsonl', 'tr_reverse_anim')"
   ]
  },
  {
   "cell_type": "code",
   "execution_count": 21,
   "metadata": {},
   "outputs": [],
   "source": [
    "tr_reverse_inan_train = sentences_tr_json(\"train\", subj_anim, predicate_tr, subj_inan, \"reverse\",\n",
    "                       '/Applications/Нейронные сети/Данные/json/tr_reverse_inan_train.jsonl', 'tr_reverse_inan')\n",
    "tr_reverse_inan_val = sentences_tr_json(\"val\", subj_anim, predicate_tr, subj_inan, \"reverse\",\n",
    "                       '/Applications/Нейронные сети/Данные/json/tr_reverse_inan_val.jsonl', 'tr_reverse_inan')\n",
    "tr_reverse_inan_test = sentences_tr_json(\"test\", subj_anim, predicate_tr, subj_inan, \"reverse\",\n",
    "                       '/Applications/Нейронные сети/Данные/json/tr_reverse_inan_test.jsonl', 'tr_reverse_inan')"
   ]
  },
  {
   "cell_type": "code",
   "execution_count": 22,
   "metadata": {},
   "outputs": [],
   "source": [
    "chto_anim_train = sentences_chto_json(\"train\", subj_anim, predicate_intr_anim, matrix_clause,\n",
    "                       '/Applications/Нейронные сети/Данные/json/chto_anim_train.jsonl', 'chto_anim')\n",
    "chto_anim_val = sentences_chto_json(\"val\", subj_anim, predicate_intr_anim, matrix_clause,\n",
    "                       '/Applications/Нейронные сети/Данные/json/chto_anim_val.jsonl', 'chto_anim')\n",
    "chto_anim_test = sentences_chto_json(\"test\", subj_anim, predicate_intr_anim, matrix_clause,\n",
    "                       '/Applications/Нейронные сети/Данные/json/chto_anim_test.jsonl', 'chto_anim')"
   ]
  },
  {
   "cell_type": "code",
   "execution_count": 23,
   "metadata": {},
   "outputs": [],
   "source": [
    "chto_inan_train = sentences_chto_json(\"train\",subj_inan, predicate_intr_inan, matrix_clause,\n",
    "                       '/Applications/Нейронные сети/Данные/json/chto_inan_train.jsonl', 'chto_inan')\n",
    "chto_inan_val = sentences_chto_json(\"val\",subj_inan, predicate_intr_inan, matrix_clause,\n",
    "                       '/Applications/Нейронные сети/Данные/json/chto_inan_val.jsonl', 'chto_inan')\n",
    "chto_inan_test = sentences_chto_json(\"test\",subj_inan, predicate_intr_inan, matrix_clause,\n",
    "                       '/Applications/Нейронные сети/Данные/json/chto_inan_test.jsonl', 'chto_inan')"
   ]
  },
  {
   "cell_type": "code",
   "execution_count": 24,
   "metadata": {},
   "outputs": [],
   "source": [
    "pp_anim_train = sentences_pp_json(\"train\", subj_anim, predicate_intr_anim, pp_anim,\n",
    "                       '/Applications/Нейронные сети/Данные/json/pp_anim_train.jsonl', 'pp_anim')\n",
    "pp_anim_val = sentences_pp_json(\"val\", subj_anim, predicate_intr_anim, pp_anim,\n",
    "                       '/Applications/Нейронные сети/Данные/json/pp_anim_val.jsonl', 'pp_anim')\n",
    "pp_anim_test = sentences_pp_json(\"test\", subj_anim, predicate_intr_anim, pp_anim,\n",
    "                       '/Applications/Нейронные сети/Данные/json/pp_anim_test.jsonl', 'pp_anim')"
   ]
  },
  {
   "cell_type": "code",
   "execution_count": 25,
   "metadata": {},
   "outputs": [],
   "source": [
    "pp_inan_train = sentences_pp_json(\"train\", subj_inan, predicate_intr_inan, pp_inan,\n",
    "                       '/Applications/Нейронные сети/Данные/json/pp_inan_train.jsonl', 'pp_inan')\n",
    "pp_inan_val = sentences_pp_json(\"val\", subj_inan, predicate_intr_inan, pp_inan,\n",
    "                       '/Applications/Нейронные сети/Данные/json/pp_inan_val.jsonl', 'pp_inan')\n",
    "pp_inan_test = sentences_pp_json(\"test\", subj_inan, predicate_intr_inan, pp_inan,\n",
    "                       '/Applications/Нейронные сети/Данные/json/pp_inan_test.jsonl', 'pp_inan')"
   ]
  },
  {
   "cell_type": "code",
   "execution_count": 26,
   "metadata": {},
   "outputs": [],
   "source": [
    "subj_rel_anim_train = sentences_subj_rel_json(\"train\", subj_rel, predicate_intr_anim, obj_anim,\n",
    "                       '/Applications/Нейронные сети/Данные/json/subj_rel_anim_train.jsonl', 'subj_rel_anim')\n",
    "subj_rel_anim_val = sentences_subj_rel_json(\"val\", subj_rel, predicate_intr_anim, obj_anim,\n",
    "                       '/Applications/Нейронные сети/Данные/json/subj_rel_anim_val.jsonl', 'subj_rel_anim')\n",
    "subj_rel_anim_test = sentences_subj_rel_json(\"test\", subj_rel, predicate_intr_anim, obj_anim,\n",
    "                       '/Applications/Нейронные сети/Данные/json/subj_rel_anim_test.jsonl', 'subj_rel_anim')"
   ]
  },
  {
   "cell_type": "code",
   "execution_count": 27,
   "metadata": {},
   "outputs": [],
   "source": [
    "subj_rel_inan_train = sentences_subj_rel_json(\"train\", subj_rel, predicate_intr_anim, subj_inan,\n",
    "                       '/Applications/Нейронные сети/Данные/json/subj_rel_inan_train.jsonl', 'subj_rel_inan')\n",
    "subj_rel_inan_val = sentences_subj_rel_json(\"val\", subj_rel, predicate_intr_anim, subj_inan,\n",
    "                       '/Applications/Нейронные сети/Данные/json/subj_rel_inan_val.jsonl', 'subj_rel_inan')\n",
    "subj_rel_inan_test = sentences_subj_rel_json(\"test\", subj_rel, predicate_intr_anim, subj_inan,\n",
    "                       '/Applications/Нейронные сети/Данные/json/subj_rel_inan_test.jsonl', 'subj_rel_inan')"
   ]
  },
  {
   "cell_type": "code",
   "execution_count": 28,
   "metadata": {},
   "outputs": [],
   "source": [
    "obj_rel_anim_train = sentences_obj_rel_json(\"train\", obj_rel_anim, predicate_intr_anim, sent_rel,\n",
    "                       '/Applications/Нейронные сети/Данные/json/obj_rel_anim_train.jsonl', 'obj_rel_anim')\n",
    "obj_rel_anim_val = sentences_obj_rel_json(\"val\", obj_rel_anim, predicate_intr_anim, sent_rel,\n",
    "                       '/Applications/Нейронные сети/Данные/json/obj_rel_anim_val.jsonl', 'obj_rel_anim')\n",
    "obj_rel_anim_test = sentences_obj_rel_json(\"test\", obj_rel_anim, predicate_intr_anim, sent_rel,\n",
    "                       '/Applications/Нейронные сети/Данные/json/obj_rel_anim_test.jsonl', 'obj_rel_anim')"
   ]
  },
  {
   "cell_type": "code",
   "execution_count": 29,
   "metadata": {},
   "outputs": [],
   "source": [
    "obj_rel_inan_train = sentences_obj_rel_json(\"train\", obj_rel_inan, predicate_intr_inan, sent_rel,\n",
    "                       '/Applications/Нейронные сети/Данные/json/obj_rel_inan_train.jsonl', 'obj_rel_inan')\n",
    "obj_rel_inan_val = sentences_obj_rel_json(\"val\", obj_rel_inan, predicate_intr_inan, sent_rel,\n",
    "                       '/Applications/Нейронные сети/Данные/json/obj_rel_inan_val.jsonl', 'obj_rel_inan')\n",
    "obj_rel_inan_test = sentences_obj_rel_json(\"test\", obj_rel_inan, predicate_intr_inan, sent_rel,\n",
    "                       '/Applications/Нейронные сети/Данные/json/obj_rel_inan_test.jsonl', 'obj_rel_inan')"
   ]
  }
 ],
 "metadata": {
  "kernelspec": {
   "display_name": "Python 3",
   "language": "python",
   "name": "python3"
  },
  "language_info": {
   "codemirror_mode": {
    "name": "ipython",
    "version": 3
   },
   "file_extension": ".py",
   "mimetype": "text/x-python",
   "name": "python",
   "nbconvert_exporter": "python",
   "pygments_lexer": "ipython3",
   "version": "3.7.3"
  }
 },
 "nbformat": 4,
 "nbformat_minor": 2
}
