{
  "nbformat": 4,
  "nbformat_minor": 0,
  "metadata": {
    "colab": {
      "provenance": [],
      "collapsed_sections": []
    },
    "kernelspec": {
      "name": "python3",
      "display_name": "Python 3"
    },
    "language_info": {
      "name": "python"
    }
  },
  "cells": [
    {
      "cell_type": "markdown",
      "source": [
        "## Загрузка пакетов"
      ],
      "metadata": {
        "id": "lu5K9qsIuA2P"
      }
    },
    {
      "cell_type": "code",
      "execution_count": 1,
      "metadata": {
        "colab": {
          "base_uri": "https://localhost:8080/"
        },
        "id": "1Ho4XoVCSEWu",
        "outputId": "749aec3f-fbed-4131-b08b-ba6f506f1207"
      },
      "outputs": [
        {
          "output_type": "stream",
          "name": "stdout",
          "text": [
            "Looking in indexes: https://pypi.org/simple, https://us-python.pkg.dev/colab-wheels/public/simple/\n",
            "Requirement already satisfied: jsonlines in /usr/local/lib/python3.7/dist-packages (3.1.0)\n",
            "Requirement already satisfied: typing-extensions in /usr/local/lib/python3.7/dist-packages (from jsonlines) (4.1.1)\n",
            "Requirement already satisfied: attrs>=19.2.0 in /usr/local/lib/python3.7/dist-packages (from jsonlines) (22.1.0)\n"
          ]
        }
      ],
      "source": [
        "!pip install jsonlines"
      ]
    },
    {
      "cell_type": "code",
      "source": [
        "import os\n",
        "from google.colab import drive\n",
        "drive.mount('/content/drive')"
      ],
      "metadata": {
        "id": "MYuNO1YUScgl",
        "colab": {
          "base_uri": "https://localhost:8080/"
        },
        "outputId": "d70cbdde-cd06-49ac-b460-ae96fdbb66cb"
      },
      "execution_count": 2,
      "outputs": [
        {
          "output_type": "stream",
          "name": "stdout",
          "text": [
            "Drive already mounted at /content/drive; to attempt to forcibly remount, call drive.mount(\"/content/drive\", force_remount=True).\n"
          ]
        }
      ]
    },
    {
      "cell_type": "code",
      "source": [
        "import jsonlines\n",
        "import random"
      ],
      "metadata": {
        "id": "bBjZiCW9YPMB"
      },
      "execution_count": 3,
      "outputs": []
    },
    {
      "cell_type": "markdown",
      "source": [
        "## Обработка данных"
      ],
      "metadata": {
        "id": "Q3ha2FIwuHBF"
      }
    },
    {
      "cell_type": "code",
      "source": [
        "def infile_upload(link, sample):\n",
        "  with jsonlines.open(link, \"r\") as fin:\n",
        "    file = list(fin)\n",
        "    random.shuffle(file)\n",
        "    if sample == \"train\":\n",
        "      file = file[:40]\n",
        "    elif sample == \"val\":\n",
        "      file = file[:10]\n",
        "    elif sample == \"test\":\n",
        "      file = file[:10]\n",
        "    return file"
      ],
      "metadata": {
        "id": "7YAneuirirAo"
      },
      "execution_count": 4,
      "outputs": []
    },
    {
      "cell_type": "code",
      "source": [
        "intr_anim_train = infile_upload(\"/content/drive/My Drive/json/intr_anim_train.jsonl\", \"train\")\n",
        "intr_inan_train = infile_upload(\"/content/drive/My Drive/json/intr_inan_train.jsonl\", \"train\")\n",
        "tr_direct_anim_train = infile_upload(\"/content/drive/My Drive/json/tr_direct_anim_train.jsonl\", \"train\")\n",
        "tr_direct_inan_train = infile_upload(\"/content/drive/My Drive/json/tr_direct_inan_train.jsonl\", \"train\")\n",
        "tr_reverse_anim_train = infile_upload(\"/content/drive/My Drive/json/tr_reverse_anim_train.jsonl\", \"train\")\n",
        "tr_reverse_inan_train = infile_upload(\"/content/drive/My Drive/json/tr_reverse_inan_train.jsonl\", \"train\")\n",
        "chto_anim_train = infile_upload(\"/content/drive/My Drive/json/chto_anim_train.jsonl\", \"train\")\n",
        "chto_inan_train = infile_upload(\"/content/drive/My Drive/json/chto_inan_train.jsonl\", \"train\")\n",
        "pp_anim_train = infile_upload(\"/content/drive/My Drive/json/pp_anim_train.jsonl\", \"train\")\n",
        "pp_inan_train = infile_upload(\"/content/drive/My Drive/json/pp_inan_train.jsonl\", \"train\")\n",
        "subj_rel_anim_train = infile_upload(\"/content/drive/My Drive/json/subj_rel_anim_train.jsonl\", \"train\")\n",
        "subj_rel_inan_train = infile_upload(\"/content/drive/My Drive/json/subj_rel_inan_train.jsonl\", \"train\")\n",
        "obj_rel_anim_train = infile_upload(\"/content/drive/My Drive/json/obj_rel_anim_train.jsonl\", \"train\")\n",
        "obj_rel_inan_train = infile_upload(\"/content/drive/My Drive/json/obj_rel_inan_train.jsonl\", \"train\")"
      ],
      "metadata": {
        "id": "qX7OrmZhjGtV"
      },
      "execution_count": 5,
      "outputs": []
    },
    {
      "cell_type": "code",
      "source": [
        "intr_anim_val = infile_upload(\"/content/drive/My Drive/json/intr_anim_val.jsonl\", \"val\")\n",
        "intr_inan_val = infile_upload(\"/content/drive/My Drive/json/intr_inan_val.jsonl\", \"val\")\n",
        "tr_direct_anim_val = infile_upload(\"/content/drive/My Drive/json/tr_direct_anim_val.jsonl\", \"val\")\n",
        "tr_direct_inan_val = infile_upload(\"/content/drive/My Drive/json/tr_direct_inan_val.jsonl\", \"val\")\n",
        "tr_reverse_anim_val = infile_upload(\"/content/drive/My Drive/json/tr_reverse_anim_val.jsonl\", \"val\")\n",
        "tr_reverse_inan_val = infile_upload(\"/content/drive/My Drive/json/tr_reverse_inan_val.jsonl\", \"val\")\n",
        "chto_anim_val = infile_upload(\"/content/drive/My Drive/json/chto_anim_val.jsonl\", \"val\")\n",
        "chto_inan_val = infile_upload(\"/content/drive/My Drive/json/chto_inan_val.jsonl\", \"val\")\n",
        "pp_anim_val = infile_upload(\"/content/drive/My Drive/json/pp_anim_val.jsonl\", \"val\")\n",
        "pp_inan_val = infile_upload(\"/content/drive/My Drive/json/pp_inan_val.jsonl\", \"val\")\n",
        "subj_rel_anim_val = infile_upload(\"/content/drive/My Drive/json/subj_rel_anim_val.jsonl\", \"val\")\n",
        "subj_rel_inan_val = infile_upload(\"/content/drive/My Drive/json/subj_rel_inan_val.jsonl\", \"val\")\n",
        "obj_rel_anim_val = infile_upload(\"/content/drive/My Drive/json/obj_rel_anim_val.jsonl\", \"val\")\n",
        "obj_rel_inan_val = infile_upload(\"/content/drive/My Drive/json/obj_rel_inan_val.jsonl\", \"val\")"
      ],
      "metadata": {
        "id": "SrEgkonaoV8A"
      },
      "execution_count": 6,
      "outputs": []
    },
    {
      "cell_type": "code",
      "source": [
        "intr_anim_test = infile_upload(\"/content/drive/My Drive/json/intr_anim_test.jsonl\", \"test\")\n",
        "intr_inan_test = infile_upload(\"/content/drive/My Drive/json/intr_inan_test.jsonl\", \"test\")\n",
        "tr_direct_anim_test = infile_upload(\"/content/drive/My Drive/json/tr_direct_anim_test.jsonl\", \"test\")\n",
        "tr_direct_inan_test = infile_upload(\"/content/drive/My Drive/json/tr_direct_inan_test.jsonl\", \"test\")\n",
        "tr_reverse_anim_test = infile_upload(\"/content/drive/My Drive/json/tr_reverse_anim_test.jsonl\", \"test\")\n",
        "tr_reverse_inan_test = infile_upload(\"/content/drive/My Drive/json/tr_reverse_inan_test.jsonl\", \"test\")\n",
        "chto_anim_test = infile_upload(\"/content/drive/My Drive/json/chto_anim_test.jsonl\", \"test\")\n",
        "chto_inan_test = infile_upload(\"/content/drive/My Drive/json/chto_inan_test.jsonl\", \"test\")\n",
        "pp_anim_test = infile_upload(\"/content/drive/My Drive/json/pp_anim_test.jsonl\", \"test\")\n",
        "pp_inan_test = infile_upload(\"/content/drive/My Drive/json/pp_inan_test.jsonl\", \"test\")\n",
        "subj_rel_anim_test = infile_upload(\"/content/drive/My Drive/json/subj_rel_anim_test.jsonl\", \"test\")\n",
        "subj_rel_inan_test = infile_upload(\"/content/drive/My Drive/json/subj_rel_inan_test.jsonl\", \"test\")\n",
        "obj_rel_anim_test = infile_upload(\"/content/drive/My Drive/json/obj_rel_anim_test.jsonl\", \"test\")\n",
        "obj_rel_inan_test = infile_upload(\"/content/drive/My Drive/json/obj_rel_inan_test.jsonl\", \"test\")"
      ],
      "metadata": {
        "id": "Je0-0VfICMev"
      },
      "execution_count": 7,
      "outputs": []
    },
    {
      "cell_type": "code",
      "source": [
        "train_data = list()\n",
        "for line in (intr_anim_train):\n",
        "  train_data.append(line)\n",
        "for line in (intr_inan_train):\n",
        "  train_data.append(line)\n",
        "for line in (tr_direct_anim_train):\n",
        "  train_data.append(line)\n",
        "for line in (tr_direct_inan_train):\n",
        "  train_data.append(line)\n",
        "for line in (tr_reverse_anim_train):\n",
        "  train_data.append(line)\n",
        "for line in (tr_reverse_inan_train):\n",
        "  train_data.append(line)\n",
        "for line in (chto_anim_train):\n",
        "  train_data.append(line)\n",
        "for line in (chto_inan_train):\n",
        "  train_data.append(line)\n",
        "for line in (pp_anim_train):\n",
        "  train_data.append(line)\n",
        "for line in (pp_inan_train):\n",
        "  train_data.append(line)\n",
        "for line in (subj_rel_anim_train):\n",
        "  train_data.append(line)\n",
        "for line in (subj_rel_inan_train):\n",
        "  train_data.append(line)\n",
        "for line in (obj_rel_anim_train):\n",
        "  train_data.append(line)\n",
        "for line in (obj_rel_inan_train):\n",
        "  train_data.append(line)\n",
        "random.shuffle(train_data)"
      ],
      "metadata": {
        "id": "2dwk3pkSgk92"
      },
      "execution_count": 8,
      "outputs": []
    },
    {
      "cell_type": "code",
      "source": [
        "len(train_data)"
      ],
      "metadata": {
        "colab": {
          "base_uri": "https://localhost:8080/"
        },
        "id": "Kh5Y5DA8ih0T",
        "outputId": "954d198a-007b-49fa-f472-713e6b37c3be"
      },
      "execution_count": 9,
      "outputs": [
        {
          "output_type": "execute_result",
          "data": {
            "text/plain": [
              "560"
            ]
          },
          "metadata": {},
          "execution_count": 9
        }
      ]
    },
    {
      "cell_type": "code",
      "source": [
        "val_data = list()\n",
        "for line in (intr_anim_val):\n",
        "  val_data.append(line)\n",
        "for line in (intr_inan_val):\n",
        "  val_data.append(line)\n",
        "for line in (tr_direct_anim_val):\n",
        "  val_data.append(line)\n",
        "for line in (tr_direct_inan_val):\n",
        "  val_data.append(line)\n",
        "for line in (tr_reverse_anim_val):\n",
        "  val_data.append(line)\n",
        "for line in (tr_reverse_inan_val):\n",
        "  val_data.append(line)\n",
        "for line in (chto_anim_val):\n",
        "  val_data.append(line)\n",
        "for line in (chto_inan_val):\n",
        "  val_data.append(line)\n",
        "for line in (pp_anim_val):\n",
        "  val_data.append(line)\n",
        "for line in (pp_inan_val):\n",
        "  val_data.append(line)\n",
        "for line in (subj_rel_anim_val):\n",
        "  val_data.append(line)\n",
        "for line in (subj_rel_inan_val):\n",
        "  val_data.append(line)\n",
        "for line in (obj_rel_anim_val):\n",
        "  val_data.append(line)\n",
        "for line in (obj_rel_inan_val):\n",
        "  val_data.append(line)\n",
        "random.shuffle(val_data)"
      ],
      "metadata": {
        "id": "YdhQUhCPOE4z"
      },
      "execution_count": 10,
      "outputs": []
    },
    {
      "cell_type": "code",
      "source": [
        "len(val_data)"
      ],
      "metadata": {
        "colab": {
          "base_uri": "https://localhost:8080/"
        },
        "id": "PiGDthLUOg4u",
        "outputId": "946888e9-ccf7-4981-88d4-aa2994a3624c"
      },
      "execution_count": 11,
      "outputs": [
        {
          "output_type": "execute_result",
          "data": {
            "text/plain": [
              "140"
            ]
          },
          "metadata": {},
          "execution_count": 11
        }
      ]
    },
    {
      "cell_type": "code",
      "source": [
        "test_data = list()\n",
        "for line in (intr_anim_test):\n",
        "  test_data.append(line)\n",
        "for line in (intr_inan_test):\n",
        "  test_data.append(line)\n",
        "for line in (tr_direct_anim_test):\n",
        "  test_data.append(line)\n",
        "for line in (tr_direct_inan_test):\n",
        "  test_data.append(line)\n",
        "for line in (tr_reverse_anim_test):\n",
        "  test_data.append(line)\n",
        "for line in (tr_reverse_inan_test):\n",
        "  test_data.append(line)\n",
        "for line in (chto_anim_test):\n",
        "  test_data.append(line)\n",
        "for line in (chto_inan_test):\n",
        "  test_data.append(line)\n",
        "for line in (pp_anim_test):\n",
        "  test_data.append(line)\n",
        "for line in (pp_inan_test):\n",
        "  test_data.append(line)\n",
        "for line in (subj_rel_anim_test):\n",
        "  test_data.append(line)\n",
        "for line in (subj_rel_inan_test):\n",
        "  test_data.append(line)\n",
        "for line in (obj_rel_anim_test):\n",
        "  test_data.append(line)\n",
        "for line in (obj_rel_inan_test):\n",
        "  test_data.append(line)\n",
        "random.shuffle(test_data)"
      ],
      "metadata": {
        "id": "apNI-sP8ir8j"
      },
      "execution_count": 12,
      "outputs": []
    },
    {
      "cell_type": "code",
      "source": [
        "len(test_data)"
      ],
      "metadata": {
        "colab": {
          "base_uri": "https://localhost:8080/"
        },
        "id": "qKrD3T7pi5lk",
        "outputId": "86e66a7e-049b-479b-a925-fe2a5366fdf9"
      },
      "execution_count": 13,
      "outputs": [
        {
          "output_type": "execute_result",
          "data": {
            "text/plain": [
              "140"
            ]
          },
          "metadata": {},
          "execution_count": 13
        }
      ]
    },
    {
      "cell_type": "code",
      "source": [
        "len(train_data) + len(val_data) + len(test_data)"
      ],
      "metadata": {
        "colab": {
          "base_uri": "https://localhost:8080/"
        },
        "id": "tgSNl6wdOj7B",
        "outputId": "7357016a-0a02-4fd2-c0bc-e28c105b37aa"
      },
      "execution_count": 14,
      "outputs": [
        {
          "output_type": "execute_result",
          "data": {
            "text/plain": [
              "840"
            ]
          },
          "metadata": {},
          "execution_count": 14
        }
      ]
    },
    {
      "cell_type": "markdown",
      "source": [
        "## Запись в файл"
      ],
      "metadata": {
        "id": "5KZNIAkNjWsD"
      }
    },
    {
      "cell_type": "code",
      "source": [
        "with jsonlines.open(\"/content/drive/My Drive/json/train_data.jsonl\", 'w') as f_out:\n",
        "  for line in train_data:\n",
        "    sentence = line[\"sentence\"]\n",
        "    idx = line[\"idx\"]\n",
        "    label = line[\"label\"]\n",
        "    f_out.write({\"sentence\": sentence, \"idx\": idx, \"label\":label}) "
      ],
      "metadata": {
        "id": "mGFn48c_lbV4"
      },
      "execution_count": 15,
      "outputs": []
    },
    {
      "cell_type": "code",
      "source": [
        "with jsonlines.open(\"/content/drive/My Drive/json/val_data.jsonl\", 'w') as f_out:\n",
        "  for line in val_data:\n",
        "    sentence = line[\"sentence\"]\n",
        "    idx = line[\"idx\"]\n",
        "    label = line[\"label\"]\n",
        "    f_out.write({\"sentence\": sentence, \"idx\": idx, \"label\":label}) "
      ],
      "metadata": {
        "id": "-0RV5QV4PEQQ"
      },
      "execution_count": 16,
      "outputs": []
    },
    {
      "cell_type": "code",
      "source": [
        "with jsonlines.open(\"/content/drive/My Drive/json/test_data.jsonl\", 'w') as f_out:\n",
        "  for line in test_data:\n",
        "    sentence = line[\"sentence\"]\n",
        "    idx = line[\"idx\"]\n",
        "    label = line[\"label\"]\n",
        "    f_out.write({\"sentence\": sentence, \"idx\": idx, \"label\":label}) "
      ],
      "metadata": {
        "id": "xSJqhlDPtD3Q"
      },
      "execution_count": 17,
      "outputs": []
    }
  ]
}