{
  "nbformat": 4,
  "nbformat_minor": 0,
  "metadata": {
    "colab": {
      "name": "train_test_split.ipynb",
      "provenance": [],
      "collapsed_sections": []
    },
    "kernelspec": {
      "name": "python3",
      "display_name": "Python 3"
    },
    "language_info": {
      "name": "python"
    }
  },
  "cells": [
    {
      "cell_type": "markdown",
      "source": [
        "## Загрузка пакетов"
      ],
      "metadata": {
        "id": "lu5K9qsIuA2P"
      }
    },
    {
      "cell_type": "code",
      "execution_count": null,
      "metadata": {
        "colab": {
          "base_uri": "https://localhost:8080/"
        },
        "id": "1Ho4XoVCSEWu",
        "outputId": "0d0c4ecc-5cf4-436b-9b7d-2bc3c4261859"
      },
      "outputs": [
        {
          "output_type": "stream",
          "name": "stdout",
          "text": [
            "Looking in indexes: https://pypi.org/simple, https://us-python.pkg.dev/colab-wheels/public/simple/\n",
            "Requirement already satisfied: jsonlines in /usr/local/lib/python3.7/dist-packages (3.0.0)\n",
            "Requirement already satisfied: attrs>=19.2.0 in /usr/local/lib/python3.7/dist-packages (from jsonlines) (21.4.0)\n",
            "Requirement already satisfied: typing-extensions in /usr/local/lib/python3.7/dist-packages (from jsonlines) (4.2.0)\n"
          ]
        }
      ],
      "source": [
        "!pip install jsonlines"
      ]
    },
    {
      "cell_type": "code",
      "source": [
        "import os\n",
        "from google.colab import drive\n",
        "drive.mount('/content/drive')"
      ],
      "metadata": {
        "id": "MYuNO1YUScgl",
        "colab": {
          "base_uri": "https://localhost:8080/"
        },
        "outputId": "657f872e-9fff-420d-c9d6-bc80b47d11c5"
      },
      "execution_count": null,
      "outputs": [
        {
          "output_type": "stream",
          "name": "stdout",
          "text": [
            "Drive already mounted at /content/drive; to attempt to forcibly remount, call drive.mount(\"/content/drive\", force_remount=True).\n"
          ]
        }
      ]
    },
    {
      "cell_type": "code",
      "source": [
        "import jsonlines\n",
        "import random"
      ],
      "metadata": {
        "id": "bBjZiCW9YPMB"
      },
      "execution_count": null,
      "outputs": []
    },
    {
      "cell_type": "markdown",
      "source": [
        "## Обработка данных"
      ],
      "metadata": {
        "id": "Q3ha2FIwuHBF"
      }
    },
    {
      "cell_type": "code",
      "source": [
        "def train_val_test(data):\n",
        "  train = list()\n",
        "  val = list()\n",
        "  test = list()\n",
        "  i = -1\n",
        "  for line in data:\n",
        "    i += 1\n",
        "    if i < int(len(data) * 0.7):\n",
        "      train.append(line)\n",
        "    elif (i > int(len(data) * 0.7)) and (i < int(len(data) * 0.85)):\n",
        "      val.append(line)\n",
        "    else:\n",
        "      test.append(line)\n",
        "  return train, val, test"
      ],
      "metadata": {
        "id": "Je0-0VfICMev"
      },
      "execution_count": null,
      "outputs": []
    },
    {
      "cell_type": "markdown",
      "source": [
        "### intr_anim"
      ],
      "metadata": {
        "id": "r3hA7VpfYULz"
      }
    },
    {
      "cell_type": "code",
      "source": [
        "with jsonlines.open(\"/content/drive/My Drive/json/sentences_intr_json_anim.jsonl\", \"r\") as fin:\n",
        "    intr_anim = list(fin)\n",
        "random.shuffle(intr_anim)\n",
        "\n",
        "len(intr_anim), len(intr_anim) * 0.7, len(intr_anim) * 0.15"
      ],
      "metadata": {
        "colab": {
          "base_uri": "https://localhost:8080/"
        },
        "id": "Y0pU7iYaSkYG",
        "outputId": "6999abc1-63cc-4bbe-8d68-858af729878c"
      },
      "execution_count": null,
      "outputs": [
        {
          "output_type": "execute_result",
          "data": {
            "text/plain": [
              "(280, 196.0, 42.0)"
            ]
          },
          "metadata": {},
          "execution_count": 5
        }
      ]
    },
    {
      "cell_type": "code",
      "source": [
        "intr_anim_train, intr_anim_val, intr_anim_test = train_val_test(intr_anim)\n",
        "len(intr_anim_train), len(intr_anim_val), len(intr_anim_test), (len(intr_anim_train) + len(intr_anim_val) + len(intr_anim_test))"
      ],
      "metadata": {
        "colab": {
          "base_uri": "https://localhost:8080/"
        },
        "id": "-B_u490UDX6w",
        "outputId": "7be37103-0a5a-4ff9-b87c-ac34cbad7dd3"
      },
      "execution_count": null,
      "outputs": [
        {
          "output_type": "execute_result",
          "data": {
            "text/plain": [
              "(196, 41, 43, 280)"
            ]
          },
          "metadata": {},
          "execution_count": 6
        }
      ]
    },
    {
      "cell_type": "markdown",
      "source": [
        "### intr_inan"
      ],
      "metadata": {
        "id": "a9fVKToWYW7-"
      }
    },
    {
      "cell_type": "code",
      "source": [
        "with jsonlines.open(\"/content/drive/My Drive/json/sentences_intr_json_inan.jsonl\", \"r\") as fin:\n",
        "    intr_inan = list(fin)\n",
        "random.shuffle(intr_inan)\n",
        "\n",
        "len(intr_inan), len(intr_inan) * 0.7, len(intr_inan) * 0.15"
      ],
      "metadata": {
        "colab": {
          "base_uri": "https://localhost:8080/"
        },
        "id": "UHc68iqZYSU3",
        "outputId": "fc23a97e-d463-4bf5-f023-aff9dd6bf7cc"
      },
      "execution_count": null,
      "outputs": [
        {
          "output_type": "execute_result",
          "data": {
            "text/plain": [
              "(252, 176.39999999999998, 37.8)"
            ]
          },
          "metadata": {},
          "execution_count": 7
        }
      ]
    },
    {
      "cell_type": "code",
      "source": [
        "intr_inan_train, intr_inan_val, intr_inan_test = train_val_test(intr_inan)\n",
        "len(intr_inan_train), len(intr_inan_val), len(intr_inan_test), (len(intr_inan_train) + len(intr_inan_val) + len(intr_inan_test))"
      ],
      "metadata": {
        "colab": {
          "base_uri": "https://localhost:8080/"
        },
        "id": "NTEMem3IDvk2",
        "outputId": "96be2512-6acf-489c-db9c-19a0794b63d7"
      },
      "execution_count": null,
      "outputs": [
        {
          "output_type": "execute_result",
          "data": {
            "text/plain": [
              "(176, 37, 39, 252)"
            ]
          },
          "metadata": {},
          "execution_count": 8
        }
      ]
    },
    {
      "cell_type": "markdown",
      "source": [
        "### tr_direct_anim"
      ],
      "metadata": {
        "id": "MpmBuyiIaPLJ"
      }
    },
    {
      "cell_type": "code",
      "source": [
        "with jsonlines.open(\"/content/drive/My Drive/json/sentences_tr_direct_json_anim.jsonl\", \"r\") as fin:\n",
        "    tr_direct_anim = list(fin)\n",
        "random.shuffle(tr_direct_anim)\n",
        "\n",
        "len(tr_direct_anim), len(tr_direct_anim) * 0.7, len(tr_direct_anim) * 0.15"
      ],
      "metadata": {
        "colab": {
          "base_uri": "https://localhost:8080/"
        },
        "id": "v08A20nuYabe",
        "outputId": "4fdf655c-8e78-4d9f-c26a-3b779291fa13"
      },
      "execution_count": null,
      "outputs": [
        {
          "output_type": "execute_result",
          "data": {
            "text/plain": [
              "(4000, 2800.0, 600.0)"
            ]
          },
          "metadata": {},
          "execution_count": 9
        }
      ]
    },
    {
      "cell_type": "code",
      "source": [
        "tr_direct_anim_train, tr_direct_anim_val, tr_direct_anim_test = train_val_test(tr_direct_anim)\n",
        "len(tr_direct_anim_train), len(tr_direct_anim_val), len(tr_direct_anim_test), (len(tr_direct_anim_train) + len(tr_direct_anim_val) + len(tr_direct_anim_test))"
      ],
      "metadata": {
        "colab": {
          "base_uri": "https://localhost:8080/"
        },
        "id": "ynGqlFBPEIoP",
        "outputId": "ca0287fd-afb1-4a65-e87d-2eb4f247ba23"
      },
      "execution_count": null,
      "outputs": [
        {
          "output_type": "execute_result",
          "data": {
            "text/plain": [
              "(2800, 599, 601, 4000)"
            ]
          },
          "metadata": {},
          "execution_count": 10
        }
      ]
    },
    {
      "cell_type": "markdown",
      "source": [
        "### tr_direct_inan"
      ],
      "metadata": {
        "id": "j2jAP5l0bWky"
      }
    },
    {
      "cell_type": "code",
      "source": [
        "with jsonlines.open(\"/content/drive/My Drive/json/sentences_tr_direct_json_inan.jsonl\", \"r\") as fin:\n",
        "    tr_direct_inan = list(fin)\n",
        "random.shuffle(tr_direct_inan)\n",
        "\n",
        "len(tr_direct_inan), len(tr_direct_inan) * 0.7, len(tr_direct_inan) * 0.15"
      ],
      "metadata": {
        "colab": {
          "base_uri": "https://localhost:8080/"
        },
        "id": "uWydPFWhbVVP",
        "outputId": "da670d8f-be4b-45ec-c7ae-a9e46958d07f"
      },
      "execution_count": null,
      "outputs": [
        {
          "output_type": "execute_result",
          "data": {
            "text/plain": [
              "(3600, 2520.0, 540.0)"
            ]
          },
          "metadata": {},
          "execution_count": 11
        }
      ]
    },
    {
      "cell_type": "code",
      "source": [
        "tr_direct_inan_train, tr_direct_inan_val, tr_direct_inan_test = train_val_test(tr_direct_inan)\n",
        "len(tr_direct_inan_train), len(tr_direct_inan_val), len(tr_direct_inan_test), (len(tr_direct_inan_train) + len(tr_direct_inan_val) + len(tr_direct_inan_test))"
      ],
      "metadata": {
        "colab": {
          "base_uri": "https://localhost:8080/"
        },
        "id": "ydm2L_7TEUsP",
        "outputId": "c33ebc06-03c9-4d59-c3ef-bf06139e86d0"
      },
      "execution_count": null,
      "outputs": [
        {
          "output_type": "execute_result",
          "data": {
            "text/plain": [
              "(2520, 539, 541, 3600)"
            ]
          },
          "metadata": {},
          "execution_count": 12
        }
      ]
    },
    {
      "cell_type": "markdown",
      "source": [
        "### tr_reverse_anim"
      ],
      "metadata": {
        "id": "jibhs2O0btcG"
      }
    },
    {
      "cell_type": "code",
      "source": [
        "with jsonlines.open(\"/content/drive/My Drive/json/sentences_tr_reverse_json_anim.jsonl\", \"r\") as fin:\n",
        "    tr_reverse_anim = list(fin)\n",
        "random.shuffle(tr_reverse_anim)\n",
        "\n",
        "len(tr_reverse_anim), len(tr_reverse_anim) * 0.7, len(tr_reverse_anim) * 0.15"
      ],
      "metadata": {
        "colab": {
          "base_uri": "https://localhost:8080/"
        },
        "id": "5c_uMMa6bqSX",
        "outputId": "becaae1f-133c-4275-f988-9189735201e1"
      },
      "execution_count": null,
      "outputs": [
        {
          "output_type": "execute_result",
          "data": {
            "text/plain": [
              "(4000, 2800.0, 600.0)"
            ]
          },
          "metadata": {},
          "execution_count": 13
        }
      ]
    },
    {
      "cell_type": "code",
      "source": [
        "tr_reverse_anim_train, tr_reverse_anim_val, tr_reverse_anim_test = train_val_test(tr_reverse_anim)\n",
        "len(tr_reverse_anim_train), len(tr_reverse_anim_val), len(tr_reverse_anim_test), (len(tr_reverse_anim_train) + len(tr_reverse_anim_val) + len(tr_reverse_anim_test))"
      ],
      "metadata": {
        "colab": {
          "base_uri": "https://localhost:8080/"
        },
        "id": "M5HHxsnsEhqF",
        "outputId": "00f454e2-ff3f-43d6-849c-bec9b64e5dcd"
      },
      "execution_count": null,
      "outputs": [
        {
          "output_type": "execute_result",
          "data": {
            "text/plain": [
              "(2800, 599, 601, 4000)"
            ]
          },
          "metadata": {},
          "execution_count": 14
        }
      ]
    },
    {
      "cell_type": "markdown",
      "source": [
        "### tr_reverse_inan"
      ],
      "metadata": {
        "id": "ZmQbl1BUb-St"
      }
    },
    {
      "cell_type": "code",
      "source": [
        "with jsonlines.open(\"/content/drive/My Drive/json/sentences_tr_reverse_json_inan.jsonl\", \"r\") as fin:\n",
        "    tr_reverse_inan = list(fin)\n",
        "random.shuffle(tr_reverse_inan)\n",
        "\n",
        "len(tr_reverse_inan), len(tr_reverse_inan) * 0.7, len(tr_reverse_inan) * 0.15"
      ],
      "metadata": {
        "colab": {
          "base_uri": "https://localhost:8080/"
        },
        "id": "7in3fP6ncB0b",
        "outputId": "a60ff087-55f3-45b7-ca89-c71176a64492"
      },
      "execution_count": null,
      "outputs": [
        {
          "output_type": "execute_result",
          "data": {
            "text/plain": [
              "(3600, 2520.0, 540.0)"
            ]
          },
          "metadata": {},
          "execution_count": 15
        }
      ]
    },
    {
      "cell_type": "code",
      "source": [
        "tr_reverse_inan_train, tr_reverse_inan_val, tr_reverse_inan_test = train_val_test(tr_reverse_inan)\n",
        "len(tr_reverse_inan_train), len(tr_reverse_inan_val), len(tr_reverse_inan_test), (len(tr_reverse_inan_train) + len(tr_reverse_inan_val) + len(tr_reverse_inan_test))"
      ],
      "metadata": {
        "colab": {
          "base_uri": "https://localhost:8080/"
        },
        "id": "W4xndfHcEu_e",
        "outputId": "4a3dfac7-be0b-4bbc-fced-76b33bcc546c"
      },
      "execution_count": null,
      "outputs": [
        {
          "output_type": "execute_result",
          "data": {
            "text/plain": [
              "(2520, 539, 541, 3600)"
            ]
          },
          "metadata": {},
          "execution_count": 16
        }
      ]
    },
    {
      "cell_type": "markdown",
      "source": [
        "### chto_anim"
      ],
      "metadata": {
        "id": "QJQQEyWOcXLD"
      }
    },
    {
      "cell_type": "code",
      "source": [
        "with jsonlines.open(\"/content/drive/My Drive/json/sentences_chto_json_anim.jsonl\", \"r\") as fin:\n",
        "    chto_anim = list(fin)\n",
        "random.shuffle(chto_anim)\n",
        "\n",
        "len(chto_anim), len(chto_anim) * 0.7, len(chto_anim) * 0.15"
      ],
      "metadata": {
        "colab": {
          "base_uri": "https://localhost:8080/"
        },
        "id": "zJ4FIgvkcefA",
        "outputId": "fb409141-c0bd-412b-d86f-745a3662b748"
      },
      "execution_count": null,
      "outputs": [
        {
          "output_type": "execute_result",
          "data": {
            "text/plain": [
              "(3360, 2352.0, 504.0)"
            ]
          },
          "metadata": {},
          "execution_count": 17
        }
      ]
    },
    {
      "cell_type": "code",
      "source": [
        "chto_anim_train, chto_anim_val, chto_anim_test = train_val_test(chto_anim)\n",
        "len(chto_anim_train), len(chto_anim_val), len(chto_anim_test), (len(chto_anim_train) + len(chto_anim_val) + len(chto_anim_test))"
      ],
      "metadata": {
        "colab": {
          "base_uri": "https://localhost:8080/"
        },
        "id": "ZQl9CvuFE-mk",
        "outputId": "599fb4ca-683d-456e-80d9-c9d02a454fe4"
      },
      "execution_count": null,
      "outputs": [
        {
          "output_type": "execute_result",
          "data": {
            "text/plain": [
              "(2352, 503, 505, 3360)"
            ]
          },
          "metadata": {},
          "execution_count": 18
        }
      ]
    },
    {
      "cell_type": "markdown",
      "source": [
        "### chto_inan"
      ],
      "metadata": {
        "id": "4RJ_bQG7cY1C"
      }
    },
    {
      "cell_type": "code",
      "source": [
        "with jsonlines.open(\"/content/drive/My Drive/json/sentences_chto_json_inan.jsonl\", \"r\") as fin:\n",
        "    chto_inan = list(fin)\n",
        "random.shuffle(chto_inan)\n",
        "\n",
        "len(chto_inan), len(chto_inan) * 0.7, len(chto_inan) * 0.15"
      ],
      "metadata": {
        "colab": {
          "base_uri": "https://localhost:8080/"
        },
        "id": "RnLBDkticx2F",
        "outputId": "53caa6fb-11a2-43be-c0ec-6472f8721ef5"
      },
      "execution_count": null,
      "outputs": [
        {
          "output_type": "execute_result",
          "data": {
            "text/plain": [
              "(3024, 2116.7999999999997, 453.59999999999997)"
            ]
          },
          "metadata": {},
          "execution_count": 19
        }
      ]
    },
    {
      "cell_type": "code",
      "source": [
        "chto_inan_train, chto_inan_val, chto_inan_test = train_val_test(chto_inan)\n",
        "len(chto_inan_train), len(chto_inan_val), len(chto_inan_test), (len(chto_inan_train) + len(chto_inan_val) + len(chto_inan_test))"
      ],
      "metadata": {
        "colab": {
          "base_uri": "https://localhost:8080/"
        },
        "id": "p93ld7Q_FIwa",
        "outputId": "589850bd-bcd1-4034-d6b0-c63589f00444"
      },
      "execution_count": null,
      "outputs": [
        {
          "output_type": "execute_result",
          "data": {
            "text/plain": [
              "(2116, 453, 455, 3024)"
            ]
          },
          "metadata": {},
          "execution_count": 20
        }
      ]
    },
    {
      "cell_type": "markdown",
      "source": [
        "### pp_anim"
      ],
      "metadata": {
        "id": "PtZnCFmfcade"
      }
    },
    {
      "cell_type": "code",
      "source": [
        "with jsonlines.open(\"/content/drive/My Drive/json/sentences_pp_json_anim.jsonl\", \"r\") as fin:\n",
        "    pp_anim = list(fin)\n",
        "random.shuffle(pp_anim)\n",
        "\n",
        "len(pp_anim), len(pp_anim) * 0.7, len(pp_anim) * 0.15"
      ],
      "metadata": {
        "colab": {
          "base_uri": "https://localhost:8080/"
        },
        "id": "jASHEGXudDrl",
        "outputId": "e2626dc2-196c-4a8c-8338-7b4efa1a4336"
      },
      "execution_count": null,
      "outputs": [
        {
          "output_type": "execute_result",
          "data": {
            "text/plain": [
              "(11200, 7839.999999999999, 1680.0)"
            ]
          },
          "metadata": {},
          "execution_count": 21
        }
      ]
    },
    {
      "cell_type": "code",
      "source": [
        "pp_anim_train, pp_anim_val, pp_anim_test = train_val_test(pp_anim)\n",
        "len(pp_anim_train), len(pp_anim_val), len(pp_anim_test), (len(pp_anim_train) + len(pp_anim_val) + len(pp_anim_test))"
      ],
      "metadata": {
        "colab": {
          "base_uri": "https://localhost:8080/"
        },
        "id": "WwfwkIQoFVym",
        "outputId": "60ee7ce0-7368-4699-ea03-75691a6d2134"
      },
      "execution_count": null,
      "outputs": [
        {
          "output_type": "execute_result",
          "data": {
            "text/plain": [
              "(7839, 1680, 1681, 11200)"
            ]
          },
          "metadata": {},
          "execution_count": 22
        }
      ]
    },
    {
      "cell_type": "markdown",
      "source": [
        "### pp_inan"
      ],
      "metadata": {
        "id": "nm9CQfcUccCv"
      }
    },
    {
      "cell_type": "code",
      "source": [
        "with jsonlines.open(\"/content/drive/My Drive/json/sentences_pp_json_inan.jsonl\", \"r\") as fin:\n",
        "    pp_inan = list(fin)\n",
        "random.shuffle(pp_inan)\n",
        "\n",
        "len(pp_inan), len(pp_inan) * 0.7, len(pp_inan) * 0.15"
      ],
      "metadata": {
        "colab": {
          "base_uri": "https://localhost:8080/"
        },
        "id": "wvXoWJ-2dZn-",
        "outputId": "40b84ad8-4cdb-425d-e105-2dccdc2ad478"
      },
      "execution_count": null,
      "outputs": [
        {
          "output_type": "execute_result",
          "data": {
            "text/plain": [
              "(5040, 3528.0, 756.0)"
            ]
          },
          "metadata": {},
          "execution_count": 23
        }
      ]
    },
    {
      "cell_type": "code",
      "source": [
        "pp_inan_train, pp_inan_val, pp_inan_test = train_val_test(pp_inan)\n",
        "len(pp_inan_train), len(pp_inan_val), len(pp_inan_test), (len(pp_inan_train) + len(pp_inan_val) + len(pp_inan_test))"
      ],
      "metadata": {
        "colab": {
          "base_uri": "https://localhost:8080/"
        },
        "id": "dabz8lxZFd3w",
        "outputId": "aba7b238-71d6-4b2b-da5e-80bc68b8da49"
      },
      "execution_count": null,
      "outputs": [
        {
          "output_type": "execute_result",
          "data": {
            "text/plain": [
              "(3528, 755, 757, 5040)"
            ]
          },
          "metadata": {},
          "execution_count": 24
        }
      ]
    },
    {
      "cell_type": "markdown",
      "source": [
        "### subj_rel_anim"
      ],
      "metadata": {
        "id": "vMNz-1KPduWI"
      }
    },
    {
      "cell_type": "code",
      "source": [
        "with jsonlines.open(\"/content/drive/My Drive/json/sentences_subj_rel_json_anim.jsonl\", \"r\") as fin:\n",
        "    subj_rel_anim = list(fin)\n",
        "random.shuffle(subj_rel_anim)\n",
        "\n",
        "len(subj_rel_anim), len(subj_rel_anim) * 0.7, len(subj_rel_anim) * 0.15"
      ],
      "metadata": {
        "colab": {
          "base_uri": "https://localhost:8080/"
        },
        "id": "WowKr2QHd4av",
        "outputId": "a99c92d4-1bbb-4ae0-e34a-4ff67d93cfb5"
      },
      "execution_count": null,
      "outputs": [
        {
          "output_type": "execute_result",
          "data": {
            "text/plain": [
              "(28000, 19600.0, 4200.0)"
            ]
          },
          "metadata": {},
          "execution_count": 25
        }
      ]
    },
    {
      "cell_type": "code",
      "source": [
        "subj_rel_anim_train, subj_rel_anim_val, subj_rel_anim_test = train_val_test(subj_rel_anim)\n",
        "len(subj_rel_anim_train), len(subj_rel_anim_val), len(subj_rel_anim_test), (len(subj_rel_anim_train) + len(subj_rel_anim_val) + len(subj_rel_anim_test))"
      ],
      "metadata": {
        "colab": {
          "base_uri": "https://localhost:8080/"
        },
        "id": "HXGhThsqGETM",
        "outputId": "84a052be-2da4-400f-b637-d6d1b0b57474"
      },
      "execution_count": null,
      "outputs": [
        {
          "output_type": "execute_result",
          "data": {
            "text/plain": [
              "(19600, 4199, 4201, 28000)"
            ]
          },
          "metadata": {},
          "execution_count": 26
        }
      ]
    },
    {
      "cell_type": "markdown",
      "source": [
        "### subj_rel_inan"
      ],
      "metadata": {
        "id": "sNA-V6pJdweE"
      }
    },
    {
      "cell_type": "code",
      "source": [
        "with jsonlines.open(\"/content/drive/My Drive/json/sentences_subj_rel_json_inan.jsonl\", \"r\") as fin:\n",
        "    subj_rel_inan = list(fin)\n",
        "random.shuffle(subj_rel_inan)\n",
        "\n",
        "len(subj_rel_inan), len(subj_rel_inan) * 0.7, len(subj_rel_inan) * 0.15"
      ],
      "metadata": {
        "colab": {
          "base_uri": "https://localhost:8080/"
        },
        "id": "2WXtBmgPfyxn",
        "outputId": "33aeb86b-1a7b-4d37-9c09-83ed7a85a15e"
      },
      "execution_count": null,
      "outputs": [
        {
          "output_type": "execute_result",
          "data": {
            "text/plain": [
              "(25200, 17640.0, 3780.0)"
            ]
          },
          "metadata": {},
          "execution_count": 27
        }
      ]
    },
    {
      "cell_type": "code",
      "source": [
        "subj_rel_inan_train, subj_rel_inan_val, subj_rel_inan_test = train_val_test(subj_rel_inan)\n",
        "len(subj_rel_inan_train), len(subj_rel_inan_val), len(subj_rel_inan_test), (len(subj_rel_inan_train) + len(subj_rel_inan_val) + len(subj_rel_inan_test))"
      ],
      "metadata": {
        "colab": {
          "base_uri": "https://localhost:8080/"
        },
        "id": "4OlIQbDhNj0y",
        "outputId": "50ee4f5e-b579-43d9-eb46-e1ef16e41658"
      },
      "execution_count": null,
      "outputs": [
        {
          "output_type": "execute_result",
          "data": {
            "text/plain": [
              "(17640, 3779, 3781, 25200)"
            ]
          },
          "metadata": {},
          "execution_count": 28
        }
      ]
    },
    {
      "cell_type": "markdown",
      "source": [
        "### obj_rel_anim"
      ],
      "metadata": {
        "id": "pF25HY3vdynz"
      }
    },
    {
      "cell_type": "code",
      "source": [
        "with jsonlines.open(\"/content/drive/My Drive/json/sentences_obj_rel_json_anim.jsonl\", \"r\") as fin:\n",
        "    obj_rel_anim = list(fin)\n",
        "random.shuffle(obj_rel_anim)\n",
        "\n",
        "len(obj_rel_anim), len(obj_rel_anim) * 0.7, len(obj_rel_anim) * 0.15"
      ],
      "metadata": {
        "colab": {
          "base_uri": "https://localhost:8080/"
        },
        "id": "3ESzv37PgCDu",
        "outputId": "e0067d69-f8b9-4c80-c435-d3fa6131da8d"
      },
      "execution_count": null,
      "outputs": [
        {
          "output_type": "execute_result",
          "data": {
            "text/plain": [
              "(28000, 19600.0, 4200.0)"
            ]
          },
          "metadata": {},
          "execution_count": 29
        }
      ]
    },
    {
      "cell_type": "code",
      "source": [
        "obj_rel_anim_train, obj_rel_anim_val, obj_rel_anim_test = train_val_test(obj_rel_anim)\n",
        "len(obj_rel_anim_train), len(obj_rel_anim_val), len(obj_rel_anim_test), (len(obj_rel_anim_train) + len(obj_rel_anim_val) + len(obj_rel_anim_test))"
      ],
      "metadata": {
        "colab": {
          "base_uri": "https://localhost:8080/"
        },
        "id": "ZRjPj8OpNvtd",
        "outputId": "0ddbf742-4cf1-4485-b45b-c3fc0c030835"
      },
      "execution_count": null,
      "outputs": [
        {
          "output_type": "execute_result",
          "data": {
            "text/plain": [
              "(19600, 4199, 4201, 28000)"
            ]
          },
          "metadata": {},
          "execution_count": 30
        }
      ]
    },
    {
      "cell_type": "markdown",
      "source": [
        "### obj_rel_inan"
      ],
      "metadata": {
        "id": "mKwDZWOod0XC"
      }
    },
    {
      "cell_type": "code",
      "source": [
        "with jsonlines.open(\"/content/drive/My Drive/json/sentences_obj_rel_json_inan.jsonl\", \"r\") as fin:\n",
        "    obj_rel_inan = list(fin)\n",
        "random.shuffle(obj_rel_inan)\n",
        "\n",
        "len(obj_rel_inan), len(obj_rel_inan) * 0.7, len(obj_rel_inan) * 0.15"
      ],
      "metadata": {
        "colab": {
          "base_uri": "https://localhost:8080/"
        },
        "id": "JTWlSw8vgP9G",
        "outputId": "1d22471e-fa51-4ec1-9555-0773e1bf5f11"
      },
      "execution_count": null,
      "outputs": [
        {
          "output_type": "execute_result",
          "data": {
            "text/plain": [
              "(25200, 17640.0, 3780.0)"
            ]
          },
          "metadata": {},
          "execution_count": 31
        }
      ]
    },
    {
      "cell_type": "code",
      "source": [
        "obj_rel_inan_train, obj_rel_inan_val, obj_rel_inan_test = train_val_test(obj_rel_inan)\n",
        "len(obj_rel_inan_train), len(obj_rel_inan_val), len(obj_rel_inan_test), (len(obj_rel_inan_train) + len(obj_rel_inan_val) + len(obj_rel_inan_test))"
      ],
      "metadata": {
        "colab": {
          "base_uri": "https://localhost:8080/"
        },
        "id": "Q53bKFG6N32y",
        "outputId": "71334138-6ec0-4f1d-ebb9-62cc25d92aa3"
      },
      "execution_count": null,
      "outputs": [
        {
          "output_type": "execute_result",
          "data": {
            "text/plain": [
              "(17640, 3779, 3781, 25200)"
            ]
          },
          "metadata": {},
          "execution_count": 32
        }
      ]
    },
    {
      "cell_type": "markdown",
      "source": [
        "### Все вместе"
      ],
      "metadata": {
        "id": "JrCdKWuxgf-X"
      }
    },
    {
      "cell_type": "code",
      "source": [
        "train_data = list()\n",
        "for line in (intr_anim_train):\n",
        "  train_data.append(line)\n",
        "for line in (intr_inan_train):\n",
        "  train_data.append(line)\n",
        "for line in (tr_direct_anim_train):\n",
        "  train_data.append(line)\n",
        "for line in (tr_direct_inan_train):\n",
        "  train_data.append(line)\n",
        "for line in (tr_reverse_anim_train):\n",
        "  train_data.append(line)\n",
        "for line in (tr_reverse_inan_train):\n",
        "  train_data.append(line)\n",
        "for line in (chto_anim_train):\n",
        "  train_data.append(line)\n",
        "for line in (chto_inan_train):\n",
        "  train_data.append(line)\n",
        "for line in (pp_anim_train):\n",
        "  train_data.append(line)\n",
        "for line in (pp_inan_train):\n",
        "  train_data.append(line)\n",
        "for line in (subj_rel_anim_train):\n",
        "  train_data.append(line)\n",
        "for line in (subj_rel_inan_train):\n",
        "  train_data.append(line)\n",
        "for line in (obj_rel_anim_train):\n",
        "  train_data.append(line)\n",
        "for line in (obj_rel_inan_train):\n",
        "  train_data.append(line)\n",
        "random.shuffle(train_data)"
      ],
      "metadata": {
        "id": "2dwk3pkSgk92"
      },
      "execution_count": null,
      "outputs": []
    },
    {
      "cell_type": "code",
      "source": [
        "len(train_data)"
      ],
      "metadata": {
        "colab": {
          "base_uri": "https://localhost:8080/"
        },
        "id": "Kh5Y5DA8ih0T",
        "outputId": "18b0ade9-ab02-40fb-cd3a-c0c9e1ac942b"
      },
      "execution_count": null,
      "outputs": [
        {
          "output_type": "execute_result",
          "data": {
            "text/plain": [
              "101327"
            ]
          },
          "metadata": {},
          "execution_count": 34
        }
      ]
    },
    {
      "cell_type": "code",
      "source": [
        "val_data = list()\n",
        "for line in (intr_anim_val):\n",
        "  val_data.append(line)\n",
        "for line in (intr_inan_val):\n",
        "  val_data.append(line)\n",
        "for line in (tr_direct_anim_val):\n",
        "  val_data.append(line)\n",
        "for line in (tr_direct_inan_val):\n",
        "  val_data.append(line)\n",
        "for line in (tr_reverse_anim_val):\n",
        "  val_data.append(line)\n",
        "for line in (tr_reverse_inan_val):\n",
        "  val_data.append(line)\n",
        "for line in (chto_anim_val):\n",
        "  val_data.append(line)\n",
        "for line in (chto_inan_val):\n",
        "  val_data.append(line)\n",
        "for line in (pp_anim_val):\n",
        "  val_data.append(line)\n",
        "for line in (pp_inan_val):\n",
        "  val_data.append(line)\n",
        "for line in (subj_rel_anim_val):\n",
        "  val_data.append(line)\n",
        "for line in (subj_rel_inan_val):\n",
        "  val_data.append(line)\n",
        "for line in (obj_rel_anim_val):\n",
        "  val_data.append(line)\n",
        "for line in (obj_rel_inan_val):\n",
        "  val_data.append(line)\n",
        "random.shuffle(val_data)"
      ],
      "metadata": {
        "id": "YdhQUhCPOE4z"
      },
      "execution_count": null,
      "outputs": []
    },
    {
      "cell_type": "code",
      "source": [
        "len(val_data)"
      ],
      "metadata": {
        "colab": {
          "base_uri": "https://localhost:8080/"
        },
        "id": "PiGDthLUOg4u",
        "outputId": "eb817dba-4425-4964-b410-fa625543acfb"
      },
      "execution_count": null,
      "outputs": [
        {
          "output_type": "execute_result",
          "data": {
            "text/plain": [
              "21701"
            ]
          },
          "metadata": {},
          "execution_count": 36
        }
      ]
    },
    {
      "cell_type": "code",
      "source": [
        "test_data = list()\n",
        "for line in (intr_anim_test):\n",
        "  test_data.append(line)\n",
        "for line in (intr_inan_test):\n",
        "  test_data.append(line)\n",
        "for line in (tr_direct_anim_test):\n",
        "  test_data.append(line)\n",
        "for line in (tr_direct_inan_test):\n",
        "  test_data.append(line)\n",
        "for line in (tr_reverse_anim_test):\n",
        "  test_data.append(line)\n",
        "for line in (tr_reverse_inan_test):\n",
        "  test_data.append(line)\n",
        "for line in (chto_anim_test):\n",
        "  test_data.append(line)\n",
        "for line in (chto_inan_test):\n",
        "  test_data.append(line)\n",
        "for line in (pp_anim_test):\n",
        "  test_data.append(line)\n",
        "for line in (pp_inan_test):\n",
        "  test_data.append(line)\n",
        "for line in (subj_rel_anim_test):\n",
        "  test_data.append(line)\n",
        "for line in (subj_rel_inan_test):\n",
        "  test_data.append(line)\n",
        "for line in (obj_rel_anim_test):\n",
        "  test_data.append(line)\n",
        "for line in (obj_rel_inan_test):\n",
        "  test_data.append(line)\n",
        "random.shuffle(test_data)"
      ],
      "metadata": {
        "id": "apNI-sP8ir8j"
      },
      "execution_count": null,
      "outputs": []
    },
    {
      "cell_type": "code",
      "source": [
        "len(test_data)"
      ],
      "metadata": {
        "colab": {
          "base_uri": "https://localhost:8080/"
        },
        "id": "qKrD3T7pi5lk",
        "outputId": "98cf789e-1a8f-494c-a215-99eab1416cf1"
      },
      "execution_count": null,
      "outputs": [
        {
          "output_type": "execute_result",
          "data": {
            "text/plain": [
              "21728"
            ]
          },
          "metadata": {},
          "execution_count": 38
        }
      ]
    },
    {
      "cell_type": "code",
      "source": [
        "len(train_data) + len(val_data) + len(test_data)"
      ],
      "metadata": {
        "colab": {
          "base_uri": "https://localhost:8080/"
        },
        "id": "tgSNl6wdOj7B",
        "outputId": "ed704e0a-b01b-4db4-83dc-dc6563b79e55"
      },
      "execution_count": null,
      "outputs": [
        {
          "output_type": "execute_result",
          "data": {
            "text/plain": [
              "144756"
            ]
          },
          "metadata": {},
          "execution_count": 39
        }
      ]
    },
    {
      "cell_type": "markdown",
      "source": [
        "## Запись в файл"
      ],
      "metadata": {
        "id": "5KZNIAkNjWsD"
      }
    },
    {
      "cell_type": "code",
      "source": [
        "with jsonlines.open(\"/content/drive/My Drive/json/train_data.jsonl\", 'w') as f_out:\n",
        "  for line in train_data:\n",
        "    sentence = line[\"sentence\"]\n",
        "    idx = line[\"idx\"]\n",
        "    label = line[\"label\"]\n",
        "    f_out.write({\"sentence\": sentence, \"idx\": idx, \"label\":label}) "
      ],
      "metadata": {
        "id": "mGFn48c_lbV4"
      },
      "execution_count": null,
      "outputs": []
    },
    {
      "cell_type": "code",
      "source": [
        "with jsonlines.open(\"/content/drive/My Drive/json/val_data.jsonl\", 'w') as f_out:\n",
        "  for line in val_data:\n",
        "    sentence = line[\"sentence\"]\n",
        "    idx = line[\"idx\"]\n",
        "    label = line[\"label\"]\n",
        "    f_out.write({\"sentence\": sentence, \"idx\": idx, \"label\":label}) "
      ],
      "metadata": {
        "id": "-0RV5QV4PEQQ"
      },
      "execution_count": null,
      "outputs": []
    },
    {
      "cell_type": "code",
      "source": [
        "with jsonlines.open(\"/content/drive/My Drive/json/test_data.jsonl\", 'w') as f_out:\n",
        "  for line in test_data:\n",
        "    sentence = line[\"sentence\"]\n",
        "    idx = line[\"idx\"]\n",
        "    label = line[\"label\"]\n",
        "    f_out.write({\"sentence\": sentence, \"idx\": idx, \"label\":label}) "
      ],
      "metadata": {
        "id": "xSJqhlDPtD3Q"
      },
      "execution_count": null,
      "outputs": []
    }
  ]
}